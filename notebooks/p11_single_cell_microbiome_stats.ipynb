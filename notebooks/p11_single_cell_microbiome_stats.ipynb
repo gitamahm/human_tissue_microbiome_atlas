{
 "cells": [
  {
   "cell_type": "markdown",
   "id": "10343cd8",
   "metadata": {},
   "source": [
    "This notebook is used to explore stats surrounding the number of cells, empty droplets positive for hits from different filters. "
   ]
  },
  {
   "cell_type": "markdown",
   "id": "5748b3bc",
   "metadata": {},
   "source": [
    "### Loading libraries"
   ]
  },
  {
   "cell_type": "code",
   "execution_count": null,
   "id": "9709a945",
   "metadata": {},
   "outputs": [],
   "source": [
    "%matplotlib inline\n",
    "import matplotlib\n",
    "import matplotlib.pyplot as plt\n",
    "from matplotlib import cm\n",
    "from matplotlib_venn import venn2, venn3\n",
    "import venn\n",
    "from venn import venn4\n",
    "from venn import venn5\n",
    "plt.rcParams['figure.figsize'] = [5, 5]\n",
    "plt.rcParams['figure.dpi'] = 120\n",
    "font_label_size=12\n",
    "plt.rcParams['font.size'] = font_label_size\n",
    "plt.rcParams['legend.fontsize'] = font_label_size\n",
    "plt.rcParams['figure.titlesize'] = font_label_size\n",
    "plt.rcParams['axes.labelsize']= font_label_size\n",
    "plt.rcParams['axes.titlesize']= font_label_size\n",
    "plt.rcParams['xtick.labelsize']= font_label_size\n",
    "plt.rcParams['ytick.labelsize']= font_label_size\n",
    "plt.rcParams[\"font.family\"] = \"arial\"\n",
    "import collections\n",
    "from collections import Counter, ChainMap\n",
    "import os\n",
    "import glob\n",
    "import re\n",
    "import itertools\n",
    "import math\n",
    "import random\n",
    "from random import randrange\n",
    "import string\n",
    "import numpy as np\n",
    "import pandas as pd\n",
    "from pandas import ExcelWriter\n",
    "from pandas import ExcelFile\n",
    "from statistics import mean\n",
    "from matplotlib import pyplot\n",
    "import scipy as sc\n",
    "from scipy import stats\n",
    "import upsetplot\n",
    "from upsetplot import UpSet, generate_counts, from_contents, plot\n",
    "from pyvis.network import Network\n",
    "import seaborn as sns\n",
    "cmap = sns.cm.rocket_r\n",
    "from bokeh.plotting import figure\n",
    "from bokeh.models import ColumnDataSource, Plot, Grid, Range1d\n",
    "from bokeh.models.glyphs import Text, Rect\n",
    "from bokeh.layouts import gridplot\n",
    "from bokeh.sampledata.les_mis import data\n",
    "import panel as pn\n",
    "import panel.widgets as pnw\n",
    "pn.extension()\n",
    "import holoviews as hv\n",
    "from holoviews import opts, dim\n",
    "from holoviews.plotting.util import process_cmap\n",
    "import plotly.graph_objects as go\n",
    "import plotly.express as pex\n",
    "hv.extension('bokeh')\n",
    "hv.output(size=150)\n",
    "pd.options.display.max_colwidth = 1000 #allows for viewing larger amount of text in pandas"
   ]
  },
  {
   "cell_type": "markdown",
   "id": "1f82b9da",
   "metadata": {},
   "source": [
    "### Directories "
   ]
  },
  {
   "cell_type": "code",
   "execution_count": null,
   "id": "688c9f1b",
   "metadata": {},
   "outputs": [],
   "source": [
    "mainDir = '/oak/stanford/groups/quake/gita/raw/tab1_20200407/thirdAnalysis/10x/'\n",
    "mainDir10 = '/oak/stanford/groups/quake/gita/raw/tab3-14_20210420/all/'\n",
    "paper = '/oak/stanford/groups/quake/gita/raw/nb/microbe/paper/forGitHub/human_tissue_microbiome_atlas/post_review/'\n",
    "tables = paper + 'tables/'\n",
    "images = paper + 'images/'\n",
    "dbDir = '/oak/stanford/groups/quake/gita/raw/database/taxonomyNCBI20200125/'\n",
    "taxDir = dbDir + 'taxonkit/'\n",
    "tax = pd.read_csv(dbDir + 'ncbi_lineages_2021-01-26.csv')\n",
    "tax_short=tax[['tax_id','superkingdom', 'phylum', 'class', 'order', 'family', 'genus', 'species']] #want to take only the following columns from the lineage dataframe tax \n"
   ]
  },
  {
   "cell_type": "markdown",
   "id": "f603fc32",
   "metadata": {},
   "source": [
    "### Explanation of the dataset"
   ]
  },
  {
   "cell_type": "markdown",
   "id": "fd70ad79",
   "metadata": {},
   "source": [
    "- Blast dataframe columns (TS object is missing these columns):\n",
    "    - **seqName**: e.g. A00111:327:HL57HDSXX:4:1202:22941:23719_TAGGTCAGAGACATCA_AGAAATAACGCC\n",
    "    - **seq**: microbial sequence \n",
    "    - **refName**: the BLAST subject reference gi|1862738216|gb|CP055292.1| \n",
    "    - **pathogen**: common name of the hit \"Shigella sonnei strain SE6-1 chromosome, complete genome\"\n",
    "    - **bitscore**: see BLAST tutorial\n",
    "    - **pident**: percent identity between subject and query\n",
    "    - **evalue**: see BLAST tutorial\n",
    "    - **qstart**: query start position\n",
    "    - **qend**: query end position\n",
    "    -  **sstart**: subject start position\n",
    "    -  **send**: subject end position\n",
    "    -  **length**: length of the alignment between subject and query\n",
    "    - Taxonomy columns \n",
    "        -  **tax_id**: taxonomic id with which we can get the following taxonomic categories\n",
    "        -  **superkingdom**\n",
    "        -  **phylum**\n",
    "        -  **class**\n",
    "        -  **order**\n",
    "        -  **family**\n",
    "        -  **genus**\n",
    "        -  **species**\n",
    "    -  **umi**: AGAAATAACGCC \n",
    "    -  **cell_bc_umi**: cell barcode and umi e.g. TGTCCCATGTACTCTG_CGTTGATACCAC\n",
    "    -  **cell_umi**: cell barcode, sample, umi e.g. TCCCATGTACTCTGCG_TSP14_Liver_NA_10X_1_1_TTGATACCACTG\n",
    "    -  **batch**: this is related to how blast was done for these donors (divided into batches with fixed number of input seqs)\n",
    "    - **filepath**: where the output of the blast resides on my local drive\n",
    "\n",
    "\n",
    "- TS object columns (blast dataframe does not produce these on its own)\n",
    "    - **n_counts**: number of reads per cell\n",
    "    - **n_genes**: number of genes per cell\n",
    "    - **log2_n_counts**: log2 of n_counts\n",
    "    - **log2_n_genes**: log2 of n_genes\n",
    "    - **compartment**: e.g. immune, epithelial\n",
    "    - **decision**: cell cycle decision\n",
    "    - **celltype2**: cell type\n",
    "    - **tissue_cell_type**: tissue and cell type\n",
    "    - **cell_type_tissue**: cell type and tissue\n",
    "\n",
    "\n",
    "- Shared columns:\n",
    "    - **cell**: cell barcode+sample  TGGGCGTGTTGCGCAC_TSP14_Blood_NA_10X_1_1_1_5Prime\n",
    "    - **cell_bc**: cell barcode with \"-1\" appended to it. (donor1and2, not for donors 3-16) e.g. CATATTCCAAAGCGGT-1\n",
    "    - **tissue**: tissue type\n",
    "    - **donor**: donor (e.g. TSP1)\n",
    "    - **sample**: sample name e.g. TSP14_Bladder_NA_10X_1_2\n",
    "    - **hit**: the column with which to seperate out the dataframe into blast (hit=='yes') and ts object (hit=='no')\n",
    "    - **hit_type**: tells us whether the hit comes from an annotated cell (hit_type=='intra'), unannotated cell ('extra') or no hit ('none')\n",
    "    - **donor_batch**: donor 1 and 2 dataframe ('1_2'), all others ('3_16')\n",
    "    - **empty_drop**: set to 'yes' if empty, and 'no' if a cell. Based on a cut off of 200 genes per droplet\n",
    "\n",
    "\n",
    "- Cell ranger columns (rows with cr column=='yes should have all this info):\n",
    "    - **cr**: \"yes\" if the sample was run through cell ranger pipeline, and \"no\" otherwise\n",
    "    - **cr_sample**: the name of the cell ranger file\n",
    "    - **n_counts_cr**: number of reads per droplet as determined by my cell ranger pipeline\n",
    "    - **n_genes_cr**: same as above, for number of genes per droplet\n",
    "    - **num_empty_drop_per_sample**: number of empty droplets in a sample (based on cut off of 200 genes)\n",
    "    - **num_cell_drop_per_sample**: number of cell-containing droplets in a sample (based on cut off of 200 genes)\n",
    "    \n",
    "\n",
    "\n",
    "- Shared columns for removal of contaminants, \"orphan\" alignments, and environmentally sourced bacteria\n",
    "    - **filter1**: Removal of species and taxids found in the 10X experimental contamination dataset (1= contaminant, 0=non-contaminant)\n",
    "    - **filter2**: Removal of genera found in the Salter et al. list of common contaminant genera (1=contaminant)\n",
    "    - **filter3**: Removal of certain fungal species found in the Haziza et al dataset \n",
    "    - **filter4**: Removal of putative contaminants based on ML model prediction\n",
    "    Filter4 is based on ML model prediction which takes into account the following columns. \n",
    "    - **num_tissues**: Number of tissues that each species appears in\n",
    "    - **num_donors**: Number of donors that each species appears in\n",
    "    - **abundance**: The total abundance of each species (number of hits) in the TS dataset\n",
    "    - **med_pident**:  Median percent identity of alignments corresponding to a given species\n",
    "    - **med_length**: Median alignment length corresponding to a given species\n",
    "    - **med_ngene**: Median number of genes per droplet that contains a given species\n",
    "    - **pred**: The prediction of the model. The input label of the model are species, 1 if any of the previous filters are 1 (contaminant), and 0 otherwise. \n",
    "    - **R_g**: R_g is c_g/ts_g. c_g is the number of species from genus g that have been detected in the experimental contamination dataset, and ts_g is the number of species from that genus detected in the total ts dataset. The ratio is a measure of confidence in a genus. If a genus has more species detected in the contamination dataset than in the total TS dataset, then even species that were not detetcted in the contamination dataset are less trustworthy considering that we show taxonomic assignment at the species level using short-read sequencing (~100bp) is not nearly as precise as genus level assignments \n",
    "    - **filter5** : We combine pident and length alignment parameters into one that measures the number of exact base matches in the alignment. This new pararmeter,\"pidlen\" =pident*length/100. pidlen > pthresh will be 0, and 1 otherwise. pthresh corresponds to 3sigma away from the mean of the second pidlen distribution. Essentially we select for high-quality alignments using this filter. \n",
    "    - **pidlen**: pident*length/100 corresponds to number of exact base matches in the alignment\n",
    "    - **emp_habitat1**: coarse-grained habitat information (list of habitats) for bacterial genera at the intersection of ts and GEM\n",
    "    - **emp_habitat2**: even more coarse-grained habitat information (list of habitats) for bacterial genera at the intersection of ts and GEM\n",
    "    - **emp_habitat3**: even more coarse-grained habitat information than emp_habitat2 for bacterial genera at the intersection of ts and GEM\n",
    "    - **assignment**: binary assignment of GEM bacterial species found in the tsm dataset into \"free_living_or_other_hosts\" and \"human_associated\"\n",
    "    - **emp**:\t1 is \"free_living_or_other_hosts\" and 0 is \"human_associated\" based on whether the species was isolated from the  human microbiome. If found in both natural environments as well as humans, it will be labeled as human associated. It will be NaN if the species is not found in EMP, which in addition to bacterial species will include all viruses and fungi.\n",
    "    - **emp2**: 1 is \"free_living_or_other_hosts\" and 0 is \"human_associated\" based on whether the genus was predominantly isolated from the human microbiome (more species in the human microbiome than outside of it based on GEM study). It will be NaN if the genus is not found in GEM, which in addition to bacterial species will include all viruses and fungi.\n",
    "    - **assignment2**: binary assignment of gem bacterial genera found in the tsm dataset into \"free_living_or_other_hosts\" and \"human_associated\" \n",
    "    - **emp1_2**: combination of emp and emp2 columns. Basically, it is emp2 (genus) filter but can be overriden by emp (species) filter. So unless a given species has been explicitly found in the human microbiome, if it belongs to a genus that is mostly found outside of the human microbiome, then it would be deemeed not part of the human microbiome\n",
    "    - **hmp_species**:\tset to 0 if a species is found in the HMP dataset, NaN otherwise (note, hmp is predominantly bacterial, with small number of eukaryotic species)\n",
    "    - **hmp_genus**:\tset to 0 if a genus is found in the HMP dataset, NaN otherwise \n",
    "    - **hmp_phylum**:\tset to 0 if a species is found in the HMP dataset, NaN otherwise \n",
    "    - **uhgg_species**:\tset to 0 if a species is found in the UHGG dataset, NaN otherwise (note, uhgg doesn't have fungi or viruses, it does have some archaea)\n",
    "    - **uhgg_genus**:\tset to 0 if a genus is found in the UHGG dataset, NaN otherwise \n",
    "    - **uhgg_phylum**:\tset to 0 if a species is found in the UHGG dataset, NaN otherwise \n",
    "    - **hue (filter6)**: combination of **h**mp, **u**hgg and **e**mp filters. Set to 0 if any of the species have been found in association with the human microbiome, set to 1 if only found outside of the human microbiome, and NaN if no information can be gathered from these three databases. Note, only \"emp1_2\" column offers some values of 1, others (uhgg_species, hmp_species) are either 0 or NaN because they only explore sites in the human body.\n",
    "    - **chatgpt (filter7)**: this is the result of chatgpt search for habitat of origin for a species that was not found in the three studies explored. Set to 0 if found in humans, and 1 otherwise. \n",
    "    - **davinci_combo**: the combined outputs of chatgpt's davinci model to the same prompt posed 3 times (independently, for each species). "
   ]
  },
  {
   "cell_type": "code",
   "execution_count": null,
   "id": "b8ca2c7d",
   "metadata": {},
   "outputs": [],
   "source": [
    "hits = pd.read_csv(mainDir10 + 'all_dons_cr_processed_7filters_postreview2022_v2.csv')\n",
    "print(hits.shape[0])\n"
   ]
  },
  {
   "cell_type": "markdown",
   "id": "b63ec758",
   "metadata": {},
   "source": [
    "which species do I not have habitat information on? "
   ]
  },
  {
   "cell_type": "code",
   "execution_count": null,
   "id": "5a5cf219",
   "metadata": {},
   "outputs": [],
   "source": [
    "hits_yes = hits[hits['hit']=='yes']\n",
    "print(hits_yes.shape[0])"
   ]
  },
  {
   "cell_type": "code",
   "execution_count": null,
   "id": "eb6f8ff1",
   "metadata": {},
   "outputs": [],
   "source": [
    "hits_no = hits[hits['hit']=='no']"
   ]
  },
  {
   "cell_type": "markdown",
   "id": "184ac954",
   "metadata": {},
   "source": [
    "f7 and f5 filtered data\n"
   ]
  },
  {
   "cell_type": "code",
   "execution_count": null,
   "id": "5d49426d",
   "metadata": {},
   "outputs": [],
   "source": [
    "\n",
    "cols=['filter1', 'filter2', 'filter3', 'filter4', 'filter5', 'hue', 'chatgpt']\n",
    "f7=hits_yes[(hits_yes[cols].any(axis=1)==False)]\n",
    "\n",
    "cols=['filter1', 'filter2', 'filter3', 'filter4', 'filter5']\n",
    "f5=hits_yes[(hits_yes[cols].any(axis=1)==False)]\n"
   ]
  },
  {
   "cell_type": "markdown",
   "id": "bebcbfbc",
   "metadata": {},
   "source": [
    "- How many microbial reads do each cell have on average? \n",
    "- How many cells have at least one significant hit? \n"
   ]
  },
  {
   "cell_type": "markdown",
   "id": "832ab3ac",
   "metadata": {},
   "source": [
    "### how many droplets (empty or cell containing) had a hit prior to filters (f0 dataset)"
   ]
  },
  {
   "cell_type": "markdown",
   "id": "134f8af0",
   "metadata": {},
   "source": [
    "this is the number of annotated cells that did not have hits but were analyzed. "
   ]
  },
  {
   "cell_type": "code",
   "execution_count": null,
   "id": "d82525ff",
   "metadata": {},
   "outputs": [],
   "source": [
    "num_cells_with_no_hits=hits_no['cell'].nunique()\n",
    "print(num_cells_with_no_hits)"
   ]
  },
  {
   "cell_type": "markdown",
   "id": "ee914aed",
   "metadata": {},
   "source": [
    "total number of droplets (empty and cell) with hits (without any filters)"
   ]
  },
  {
   "cell_type": "code",
   "execution_count": null,
   "id": "3d5366fa",
   "metadata": {},
   "outputs": [],
   "source": [
    "num_droplet_with_hits=hits_yes['cell'].nunique()\n",
    "print(num_droplet_with_hits)"
   ]
  },
  {
   "cell_type": "markdown",
   "id": "826f1701",
   "metadata": {},
   "source": [
    " number of cells that don't have \"empty_drop\" status because they were not run through cell ranger. they belong to donor 16 "
   ]
  },
  {
   "cell_type": "code",
   "execution_count": null,
   "id": "780188bc",
   "metadata": {},
   "outputs": [],
   "source": [
    "don16_cells=hits_yes[(hits_yes.empty_drop.isna()) & (hits_yes.donor=='TSP16')].cell.nunique()\n",
    "print('number of cells from donor 16:', don16_cells)"
   ]
  },
  {
   "cell_type": "markdown",
   "id": "4ad0ecf5",
   "metadata": {},
   "source": [
    "number of empty droplets with hits, before filters"
   ]
  },
  {
   "cell_type": "code",
   "execution_count": null,
   "id": "a81332ab",
   "metadata": {},
   "outputs": [],
   "source": [
    "num_empty_drops_with_hits=hits_yes[hits_yes['empty_drop']=='yes'].cell.nunique()\n",
    "print(num_empty_drops_with_hits)"
   ]
  },
  {
   "cell_type": "markdown",
   "id": "497ddd40",
   "metadata": {},
   "source": [
    "number of cells with hits, before filters"
   ]
  },
  {
   "cell_type": "code",
   "execution_count": null,
   "id": "7d5ec332",
   "metadata": {},
   "outputs": [],
   "source": [
    "num_cells_with_hits=hits_yes[hits_yes['empty_drop']=='no'].cell.nunique()\n",
    "print(num_cells_with_hits)"
   ]
  },
  {
   "cell_type": "markdown",
   "id": "4ce8fb87",
   "metadata": {},
   "source": [
    "as a sanity check, these numbers add up to the total number of droplets with hits, before filters (f0), which they do"
   ]
  },
  {
   "cell_type": "code",
   "execution_count": null,
   "id": "8666e35a",
   "metadata": {},
   "outputs": [],
   "source": [
    "tot_num_drops_with_hits_incl_don16=don16_cells + num_cells_with_hits + num_empty_drops_with_hits\n",
    "tot_num_drops_with_hits_incl_don16"
   ]
  },
  {
   "cell_type": "markdown",
   "id": "cb8f24ef",
   "metadata": {},
   "source": [
    "#### number of droplets that had a hit after 7 filters (f7 dataset)"
   ]
  },
  {
   "cell_type": "markdown",
   "id": "d46bbace",
   "metadata": {},
   "source": [
    "total number of droplets with f7 hits"
   ]
  },
  {
   "cell_type": "code",
   "execution_count": null,
   "id": "f933240f",
   "metadata": {},
   "outputs": [],
   "source": [
    "f7_t=f7.cell.nunique()\n",
    "print(f7_t)"
   ]
  },
  {
   "cell_type": "markdown",
   "id": "c4315398",
   "metadata": {},
   "source": [
    "cell-containing droplets"
   ]
  },
  {
   "cell_type": "code",
   "execution_count": null,
   "id": "c043be2c",
   "metadata": {},
   "outputs": [],
   "source": [
    "f7_c=f7[f7['empty_drop']=='no'].cell.nunique()\n",
    "print(f7_c)"
   ]
  },
  {
   "cell_type": "markdown",
   "id": "c45d7a8e",
   "metadata": {},
   "source": [
    "how many of those cell-containing droplets have celltype annotation?"
   ]
  },
  {
   "cell_type": "code",
   "execution_count": null,
   "id": "a27ad0f6",
   "metadata": {},
   "outputs": [],
   "source": [
    "f7[(f7['empty_drop']=='no') & (f7['hit_type']=='intra')]['cell'].nunique()"
   ]
  },
  {
   "cell_type": "markdown",
   "id": "8a386c21",
   "metadata": {},
   "source": [
    "empty drops"
   ]
  },
  {
   "cell_type": "code",
   "execution_count": null,
   "id": "816db14d",
   "metadata": {},
   "outputs": [],
   "source": [
    "f7_e=f7[f7['empty_drop']=='yes'].cell.nunique()\n",
    "print(f7_e)"
   ]
  },
  {
   "cell_type": "markdown",
   "id": "b62dbcb7",
   "metadata": {},
   "source": [
    "donor 16 contributes 40 cells for which we don't know whether they are empty or cell-containing"
   ]
  },
  {
   "cell_type": "code",
   "execution_count": null,
   "id": "63b7100a",
   "metadata": {},
   "outputs": [],
   "source": [
    "f7_16=f7[(f7['empty_drop'].isna()) & (f7['donor']=='TSP16')].cell.nunique()\n",
    "print(f7_16)"
   ]
  },
  {
   "cell_type": "markdown",
   "id": "d55fdc85",
   "metadata": {},
   "source": [
    "sanity check, these numbers should add to the total number of droplets with f7 hits, which they do "
   ]
  },
  {
   "cell_type": "code",
   "execution_count": null,
   "id": "58b5f3ed",
   "metadata": {},
   "outputs": [],
   "source": [
    "f7_e + f7_c + f7_16"
   ]
  },
  {
   "cell_type": "markdown",
   "id": "51037932",
   "metadata": {},
   "source": [
    "#### How many total number of cells and droplets (with or without hits) were in each sample?"
   ]
  },
  {
   "cell_type": "markdown",
   "id": "8e4dcfbc",
   "metadata": {},
   "source": [
    "This table provides information about the total number of empty and cell containing droplets per sample. Based on columns previously included when I ran cell ranger on these samples. "
   ]
  },
  {
   "cell_type": "code",
   "execution_count": null,
   "id": "7243e5b0",
   "metadata": {},
   "outputs": [],
   "source": [
    "sample_stat = hits_yes[['donor','tissue','sample', 'num_cell_drop_per_sample', 'num_empty_drop_per_sample']].drop_duplicates()\n",
    "sample_stat.head(3)"
   ]
  },
  {
   "cell_type": "markdown",
   "id": "3aa97edf",
   "metadata": {},
   "source": [
    "#### How many total cell-containing and empty droplets did we search through for microbes?\n",
    "156 Million empty drops, and 1.3 Million cell-containing drops. "
   ]
  },
  {
   "cell_type": "code",
   "execution_count": null,
   "id": "4e82febf",
   "metadata": {},
   "outputs": [],
   "source": [
    "sample_stat['total_num_drops']= sample_stat['num_cell_drop_per_sample'] + sample_stat['num_empty_drop_per_sample']\n",
    "\n",
    "tot_cell = sample_stat['num_cell_drop_per_sample'].sum()\n",
    "tot_empty =  sample_stat['num_empty_drop_per_sample'].sum()\n",
    "print('total number of cell-containing drops',tot_cell)\n",
    "print('total number of empty drops', tot_empty)\n",
    "sample_stat.head(2)"
   ]
  },
  {
   "cell_type": "markdown",
   "id": "df97f405",
   "metadata": {},
   "source": [
    "#### saving"
   ]
  },
  {
   "cell_type": "code",
   "execution_count": null,
   "id": "733f8e07",
   "metadata": {},
   "outputs": [],
   "source": [
    "sample_stat.to_csv(tables + 'num_empty_and_cell_droplets_per_sample_without_filters.csv', index=False)"
   ]
  },
  {
   "cell_type": "markdown",
   "id": "0250ceab",
   "metadata": {},
   "source": [
    "#### what fraction of total cell-containing and empty droplets had a hit?\n",
    "let's read the table we got from last notebook "
   ]
  },
  {
   "cell_type": "code",
   "execution_count": null,
   "id": "9cf9511d",
   "metadata": {},
   "outputs": [],
   "source": [
    "drop_stat = pd.read_csv(tables + 'impact_of_filters.csv')\n",
    "\n",
    "\n",
    "drop_stat"
   ]
  },
  {
   "cell_type": "code",
   "execution_count": null,
   "id": "cef34353",
   "metadata": {},
   "outputs": [],
   "source": [
    "f0_empty = drop_stat['num_empty_drops_with_hits'][0] #no filters\n",
    "f0_cell = drop_stat['num_cell_drops_with_hits'][0]\n",
    "f7_empty = drop_stat['num_empty_drops_with_hits'][7] #all 7 filters\n",
    "f7_cell = drop_stat['num_cell_drops_with_hits'][7]\n",
    "\n",
    "\n",
    "x=pd.DataFrame([f0_empty,f7_empty, f0_cell, f7_cell, tot_empty, tot_cell]).T\n",
    "x.columns= ['total_empty_droplets_f0_hits', 'total_empty_droplets_f7_hits',\n",
    "           'total_cell_droplets_f0_hits', 'total_cell_droplets_f7_hits', \n",
    "            'total_empty_droplets', 'total_cell_droplets']\n",
    "\n",
    "#f7/f0 empty droplets\n",
    "frac_empty_drops_with_f7_hits = x['total_empty_droplets_f7_hits']/x['total_empty_droplets'] \n",
    "print('percentage of total empty drops with F7 hits', np.round(frac_empty_drops_with_f7_hits[0]*100,3))\n",
    "\n",
    "#f7/f0 cell droplets\n",
    "frac_cell_drops_with_f7_hits = x['total_cell_droplets_f7_hits']/x['total_cell_droplets']\n",
    "print('percentage of total cell drops with F7 hits', np.round(frac_cell_drops_with_f7_hits[0]*100,2))\n",
    "\n",
    "#ratios of ratios: comparing cell-containing to empty droplets at the same level of filtering\n",
    "cell_to_empty_ratio_f7 = frac_cell_drops_with_f7_hits/ frac_empty_drops_with_f7_hits\n",
    "print('how many times are cell containing drops more likely to harbor F7 hits?', \n",
    "      np.round(cell_to_empty_ratio_f7[0],0)) \n"
   ]
  },
  {
   "cell_type": "code",
   "execution_count": null,
   "id": "b769da63",
   "metadata": {},
   "outputs": [],
   "source": [
    "x"
   ]
  },
  {
   "cell_type": "markdown",
   "id": "52b2904f",
   "metadata": {},
   "source": [
    "### Same analysis as above just on per sample basis"
   ]
  },
  {
   "cell_type": "markdown",
   "id": "9c1aac0f",
   "metadata": {},
   "source": [
    "let's get the number of droplets (both cells and empty) comprising the f7 and f5 filtered data"
   ]
  },
  {
   "cell_type": "code",
   "execution_count": null,
   "id": "e798dca7",
   "metadata": {},
   "outputs": [],
   "source": [
    "lst=[]\n",
    "elist=[]\n",
    "clist=[]\n",
    "for samp in list(f7['sample'].unique()):\n",
    "    dff = f7[f7['sample']==samp]\n",
    "    num_cells_with_hits=dff.cell.nunique()\n",
    "    empty = dff[dff['empty_drop']=='yes'].cell.nunique()\n",
    "    ce = dff[dff['empty_drop']=='no'].cell.nunique()\n",
    "\n",
    "    lst.append(num_cells_with_hits)\n",
    "    elist.append(empty)\n",
    "    clist.append(ce)\n",
    "\n",
    "df_sev=pd.DataFrame({})\n",
    "df_sev['sample'] = list(f7['sample'].unique())\n",
    "df_sev['num_total_drops_with_f7_hits'] = lst\n",
    "df_sev['num_empty_drops_with_f7_hits'] = elist\n",
    "df_sev['num_cell_drops_with_f7_hits'] = clist\n",
    "df_sev.head(3)"
   ]
  },
  {
   "cell_type": "markdown",
   "id": "0aad4c68",
   "metadata": {},
   "source": [
    "doing the same for f5 dataset"
   ]
  },
  {
   "cell_type": "code",
   "execution_count": null,
   "id": "7b6dad03",
   "metadata": {},
   "outputs": [],
   "source": [
    "lst=[]\n",
    "elist=[]\n",
    "clist=[]\n",
    "for samp in list(f5['sample'].unique()):\n",
    "    dff = f5[f5['sample']==samp]\n",
    "    num_cells_with_hits=dff.cell.nunique()\n",
    "    empty = dff[dff['empty_drop']=='yes'].cell.nunique()\n",
    "    ce = dff[dff['empty_drop']=='no'].cell.nunique()\n",
    "\n",
    "    lst.append(num_cells_with_hits)\n",
    "    elist.append(empty)\n",
    "    clist.append(ce)\n",
    "\n",
    "\n",
    "df_five=pd.DataFrame({})\n",
    "df_five['sample'] = list(f5['sample'].unique())\n",
    "df_five['num_total_drops_with_f5_hits'] = lst\n",
    "df_five['num_empty_drops_with_f5_hits'] = elist\n",
    "df_five['num_cell_drops_with_f5_hits'] = clist\n",
    "df_five.head(3)"
   ]
  },
  {
   "cell_type": "markdown",
   "id": "d8bf13fb",
   "metadata": {},
   "source": [
    "merging data from f5 and f7 datasets"
   ]
  },
  {
   "cell_type": "code",
   "execution_count": null,
   "id": "4e8a4652",
   "metadata": {},
   "outputs": [],
   "source": [
    "num_cells=df_five.merge(df_sev, on='sample', how='outer').replace(np.nan, 0)\n",
    "num_cells.head(3)"
   ]
  },
  {
   "cell_type": "markdown",
   "id": "a43d06fa",
   "metadata": {},
   "source": [
    "merging this dataset with sample_stats dataframe to get the total number of cells and empty drops per sample (regardless of whether they have a hit or not). "
   ]
  },
  {
   "cell_type": "code",
   "execution_count": null,
   "id": "7061057c",
   "metadata": {},
   "outputs": [],
   "source": [
    "data=num_cells.merge(sample_stat, on='sample', how='right').replace(np.nan, 0)\n",
    "data.head(3)"
   ]
  },
  {
   "cell_type": "markdown",
   "id": "6e56af4a",
   "metadata": {},
   "source": [
    "fractions of empty and cell droplets with f5 and f7 filtered hits per sample\n"
   ]
  },
  {
   "cell_type": "code",
   "execution_count": null,
   "id": "b47427fb",
   "metadata": {},
   "outputs": [],
   "source": [
    "data['frac_empty_drops_with_f5_hits']=data['num_empty_drops_with_f5_hits']/data['num_empty_drop_per_sample']\n",
    "data['frac_cell_drops_with_f5_hits']=data['num_cell_drops_with_f5_hits']/data['num_cell_drop_per_sample']\n",
    "\n",
    "data['frac_empty_drops_with_f7_hits']=data['num_empty_drops_with_f7_hits']/data['num_empty_drop_per_sample']\n",
    "data['frac_cell_drops_with_f7_hits']=data['num_cell_drops_with_f7_hits']/data['num_cell_drop_per_sample']\n",
    "\n",
    "data.head(3)"
   ]
  },
  {
   "cell_type": "markdown",
   "id": "75aed54f",
   "metadata": {},
   "source": [
    "#### let's save the fractional data!\n",
    "fraction of empty and cell containing droplets that contain f5 or f7 hits. Stratified based on sample"
   ]
  },
  {
   "cell_type": "code",
   "execution_count": null,
   "id": "f98e2cc4",
   "metadata": {},
   "outputs": [],
   "source": [
    "data = data.sort_values(by=['frac_cell_drops_with_f5_hits'])\n",
    "data.head(3)"
   ]
  },
  {
   "cell_type": "code",
   "execution_count": null,
   "id": "999bcd39",
   "metadata": {},
   "outputs": [],
   "source": [
    "data.to_csv(tables + 'frac_empty_cell_droplet_with_f5_f7_hits_per_sample.csv', index=False)"
   ]
  },
  {
   "cell_type": "markdown",
   "id": "dac3555f",
   "metadata": {},
   "source": [
    "## Cell type analysis\n",
    "\n",
    "### What is the heterogeneity within the same cell type\n",
    "Note that not all cells will have annotation. Because of this, for this analysis, I will use the ones that do, and use not my own cell ranger counts of cells per sample, but TS's based on the hits_no dataset (these are cells without hits) in each cell type. "
   ]
  },
  {
   "cell_type": "markdown",
   "id": "c8bc08bc",
   "metadata": {},
   "source": [
    "let's do the same thing but stratify based on cell type, rather than sample. "
   ]
  },
  {
   "cell_type": "code",
   "execution_count": null,
   "id": "d9fcbc6a",
   "metadata": {},
   "outputs": [],
   "source": [
    "cols=['filter1']\n",
    "f1=hits_yes[(hits_yes[cols].any(axis=1)==False)]\n"
   ]
  },
  {
   "cell_type": "code",
   "execution_count": null,
   "id": "433e771a",
   "metadata": {},
   "outputs": [],
   "source": [
    "#c='tissue_cell_type'\n",
    "c='celltype2'\n",
    "f7_c = pd.DataFrame(f7.groupby(c)['cell'].nunique()\n",
    "                   ).reset_index().rename(columns={'cell':'num_cells_with_f7_hits'})\n",
    "f7_c"
   ]
  },
  {
   "cell_type": "code",
   "execution_count": null,
   "id": "d09836f6",
   "metadata": {},
   "outputs": [],
   "source": [
    "f5_c = pd.DataFrame(f5.groupby(c)['cell'].nunique()\n",
    "                   ).reset_index().rename(columns={'cell':'num_cells_with_f5_hits'})\n"
   ]
  },
  {
   "cell_type": "code",
   "execution_count": null,
   "id": "53a0a3f5",
   "metadata": {},
   "outputs": [],
   "source": [
    "f1_c = pd.DataFrame(f1.groupby(c)['cell'].nunique()\n",
    "                   ).reset_index().rename(columns={'cell':'num_cells_with_f1_hits'})\n"
   ]
  },
  {
   "cell_type": "markdown",
   "id": "a6e16c1d",
   "metadata": {},
   "source": [
    "now let's get the total number of cells from each cell type that DID NOT have a hit. This will include cells in the \"hits_no\" (component 1) dataset as well as those that are in \"hits_yes\" (component 2) but did not make it through the f7 filters. let's get component 2 numbers first and then add to component 1. "
   ]
  },
  {
   "cell_type": "code",
   "execution_count": null,
   "id": "a95a3c75",
   "metadata": {},
   "outputs": [],
   "source": [
    "hy=hits_yes.groupby([c, 'cell']).size().reset_index().iloc[:,:2]\n",
    "hy2=pd.DataFrame(hy[c].value_counts(dropna=False)).reset_index().rename(columns={c:'num_cells_with_f0_hits', 'index':c})\n",
    "hy2.head(3)\n",
    "\n",
    "f7h = f7_c.merge(hy2, on=c, how='outer').merge(f5_c, on=c, how='outer').merge(f1_c, on=c, how='outer').replace(np.nan, 0)\n",
    "\n",
    "f7h.head(2)"
   ]
  },
  {
   "cell_type": "markdown",
   "id": "bbd73638",
   "metadata": {},
   "source": [
    "let's get component 2 "
   ]
  },
  {
   "cell_type": "code",
   "execution_count": null,
   "id": "1dd0270b",
   "metadata": {},
   "outputs": [],
   "source": [
    "hn=hits_no.groupby([c, 'cell']).size().reset_index().iloc[:,:2]\n",
    "hn2=pd.DataFrame(hn[c].value_counts(dropna=False)).reset_index().rename(columns={c:'num_cells_without_hits', 'index':c})\n",
    "f7_data = hn2.merge(f7h, on=c, how='outer').replace(np.nan, 0)\n",
    "f7_data['total_num_cells'] = f7_data['num_cells_with_f0_hits'] + f7_data['num_cells_without_hits'] #f0 hits already incorporates f7 hits\n",
    "f7_data['frac_cells_with_f7_hits']= f7_data['num_cells_with_f7_hits']/f7_data['total_num_cells']\n",
    "f7_data['frac_cells_with_f1_hits']= f7_data['num_cells_with_f1_hits']/f7_data['total_num_cells']\n",
    "\n",
    "f7_data.head(3)"
   ]
  },
  {
   "cell_type": "markdown",
   "id": "22f7e67f",
   "metadata": {},
   "source": [
    "not a lot of cell types have fewer than 10 cells, but we will exclude those to be able to run some stats"
   ]
  },
  {
   "cell_type": "code",
   "execution_count": null,
   "id": "9854fa3d",
   "metadata": {},
   "outputs": [],
   "source": [
    "sub=f7_data[f7_data['total_num_cells']>=10]\n",
    "# sub.to_csv(mainDir10 + 'fraction_of_cells_per_cell_type_positive_for_f7_hits.csv', index=False)"
   ]
  },
  {
   "cell_type": "code",
   "execution_count": null,
   "id": "35a55624",
   "metadata": {},
   "outputs": [],
   "source": [
    "sub2 = sub[['celltype2', 'num_cells_with_f7_hits', 'total_num_cells', 'frac_cells_with_f7_hits']]\n",
    "sub2['frac_cells_with_f7_hits'] = np.round(sub2['frac_cells_with_f7_hits'], 5)\n",
    "sub3 = sub2[sub2['frac_cells_with_f7_hits']>0] # NOTE we're including those cell types with 0 cells that have f7 hits in this analysis"
   ]
  },
  {
   "cell_type": "code",
   "execution_count": null,
   "id": "4611df4a",
   "metadata": {
    "scrolled": false
   },
   "outputs": [],
   "source": [
    "plt.figure(figsize=[5,15])\n",
    "sub4 = sub3.sort_values('frac_cells_with_f7_hits', ascending=False)\n",
    "data = sub4[['celltype2', 'frac_cells_with_f7_hits']]\n",
    "ax = sns.barplot(y=data['celltype2'], x=data['frac_cells_with_f7_hits'])\n",
    "ax.set_xticklabels(data['frac_cells_with_f7_hits'], rotation=90)"
   ]
  },
  {
   "cell_type": "markdown",
   "id": "eb78345f",
   "metadata": {},
   "source": [
    "this particular dataframe contains only cell types with greater than 0 fraction of F7 hit-positive cells "
   ]
  },
  {
   "cell_type": "code",
   "execution_count": null,
   "id": "7cc64a78",
   "metadata": {},
   "outputs": [],
   "source": [
    "sub4.to_csv(tables + 'celltypes_with_non-zero_fractions_of_hit_positive_cells.csv', index=False)"
   ]
  },
  {
   "cell_type": "code",
   "execution_count": null,
   "id": "37121d41",
   "metadata": {},
   "outputs": [],
   "source": [
    "sub4.head(4)"
   ]
  },
  {
   "cell_type": "markdown",
   "id": "f1d34a7d",
   "metadata": {},
   "source": [
    "these stats are for all cell types, including those without F7 hit-positive cells"
   ]
  },
  {
   "cell_type": "code",
   "execution_count": null,
   "id": "4af54489",
   "metadata": {},
   "outputs": [],
   "source": [
    "plt.figure(figsize=[4,2])\n",
    "sns.boxplot(data=sub2, x='frac_cells_with_f7_hits')\n",
    "\n",
    "a=pd.DataFrame(sub2['frac_cells_with_f7_hits'].describe()).reset_index()\n",
    "\n",
    "q3=a.iloc[6][1]\n",
    "q1=a.iloc[4][1]\n",
    "iqr=q3-q1\n",
    "thresh = q3 + 1.5*iqr\n",
    "print('threshold:', thresh)\n",
    "\n",
    "out_ct = sub2[sub2['frac_cells_with_f7_hits']>thresh]\n",
    "\n",
    "print('Number of cell types included in the analysis:', sub2.shape[0])\n",
    "print('Number of outlier cell types:', out_ct.shape[0])\n"
   ]
  },
  {
   "cell_type": "markdown",
   "id": "a657fc8c",
   "metadata": {},
   "source": [
    "#### fraction of cells in each cell type with f7 hits"
   ]
  },
  {
   "cell_type": "code",
   "execution_count": null,
   "id": "98512352",
   "metadata": {},
   "outputs": [],
   "source": [
    "a=pd.DataFrame(sub2[['frac_cells_with_f7_hits']].describe()).reset_index()\n",
    "a"
   ]
  },
  {
   "cell_type": "markdown",
   "id": "bee1f4fe",
   "metadata": {},
   "source": [
    "14 out of the 36 outlier cell types are nonimmune cell types (~60% are immune)"
   ]
  },
  {
   "cell_type": "markdown",
   "id": "5201e0e5",
   "metadata": {},
   "source": [
    "saving the outlier cell types (relevant columns only)"
   ]
  },
  {
   "cell_type": "code",
   "execution_count": null,
   "id": "2f55b36e",
   "metadata": {},
   "outputs": [],
   "source": [
    "out_ct = out_ct.sort_values(by=['frac_cells_with_f7_hits'], ascending=False)\n",
    "out_ct2 = out_ct.reset_index().drop(columns=['index'])\n",
    "out_ct2 = out_ct2.rename(columns={'celltype2':'celltype'})\n",
    "out_ct2"
   ]
  },
  {
   "cell_type": "code",
   "execution_count": null,
   "id": "fb92d37c",
   "metadata": {},
   "outputs": [],
   "source": [
    "out_ct2.to_csv(tables + 'outlier_cell_types_f7.csv', index=False)"
   ]
  },
  {
   "cell_type": "markdown",
   "id": "1229bd7f",
   "metadata": {},
   "source": [
    "## Single cell stats for F7 dataset\n",
    "how many microbial hits does each cell have on average? Excluding droplets and cells that had no hits. "
   ]
  },
  {
   "cell_type": "code",
   "execution_count": null,
   "id": "bef00bca",
   "metadata": {},
   "outputs": [],
   "source": [
    "f7['celltype3']=f7['celltype2'].fillna('na')\n",
    "f7['num_genes']=f7[['n_genes','n_genes_cr']].max(axis=1) #taking the max of ts cr gene counts and mine\n"
   ]
  },
  {
   "cell_type": "code",
   "execution_count": null,
   "id": "c860af24",
   "metadata": {},
   "outputs": [],
   "source": [
    "cdrops = f7[(f7['empty_drop']=='no')]\n",
    "edrops = f7[(f7['empty_drop']=='yes')]\n",
    "\n",
    "print('number of annotated cells with hits after 7 filters:', cdrops[cdrops['hit_type']=='intra']['cell'].nunique())\n",
    "print('total number of  cells with hits after 7 filters:', cdrops['cell'].nunique())\n"
   ]
  },
  {
   "cell_type": "markdown",
   "id": "f4a4d123",
   "metadata": {},
   "source": [
    "#### Getting the number of unique hits per cell-containing droplets & empty droplets (F7)"
   ]
  },
  {
   "cell_type": "code",
   "execution_count": null,
   "id": "8872cb13",
   "metadata": {
    "scrolled": true
   },
   "outputs": [],
   "source": [
    "num_uhits_cell=pd.DataFrame(cdrops.groupby(['cell'])['cell_umi'].nunique()).reset_index()\n",
    "num_uhits_cell = num_uhits_cell.merge(cdrops[['cell','tissue', 'num_genes', 'celltype3']].drop_duplicates(), on='cell')\n",
    "#species per cell\n",
    "sp = pd.DataFrame(cdrops.groupby(['cell'])['species'].unique()).reset_index()\n",
    "num_sp = pd.DataFrame(cdrops.groupby(['cell'])['species'].nunique()).reset_index().rename(columns={'species':'num_unique_species_per_drop'})\n",
    "\n",
    "#domains per cell\n",
    "dom = pd.DataFrame(cdrops.groupby(['cell'])['superkingdom'].unique()).reset_index()\n",
    "num_dom = pd.DataFrame(cdrops.groupby(['cell'])['superkingdom'].nunique()).reset_index().rename(columns={'superkingdom':'num_unique_domains_per_drop'})\n",
    "\n",
    "num_uhits_cell = num_uhits_cell.merge(sp, on='cell').merge(num_sp, on='cell').merge(dom, on='cell').merge(num_dom, on='cell')\n",
    "num_uhits_cell = num_uhits_cell.sort_values(by='num_unique_species_per_drop', ascending=False)\n",
    "\n",
    "# print('number of cells with F7 hits:', num_uhits_cell.shape[0])\n",
    "\n"
   ]
  },
  {
   "cell_type": "markdown",
   "id": "b02b9d31",
   "metadata": {},
   "source": [
    "same thing as above but for empty droplets"
   ]
  },
  {
   "cell_type": "code",
   "execution_count": null,
   "id": "16194317",
   "metadata": {
    "scrolled": true
   },
   "outputs": [],
   "source": [
    "num_uhits_e=pd.DataFrame(edrops.groupby(['cell'])['cell_umi'].nunique()).reset_index()\n",
    "num_uhits_e = num_uhits_e.merge(edrops[['cell','tissue', 'num_genes', 'celltype3']].drop_duplicates(), on='cell')\n",
    "#species per droplet\n",
    "sp = pd.DataFrame(edrops.groupby(['cell'])['species'].unique()).reset_index()\n",
    "num_sp = pd.DataFrame(edrops.groupby(['cell'])['species'].nunique()).reset_index().rename(columns={'species':'num_unique_species_per_drop'})\n",
    "#domains per droplet\n",
    "dom = pd.DataFrame(edrops.groupby(['cell'])['superkingdom'].unique()).reset_index()\n",
    "num_dom = pd.DataFrame(edrops.groupby(['cell'])['superkingdom'].nunique()).reset_index().rename(columns={'superkingdom':'num_unique_domains_per_drop'})\n",
    "\n",
    "num_uhits_e = num_uhits_e.merge(sp, on='cell').merge(num_sp, on='cell').merge(dom, on='cell').merge(num_dom, on='cell')\n",
    "num_uhits_e = num_uhits_e.sort_values(by='num_unique_species_per_drop', ascending=False)\n",
    "print('number of empty droplets with F7 hits:', num_uhits_e.shape[0])\n",
    "num_uhits_e.head(10)"
   ]
  },
  {
   "cell_type": "markdown",
   "id": "a1b11706",
   "metadata": {},
   "source": [
    "stats related to the number of unique hits per cell-containing and empty droplets (f7 data)"
   ]
  },
  {
   "cell_type": "code",
   "execution_count": null,
   "id": "2f0d38b1",
   "metadata": {},
   "outputs": [],
   "source": [
    "#cell\n",
    "cell_stat=pd.DataFrame(num_uhits_cell['cell_umi'].describe()).reset_index()\n",
    "#empty\n",
    "e_stat=pd.DataFrame(num_uhits_e['cell_umi'].describe()).reset_index().rename(columns={'cell_umi':'empty_umi'})\n",
    "\n",
    "ce_stats=pd.concat([ cell_stat, e_stat ], axis=1).iloc[:,[0,1,3]]\n",
    "ce_stats = np.round(ce_stats,2)\n",
    "ce_stats"
   ]
  },
  {
   "cell_type": "markdown",
   "id": "f27c9873",
   "metadata": {},
   "source": [
    "saving the above table"
   ]
  },
  {
   "cell_type": "code",
   "execution_count": null,
   "id": "082fca7c",
   "metadata": {},
   "outputs": [],
   "source": [
    "ce_stats.to_csv(tables + 'single_cell_and_empty_droplet_stats_F7.csv', index=False)"
   ]
  },
  {
   "cell_type": "markdown",
   "id": "667e9949",
   "metadata": {},
   "source": [
    "### Outliers\n",
    "Exploring the outlier cells and empty droplets"
   ]
  },
  {
   "cell_type": "markdown",
   "id": "915a59fd",
   "metadata": {},
   "source": [
    "let's get outlier cells (those with higher cell_umi_normalized than the rest of the population)\n",
    "we can used the formula for boxplot outliers: Q1 - 1.5*IQR (left) and Q3+1.5*IQR (right)"
   ]
  },
  {
   "cell_type": "code",
   "execution_count": null,
   "id": "021d5ffa",
   "metadata": {},
   "outputs": [],
   "source": [
    "#getting outlier cells\n",
    "q1 = ce_stats.iloc[4,1]\n",
    "q3 = ce_stats.iloc[6,1]\n",
    "iqr=q3-q1\n",
    "thresh = q3 + 1.5*iqr\n",
    "print('number of unique hits per cell threshold for outliers:', thresh)\n",
    "\n",
    "#getting outlier empty\n",
    "q1 = ce_stats.iloc[4,1]\n",
    "q3 = ce_stats.iloc[6,1]\n",
    "iqr=q3-q1\n",
    "thresh = q3 + 1.5*iqr\n",
    "print('number of unique hits per empty drop threshold for outliers:', thresh)"
   ]
  },
  {
   "cell_type": "markdown",
   "id": "20f4240a",
   "metadata": {},
   "source": [
    "these are the outlier cells"
   ]
  },
  {
   "cell_type": "code",
   "execution_count": null,
   "id": "65e5b3ad",
   "metadata": {
    "scrolled": true
   },
   "outputs": [],
   "source": [
    "cell_outs = num_uhits_cell[num_uhits_cell['cell_umi']>thresh]\n",
    "cell_outs2 =cell_outs.drop(columns=['num_genes'])\n",
    "cell_outs3 = cell_outs2.rename(columns={'celltype3':'celltype'})\n",
    "\n"
   ]
  },
  {
   "cell_type": "markdown",
   "id": "52b676f9",
   "metadata": {},
   "source": [
    "saving outlier cells with F7 hits"
   ]
  },
  {
   "cell_type": "code",
   "execution_count": null,
   "id": "ffd8603c",
   "metadata": {},
   "outputs": [],
   "source": [
    "cell_outs4 = cell_outs3[['cell', 'tissue', 'celltype', 'species', 'superkingdom']]\n"
   ]
  },
  {
   "cell_type": "code",
   "execution_count": null,
   "id": "4b981e12",
   "metadata": {},
   "outputs": [],
   "source": [
    "cell_outs4.to_csv(tables + 'outlier_cells_with_f7_hits.csv', index=False)"
   ]
  },
  {
   "cell_type": "markdown",
   "id": "84ed2a1f",
   "metadata": {},
   "source": [
    "outlier empty droplets"
   ]
  },
  {
   "cell_type": "code",
   "execution_count": null,
   "id": "b16e605f",
   "metadata": {
    "scrolled": true
   },
   "outputs": [],
   "source": [
    "empty_outs = num_uhits_e[num_uhits_e['cell_umi']>thresh]\n"
   ]
  },
  {
   "cell_type": "code",
   "execution_count": null,
   "id": "7cb8e1d9",
   "metadata": {},
   "outputs": [],
   "source": [
    "empty_outs.to_csv(mainDir10 + 'outlier_empty_droplets_with_f7_hits.csv', index=False)"
   ]
  },
  {
   "cell_type": "markdown",
   "id": "b1e0c3c3",
   "metadata": {},
   "source": [
    "#### Exploring outliers by domain"
   ]
  },
  {
   "cell_type": "markdown",
   "id": "d1b0372d",
   "metadata": {},
   "source": [
    "Note that the domain that dominates outlier cells is viruses (because of EBV), whereas bacteria and fungi are prevelant in empty droplets"
   ]
  },
  {
   "cell_type": "code",
   "execution_count": null,
   "id": "c21007bb",
   "metadata": {},
   "outputs": [],
   "source": [
    "#cell\n",
    "a = cell_outs['superkingdom'].apply(lambda x: pd.Series(x))\n",
    "a = np.round(a[0].value_counts(normalize=True),2)\n",
    "a = pd.DataFrame(a).reset_index().rename(columns={'index':'domain', 0:'fraction of outlier cells with F7 hits'})\n",
    "#empty\n",
    "b = empty_outs['superkingdom'].apply(lambda x: pd.Series(x))\n",
    "b = np.round(b[0].value_counts(normalize=True),2)\n",
    "b = pd.DataFrame(b).reset_index().rename(columns={'index':'domain', 0:'fraction of outlier empty droplets with F7 hits'})\n"
   ]
  },
  {
   "cell_type": "code",
   "execution_count": null,
   "id": "fe0972a8",
   "metadata": {},
   "outputs": [],
   "source": [
    "outlier_hits_by_domain=a.merge(b)\n",
    "outlier_hits_by_domain.to_csv(tables + 'fraction_of_f7_outlier_cells_and_emptydrops.csv', index=False)\n"
   ]
  },
  {
   "cell_type": "markdown",
   "id": "a059c761",
   "metadata": {},
   "source": [
    "#### by cell type\n",
    "Note 6 of the 8 cell types associated with outlier cells are immune cells. "
   ]
  },
  {
   "cell_type": "code",
   "execution_count": null,
   "id": "ded6121c",
   "metadata": {},
   "outputs": [],
   "source": [
    "outcellct= pd.DataFrame(np.round(cell_outs[cell_outs['celltype3']!='na']['celltype3'].value_counts(normalize=True),3)).reset_index().rename(columns={'celltype3':'fraction', 'index':\n",
    "                                                                                            'cell_type'})"
   ]
  },
  {
   "cell_type": "markdown",
   "id": "40b643b1",
   "metadata": {},
   "source": [
    "saving the above table, though I just talk about the results rather than include a table"
   ]
  },
  {
   "cell_type": "code",
   "execution_count": null,
   "id": "ae2d8173",
   "metadata": {},
   "outputs": [],
   "source": [
    "outcellct.to_csv(mainDir10 + 'outlier_cells_celltype.csv', index=False)\n"
   ]
  }
 ],
 "metadata": {
  "kernelspec": {
   "display_name": "mainEnv2",
   "language": "python",
   "name": "mainenv2"
  },
  "language_info": {
   "codemirror_mode": {
    "name": "ipython",
    "version": 3
   },
   "file_extension": ".py",
   "mimetype": "text/x-python",
   "name": "python",
   "nbconvert_exporter": "python",
   "pygments_lexer": "ipython3",
   "version": "3.6.10"
  },
  "toc": {
   "base_numbering": 1,
   "nav_menu": {
    "height": "566px",
    "width": "865px"
   },
   "number_sections": true,
   "sideBar": true,
   "skip_h1_title": false,
   "title_cell": "Table of Contents",
   "title_sidebar": "Contents",
   "toc_cell": false,
   "toc_position": {
    "height": "calc(100% - 180px)",
    "left": "10px",
    "top": "150px",
    "width": "318px"
   },
   "toc_section_display": true,
   "toc_window_display": true
  }
 },
 "nbformat": 4,
 "nbformat_minor": 5
}
