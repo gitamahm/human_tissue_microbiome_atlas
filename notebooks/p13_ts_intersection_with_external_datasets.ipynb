{
 "cells": [
  {
   "cell_type": "markdown",
   "id": "30c1ab98",
   "metadata": {},
   "source": [
    "The purpose of this notebook is to compare the Tabula Sapiens Microbiome (TSM) dataset to the Human Microbiome Project (HMP), the tumor microbiome dataset by Nejman et al., and the EHTM (or validation, bulk DNAseq of extracted VLPs and BLPs) dataset. Additionally, I obtain data from the PATRIC database on pathogenicity.\n",
    "\n",
    "Because the notebook was too large to upload to github, I had to clear the cell outputs prior to upload. "
   ]
  },
  {
   "cell_type": "markdown",
   "id": "fd6679d9",
   "metadata": {},
   "source": [
    "### Loading Libraries"
   ]
  },
  {
   "cell_type": "code",
   "execution_count": null,
   "id": "14485367",
   "metadata": {},
   "outputs": [],
   "source": [
    "%matplotlib inline\n",
    "import matplotlib\n",
    "import matplotlib.pyplot as plt\n",
    "from matplotlib import cm\n",
    "from matplotlib_venn import venn2, venn3\n",
    "import venn\n",
    "from venn import venn5\n",
    "plt.rcParams['figure.figsize'] = [5, 5]\n",
    "plt.rcParams['figure.dpi'] = 150\n",
    "font_label_size=12\n",
    "plt.rcParams['font.size'] = font_label_size\n",
    "plt.rcParams['legend.fontsize'] = font_label_size\n",
    "plt.rcParams['figure.titlesize'] = font_label_size\n",
    "plt.rcParams['axes.labelsize']= font_label_size\n",
    "plt.rcParams['axes.titlesize']= font_label_size\n",
    "plt.rcParams['xtick.labelsize']= font_label_size\n",
    "plt.rcParams['ytick.labelsize']= font_label_size\n",
    "plt.rcParams[\"font.family\"] = \"arial\"\n",
    "plt.rcParams['svg.fonttype'] = 'none'\n",
    "import collections\n",
    "from collections import Counter, ChainMap\n",
    "import os\n",
    "import glob\n",
    "import re\n",
    "import itertools\n",
    "import math\n",
    "import random\n",
    "from random import randrange\n",
    "import string\n",
    "import numpy as np\n",
    "import pandas as pd\n",
    "from pandas import ExcelWriter\n",
    "from pandas import ExcelFile\n",
    "from statistics import mean\n",
    "from matplotlib import pyplot\n",
    "import scipy.stats as st\n",
    "from sklearn.utils import shuffle\n",
    "import upsetplot\n",
    "from upsetplot import UpSet, generate_counts, from_contents, plot\n",
    "from pyvis.network import Network\n",
    "import seaborn as sns\n",
    "cmap = sns.cm.rocket_r\n",
    "from bokeh.plotting import figure\n",
    "from bokeh.models import ColumnDataSource, Plot, Grid, Range1d\n",
    "from bokeh.models.glyphs import Text, Rect\n",
    "from bokeh.layouts import gridplot\n",
    "from bokeh.sampledata.les_mis import data\n",
    "import panel as pn\n",
    "import panel.widgets as pnw\n",
    "pn.extension()\n",
    "import holoviews as hv\n",
    "from holoviews import opts, dim\n",
    "from holoviews.plotting.util import process_cmap\n",
    "import plotly.graph_objects as go\n",
    "import plotly.express as pex\n",
    "hv.extension('bokeh')\n",
    "hv.output(size=150)\n",
    "import pickle5 as pickle"
   ]
  },
  {
   "cell_type": "markdown",
   "id": "ac874c07",
   "metadata": {},
   "source": [
    "### Directories"
   ]
  },
  {
   "cell_type": "code",
   "execution_count": null,
   "id": "04d653a1",
   "metadata": {},
   "outputs": [],
   "source": [
    "mainDir = '/oak/stanford/groups/quake/gita/raw/tab1_20200407/thirdAnalysis/10x/'\n",
    "mainDir10 = '/oak/stanford/groups/quake/gita/raw/tab3-14_20210420/all/'\n",
    "\n",
    "paper = '/oak/stanford/groups/quake/gita/raw/nb/microbe/paper/'\n",
    "ext = paper + 'forGitHub/human_tissue_microbiome_atlas/post_review/external_datasets/'\n",
    "figs = paper + 'forGitHub/human_tissue_microbiome_atlas/post_review/figures/'\n",
    "\n",
    "tables = paper + 'forGitHub/human_tissue_microbiome_atlas/post_review/tables/'\n",
    "dbDir = '/oak/stanford/groups/quake/gita/raw/database/taxonomyNCBI20200125/'\n",
    "taxDir = dbDir + 'taxonkit/'\n",
    "tax = pd.read_csv(dbDir + 'ncbi_lineages_2021-01-26.csv')\n",
    "tax_short=tax[['tax_id','superkingdom', 'phylum', 'class', 'order', 'family', 'genus', 'species']] #want to take only the following columns from the lineage dataframe tax \n",
    "\n",
    "uhgg = '/oak/stanford/groups/quake/gita/raw/nb/microbe/paper/forGitHub/human_tissue_microbiome_atlas/post_review/external_datasets/UHGG/'\n",
    "\n"
   ]
  },
  {
   "cell_type": "markdown",
   "id": "f8fd796f",
   "metadata": {},
   "source": [
    "### Explanation of the dataset\n",
    "\n",
    "- Blast dataframe columns (TS object is missing these columns):\n",
    "    - **seqName**: e.g. A00111:327:HL57HDSXX:4:1202:22941:23719_TAGGTCAGAGACATCA_AGAAATAACGCC\n",
    "    - **seq**: microbial sequence \n",
    "    - **refName**: the BLAST subject reference gi|1862738216|gb|CP055292.1| \n",
    "    - **pathogen**: common name of the hit \"Shigella sonnei strain SE6-1 chromosome, complete genome\"\n",
    "    - **bitscore**: see BLAST tutorial\n",
    "    - **pident**: percent identity between subject and query\n",
    "    - **evalue**: see BLAST tutorial\n",
    "    - **qstart**: query start position\n",
    "    - **qend**: query end position\n",
    "    -  **sstart**: subject start position\n",
    "    -  **send**: subject end position\n",
    "    -  **length**: length of the alignment between subject and query\n",
    "    - Taxonomy columns \n",
    "        -  **tax_id**: taxonomic id with which we can get the following taxonomic categories\n",
    "        -  **superkingdom**\n",
    "        -  **phylum**\n",
    "        -  **class**\n",
    "        -  **order**\n",
    "        -  **family**\n",
    "        -  **genus**\n",
    "        -  **species**\n",
    "    -  **umi**: AGAAATAACGCC \n",
    "    -  **cell_bc_umi**: cell barcode and umi e.g. TGTCCCATGTACTCTG_CGTTGATACCAC\n",
    "    -  **cell_umi**: cell barcode, sample, umi e.g. TCCCATGTACTCTGCG_TSP14_Liver_NA_10X_1_1_TTGATACCACTG\n",
    "    -  **batch**: this is related to how blast was done for these donors (divided into batches with fixed number of input seqs)\n",
    "    - **filepath**: where the output of the blast resides on my local drive\n",
    "\n",
    "\n",
    "- TS object columns (blast dataframe does not produce these on its own)\n",
    "    - **n_counts**: number of reads per cell\n",
    "    - **n_genes**: number of genes per cell\n",
    "    - **log2_n_counts**: log2 of n_counts\n",
    "    - **log2_n_genes**: log2 of n_genes\n",
    "    - **compartment**: e.g. immune, epithelial\n",
    "    - **decision**: cell cycle decision\n",
    "    - **celltype2**: cell type\n",
    "    - **tissue_cell_type**: tissue and cell type\n",
    "    - **cell_type_tissue**: cell type and tissue\n",
    "\n",
    "\n",
    "- Shared columns:\n",
    "    - **cell**: cell barcode+sample  TGGGCGTGTTGCGCAC_TSP14_Blood_NA_10X_1_1_1_5Prime\n",
    "    - **cell_bc**: cell barcode with \"-1\" appended to it. (donor1and2, not for donors 3-16) e.g. CATATTCCAAAGCGGT-1\n",
    "    - **tissue**: tissue type\n",
    "    - **donor**: donor (e.g. TSP1)\n",
    "    - **sample**: sample name e.g. TSP14_Bladder_NA_10X_1_2\n",
    "    - **hit**: the column with which to seperate out the dataframe into blast (hit=='yes') and ts object (hit=='no')\n",
    "    - **hit_type**: tells us whether the hit comes from an annotated cell (hit_type=='intra'), unannotated cell ('extra') or no hit ('none')\n",
    "    - **donor_batch**: donor 1 and 2 dataframe ('1_2'), all others ('3_16')\n",
    "    - **empty_drop**: set to 'yes' if empty, and 'no' if a cell. Based on a cut off of 200 genes per droplet\n",
    "\n",
    "\n",
    "- Cell ranger columns (rows with cr column=='yes should have all this info):\n",
    "    - **cr**: \"yes\" if the sample was run through cell ranger pipeline, and \"no\" otherwise\n",
    "    - **cr_sample**: the name of the cell ranger file\n",
    "    - **n_counts_cr**: number of reads per droplet as determined by my cell ranger pipeline\n",
    "    - **n_genes_cr**: same as above, for number of genes per droplet\n",
    "    - **num_empty_drop_per_sample**: number of empty droplets in a sample (based on cut off of 200 genes)\n",
    "    - **num_cell_drop_per_sample**: number of cell-containing droplets in a sample (based on cut off of 200 genes)\n",
    "    \n",
    "\n",
    "\n",
    "- Shared columns for removal of contaminants, \"orphan\" alignments, and environmentally sourced bacteria\n",
    "    - **filter1**: Removal of species and taxids found in the 10X experimental contamination dataset (1= contaminant, 0=non-contaminant)\n",
    "    - **filter2**: Removal of genera found in the Salter et al. list of common contaminant genera (1=contaminant)\n",
    "    - **filter3**: Removal of certain fungal species found in the Haziza et al dataset \n",
    "    - **filter4**: Removal of putative contaminants based on ML model prediction\n",
    "    Filter4 is based on ML model prediction which takes into account the following columns. \n",
    "    - **num_tissues**: Number of tissues that each species appears in\n",
    "    - **num_donors**: Number of donors that each species appears in\n",
    "    - **abundance**: The total abundance of each species (number of hits) in the TS dataset\n",
    "    - **med_pident**:  Median percent identity of alignments corresponding to a given species\n",
    "    - **med_length**: Median alignment length corresponding to a given species\n",
    "    - **med_ngene**: Median number of genes per droplet that contains a given species\n",
    "    - **pred**: The prediction of the model. The input label of the model are species, 1 if any of the previous filters are 1 (contaminant), and 0 otherwise. \n",
    "    - **R_g**: R_g is c_g/ts_g. c_g is the number of species from genus g that have been detected in the experimental contamination dataset, and ts_g is the number of species from that genus detected in the total ts dataset. The ratio is a measure of confidence in a genus. If a genus has more species detected in the contamination dataset than in the total TS dataset, then even species that were not detetcted in the contamination dataset are less trustworthy considering that we show taxonomic assignment at the species level using short-read sequencing (~100bp) is not nearly as precise as genus level assignments \n",
    "    - **filter5** : We combine pident and length alignment parameters into one that measures the number of exact base matches in the alignment. This new pararmeter,\"pidlen\" =pident*length/100. pidlen > pthresh will be 0, and 1 otherwise. pthresh corresponds to 3sigma away from the mean of the second pidlen distribution. Essentially we select for high-quality alignments using this filter. \n",
    "    - **pidlen**: pident*length/100 corresponds to number of exact base matches in the alignment\n",
    "    - **emp_habitat1**: coarse-grained habitat information (list of habitats) for bacterial genera at the intersection of ts and GEM\n",
    "    - **emp_habitat2**: even more coarse-grained habitat information (list of habitats) for bacterial genera at the intersection of ts and GEM\n",
    "    - **emp_habitat3**: even more coarse-grained habitat information than emp_habitat2 for bacterial genera at the intersection of ts and GEM\n",
    "    - **assignment**: binary assignment of GEM bacterial species found in the tsm dataset into \"free_living_or_other_hosts\" and \"human_associated\"\n",
    "    - **emp**:\t1 is \"free_living_or_other_hosts\" and 0 is \"human_associated\" based on whether the species was isolated from the  human microbiome. If found in both natural environments as well as humans, it will be labeled as human associated. It will be NaN if the species is not found in EMP, which in addition to bacterial species will include all viruses and fungi.\n",
    "    - **emp2**: 1 is \"free_living_or_other_hosts\" and 0 is \"human_associated\" based on whether the genus was predominantly isolated from the human microbiome (more species in the human microbiome than outside of it based on GEM study). It will be NaN if the genus is not found in GEM, which in addition to bacterial species will include all viruses and fungi.\n",
    "    - **assignment2**: binary assignment of gem bacterial genera found in the tsm dataset into \"free_living_or_other_hosts\" and \"human_associated\" \n",
    "    - **emp1_2**: combination of emp and emp2 columns. Basically, it is emp2 (genus) filter but can be overriden by emp (species) filter. So unless a given species has been explicitly found in the human microbiome, if it belongs to a genus that is mostly found outside of the human microbiome, then it would be deemeed not part of the human microbiome\n",
    "    - **hmp_species**:\tset to 0 if a species is found in the HMP dataset, NaN otherwise (note, hmp is predominantly bacterial, with small number of eukaryotic species)\n",
    "    - **hmp_genus**:\tset to 0 if a genus is found in the HMP dataset, NaN otherwise \n",
    "    - **hmp_phylum**:\tset to 0 if a species is found in the HMP dataset, NaN otherwise \n",
    "    - **uhgg_species**:\tset to 0 if a species is found in the UHGG dataset, NaN otherwise (note, uhgg doesn't have fungi or viruses, it does have some archaea)\n",
    "    - **uhgg_genus**:\tset to 0 if a genus is found in the UHGG dataset, NaN otherwise \n",
    "    - **uhgg_phylum**:\tset to 0 if a species is found in the UHGG dataset, NaN otherwise \n",
    "    - **hue (filter6)**: combination of **h**mp, **u**hgg and **e**mp filters. Set to 0 if any of the species have been found in association with the human microbiome, set to 1 if only found outside of the human microbiome, and NaN if no information can be gathered from these three databases. Note, only \"emp1_2\" column offers some values of 1, others (uhgg_species, hmp_species) are either 0 or NaN because they only explore sites in the human body.\n",
    "    - **chatgpt (filter7)**: this is the result of chatgpt search for habitat of origin for a species that was not found in the three studies explored. Set to 0 if found in humans, and 1 otherwise. \n",
    "    - **davinci_combo**: the combined outputs of chatgpt's davinci model to the same prompt posed 3 times (independently, for each species). \n"
   ]
  },
  {
   "cell_type": "markdown",
   "id": "eab12c6a",
   "metadata": {},
   "source": [
    "### color list"
   ]
  },
  {
   "cell_type": "code",
   "execution_count": null,
   "id": "30fab60e",
   "metadata": {},
   "outputs": [],
   "source": [
    "color_lst =['salmon','lavender','mistyrose','lightblue', 'mediumaquamarine','teal','cornflowerblue','plum',\n",
    "            'steelblue', 'pink', 'thistle','chocolate',  'darkkhaki', 'darksalmon', 'lemonchiffon','lightslategrey',\n",
    "            'darkgoldenrod', 'darkgray','olive','slategray', 'deepskyblue', 'firebrick', 'gainsboro', 'honeydew',\n",
    "            'crimson','hotpink', 'indianred','darkorchid','aquamarine','darkgreen','indigo','lawngreen', 'maroon',\n",
    "            'lightcoral','wheat','tomato','lightseagreen', 'lightskyblue', 'lightyellow','mediumseagreen',\n",
    "            'linen', 'magenta', 'darkviolet', 'mediumorchid', 'tan','mediumpurple', 'mediumspringgreen', \n",
    "            'mintcream', 'cadetblue', 'moccasin','aqua' ,'navajowhite', 'orchid', 'palegoldenrod', 'palegreen',\n",
    "            'paleturquoise', 'palevioletred', 'coral','papayawhip', 'peachpuff', 'peru',  'cornsilk','powderblue', \n",
    "            'purple', 'chartreuse', 'red', 'darkolivegreen','darkslateblue','rosybrown', 'darkslategrey','royalblue', \n",
    "            'sandybrown', 'seagreen', 'sienna', 'silver', 'skyblue', 'slateblue', 'darkmagenta','orangered', 'gold',\n",
    "            'bisque','yellow','orange', 'lightpink','dodgerblue','greenyellow','deeppink']\n"
   ]
  },
  {
   "cell_type": "markdown",
   "id": "ed9d55e0",
   "metadata": {},
   "source": [
    "### Functions"
   ]
  },
  {
   "cell_type": "code",
   "execution_count": null,
   "id": "c7f7d1e7",
   "metadata": {},
   "outputs": [],
   "source": [
    "\"\"\"\n",
    "creates a dictionary of colors mapping to categories defined in grouplist. This function pairs up with sankey function. \n",
    "for groups that don't need to be colored, simply leave them out of grouplist, and they will be automatically grey. \n",
    "df is the input_df to sankey plot\n",
    "\"\"\"\n",
    "\n",
    "def get_colormap(df, grouplist):\n",
    "    color_map={}\n",
    "    counter = -2 #setting this up so that the same colors aren't picked from the color_lst for each category\n",
    "    for group in grouplist:\n",
    "        counter = counter +2\n",
    "        subgroups = df[group].value_counts().index.tolist() #getting the categories for each group (e.g. viruses, bacteria, eukaryotes for superkingdom), sorted by abundance\n",
    "        subgroups=[x + '_' + group[0:3] for x in subgroups] #adding \"_don\" or any other three first letters of a group (how sankey is done)\n",
    "        \n",
    "        sub_colors=color_lst[counter:counter + len(subgroups)] #getting list of colors from color_lst\n",
    "        color_sub_dict = dict(zip(subgroups, sub_colors)) #getting dictionary of colors and values\n",
    "        \n",
    "        color_map.update(color_sub_dict) #adding the dictionary to the main color dictionary\n",
    "    return(color_map)\n",
    "\n",
    "\n",
    "\"\"\"\n",
    "creates legends for the sankey plot, using the same first two input parameters as get_colormap function\n",
    "fontsize --> font size\n",
    "tsize --> title font size\n",
    "msize --> marker size\n",
    "figs --> figure size\n",
    "ncol --> number of columns\n",
    "\"\"\"\n",
    "\n",
    "def get_legend(df, grouplist, fontsize=12, tsize=12, msize=1.6, fs=3, ncol=2, figname='sankeyplots_'):\n",
    "    color_map={}\n",
    "    counter = -2 #setting this up so that the same colors aren't picked from the color_lst for each category\n",
    "\n",
    "    for group in grouplist:\n",
    "        counter = counter +2\n",
    "        \n",
    "        subgroups = df[group].value_counts().index.tolist() #getting the categories for each group (e.g. viruses, bacteria, eukaryotes for superkingdom), sorted by abundance      \n",
    "        sub_colors=color_lst[counter:counter + len(subgroups)] #getting list of colors from color_lst\n",
    "\n",
    "        #getting legend handels\n",
    "        h1 = [matplotlib.lines.Line2D([],[], marker=\"s\", color=c, linestyle=\"none\") for c in sub_colors]\n",
    "\n",
    "        #plotting the legened figures\n",
    "        fig, ax= plt.subplots(figsize=[fs,fs])\n",
    "        plt.axis('off')\n",
    "        plt.legend(handles=h1, \n",
    "           labels=subgroups,\n",
    "           loc='lower left', prop={'size':fontsize}, ncol=ncol, numpoints=1, \n",
    "           frameon=False, markerscale=msize, title=group, title_fontsize=tsize, labelcolor='dimgrey')\n",
    "        \n",
    "        plt.savefig(figs + figname + group + '.svg', bbox_inches='tight')\n",
    "    return()\n",
    "\n",
    "\n"
   ]
  },
  {
   "cell_type": "markdown",
   "id": "4c91547c",
   "metadata": {},
   "source": [
    "# Analysis"
   ]
  },
  {
   "cell_type": "markdown",
   "id": "6eff3b03",
   "metadata": {},
   "source": [
    "### Reading the main dataframe"
   ]
  },
  {
   "cell_type": "code",
   "execution_count": null,
   "id": "bfe60008",
   "metadata": {},
   "outputs": [],
   "source": [
    "hits= pd.read_csv(mainDir10 + 'all_dons_cr_processed_7filters_postreview2022_v2.csv')\n",
    "\n",
    "hits_yes = hits[hits['hit']=='yes']\n",
    "hits_no = hits[hits['hit']=='no']\n",
    "\n",
    "#adding a column that is useful for these plots\n",
    "#crearting a tissue_donor column for the plot\n",
    "hits_yes['tissue_donor']= hits_yes['tissue'] + '_' + hits_yes['donor']\n",
    "\n",
    "cols=['filter1', 'filter2', 'filter3', 'filter4', 'filter5', 'hue', 'chatgpt']\n",
    "f7=hits_yes[(hits_yes[cols].any(axis=1)==False)]\n",
    "\n",
    "cols=['filter1', 'filter2', 'filter3', 'filter4', 'filter5']\n",
    "f5=hits_yes[(hits_yes[cols].any(axis=1)==False)]\n",
    "\n",
    "cols=['filter1']\n",
    "f1=hits_yes[(hits_yes[cols].any(axis=1)==False)]\n",
    "\n",
    "cont = hits_yes[(hits_yes['filter1']==1)]# these are known contaminants\n",
    "print('total number of hits without filters:', hits_yes.shape[0])\n",
    "print('total number of annotated cells without hits:', hits_no.shape[0])\n",
    "print('f1 num hits:',f1.shape[0])\n",
    "print('f5 num hits:',f5.shape[0])\n",
    "print('f7 num hits:',f7.shape[0])\n"
   ]
  },
  {
   "cell_type": "markdown",
   "id": "4f8ec309",
   "metadata": {},
   "source": [
    "## Tumor microbiome\n",
    "### Is there an overlap between species and genera found in the TS dataset and Nejman et al. tumor microbiome study ?\n",
    "https://www.ncbi.nlm.nih.gov/pmc/articles/PMC7757858/#SD3 \n",
    "\n",
    "species are obtained from Table S4 (Hits sheet), only those that appear in tumor are selected and pass all 6 contamination filters are selected.  Tumor enriched species are obtained from figure 4D.\n"
   ]
  },
  {
   "cell_type": "code",
   "execution_count": null,
   "id": "fc026620",
   "metadata": {
    "scrolled": true
   },
   "outputs": [],
   "source": [
    "#reading table S4 (Hits sheet modified to contain data on tumors and healthy tissues seperately)\n",
    "df = pd.read_excel(ext + 'nejman_tumor_NIHMS1645237-supplement-Table_S4.xlsx', sheet_name=None)\n",
    "tumor = df['Hits_tumor'].drop(columns='Unnamed: 0')\n",
    "tumor = tumor[~((tumor['species']=='Enterococcus faecium') & (tumor['genus']=='Streptococcus'))] #taking out a duplicate entry where enterococcus faecium is given two different taxonomic info\n",
    "tumor = tumor[(tumor['species'].isnull()==False) | (tumor['genus'].isnull()==False)] #taking out unknown species or genera \n",
    "tumor = tumor[tumor.sum(axis=1)>0] # these are species that appear in at least one tumor sample\n",
    "tumor['order'] = tumor['order'].apply(lambda x: x.replace('Enterobacteriales', 'Enterobacterales'))#this is because In 2016, \"Enterobacteriales\" was proposed to be reclassified as Enterobacterales\n"
   ]
  },
  {
   "cell_type": "markdown",
   "id": "1b7dd63a",
   "metadata": {},
   "source": [
    "I'm also going to drop those genera that are \"unknown\" in the tumor dataset"
   ]
  },
  {
   "cell_type": "code",
   "execution_count": null,
   "id": "80e0d168",
   "metadata": {},
   "outputs": [],
   "source": [
    "tumor = tumor[tumor.genus.str.contains('Unknown genus', case=False)==False]"
   ]
  },
  {
   "cell_type": "markdown",
   "id": "6772678c",
   "metadata": {},
   "source": [
    "#### Creating a dataframe (tumor_sp_ct) that transforms the count table from original tumor dataframe. More useful format for my plots"
   ]
  },
  {
   "cell_type": "code",
   "execution_count": null,
   "id": "aa35122f",
   "metadata": {
    "scrolled": true
   },
   "outputs": [],
   "source": [
    "tum_list = ['Breast_T','Lung_T','Melanoma_T','Pancreas_T','Ovary_T','Bone_T','GBM_T','Colon_T']\n",
    "tumor_ct=tumor.iloc[:,-9:].dropna().set_index('species') #just getting the count table (and tumor list as columns, also dropping na values - species info is na)\n",
    "sp_lst=[]\n",
    "tumtype_lst=[]\n",
    "\n",
    "for row in tumor_ct.iterrows():\n",
    "    for i,tumtype in enumerate(tum_list):\n",
    "        if row[1][i]>0:\n",
    "            sp_lst.append(row[0])\n",
    "            tumtype_lst.append(tumtype)\n",
    "\n",
    "tumor_sp_ct=pd.DataFrame({}, columns=['species', 'tumor_type'])\n",
    "tumor_sp_ct['species']=sp_lst\n",
    "tumor_sp_ct['tumor_type']=tumtype_lst\n",
    "tumor_sp_ct = tumor_sp_ct.drop_duplicates()\n",
    "tumor_sp_ct.head(3)\n"
   ]
  },
  {
   "cell_type": "markdown",
   "id": "db9b7d3d",
   "metadata": {},
   "source": [
    "#### Getting taxonomic info for each species so I can add this info to the tumor_sp_ct dataframe\n"
   ]
  },
  {
   "cell_type": "code",
   "execution_count": null,
   "id": "94fd4cc2",
   "metadata": {},
   "outputs": [],
   "source": [
    "tumor_tax = tumor.iloc[:,:7].dropna().drop_duplicates(subset=['species'])\n",
    "tumor_sp_ct = tumor_sp_ct.merge(tumor_tax, on='species', how='left')\n",
    "tumor_sp_ct.head(3)\n"
   ]
  },
  {
   "cell_type": "markdown",
   "id": "c752e7b3",
   "metadata": {},
   "source": [
    "#### Plotting the genera that are found in tumor samples that also appear in Tabula Sapiens samples\n",
    "To be able to see all the genera in one plot, we're using F7 dataset"
   ]
  },
  {
   "cell_type": "code",
   "execution_count": null,
   "id": "0399370e",
   "metadata": {
    "scrolled": false
   },
   "outputs": [],
   "source": [
    "gens = tumor['genus'].unique().tolist()\n",
    "tumor_gen = '|'.join(gens)\n",
    "hits_fil=f7[f7['genus'].isna()==False] #getting rid of hits with nan order information\n",
    "\n",
    "#finding the genera that are in both tumors and normal tissue\n",
    "tum_hits = hits_fil[hits_fil['genus'].str.contains(tumor_gen, case=False)]\n",
    "\n",
    "#creating a heatmap of orders found in each tissue_donor sample\n",
    "tum_gen_heat=tum_hits.groupby(['tissue_donor', 'genus'], as_index=False).count().iloc[:,:3].rename(\n",
    "    columns={'R_g':'count'}).pivot('tissue_donor', 'genus', 'count').replace(np.nan, 0)\n",
    "\n",
    "tum_gen_heat_log = np.log2(tum_gen_heat + 1)\n",
    "g = sns.clustermap(tum_gen_heat_log.T, linewidths=.05, figsize=[15,20], dendrogram_ratio=(.1, .3), col_cluster=False)\n",
    "\n",
    "\n"
   ]
  },
  {
   "cell_type": "markdown",
   "id": "4d54fae4",
   "metadata": {},
   "source": [
    "saving above heatmap as an SI table"
   ]
  },
  {
   "cell_type": "code",
   "execution_count": null,
   "id": "4143e8ee",
   "metadata": {},
   "outputs": [],
   "source": [
    "tum_gen_heat_log.T.to_excel(tables + 'genera_heatmap_shared_between_tumors_and_tsm_f7.xlsx')"
   ]
  },
  {
   "cell_type": "markdown",
   "id": "fd09219c",
   "metadata": {},
   "source": [
    "#### The bacterial genera that are found in Nejman et al. tumor dataset that weren't detected in TSM F7\n",
    "many are unknown genera"
   ]
  },
  {
   "cell_type": "markdown",
   "id": "e9ca0217",
   "metadata": {},
   "source": [
    "#### Intersection of TSM F5 adn F7 dataset and Nejman et al. tumor dataset"
   ]
  },
  {
   "cell_type": "markdown",
   "id": "c3527793",
   "metadata": {},
   "source": [
    "##### f5"
   ]
  },
  {
   "cell_type": "code",
   "execution_count": null,
   "id": "f9e304f9",
   "metadata": {
    "scrolled": true
   },
   "outputs": [],
   "source": [
    "taxcol = 'genus'\n",
    "ts_ = set(f5[(f5['superkingdom']=='Bacteria') & (f5[taxcol].isna()==False)][taxcol])\n",
    "tumor_ = set(tumor[tumor[taxcol].isna()==False][taxcol])\n",
    "\n",
    "v = venn2([ts_, tumor_], set_labels = ('TSM F5','Tumors')) \n",
    "\n",
    "v.get_patch_by_id('100').set_color('cornflowerblue')\n",
    "v.get_patch_by_id('010').set_color('teal')\n",
    "v.get_patch_by_id('110').set_color('grey')\n",
    "plt.title('genera')\n",
    "frac_tum=np.round(len(ts_.intersection(tumor_))/len(tumor_), 2)\n",
    "plt.show()\n",
    "\n",
    "print('what fraction of TSM F5 genera is shared with nejman?', np.round(len(ts_.intersection(tumor_))/len(ts_), 2))\n",
    "print('what fraction of nejman is shared with TSM F5 tissue microbiome?', np.round(len(tumor_.intersection(ts_))/len(tumor_), 2))\n"
   ]
  },
  {
   "cell_type": "markdown",
   "id": "bc816ed8",
   "metadata": {},
   "source": [
    "##### f7"
   ]
  },
  {
   "cell_type": "code",
   "execution_count": null,
   "id": "d5b7aec9",
   "metadata": {
    "scrolled": true
   },
   "outputs": [],
   "source": [
    "taxcol = 'genus'\n",
    "ts_ = set(f7[(f7['superkingdom']=='Bacteria') & (f7[taxcol].isna()==False)][taxcol])\n",
    "tumor_ = set(tumor[tumor[taxcol].isna()==False][taxcol])\n",
    "\n",
    "v = venn2([ts_, tumor_], set_labels = ('TSM F7','Tumors')) \n",
    "\n",
    "v.get_patch_by_id('100').set_color('cornflowerblue')\n",
    "v.get_patch_by_id('010').set_color('teal')\n",
    "v.get_patch_by_id('110').set_color('grey')\n",
    "plt.title('genera')\n",
    "\n",
    "plt.show()\n",
    "frac_tum=np.round(len(ts_.intersection(tumor_))/len(tumor_), 2)\n",
    "\n",
    "print('what fraction of TSM F7 genera is shared with nejman?', np.round(len(ts_.intersection(tumor_))/len(ts_), 2))\n",
    "print('what fraction of nejman is shared with TSM F7 tissue microbiome?', np.round(len(tumor_.intersection(ts_))/len(tumor_), 2))\n"
   ]
  },
  {
   "cell_type": "markdown",
   "id": "8c099a5e",
   "metadata": {},
   "source": [
    "#### Tumor-enriched species\n",
    "I'm taking a list of species enriched in various tumors found in panel D of Figure 4. \n",
    "\n",
    "Note we do find these species, however they are primarily in our contamination dataset. Only 2 of them appear after the first filter is applied (f1 dataset) and none after f5 or f7. "
   ]
  },
  {
   "cell_type": "code",
   "execution_count": null,
   "id": "f478b61f",
   "metadata": {},
   "outputs": [],
   "source": [
    "tumor_species = ['fusobacterium nucleatum', 'corynebacterium US_1715', \n",
    "        'staphylococcus aureus', 'paracoccus marcusii', 'klebsiella pneumoniae', \n",
    "        'roseomonas mucosa', 'staphylococcus cohnii', 'actinomyces massiliensis', \n",
    "        'neisseria macacae', 'enterobacter cloacae']\n",
    "tumor_sp = '|'.join(tumor_species)\n",
    "\n",
    "hits_fil=hits_yes[hits_yes.species.isna()==False] #getting rid of hits with nan species information\n",
    "\n",
    "#finding the orders that are in both tumors and normal tissue\n",
    "tum_hits = hits_fil[hits_fil.species.str.contains(tumor_sp, case=False)]\n",
    "\n",
    "#crearting a tissue_donor column for the plot\n",
    "tum_hits['tissue_donor']= tum_hits['tissue'] + '_' + tum_hits['donor']\n",
    "\n",
    "#creating a heatmap of orders found in each tissue_donor sample\n",
    "tum_sp_heat=tum_hits.groupby(['tissue_donor', 'species'], as_index=False).count().iloc[:,:3].rename(\n",
    "    columns={'genus':'count'}).pivot('tissue_donor', 'species', 'count').replace(np.nan, 0)\n",
    "\n",
    "tum_sp_heat_log = np.log2(tum_sp_heat + 1)\n",
    "g = sns.clustermap(tum_sp_heat_log, linewidths=.5, figsize=[6,12], dendrogram_ratio=(.2, .1), row_cluster=False)\n",
    "\n"
   ]
  },
  {
   "cell_type": "markdown",
   "id": "f13581a0",
   "metadata": {},
   "source": [
    "these are the two that appear after filter 1 only"
   ]
  },
  {
   "cell_type": "code",
   "execution_count": null,
   "id": "50db3f45",
   "metadata": {
    "scrolled": true
   },
   "outputs": [],
   "source": [
    "tumor_species = ['fusobacterium nucleatum', 'corynebacterium US_1715', \n",
    "        'staphylococcus aureus', 'paracoccus marcusii', 'klebsiella pneumoniae', \n",
    "        'roseomonas mucosa', 'staphylococcus cohnii', 'actinomyces massiliensis', \n",
    "        'neisseria macacae', 'enterobacter cloacae']\n",
    "tumor_sp = '|'.join(tumor_species)\n",
    "\n",
    "hits_fil=f1[f1.species.isna()==False] #getting rid of hits with nan species information\n",
    "\n",
    "#finding the orders that are in both tumors and normal tissue\n",
    "tum_hits = hits_fil[hits_fil.species.str.contains(tumor_sp, case=False)]\n",
    "\n",
    "#crearting a tissue_donor column for the plot\n",
    "tum_hits['tissue_donor']= tum_hits['tissue'] + '_' + tum_hits['donor']\n",
    "\n",
    "#creating a heatmap of orders found in each tissue_donor sample\n",
    "tum_sp_heat=tum_hits.groupby(['tissue_donor', 'species'], as_index=False).count().iloc[:,:3].rename(\n",
    "    columns={'genus':'count'}).pivot('tissue_donor', 'species', 'count').replace(np.nan, 0)\n",
    "\n",
    "tum_sp_heat_log = np.log2(tum_sp_heat + 1)\n",
    "g = sns.clustermap(tum_sp_heat_log, linewidths=.5, figsize=[4,5], dendrogram_ratio=(.2, .1), row_cluster=False)\n",
    "\n"
   ]
  },
  {
   "cell_type": "markdown",
   "id": "91744265",
   "metadata": {},
   "source": [
    "#### bacterial genera shared between TS and Nejman et al. datasets (TSM F5)"
   ]
  },
  {
   "cell_type": "code",
   "execution_count": null,
   "id": "23d227e4",
   "metadata": {
    "scrolled": true
   },
   "outputs": [],
   "source": [
    "tumor_sub = tumor[['genus', 'Breast_T','Lung_T','Melanoma_T','Pancreas_T','Ovary_T','Bone_T','GBM_T','Colon_T']]\n",
    "\n",
    "tumor_sub2 = tumor_sub[tumor_sub['genus'].isnull()==False] #dropping those enteries without genus information\n",
    "\n",
    "\n",
    "#looping through the tumor samples to get counts of each genus in each sample\n",
    "t =tumor_sub2.groupby(['Breast_T', 'genus'], as_index=False).count()\n",
    "tum_ord=t[t['Breast_T']==1].iloc[:,1:3]\n",
    "tum_ord.columns=['genus', 'Breast_T']\n",
    "tumor_lst=['Lung_T','Melanoma_T','Pancreas_T','Ovary_T','Bone_T','GBM_T','Colon_T']\n",
    "for tum_name in tumor_lst:\n",
    "    t =tumor_sub2.groupby([tum_name, 'genus'], as_index=False).count()\n",
    "    t=t[t[tum_name]==1].iloc[:,1:3]\n",
    "    t.columns=['genus', tum_name]\n",
    "    tum_ord = tum_ord.merge(t, on='genus', how='outer')\n",
    "tum_ord = tum_ord.replace(np.nan, 0)\n",
    "\n",
    "#getting hits dataframe in the same format as tum_ord\n",
    "hits_ord_count=f5.groupby(['genus', 'tissue'],as_index=False).count().iloc[:,:3].rename(columns={'R_g':'count'}).pivot(\n",
    "    index='genus', columns='tissue', values='count').replace(np.nan, 0)\n",
    "\n",
    "#now merging the two dataframes (hits and tumor order counts) based on their shared orders\n",
    "hits_tum_merge=hits_ord_count.merge(tum_ord, on='genus', how='inner').set_index('genus')\n",
    "#excluding those tissues with 0 hits\n",
    "hits_tum_merge = hits_tum_merge.loc[:,hits_tum_merge.sum()!=0]\n",
    "\n",
    "sns.clustermap(np.log2(hits_tum_merge+1), col_cluster=False, figsize=[10,35],\n",
    "                    dendrogram_ratio=(.1, .22), linewidth=.1)\n",
    "\n",
    "# plt.savefig(figs + 'tumor_tsm_f5_genera_heatmap.pdf')"
   ]
  },
  {
   "cell_type": "markdown",
   "id": "36be160c",
   "metadata": {},
   "source": [
    "##### TSM F7 and Nejman"
   ]
  },
  {
   "cell_type": "code",
   "execution_count": null,
   "id": "bc5644d7",
   "metadata": {
    "scrolled": true
   },
   "outputs": [],
   "source": [
    "tumor_sub = tumor[['genus', 'Breast_T','Lung_T','Melanoma_T','Pancreas_T','Ovary_T','Bone_T','GBM_T','Colon_T']]\n",
    "\n",
    "tumor_sub2 = tumor_sub[tumor_sub['genus'].isnull()==False] #dropping those enteries without genus information\n",
    "\n",
    "\n",
    "#looping through the tumor samples to get counts of each genus in each sample\n",
    "t =tumor_sub2.groupby(['Breast_T', 'genus'], as_index=False).count()\n",
    "tum_ord=t[t['Breast_T']==1].iloc[:,1:3]\n",
    "tum_ord.columns=['genus', 'Breast_T']\n",
    "tumor_lst=['Lung_T','Melanoma_T','Pancreas_T','Ovary_T','Bone_T','GBM_T','Colon_T']\n",
    "for tum_name in tumor_lst:\n",
    "    t =tumor_sub2.groupby([tum_name, 'genus'], as_index=False).count()\n",
    "    t=t[t[tum_name]==1].iloc[:,1:3]\n",
    "    t.columns=['genus', tum_name]\n",
    "    tum_ord = tum_ord.merge(t, on='genus', how='outer')\n",
    "tum_ord = tum_ord.replace(np.nan, 0)\n",
    "\n",
    "#getting hits dataframe in the same format as tum_ord\n",
    "hits_ord_count=f7.groupby(['genus', 'tissue'],as_index=False).count().iloc[:,:3].rename(columns={'R_g':'count'}).pivot(\n",
    "    index='genus', columns='tissue', values='count').replace(np.nan, 0)\n",
    "\n",
    "#now merging the two dataframes (hits and tumor order counts) based on their shared orders\n",
    "hits_tum_merge=hits_ord_count.merge(tum_ord, on='genus', how='inner').set_index('genus')\n",
    "#excluding those tissues with 0 hits\n",
    "hits_tum_merge = hits_tum_merge.loc[:,hits_tum_merge.sum()!=0]\n",
    "\n",
    "sns.clustermap(np.log2(hits_tum_merge+1), col_cluster=False, figsize=[10,15],\n",
    "                    dendrogram_ratio=(.1, .24), linewidth=.1)\n",
    "\n",
    "# plt.savefig(figs + 'tumor_tsm_f7_genera_heatmap.pdf')"
   ]
  },
  {
   "cell_type": "markdown",
   "id": "6d21aeed",
   "metadata": {},
   "source": [
    "#### Number of bacterial genera shared between each tumor type and healthy tissue type \n",
    "(TSM F7, variables coming from the heatmap above)"
   ]
  },
  {
   "cell_type": "code",
   "execution_count": null,
   "id": "4923b559",
   "metadata": {},
   "outputs": [],
   "source": [
    "df = hits_tum_merge #creating a binary matrix of counts (if an order is present, then it gets a value of one.)\n",
    "df[df>1]=1\n",
    "df_ts = df.iloc[:,:-8] #TS tissues\n",
    "\n",
    "tumor_lst =['Breast_T','Lung_T','Melanoma_T','Pancreas_T','Ovary_T','Bone_T','GBM_T','Colon_T']\n",
    "new_df = pd.DataFrame(columns=df_ts.columns, index=tumor_lst) #creating a new dataframe to store number of shared orders \n",
    "\n",
    "#looping through the tumor samples to get counts of each order in each sample\n",
    "for tum_name in tumor_lst:\n",
    "    for tiss in df_ts.columns:\n",
    "        df2 = df.loc[:,tiss] + df.loc[:, tum_name] #If the genera sum up to 2, that means they appear in both the TS tissue and tumor \n",
    "        num_orders=df2[df2>1].shape[0] #number of genera shared between ts tissue and tumor\n",
    "        new_df.loc[tum_name, tiss] = num_orders\n",
    "\n",
    "#new_df describes the number of shared genera between tumor and ts tissue\n",
    "\n",
    "g = sns.relplot(data=new_df.T, height=6, markers=['o']*new_df.T.shape[1], alpha=.8)\n",
    "\n",
    "# Tweak the figure to finalize\n",
    "g.set(xlabel=\"\\n\", ylabel=\"Number of bacterial genera shared between each \\ntumor type and TSM tissue type\\n\")\n",
    "g.despine(left=True, bottom=True)\n",
    "for label in g.ax.get_xticklabels():\n",
    "    label.set_rotation(90)\n",
    "\n",
    "plt.grid() \n",
    "\n",
    "        "
   ]
  },
  {
   "cell_type": "markdown",
   "id": "f4d08810",
   "metadata": {},
   "source": [
    "the table that is being visualized above"
   ]
  },
  {
   "cell_type": "code",
   "execution_count": null,
   "id": "34500380",
   "metadata": {},
   "outputs": [],
   "source": [
    "new_df.T.head(3)"
   ]
  },
  {
   "cell_type": "markdown",
   "id": "6c010b29",
   "metadata": {},
   "source": [
    "#### which genera appear in tumors but not in TSM F7 or F5"
   ]
  },
  {
   "cell_type": "code",
   "execution_count": null,
   "id": "fba026e7",
   "metadata": {},
   "outputs": [],
   "source": [
    "df = pd.DataFrame(columns=['f5', 'f7'])\n",
    "\n",
    "\n",
    "taxcol = 'genus'\n",
    "ts_ = set(f7[(f7['superkingdom']=='Bacteria') & (f7[taxcol].isna()==False)][taxcol])\n",
    "tumor_ = set(tumor[tumor[taxcol].isna()==False][taxcol])\n",
    "\n",
    "df['genus']=list(tumor_ - ts_)\n",
    "\n",
    "df['f7'] = ['missing']*df.shape[0]\n",
    "\n",
    "ts_f5 = set(f5[(f5['superkingdom']=='Bacteria') & (f5[taxcol].isna()==False)][taxcol])\n",
    "tumor_ = set(tumor[tumor[taxcol].isna()==False][taxcol])\n",
    "tum_missing_from_f5=list(tumor_ - ts_f5)\n",
    "\n",
    "\n",
    "df.loc[df['genus'].isin(tum_missing_from_f5), 'f5']='missing'\n",
    "\n",
    "df = df.replace(np.nan, 'found')\n",
    "df"
   ]
  },
  {
   "cell_type": "code",
   "execution_count": null,
   "id": "9cc081cf",
   "metadata": {},
   "outputs": [],
   "source": [
    "df.to_csv(tables + 'genera_found_in_tumors_but_not_in_tsm.csv', index=False)"
   ]
  },
  {
   "cell_type": "code",
   "execution_count": null,
   "id": "c93ccfdf",
   "metadata": {},
   "outputs": [],
   "source": [
    "f5.tissue.nunique()"
   ]
  },
  {
   "cell_type": "markdown",
   "id": "a28488ae",
   "metadata": {},
   "source": [
    "## HMP"
   ]
  },
  {
   "cell_type": "markdown",
   "id": "0f5f60d6",
   "metadata": {},
   "source": [
    "### Is there an overlap between species and orders found in the TSM F7 and Human Microbiome Project (HMP)?\n",
    "downloaded in Dec 22 2021: https://www.hmpdacc.org/hmp/catalog/grid.php?dataset=genomic plotting the presence/absence of shared species across TS and HMP across different tissues and sites"
   ]
  },
  {
   "cell_type": "code",
   "execution_count": null,
   "id": "091f5d9b",
   "metadata": {
    "scrolled": false
   },
   "outputs": [],
   "source": [
    "cat=pd.read_csv(ext + '/hmp_project_catalog_downloaded_on_12_09_2021.csv')\n",
    "cat.drop(columns=['Unnamed: 17', 'Unnamed: 18'], inplace=True)\n",
    "cat['species'] = cat['Organism Name'].apply(lambda x: ' '.join(x.split(' ')[0:2])) #getting species information\n",
    "cat.rename(columns={'HMP Isolation Body Site':'hmp_site'},inplace=True)\n",
    "cat2 =cat[cat['hmp_site'].isin(['unknown','other','bone','eye','blood','lymph_nodes','liver', 'heart'])==False] #throwing out species from unknown sites or sites that are already in ts\n",
    "cat3 = cat2.groupby(['hmp_site', 'species'], as_index=False).count().iloc[:,:3].rename(columns={'HMP ID': 'count'})\n",
    "cat4 = cat3.pivot( 'species', 'hmp_site', 'count').replace(np.nan, 0)\n",
    " \n",
    "lst = cat3['species']\n",
    "\n",
    "overlap = f7[f7.species.isin(lst)]\n",
    "overlap_lst = overlap.species.unique()\n",
    "ts=overlap.groupby(['species', 'tissue'], as_index=False).count().iloc[:,:3].rename(columns={'method':'count'})\n",
    "ts2 = ts.pivot('species','tissue', 'genus').replace(np.nan, 0)\n",
    "ts2 =ts2.loc[ts2.sum(axis=1)!=0,:] #dropping taxa that don't appear in ts.\n",
    "\n",
    "ts_hmp = ts2.merge(cat4, on='species')\n",
    "cols = ts_hmp.columns.values\n",
    "ts_hmp = ts_hmp.rename(columns={'skin_y': 'skin_hmp', 'skin_x': 'skin'})\n",
    "mask = ts_hmp.gt(0.0).values\n",
    "out = [cols[x].tolist() for x in mask]\n",
    "ts_hmp['combined']= out\n",
    "\n",
    "#dropping columns with all zero values\n",
    "ts_hmp = ts_hmp.loc[:, (ts_hmp!=0).any(axis=0)]\n",
    "\n",
    "\n",
    "plt.figure(figsize=[10,20])\n",
    "\n",
    "g = sns.heatmap(ts_hmp.iloc[:,:-1], vmin=0, vmax=0.01, linewidth=.5) #want to get presence and absence only\n",
    "# g.set_xticklabels(g.get_xmajorticklabels(), fontsize = 25)\n",
    "# g.set_yticklabels(g.get_ymajorticklabels(), fontsize = 25)"
   ]
  },
  {
   "cell_type": "markdown",
   "id": "e111c98b",
   "metadata": {},
   "source": [
    "#### getting the taxonomy information for HMP dataset \n",
    "for some reason only strain/species information is provided, not high-level taxonomic categories. "
   ]
  },
  {
   "cell_type": "code",
   "execution_count": null,
   "id": "202b2c43",
   "metadata": {},
   "outputs": [],
   "source": [
    "tax_for_hmp=tax_short[tax_short['species'].isin(cat3['species'])].iloc[:,1:].drop_duplicates()\n",
    "cat3_with_tax=cat3.merge(tax_for_hmp, on='species', how='outer')"
   ]
  },
  {
   "cell_type": "code",
   "execution_count": null,
   "id": "3998e6d1",
   "metadata": {},
   "outputs": [],
   "source": [
    "ts_order_set = set(f7[(f7['superkingdom']=='Bacteria') & (f7['genus'].isna()==False)]['genus'])\n",
    "hmp_order_set=set(cat3_with_tax[(cat3_with_tax['genus'].isna()==False)]['genus'])\n",
    "\n",
    "v = venn2([ts_order_set, hmp_order_set], set_labels = ('TSM', 'HMP'))\n",
    "\n",
    "\n",
    "v.get_patch_by_id('100').set_color('cornflowerblue')\n",
    "v.get_patch_by_id('010').set_color('teal')\n",
    "v.get_patch_by_id('110').set_color('salmon')\n",
    "# plt.title('F7 vs HMP genera')\n"
   ]
  },
  {
   "cell_type": "code",
   "execution_count": null,
   "id": "0cc9c0c7",
   "metadata": {},
   "outputs": [],
   "source": [
    "ts_genus_set = set(f7[(f7['superkingdom']=='Bacteria') & (f7['tissue'].isin(['li','si']))]['genus'])\n",
    "hmp_genus_set=set(cat3_with_tax[(cat3_with_tax['superkingdom']=='Bacteria') & \n",
    "                                (cat3_with_tax['hmp_site']=='gastrointestinal_tract') &\n",
    "                               (cat3_with_tax['genus'].isna()==False)]['genus'])\n",
    "                                                                            \n",
    "\n",
    "v = venn2([ts_genus_set, hmp_genus_set], set_labels = ('TSM Intestines', 'HMP Gut'))\n",
    "\n",
    "\n",
    "v.get_patch_by_id('100').set_color('cornflowerblue')\n",
    "v.get_patch_by_id('010').set_color('teal')\n",
    "v.get_patch_by_id('110').set_color('salmon')\n",
    "# plt.title('F7 vs HMP genera')\n",
    "plt.show()"
   ]
  },
  {
   "cell_type": "code",
   "execution_count": null,
   "id": "3ff16b3c",
   "metadata": {},
   "outputs": [],
   "source": [
    "ts_genus_set = set(f7[(f7['superkingdom']=='Bacteria') & (f7['genus'].isna()==False) & (f7['tissue']=='skin')]['genus'])\n",
    "hmp_genus_set=set(cat3_with_tax[(cat3_with_tax['superkingdom']=='Bacteria') & (cat3_with_tax['hmp_site']=='skin') &\n",
    "                                (cat3_with_tax['genus'].isna()==False)]['genus'])\n",
    "                                                                            \n",
    "\n",
    "v = venn2([ts_genus_set, hmp_genus_set], set_labels = ('TSM skin', 'HMP skin'))\n",
    "\n",
    "\n",
    "v.get_patch_by_id('100').set_color('cornflowerblue')\n",
    "v.get_patch_by_id('010').set_color('teal')\n",
    "v.get_patch_by_id('110').set_color('salmon')\n",
    "# plt.title('F7 vs HMP genera')\n",
    "plt.show()"
   ]
  },
  {
   "cell_type": "code",
   "execution_count": null,
   "id": "1ae94e15",
   "metadata": {},
   "outputs": [],
   "source": [
    "ts_genus_set = set(f7[(f7['superkingdom']=='Bacteria') & (f7['genus'].isna()==False) & (f7['tissue']=='trachea')]['genus'])\n",
    "hmp_genus_set=set(cat3_with_tax[(cat3_with_tax['superkingdom']=='Bacteria') & (cat3_with_tax['hmp_site']=='airways') &\n",
    "                                (cat3_with_tax['genus'].isna()==False)]['genus'])\n",
    "                                                                            \n",
    "\n",
    "v = venn2([ts_genus_set, hmp_genus_set], set_labels = ('TSM trachea', 'HMP airways'))\n",
    "\n",
    "\n",
    "v.get_patch_by_id('100').set_color('cornflowerblue')\n",
    "v.get_patch_by_id('010').set_color('teal')\n",
    "v.get_patch_by_id('110').set_color('salmon')\n",
    "# plt.title('F7 vs HMP genera')\n",
    "plt.show()"
   ]
  },
  {
   "cell_type": "code",
   "execution_count": null,
   "id": "dfd981d6",
   "metadata": {},
   "outputs": [],
   "source": [
    "ts_genus_set = set(f7[(f7['superkingdom']=='Bacteria') & (f7['genus'].isna()==False) & (f7['tissue']=='salivary_gland')]['genus'])\n",
    "hmp_genus_set=set(cat3_with_tax[(cat3_with_tax['superkingdom']=='Bacteria') & (cat3_with_tax['hmp_site']=='oral') &\n",
    "                                (cat3_with_tax['genus'].isna()==False)]['genus'])\n",
    "                                                                            \n",
    "\n",
    "v = venn2([ts_genus_set, hmp_genus_set], set_labels = ('TSM salivary gland', 'HMP oral'))\n",
    "\n",
    "\n",
    "v.get_patch_by_id('100').set_color('cornflowerblue')\n",
    "v.get_patch_by_id('010').set_color('teal')\n",
    "v.get_patch_by_id('110').set_color('salmon')\n",
    "# plt.title('F7 vs HMP genera')\n",
    "plt.show()"
   ]
  },
  {
   "cell_type": "markdown",
   "id": "bf8bc3b8",
   "metadata": {},
   "source": [
    "a table of the genera shared between the TSM F7 and HMP datasets"
   ]
  },
  {
   "cell_type": "code",
   "execution_count": null,
   "id": "02ec042a",
   "metadata": {},
   "outputs": [],
   "source": [
    "ts_genus_set = set(f7[(f7['superkingdom']=='Bacteria') & (f7['genus'].isna()==False) & (f7['tissue']=='salivary_gland')]['genus'])\n",
    "hmp_genus_set=set(cat3_with_tax[(cat3_with_tax['superkingdom']=='Bacteria') & (cat3_with_tax['hmp_site']=='oral') &\n",
    "                                (cat3_with_tax['genus'].isna()==False)]['genus'])\n",
    "x1 = pd.DataFrame(ts_genus_set.intersection(hmp_genus_set), columns=['genus'])\n",
    "x1['hmp_site'] = ['oral']*x1.shape[0]\n",
    "x1['TSM_F7_site'] = ['salivary_gland']*x1.shape[0]\n",
    "\n",
    "ts_genus_set = set(f7[(f7['superkingdom']=='Bacteria') & (f7['genus'].isna()==False) & (f7['tissue']=='trachea')]['genus'])\n",
    "hmp_genus_set=set(cat3_with_tax[(cat3_with_tax['superkingdom']=='Bacteria') & (cat3_with_tax['hmp_site']=='airways') &\n",
    "                                (cat3_with_tax['genus'].isna()==False)]['genus'])\n",
    "x2 = pd.DataFrame(ts_genus_set.intersection(hmp_genus_set), columns=['genus'])\n",
    "x2['hmp_site'] = ['airways']*x2.shape[0]\n",
    "x2['TSM_F7_site'] = ['trachea']*x2.shape[0]\n",
    "\n",
    "ts_genus_set = set(f7[(f7['superkingdom']=='Bacteria') & (f7['genus'].isna()==False) & (f7['tissue']=='skin')]['genus'])\n",
    "hmp_genus_set=set(cat3_with_tax[(cat3_with_tax['superkingdom']=='Bacteria') & (cat3_with_tax['hmp_site']=='skin') &\n",
    "                                (cat3_with_tax['genus'].isna()==False)]['genus'])\n",
    "x3 = pd.DataFrame(ts_genus_set.intersection(hmp_genus_set), columns=['genus'])\n",
    "x3['hmp_site'] = ['skin']*x3.shape[0]\n",
    "x3['TSM_F7_site'] = ['skin']*x3.shape[0]\n",
    "\n",
    "ts_genus_set = set(f7[(f7['superkingdom']=='Bacteria') & (f7['genus'].isna()==False) & (f7['tissue'].isin(['si', 'li']))]['genus'])\n",
    "hmp_genus_set=set(cat3_with_tax[(cat3_with_tax['superkingdom']=='Bacteria') & (cat3_with_tax['hmp_site']=='gastrointestinal_tract') &\n",
    "                                (cat3_with_tax['genus'].isna()==False)]['genus'])\n",
    "x4 = pd.DataFrame(ts_genus_set.intersection(hmp_genus_set), columns=['genus'])\n",
    "x4['hmp_site'] = ['gastrointestinal_tract']*x4.shape[0]\n",
    "x4['TSM_F7_site'] = ['intestines']*x4.shape[0]\n",
    "\n",
    "xall=pd.concat([x1,x2,x3,x4]).reset_index(drop=True)\n",
    "#saving\n",
    "xall.to_csv(tables + 'genera_shared_between_hmp_tsm_f7_four_sites.csv')\n"
   ]
  },
  {
   "cell_type": "markdown",
   "id": "f546a3ef",
   "metadata": {},
   "source": [
    "#### Intersection of HMP, TS, Nejman (number of species)"
   ]
  },
  {
   "cell_type": "markdown",
   "id": "b6aacc92",
   "metadata": {},
   "source": [
    "we've done these operations before to get to the tumor dataframe, but here is a copy just in case"
   ]
  },
  {
   "cell_type": "code",
   "execution_count": null,
   "id": "961ac251",
   "metadata": {},
   "outputs": [],
   "source": [
    "#reading table S4 (Hits sheet modified to contain data on tumors and healthy tissues seperately)\n",
    "df = pd.read_excel(ext + 'nejman_tumor_NIHMS1645237-supplement-Table_S4.xlsx', sheet_name=None)\n",
    "tumor = df['Hits_tumor'].drop(columns='Unnamed: 0')\n",
    "tumor = tumor[~((tumor['species']=='Enterococcus faecium') & (tumor['genus']=='Streptococcus'))] #taking out a duplicate entry where enterococcus faecium is given two different taxonomic info\n",
    "tumor = tumor[(tumor['species'].isnull()==False) | (tumor['genus'].isnull()==False)] #taking out unknown species or genera \n",
    "tumor = tumor[tumor.sum(axis=1)>0] # these are species that appear in at least one tumor sample\n",
    "tumor['order'] = tumor['order'].apply(lambda x: x.replace('Enterobacteriales', 'Enterobacterales'))#this is because In 2016, \"Enterobacteriales\" was proposed to be reclassified as Enterobacterales\n",
    "tumor = tumor[tumor.genus.str.contains('Unknown genus', case=False)==False]\n",
    "tumor.head(3)"
   ]
  },
  {
   "cell_type": "code",
   "execution_count": null,
   "id": "fd779ae6",
   "metadata": {},
   "outputs": [],
   "source": [
    "\n",
    "tiss = cat3.pivot('hmp_site', 'species', 'count').replace(np.nan, 0)\n",
    "df = tiss\n",
    "cols = df.columns\n",
    "bt = df.apply(lambda x: x > 0)\n",
    "contents = pd.DataFrame(bt.apply(lambda x: list(cols[x.values]), axis=1), columns={'species'}).to_dict()\n",
    "\n",
    "# Remove Top level from Dictionary\n",
    "res = dict(ChainMap(*contents.values()))\n",
    "example = from_contents(res)  \n",
    "\n",
    "plot(example,sort_by='cardinality')\n",
    "plt.title('HMP', fontsize=16)\n",
    "plt.show()\n",
    "\n",
    "#converting the tiss dataframe to a binary one\n",
    "tiss_bin = tiss.applymap(lambda x: 0 if x == 0 else 1) \n",
    "\n"
   ]
  },
  {
   "cell_type": "markdown",
   "id": "192726d5",
   "metadata": {},
   "source": [
    "what is being plotted above"
   ]
  },
  {
   "cell_type": "markdown",
   "id": "f910c851",
   "metadata": {},
   "source": [
    "## UHGG\n",
    "### Exploring the intersection with Unified Human Gastrointestinal Genome (UHGG) collection\n",
    "comprising 204,938 nonredundant genomes from 4,644 gut prokaryotes\n",
    "\n",
    "https://www.nature.com/articles/s41587-020-0603-3 (paper)\\\n",
    "http://ftp.ebi.ac.uk/pub/databases/metagenomics/mgnify_genomes/human-gut/v2.0.1/ (where data resides) \\\n",
    "Downloaded the genomes-all_metadata.tsv"
   ]
  },
  {
   "cell_type": "code",
   "execution_count": null,
   "id": "60a34798",
   "metadata": {},
   "outputs": [],
   "source": [
    "ug = pd.read_csv(uhgg + 'genomes-all_metadata.tsv', delimiter='\\t')"
   ]
  },
  {
   "cell_type": "code",
   "execution_count": null,
   "id": "73aa4bdb",
   "metadata": {},
   "outputs": [],
   "source": [
    "ug['domain'] = ug['Lineage'].apply(lambda x: x.split('d__')[1].split(';p__')[0])\n",
    "ug['phylum'] =ug['Lineage'].apply(lambda x: x.split('d__')[1].split(';p__')[1].split(';c__')[0].split('_')[0])\n",
    "ug['class'] =ug['Lineage'].apply(lambda x: x.split('d__')[1].split(';p__')[1].split(';c__')[1].split(';o__')[0])\n",
    "ug['order'] =ug['Lineage'].apply(lambda x: x.split('d__')[1].split(';p__')[1].split(';c__')[1].split(';o__')[1].split(';f__')[0])\n",
    "ug['family'] =ug['Lineage'].apply(lambda x: x.split('d__')[1].split(';p__')[1].split(';c__')[1].split(';o__')[1].split(';f__')[1].split(';g__')[0])\n",
    "ug['genus'] =ug['Lineage'].apply(lambda x: x.split('d__')[1].split(';p__')[1].split(';c__')[1].split(';o__')[1].split(';f__')[1].split(';g__')[1].split(';s__')[0].split('_')[0])\n",
    "ug['species'] =ug['Lineage'].apply(lambda x: x.split('d__')[1].split(';p__')[1].split(';c__')[1].split(';o__')[1].split(';f__')[1].split(';g__')[1].split(';s__')[1].replace('_A',''))\n",
    "ug.head(2)"
   ]
  },
  {
   "cell_type": "markdown",
   "id": "9da7dba7",
   "metadata": {},
   "source": [
    "f7 and uhgg (all tissues)"
   ]
  },
  {
   "cell_type": "code",
   "execution_count": null,
   "id": "5b656220",
   "metadata": {
    "scrolled": true
   },
   "outputs": [],
   "source": [
    "cat = 'genus'\n",
    "dataset1=f7[(f7['superkingdom']=='Bacteria') & (f7[cat].isna()==False)]\n",
    "\n",
    "\n",
    "dataset2= ug[(ug[cat].isna()==False) & (ug[cat]!='') & (ug['domain']=='Bacteria')]\n",
    "\n",
    "\n",
    "\n",
    "set1 = set(dataset1[cat])\n",
    "set2 = set(dataset2[cat])\n",
    "v = venn2([set1, set2], \n",
    "     set_labels = ('TSM F7',  'UHGG'))\n",
    "v.get_patch_by_id('100').set_color('cornflowerblue')\n",
    "v.get_patch_by_id('010').set_color('crimson')\n",
    "v.get_patch_by_id('110').set_color('grey')\n",
    "\n",
    "\n",
    "plt.title('TSM tissue microbiomes vs UHGG gut microbiome')\n",
    "plt.show()\n",
    "\n",
    "print('tsm num hits:', dataset1.shape[0])\n",
    "print('uhgg dataframe size:', dataset2.shape[0])\n",
    "\n",
    "\n",
    "print('what fraction of TSM F7 genera is shared with UHGG?', np.round(len(set1.intersection(set2))/len(set1), 2))\n",
    "set1.intersection(set2)\n",
    "print('what fraction of UHGG is shared with TSM F7 tissue microbiome?', np.round(len(set1.intersection(set2))/len(set2), 2))\n"
   ]
  },
  {
   "cell_type": "markdown",
   "id": "c285d92d",
   "metadata": {},
   "source": [
    "f7 and uhgg (intestinal tissues)"
   ]
  },
  {
   "cell_type": "code",
   "execution_count": null,
   "id": "c54015d7",
   "metadata": {
    "scrolled": false
   },
   "outputs": [],
   "source": [
    "cat = 'genus'\n",
    "dataset1= f7[(f7[cat].isna()==False) & (f7['tissue'].isin(['si', 'li'])) & (f7['superkingdom']=='Bacteria')]\n",
    "\n",
    "dataset2= ug[(ug[cat].isna()==False) & (ug[cat]!='') & (ug['domain']=='Bacteria')]\n",
    "\n",
    "\n",
    "\n",
    "set1 = set(dataset1[cat])\n",
    "set2 = set(dataset2[cat])\n",
    "v = venn2([set1, set2], \n",
    "     set_labels = ('TSM F7',  'UHGG'))\n",
    "v.get_patch_by_id('100').set_color('cornflowerblue')\n",
    "v.get_patch_by_id('010').set_color('crimson')\n",
    "v.get_patch_by_id('110').set_color('grey')\n",
    "\n",
    "\n",
    "plt.title('TSM Intestinal tissue microbiome vs UHGG gut microbiome')\n",
    "plt.show()\n",
    "\n",
    "print('tsm num hits:', dataset1.shape[0])\n",
    "print('uhgg dataframe size:', dataset2.shape[0])\n",
    "\n",
    "\n",
    "print('what fraction of TSM F7 intestinal tissue microbiome genera is shared with UHGG?', np.round(len(set1.intersection(set2))/len(set1), 2))\n",
    "set1.intersection(set2)\n",
    "print('what fraction of UHGG is shared with TSM F7 intestinal tissue microbiome?', np.round(len(set1.intersection(set2))/len(set2), 2))\n"
   ]
  },
  {
   "cell_type": "markdown",
   "id": "f1cc32d9",
   "metadata": {},
   "source": [
    "f5 and uhgg (all tissues)"
   ]
  },
  {
   "cell_type": "code",
   "execution_count": null,
   "id": "f9297d4b",
   "metadata": {
    "scrolled": true
   },
   "outputs": [],
   "source": [
    "cat = 'genus'\n",
    "dataset1=f5[(f5['superkingdom']=='Bacteria') & (f5[cat].isna()==False)]\n",
    "\n",
    "\n",
    "dataset2= ug[(ug[cat].isna()==False) & (ug[cat]!='') & (ug['domain']=='Bacteria')]\n",
    "\n",
    "\n",
    "set1 = set(dataset1[cat])\n",
    "set2 = set(dataset2[cat])\n",
    "v = venn2([set1, set2], \n",
    "     set_labels = ('TSM F5',  'UHGG'))\n",
    "v.get_patch_by_id('100').set_color('cornflowerblue')\n",
    "v.get_patch_by_id('010').set_color('crimson')\n",
    "v.get_patch_by_id('110').set_color('grey')\n",
    "\n",
    "\n",
    "plt.title('TSM tissue microbiomes vs UHGG gut microbiome')\n",
    "plt.show()\n",
    "\n",
    "print('tsm num hits:', dataset1.shape[0])\n",
    "print('uhgg dataframe size:', dataset2.shape[0])\n",
    "\n",
    "\n",
    "print('what fraction of TSM F5 is shared with UHGG?', np.round(len(set1.intersection(set2))/len(set1), 2))\n",
    "set1.intersection(set2)\n",
    "print('what fraction of UHGG is shared with TSM F5?', np.round(len(set1.intersection(set2))/len(set2), 2))\n"
   ]
  },
  {
   "cell_type": "markdown",
   "id": "feb50cf9",
   "metadata": {},
   "source": [
    "f5 and uhgg (intestinal tissues)"
   ]
  },
  {
   "cell_type": "code",
   "execution_count": null,
   "id": "3d5187cb",
   "metadata": {
    "scrolled": true
   },
   "outputs": [],
   "source": [
    "cat = 'genus'\n",
    "dataset1= f5[(f5[cat].isna()==False) & (f5['tissue'].isin(['si', 'li'])) & (f5['superkingdom']=='Bacteria')]\n",
    "\n",
    "dataset2= ug[(ug[cat].isna()==False) & (ug[cat]!='') & (ug['domain']=='Bacteria')]\n",
    "\n",
    "\n",
    "set1 = set(dataset1[cat])\n",
    "set2 = set(dataset2[cat])\n",
    "v = venn2([set1, set2], \n",
    "     set_labels = ('TSM F5',  'UHGG'))\n",
    "v.get_patch_by_id('100').set_color('cornflowerblue')\n",
    "v.get_patch_by_id('010').set_color('crimson')\n",
    "v.get_patch_by_id('110').set_color('grey')\n",
    "\n",
    "\n",
    "plt.title('TSM Intestinal tissue microbiome vs UHGG gut microbiome')\n",
    "plt.show()\n",
    "\n",
    "print('tsm num hits:', dataset1.shape[0])\n",
    "print('uhgg dataframe size:', dataset2.shape[0])\n",
    "\n",
    "\n",
    "print('what fraction of TSM F5 intestinal tissue microbiome genera is shared with UHGG?', np.round(len(set1.intersection(set2))/len(set1), 2))\n",
    "set1.intersection(set2)\n",
    "print('what fraction of UHGG is shared with TSM F5 intestinal tissue microbiome?', np.round(len(set1.intersection(set2))/len(set2), 2))\n"
   ]
  },
  {
   "cell_type": "markdown",
   "id": "edfb0934",
   "metadata": {},
   "source": [
    "#### A table summary\n",
    "containing the bacerial genera shared between F5 or F7 and UHGG dataset (both for all tissues and just intestinal tissues from TSM). "
   ]
  },
  {
   "cell_type": "code",
   "execution_count": null,
   "id": "739f91bd",
   "metadata": {},
   "outputs": [],
   "source": [
    "ut = pd.DataFrame(columns=['genus','F5_intestines', 'F7_intestines', 'F5_all_tissues', 'F7_all_tissues'])\n",
    "\n",
    "cat = 'genus'\n",
    "dataset1= f5[f5[cat].isna()==False]\n",
    "dataset2= ug[(ug[cat].isna()==False) & (ug[cat]!='')]\n",
    "ut['genus'] = list(set(dataset1[cat]).intersection(set(dataset2[cat])))\n",
    "\n",
    "\n",
    "ut.loc[ut['genus'].isin(list(set(f5[f5['tissue'].isin(['li', 'si'])][cat]))), 'F5_intestines']=1\n",
    "ut.loc[ut['genus'].isin(list(set(f7[f7['tissue'].isin(['li', 'si'])][cat]))), 'F7_intestines']=1\n",
    "ut.loc[ut['genus'].isin(list(set(f5[cat]))), 'F5_all_tissues']=1\n",
    "ut.loc[ut['genus'].isin(list(set(f7[cat]))), 'F7_all_tissues']=1\n"
   ]
  },
  {
   "cell_type": "code",
   "execution_count": null,
   "id": "9c907c64",
   "metadata": {},
   "outputs": [],
   "source": [
    "ut.to_csv(tables + 'genera_overlap_between_f5_f7_datasets_and_uhgg.csv')"
   ]
  },
  {
   "cell_type": "markdown",
   "id": "ca5ec6c1",
   "metadata": {},
   "source": [
    "## EMP"
   ]
  },
  {
   "cell_type": "markdown",
   "id": "b7f42a62",
   "metadata": {},
   "source": [
    "Earth microbiome project: https://www.nature.com/articles/s41587-020-0718-6#MOESM3\n",
    "metadata was obtained from:  https://portal.nersc.gov/GEM/genomes/ (genome_metadata.tsv)"
   ]
  },
  {
   "cell_type": "code",
   "execution_count": null,
   "id": "c60b45a9",
   "metadata": {},
   "outputs": [],
   "source": [
    "emp= pd.read_csv(ext + 'earth_microbiome.tsv',delimiter='\\t')\n",
    "emp.ecosystem = emp.ecosystem.astype(str)\n",
    "emp.head(2)"
   ]
  },
  {
   "cell_type": "markdown",
   "id": "52c5f47e",
   "metadata": {},
   "source": [
    "getting lineage information from the \"ecosystem\" column. Filling in nonexisting values with NaN and getting rid of 10 rows that don't have any lineage info"
   ]
  },
  {
   "cell_type": "code",
   "execution_count": null,
   "id": "b21c36be",
   "metadata": {
    "scrolled": true
   },
   "outputs": [],
   "source": [
    "emp['lin_list'] = emp['ecosystem'].apply(lambda x: list(str(x).split(';')))\n",
    "emp =emp[emp.ecosystem!='nan'] #there are 10 entries that don't have lineage information. they will be excluded\n",
    "\n",
    "d=[]\n",
    "p=[]\n",
    "c=[]\n",
    "o=[]\n",
    "f=[]\n",
    "g=[]\n",
    "s=[]\n",
    "for i in list(range(emp['lin_list'].shape[0])):\n",
    "    d.append(emp['lin_list'].iloc[i][0].strip('d__'))\n",
    "    p.append(emp['lin_list'].iloc[i][1].strip('p__'))\n",
    "    c.append(emp['lin_list'].iloc[i][2].strip('c__'))\n",
    "    o.append(emp['lin_list'].iloc[i][3].strip('o__'))\n",
    "    f.append(emp['lin_list'].iloc[i][4].strip('f__'))\n",
    "    g.append(emp['lin_list'].iloc[i][5].strip('g__'))\n",
    "    s.append(emp['lin_list'].iloc[i][6].strip('s__'))\n",
    "emp['domain'] = d\n",
    "emp['phylum'] =p\n",
    "emp['class'] =c\n",
    "emp['order'] =o\n",
    "emp['family'] =f\n",
    "emp['genus'] =g\n",
    "emp['species'] =s\n",
    "\n",
    "#filling any non-existing value in the lineage info with nan\n",
    "for x in ['species', 'genus', 'family', 'order', 'class', 'phylum', 'domain']:\n",
    "    emp.loc[emp[x]=='', x]=np.nan\n"
   ]
  },
  {
   "cell_type": "markdown",
   "id": "206534ec",
   "metadata": {},
   "source": [
    "there are a lot of categories that mean the same thing but have been labeled slightly differently, or there is information in one column that provides more insight than the other. So the following lines will wrangle labels  to consolidate and group labels"
   ]
  },
  {
   "cell_type": "code",
   "execution_count": null,
   "id": "a48b3018",
   "metadata": {},
   "outputs": [],
   "source": [
    "emp_fil2 = emp[(emp['genus'].isna()==False)]\n",
    "\n",
    "emp_fil2.loc[(emp_fil2.ecosystem_type.str.contains('Skin', case=False)), 'habitat']='human skin'\n",
    "emp_fil2.loc[ (emp_fil2.ecosystem_type=='Respiratory system'), 'habitat']='human respiratory system'\n",
    "emp_fil2.loc[(emp_fil2.ecosystem_type=='Reproductive system'), 'habitat']='human reproductive system'\n",
    "emp_fil2.loc[(emp_fil2.ecosystem_type=='Digestive system') & (emp_fil2.habitat!='Human oral') &\n",
    "        (emp_fil2.habitat.str.contains('Huma',case=False) | emp_fil2.habitat.str.contains('host-associated',case=False)),\n",
    "        'habitat']='human digestive system'\n",
    "emp_fil2.loc[emp_fil2.habitat.str.contains('Oral', case=False), 'habitat']='human oral'\n",
    "\n",
    "emp_fil2[emp_fil2.habitat.str.contains('human', case=False)].habitat.value_counts()"
   ]
  },
  {
   "cell_type": "markdown",
   "id": "a5daf065",
   "metadata": {},
   "source": [
    "Using some search terms I found in the emp dataset, I will group as much of the sub categories into largers bins. This will be \"habitat2\" column. anything else that couldn't fit those labels is \"other\", these are small one-off subcategories\n"
   ]
  },
  {
   "cell_type": "code",
   "execution_count": null,
   "id": "e1ac3b02",
   "metadata": {},
   "outputs": [],
   "source": [
    "emp_fil2['habitat2']=emp_fil2['habitat']\n",
    "emp_fil2.loc[emp_fil2['ecosystem_category'].str.contains(('|').join(['Mammals','Animal','Birds','Fish']), case=False), 'habitat2']='non-human vertebrates'\n",
    "emp_fil2.loc[emp_fil2['ecosystem_category'].str.contains(('|').join(['Insecta','Arthropoda','Invertebrates','Annelida','Cnidaria','Porifera']), case=False), 'habitat2']='invertebrates'\n",
    "emp_fil2.loc[emp_fil2['ecosystem_category'].str.contains(('|').join(['Plants']), case=False), 'habitat2']='plants'\n",
    "emp_fil2.loc[emp_fil2['ecosystem_category'].str.contains(('|').join(['Fungi']), case=False), 'habitat2']='fungi'\n",
    "emp_fil2.loc[emp_fil2['ecosystem_category'].str.contains(('|').join(['Terrestrial']), case=False), 'habitat2']='terrestrial'\n",
    "emp_fil2.loc[emp_fil2['ecosystem_category'].str.contains(('|').join(['Aquatic']), case=False), 'habitat2']='aquatic'\n",
    "emp_fil2.loc[emp_fil2['ecosystem_category'].str.contains(('|').join(['Bioreactor','Biotransformation','Bioremediation']), case=False), 'habitat2']='bioreactor'\n",
    "emp_fil2.loc[emp_fil2['ecosystem_category'].str.contains(('|').join(['Built environment']), case=False), 'habitat2']='human_built_environment'\n",
    "emp_fil2.loc[emp_fil2['ecosystem_category'].str.contains(('|').join(['Wastewater','Solid waste']), case=False), 'habitat2']='wastewater'\n",
    "#anything else that couldn't fit those labels is \"other\", these are small one-off subcategories\n",
    "emp_fil2.loc[emp_fil2.habitat2.isin(['non-human vertebrates','invertebrates', 'fungi', 'plants', 'terrestrial', 'aquatic' ,\n",
    "                                               'bioreactor', 'human built environment', 'wastewater', 'human skin','human oral',\n",
    "                                              'human respiratory system','human reproductive system','human digestive system'])==False, 'habitat2']='other'"
   ]
  },
  {
   "cell_type": "markdown",
   "id": "94ea217a",
   "metadata": {},
   "source": [
    "I will also create more coarse grained labels under \"habitat3\" column. "
   ]
  },
  {
   "cell_type": "code",
   "execution_count": null,
   "id": "59240417",
   "metadata": {},
   "outputs": [],
   "source": [
    "human = ['human digestive system','human oral','human skin', 'human reproductive system',\n",
    "        'human respiratory system'] \n",
    "other_hosts = ['non-human vertebrates', 'invertebrates', 'plants', 'fungi']\n",
    "natural_environments =['aquatic', 'terrestrial']\n",
    "human_built_environments =['bioreactor', 'wastewater', 'human_built_environment']\n",
    "\n",
    "emp_fil2.loc[emp_fil2['habitat2'].str.contains(('|').join([x for x in human]), case=False), 'habitat3']='human'\n",
    "emp_fil2.loc[emp_fil2['habitat2'].str.contains(('|').join([x for x in other_hosts]), case=False), 'habitat3']='other_hosts'\n",
    "emp_fil2.loc[emp_fil2['habitat2'].str.contains(('|').join([x for x in natural_environments]), case=False), 'habitat3']='natural_environments'\n",
    "emp_fil2.loc[emp_fil2['habitat2'].str.contains(('|').join([x for x in human_built_environments]), case=False), 'habitat3']='human_built_environments'\n",
    "emp_fil2['habitat3'] = emp_fil2.habitat3.fillna('other')\n",
    "\n",
    "emp_fil2['habitat3'].value_counts(dropna=False)"
   ]
  },
  {
   "cell_type": "markdown",
   "id": "42eb3133",
   "metadata": {},
   "source": [
    "creating a yet coarser category called habitat4 that will contain just 2 columns: 'free-living_or_other_hosts' and 'human-associated'"
   ]
  },
  {
   "cell_type": "code",
   "execution_count": null,
   "id": "d3dfa951",
   "metadata": {},
   "outputs": [],
   "source": [
    "emp_fil2.loc[emp_fil2['habitat3'].isin(['natural_environments', 'other', 'other_hosts','human_built_environments']), 'habitat4']='free_living_or_other_hosts'\n",
    "emp_fil2.loc[emp_fil2['habitat3'].isin(['human']), 'habitat4']='human'\n",
    "emp_fil2['habitat4'].value_counts(dropna=False)"
   ]
  },
  {
   "cell_type": "code",
   "execution_count": null,
   "id": "bfd25fcb",
   "metadata": {},
   "outputs": [],
   "source": [
    "#getting just some columns of earth microbiome dataset \n",
    "emp_fil3 = emp_fil2[['ecosystem_category','habitat', 'habitat2', 'habitat3','habitat4','phylum','domain','phylum', 'order', 'class','family','genus','species']]\n",
    "print(emp_fil3.shape[0])\n",
    "emp_fil4 =emp_fil3.drop_duplicates()\n",
    "print(emp_fil4.shape[0])\n",
    "emp_fil4.head(2)"
   ]
  },
  {
   "cell_type": "markdown",
   "id": "e1330761",
   "metadata": {},
   "source": [
    "#### reading the validation dataset"
   ]
  },
  {
   "cell_type": "code",
   "execution_count": null,
   "id": "2c3ce5ce",
   "metadata": {},
   "outputs": [],
   "source": [
    "tis = pd.read_csv(mainDir + 'bulk_tissues_blastn_nt_naPhylaNotFiltered_11_30_2021.csv')\n",
    "\n"
   ]
  },
  {
   "cell_type": "markdown",
   "id": "2690f52a",
   "metadata": {},
   "source": [
    "## All 7 datasets\n",
    "Intersections of EMP, UHGG, TSM F5 and TSM F7, Extracted human tissue microbiome (EHTM) previously called validation, Nejman and HMP. \n",
    "- note I am cutting off subsets that are less than 7 large, for visual clarity. "
   ]
  },
  {
   "cell_type": "code",
   "execution_count": null,
   "id": "d0c1b55d",
   "metadata": {},
   "outputs": [],
   "source": [
    "ts5_sp_set = set(f5[(f5['superkingdom']=='Bacteria') & (f5['genus'].isna()==False)]['genus'])\n",
    "ts7_sp_set = set(f7[(f7['superkingdom']=='Bacteria') & (f7['genus'].isna()==False)]['genus'])\n",
    "nej_sp_set = set(tumor[(tumor['domain']=='Bacteria') & (tumor['genus'].isna()==False)]['genus'])\n",
    "hmp_sp_set = set(cat3_with_tax[(cat3_with_tax['superkingdom']=='Bacteria') &\n",
    "                               (cat3_with_tax['genus'].isna()==False)]['genus'])\n",
    "ug_set = set(ug[(ug['genus'].isna()==False) & (ug['genus']!='') & (ug['domain']=='Bacteria')]['genus'])\n",
    "emp_set = set(emp_fil4[(emp_fil4['genus'].isna()==False)  & (emp_fil4['domain']=='Bacteria')]['genus'])\n",
    "ehtm = set(tis[tis['genus'].isna()==False]['genus'])\n",
    "\n",
    "res=dict(zip(['TSM F5','TSM F7', 'Nejman', 'HMP', 'UHGG','EMP','EHTM'],\n",
    "             [ts5_sp_set,ts7_sp_set,nej_sp_set,hmp_sp_set,ug_set, emp_set,ehtm]))\n",
    "example = from_contents(res)  \n",
    "\n",
    "\n",
    "plot(example,sort_by='cardinality', show_counts=True, \n",
    "     totals_plot_elements=10, element_size=30,min_subset_size=7)\n",
    "\n",
    "plt.title('Intersection of genera between various datasets', fontsize=16)\n",
    "plt.show()\n",
    "\n",
    "#these are other ways the plot could be modified to better fit\n",
    "# plot(example, show_counts=True, min_degree=2)\n",
    "# fig = plt.figure(figsize=(10, 3))\n",
    "# plot(example, fig=fig, element_size=None)\n",
    "# plot(example, intersection_plot_elements=3)\n",
    "# plot(example, totals_plot_elements=5)\n",
    "# plot(example, show_counts=True, min_subset_size=100)"
   ]
  },
  {
   "cell_type": "markdown",
   "id": "8cbebc71",
   "metadata": {},
   "source": [
    "#### bacterial genera that are shared in common between 7 datasets\n"
   ]
  },
  {
   "cell_type": "code",
   "execution_count": null,
   "id": "2b030c9b",
   "metadata": {},
   "outputs": [],
   "source": [
    "four_sp = list(ts5_sp_set & ts7_sp_set & nej_sp_set & hmp_sp_set & ug_set & emp_set & ehtm)\n",
    "four_sp"
   ]
  },
  {
   "cell_type": "markdown",
   "id": "3d694948",
   "metadata": {},
   "source": [
    "#### plotting presence/absence of shared species across different datasets and samples"
   ]
  },
  {
   "cell_type": "code",
   "execution_count": null,
   "id": "db75c8c0",
   "metadata": {
    "scrolled": false
   },
   "outputs": [],
   "source": [
    "#Tumors\n",
    "tumor_sp_four_datasets=tumor[tumor['genus'].isin(four_sp)]\n",
    "tumor_sp_four_datasets_sub = tumor_sp_four_datasets[['genus', 'Breast_T','Lung_T','Melanoma_T','Pancreas_T','Ovary_T','Bone_T','GBM_T','Colon_T']]\n",
    "\n",
    "#looping through the tumor samples to get counts of each species in each sample\n",
    "t =tumor_sp_four_datasets_sub.groupby(['Breast_T', 'genus'], as_index=False).count()\n",
    "tum_sp=t[t['Breast_T']==1].iloc[:,1:3]\n",
    "tum_sp.columns=['genus', 'Breast_T']\n",
    "tumor_lst=['Lung_T','Melanoma_T','Pancreas_T','Ovary_T','Bone_T','GBM_T','Colon_T']\n",
    "for tum_name in tumor_lst:\n",
    "    t =tumor_sp_four_datasets_sub.groupby([tum_name, 'genus'], as_index=False).count()\n",
    "    t=t[t[tum_name]==1].iloc[:,1:3]\n",
    "    t.columns=['genus', tum_name]\n",
    "    tum_sp = tum_sp.merge(t, on='genus', how='outer')\n",
    "tumor_sp_four_datasets = tum_sp.replace(np.nan, 0)\n",
    "tumor_sp_four_datasets.head(3)\n",
    "col_lst = ['genus', 'Breast_Nejman','Lung_Nejman','Melanoma_Nejman','Pancreas_Nejman',\n",
    "           'Ovary_Nejman','Bone_Nejman','GBM_Nejman','Colon_Nejman']\n",
    "tumor_sp_four_datasets.columns=col_lst\n",
    "tumor_sp_four_datasets.head(3)\n",
    "\n",
    "\n",
    "#HMP\n",
    "hmp_sp_four_datasets=cat3_with_tax[cat3_with_tax['genus'].isin(four_sp)].groupby(['genus', 'hmp_site'], \n",
    "                                            as_index=False).count().iloc[:,:3].pivot('genus', 'hmp_site').fillna(0)\n",
    "\n",
    "col_lst = ['airways_HMP', 'ear_HMP','gastrointestinal_HMP', 'nose_HMP', 'oral_HMP', 'skin_HMP','urogenital_HMP']\n",
    "hmp_sp_four_datasets.columns=col_lst\n",
    "\n",
    "#TS \n",
    "hits_sp_four_datasets = f7[f7['genus'].isin(four_sp)]\n",
    "hits_sp_four_datasets['tissue'] = hits_sp_four_datasets['tissue'].apply(lambda x: x+ '_TS')\n",
    "\n",
    "hits_sp_four_datasets = hits_sp_four_datasets.groupby(['genus', 'tissue'],as_index=False\n",
    "                                              ).count().iloc[:,:3].pivot('genus', 'tissue'\n",
    "                                                             ).fillna(0).droplevel(level=0, axis=1)\n",
    "\n",
    "#Validation\n",
    "validation_sp = tis[tis['genus'].isin(four_sp)] \n",
    "\n",
    "validation_sp['tissue']=validation_sp['tissue'].apply(lambda x: x + '_TSM_DNAseq')\n",
    "validation_sp_four_datasets = validation_sp.groupby(['genus', 'tissue'], as_index=False).count().iloc[:,:3].pivot('genus', 'tissue'\n",
    "                                                                         ).fillna(0).droplevel(level=0, axis=1)\n",
    "\n",
    "\n",
    "#EMP\n",
    "emp_gen = emp_fil4[emp_fil4['genus'].isin(four_sp)] \n",
    "\n",
    "emp_gen['habitat2']=emp_gen['habitat2'].apply(lambda x: x + '_EMP').apply(lambda x: \"_\".join(x.split(' ')))\n",
    "emp_gen2 = emp_gen.groupby(['genus', 'habitat2'], as_index=False).count().iloc[:,:3].pivot('genus', 'habitat2'\n",
    "                                                                         ).fillna(0).droplevel(level=0, axis=1)\n",
    "\n",
    "# UHGG\n",
    "ug_gen = ug[(ug['genus'].isin(four_sp)) & (ug['Country'].isin([np.nan, 'not provided'])==False)] \n",
    "ug_gen['Country']=ug_gen['Country'].apply(lambda x: str(x) + '_gut_UHGG').apply(lambda x: \"_\".join(x.split(' ')))\n",
    "ug_gen2 = ug_gen.groupby(['genus', 'Country'], as_index=False).count().iloc[:,:3].pivot('genus', 'Country'\n",
    "                                                                         ).fillna(0).droplevel(level=0, axis=1)\n",
    "\n",
    "\n",
    "\n",
    "four_sets = hits_sp_four_datasets.merge(validation_sp_four_datasets, on='genus').merge(\n",
    "    hmp_sp_four_datasets, on='genus').merge(tumor_sp_four_datasets, on='genus').merge(emp_gen2, on='genus').merge(\n",
    "ug_gen2, on='genus')\n",
    "four_sets = four_sets.set_index('genus')\n",
    "four_sets[four_sets>1]=1\n",
    "four_sets = four_sets.loc[:, (four_sets != 0).any(axis=0)]\n",
    "\n",
    "plt.figure(figsize=[5,20])\n",
    "sns.heatmap(four_sets.T)"
   ]
  },
  {
   "cell_type": "markdown",
   "id": "6d0aeeee",
   "metadata": {},
   "source": [
    "# SANKEY"
   ]
  },
  {
   "cell_type": "markdown",
   "id": "495f7bcb",
   "metadata": {},
   "source": [
    "first clearning out any nans in the genus column which is the main one we will be using for this plot"
   ]
  },
  {
   "cell_type": "code",
   "execution_count": null,
   "id": "8826b72f",
   "metadata": {},
   "outputs": [],
   "source": [
    "dset=f7\n",
    "col='genus'\n",
    "dset_ = dset[dset[col].isna()==False]\n",
    "print(dset.shape)\n",
    "print(dset_.shape)\n",
    "\n"
   ]
  },
  {
   "cell_type": "markdown",
   "id": "e5d0d1c2",
   "metadata": {},
   "source": [
    "### HMP\n",
    "getting the mapping between taxa and the known (or unknown) hmp sites for all taxa in TS dataset including all three domains"
   ]
  },
  {
   "cell_type": "code",
   "execution_count": null,
   "id": "2de04901",
   "metadata": {},
   "outputs": [],
   "source": [
    "cat=pd.read_csv(ext + 'hmp_project_catalog_downloaded_on_12_09_2021.csv')\n",
    "cat.drop(columns=['Unnamed: 17', 'Unnamed: 18'], inplace=True)\n",
    "cat['species'] = cat['Organism Name'].apply(lambda x: ' '.join(x.split(' ')[0:2])) #getting species information\n",
    "cat.rename(columns={'HMP Isolation Body Site':'hmp_site'},inplace=True)\n",
    "cat2 =cat[cat['hmp_site'].isin(['unknown','other','bone','eye','blood','lymph_nodes', 'liver', 'heart'])==False] #throwing out species from unknown sites or sites that are already in ts\n",
    "cat3 = cat2.groupby(['hmp_site', 'species'], as_index=False).count().iloc[:,:3].rename(columns={'HMP ID': 'count'})\n",
    "\n",
    "#getting the taxonomic lineage of the hmp species, not included in the original cat df\n",
    "cat3 = cat3.merge(tax_short, on='species', how='left')[['hmp_site',col, 'count']].drop_duplicates()\n",
    "\n",
    "#I want to get only taxa and sites that are in TS dataset\n",
    "ts_sp_set = dset_[col].unique() # all the unique species in ts dataset including all domains\n",
    "hmp_data = cat3[['hmp_site', col]] \n",
    "hmp_ts = hmp_data[hmp_data[col].isin(ts_sp_set)].drop_duplicates()\n",
    "\n",
    "\n",
    "#now for other taxa in ts for which there is no hmp site info, I want to add them to the hmp_ts dataframe and add \"unknown\" as their hmp_site \n",
    "species_not_in_hmp=list(set(ts_sp_set) - set(hmp_data[col]))\n",
    "species_not_in_hmp_df = pd.DataFrame({}, columns=['hmp_site', col])\n",
    "species_not_in_hmp_df[col]= species_not_in_hmp\n",
    "species_not_in_hmp_df['hmp_site']=['uknown']*len(species_not_in_hmp)\n",
    "\n",
    "hmp_ts_sankeymap=pd.concat([hmp_ts, species_not_in_hmp_df])\n",
    "\n",
    "hmp_ts_sankeymap.head(3)\n"
   ]
  },
  {
   "cell_type": "markdown",
   "id": "b0c2e12e",
   "metadata": {},
   "source": [
    "### Tumor\n",
    "getting the mapping between species and the known (or unknown) tumors from Nejman et al, for all species in TS dataset including all three domains"
   ]
  },
  {
   "cell_type": "code",
   "execution_count": null,
   "id": "65790f91",
   "metadata": {},
   "outputs": [],
   "source": [
    "#I want to get only taxa and sites that are in TS dataset\n",
    "ts_sp_set = dset_[col].unique() # all the unique taxa in ts dataset including all domains\n",
    "nej_data = tumor_sp_ct[['tumor_type', col]]\n",
    "nej_ts = nej_data[nej_data[col].isin(ts_sp_set)].drop_duplicates()\n",
    "\n",
    "#now for other taxa in ts for which there is no tumor info, I want to add them to the nej_ts dataframe and add \"unknown\" as their tumor \n",
    "species_not_in_nej=list(set(ts_sp_set) - set(nej_data[col]))\n",
    "species_not_in_nej_df = pd.DataFrame({}, columns=['tumor_type', col])\n",
    "species_not_in_nej_df[col]= species_not_in_nej\n",
    "species_not_in_nej_df['tumor_type']=['Unknown']*len(species_not_in_nej)\n",
    "\n",
    "nej_ts_sankeymap=pd.concat([nej_ts, species_not_in_nej_df])\n",
    "\n",
    "nej_ts_sankeymap.head(3)\n",
    "\n",
    "\n"
   ]
  },
  {
   "cell_type": "markdown",
   "id": "9a2b3fcf",
   "metadata": {},
   "source": [
    "### UHGG"
   ]
  },
  {
   "cell_type": "code",
   "execution_count": null,
   "id": "dc5f8e96",
   "metadata": {},
   "outputs": [],
   "source": [
    "#I want to get only taxa and sites that are in TS dataset\n",
    "ts_sp_set = dset_[col].unique() # all the unique species in ts dataset including all domains\n",
    "ug2=ug[(ug['Country'].isna()==False) & (ug['Country']!='Unknown') & (ug['Country']!='not provided')]\n",
    "ug_data = ug2[['Country', col]]\n",
    "ug_ts = ug_data[ug_data[col].isin(ts_sp_set)].drop_duplicates()\n",
    "\n",
    "#now for other taxa in ts for which there is no uhgg info, I want to add them to the uhgg dataframe and add \"unknown\" as their country \n",
    "species_not_in_ug=list(set(ts_sp_set) - set(ug_data[col]))\n",
    "species_not_in_ug_df = pd.DataFrame({}, columns=['Country', col])\n",
    "species_not_in_ug_df[col]= species_not_in_ug\n",
    "species_not_in_ug_df['Country']=['Unknown']*len(species_not_in_ug)\n",
    "\n",
    "ug_ts_sankeymap=pd.concat([ug_ts, species_not_in_ug_df])\n",
    "\n",
    "ug_ts_sankeymap.head(3)"
   ]
  },
  {
   "cell_type": "markdown",
   "id": "e6b0dedb",
   "metadata": {},
   "source": [
    "### EMP"
   ]
  },
  {
   "cell_type": "code",
   "execution_count": null,
   "id": "5942c12c",
   "metadata": {},
   "outputs": [],
   "source": [
    "#I want to get only taxa and sites that are in TS dataset\n",
    "ts_sp_set = dset_[col].unique() # all the unique taxa in ts dataset including all domains\n",
    "emp_data = emp_fil4[['habitat2', col]]\n",
    "emp_ts = emp_data[emp_data[col].isin(ts_sp_set)].drop_duplicates()\n",
    "\n",
    "#now for other species in ts for which there is no habitat info, I want to add them to the emp_ts dataframe and add \"unknown\" as their habitat2 \n",
    "species_not_in_emp=list(set(ts_sp_set) - set(emp_data[col]))\n",
    "species_not_in_emp_df = pd.DataFrame({}, columns=['habitat2', col])\n",
    "species_not_in_emp_df[col]= species_not_in_emp\n",
    "species_not_in_emp_df['habitat2']=['Unknown']*len(species_not_in_emp)\n",
    "\n",
    "emp_ts_sankeymap=pd.concat([emp_ts, species_not_in_emp_df])\n",
    "\n",
    "emp_ts_sankeymap.head(3)"
   ]
  },
  {
   "cell_type": "markdown",
   "id": "7387ec18",
   "metadata": {},
   "source": [
    "#### The denominator dataframe\n",
    "this is how I will get the right weights or values. It represents the number of times each taxa is getting multiplied by because it appears in multiple tumors or hmp_sites, for example. So I use the denominator to make sure they don't increase out of proportion in the final sankey plot. For each pair of connections (columns A and B) the denominator will be the weights of  A times the weight of B, where the weight is the number of times the taxa is repeated in A or B (i.e. EBV appears across 3 EMP habitats and 4 tumor types, as a toy example, thus the denominator for the connection between habitats and tumor types for EBV will be 3*4. "
   ]
  },
  {
   "cell_type": "code",
   "execution_count": null,
   "id": "cda62ee4",
   "metadata": {},
   "outputs": [],
   "source": [
    "denominator_hmp = hmp_ts_sankeymap.groupby([col]).count().reset_index().rename(columns={'hmp_site':\n",
    "                                                                                             'hmp_den'})\n",
    "denominator_nej = nej_ts_sankeymap.groupby([col]).count().reset_index().rename(columns={'tumor_type':\n",
    "                                                                                             'nej_den'})\n",
    "denominator_ug = ug_ts_sankeymap.groupby([col]).count().reset_index().rename(columns={'Country':\n",
    "                                                                                             'ug_den'})\n",
    "denominator_emp = emp_ts_sankeymap.groupby([col]).count().reset_index().rename(columns={'habitat2':\n",
    "                                                                                             'emp_den'})\n",
    "\n",
    "denominator= denominator_hmp.merge(denominator_nej).merge(denominator_ug).merge(denominator_emp)\n",
    "denominator.head(3)"
   ]
  },
  {
   "cell_type": "markdown",
   "id": "6f1b3d71",
   "metadata": {},
   "source": [
    "### Connections\n",
    "#### For connections I just need the hit counts of species within the main dataframe (they will serve as my \"value\")"
   ]
  },
  {
   "cell_type": "code",
   "execution_count": null,
   "id": "db49db72",
   "metadata": {},
   "outputs": [],
   "source": [
    "sp_tis_hit_count = dset_.groupby(['tissue', col],as_index=False).count().iloc[:,0:3].rename(columns={'R_g':'hits_per_species_per_tissue'})\n",
    "sp_tis_hit_count.head(3)"
   ]
  },
  {
   "cell_type": "code",
   "execution_count": null,
   "id": "0b7344d5",
   "metadata": {},
   "outputs": [],
   "source": [
    "tot_hit_count_per_species = dset_[col].value_counts().to_frame().reset_index().rename(\n",
    "    columns={'index':col, col:'total_hit_count_per_species'})\n",
    "\n",
    "tot_hit_count_per_species.head(3)\n"
   ]
  },
  {
   "cell_type": "code",
   "execution_count": null,
   "id": "2588d912",
   "metadata": {},
   "outputs": [],
   "source": [
    "second_half = nej_ts_sankeymap.merge(hmp_ts_sankeymap, how='outer').merge(\n",
    "    sp_tis_hit_count).merge(tot_hit_count_per_species).merge(ug_ts_sankeymap).merge(emp_ts_sankeymap)\n",
    "                                                                            \n",
    "\n",
    "#need to add three characters of the col names to each entry to match previous sankey function\n",
    "second_half['tumor_type'] = second_half['tumor_type'] + '_' + 'tumor_type'[:3]\n",
    "second_half['hmp_site'] = second_half['hmp_site'] + '_' + 'hmp_site'[:3]\n",
    "second_half['tissue'] = second_half['tissue'] + '_' + 'tissue'[:3]\n",
    "second_half['habitat2'] = second_half['habitat2'] + '_' + 'habitat2'[:3]\n",
    "second_half['Country'] = second_half['Country'] + '_' + 'Country'[:3]\n",
    "\n",
    "second_half.head(3)\n"
   ]
  },
  {
   "cell_type": "markdown",
   "id": "ffa61c2d",
   "metadata": {},
   "source": [
    "#### tissue to genus mapping"
   ]
  },
  {
   "cell_type": "code",
   "execution_count": null,
   "id": "2149c6d3",
   "metadata": {},
   "outputs": [],
   "source": [
    "source='tissue'\n",
    "target=col\n",
    "value='hits_per_species_per_tissue'\n",
    "\n",
    "extra=col\n",
    "g1=[source, target, extra, value]\n",
    "g2= [source, target, 'value']\n",
    "\n",
    "tis_to_sp = second_half[[source, target,value]].drop_duplicates()\n",
    "tis_to_sp['value'] = tis_to_sp[value]\n",
    "tis_to_sp2 = tis_to_sp[g2].rename(columns={source:'source', target:'dest'})\n",
    "tis_to_sp2.head(3)\n"
   ]
  },
  {
   "cell_type": "markdown",
   "id": "02449f6a",
   "metadata": {},
   "source": [
    "#### genus to hmp_site mapping & legend"
   ]
  },
  {
   "cell_type": "code",
   "execution_count": null,
   "id": "3c4581b4",
   "metadata": {},
   "outputs": [],
   "source": [
    "source=col\n",
    "target='hmp_site'\n",
    "value='total_hit_count_per_species'\n",
    "extra=col\n",
    "g1=[source, target, extra, value]\n",
    "g2= [source, target, 'value']\n",
    "\n",
    "sp_to_hmp = second_half[[source, target,value]].drop_duplicates()\n",
    "sp_to_hmp2 = sp_to_hmp.merge(denominator)\n",
    "sp_to_hmp2['value'] = sp_to_hmp2['total_hit_count_per_species']/(sp_to_hmp2['hmp_den']) #denominator\n",
    "sp_to_hmp2 = sp_to_hmp2[g2].rename(columns={source:'source', target:'dest'})\n",
    "\n",
    "\n",
    "#not going to create a color map for species because there are too many species, but will get colors for hmp_site\n",
    "color_map={}\n",
    "counter = 0 #setting this up so that the same colors aren't picked from the color_lst for each category\n",
    "df = sp_to_hmp2\n",
    "subgroups = list(df['dest'].unique()) #getting the categories for each group (e.g. viruses, bacteria, eukaryotes for superkingdom), sorted by abundance\n",
    "sub_colors=color_lst[counter: counter + len(subgroups)] #getting list of colors from color_lst\n",
    "color_sub_dict = dict(zip(subgroups, sub_colors)) #getting dictionary of colors and values\n",
    "color_map.update(color_sub_dict)\n",
    "\n",
    "\n",
    "#getting legend\n",
    "fontsize=12\n",
    "msize=1.6\n",
    "fs=1\n",
    "ncol=1\n",
    "h1 = [matplotlib.lines.Line2D([],[], marker=\"s\", color=c, linestyle=\"none\") for c in sub_colors] #legend handels\n",
    "subgroups_modified=[x.strip(x[-4:]) for x in subgroups] #labels (taking out the last appended characters (e.g. _hmp))\n",
    "subgroups_modified=[x.split('_tract')[0] for x in subgroups_modified] #labels (taking out the last appended characters (e.g. _hmp))\n",
    "\n",
    "#plotting the legened figures\n",
    "fig, ax= plt.subplots(figsize=[fs,fs])\n",
    "plt.axis('off')\n",
    "plt.legend(handles=h1, \n",
    "   labels=subgroups_modified,\n",
    "   loc='lower left', prop={'size':fontsize}, ncol=ncol, numpoints=1, \n",
    "   frameon=False, markerscale=msize, labelcolor='dimgrey')\n",
    "\n",
    "plt.savefig(figs + 'hmp_captions.svg', bbox_inches='tight')\n",
    "\n"
   ]
  },
  {
   "cell_type": "markdown",
   "id": "550f1fd8",
   "metadata": {},
   "source": [
    "#### hmp_site to tumor_type mapping & legend"
   ]
  },
  {
   "cell_type": "code",
   "execution_count": null,
   "id": "816f74d7",
   "metadata": {},
   "outputs": [],
   "source": [
    "source='hmp_site'\n",
    "target='tumor_type'\n",
    "value='total_hit_count_per_species'\n",
    "extra=col\n",
    "g1=[source, target, extra, value]\n",
    "g2= [source, target, 'value']\n",
    "\n",
    "hmp_to_tum = second_half[g1].drop_duplicates()\n",
    "hmp_to_tum2 = hmp_to_tum.merge(denominator)\n",
    "hmp_to_tum2['value'] = hmp_to_tum2['total_hit_count_per_species']/(hmp_to_tum2['hmp_den']*hmp_to_tum2['nej_den'])\n",
    "hmp_to_tum2 = hmp_to_tum2[g2].rename(columns={source:'source', target:'dest'})\n",
    "\n",
    "\n",
    "#getting colormap\n",
    "counter=1\n",
    "df = hmp_to_tum2\n",
    "subgroups = list(df['dest'].unique()) #getting the categories for each group (e.g. viruses, bacteria, eukaryotes for superkingdom), sorted by abundance\n",
    "sub_colors=color_lst[counter: counter + len(subgroups)] #getting list of colors from color_lst\n",
    "color_sub_dict = dict(zip(subgroups, sub_colors)) #getting dictionary of colors and values\n",
    "color_map.update(color_sub_dict)\n",
    "\n",
    "#getting legend\n",
    "fontsize=12\n",
    "msize=1.6\n",
    "fs=3\n",
    "ncol=1\n",
    "h1 = [matplotlib.lines.Line2D([],[], marker=\"s\", color=c, linestyle=\"none\") for c in sub_colors] #legend handels\n",
    "subgroups_modified=[x.strip(x[-4:]) for x in subgroups] #labels (taking out the last appended characters (e.g. _hmp))\n",
    "subgroups_modified=[x.strip('_T') for x in subgroups_modified]\n",
    "\n",
    "#plotting the legened figures\n",
    "fig, ax= plt.subplots(figsize=[fs,fs])\n",
    "plt.axis('off')\n",
    "plt.legend(handles=h1, \n",
    "   labels=subgroups_modified,\n",
    "   loc='lower left', prop={'size':fontsize}, ncol=ncol, numpoints=1, \n",
    "   frameon=False, markerscale=msize, labelcolor='dimgrey')\n",
    "plt.savefig(figs + 'tumor_captions.svg', bbox_inches='tight')\n"
   ]
  },
  {
   "cell_type": "markdown",
   "id": "b872bc05",
   "metadata": {},
   "source": [
    "#### Tumor_type to UHGG mapping & legend"
   ]
  },
  {
   "cell_type": "code",
   "execution_count": null,
   "id": "29899f10",
   "metadata": {},
   "outputs": [],
   "source": [
    "source='tumor_type'\n",
    "target='Country'\n",
    "value='total_hit_count_per_species'\n",
    "extra=col\n",
    "g1=[source, target, extra, value]\n",
    "g2= [source, target, 'value']\n",
    "\n",
    "sp_to_ug = second_half[g1].drop_duplicates()\n",
    "sp_to_ug2 = sp_to_ug.merge(denominator)\n",
    "sp_to_ug2['value'] = sp_to_ug2['total_hit_count_per_species']/(sp_to_ug2['hmp_den']*sp_to_ug2['nej_den']*sp_to_ug2['ug_den'])\n",
    "sp_to_ug2['value'] = sp_to_ug2['total_hit_count_per_species']/(sp_to_ug2['nej_den']*sp_to_ug2['ug_den'])\n",
    "\n",
    "sp_to_ug2 = sp_to_ug2[g2].rename(columns={source:'source', target:'dest'})\n",
    "\n",
    "counter = 0 #setting this up so that the same colors aren't picked from the color_lst for each category\n",
    "df = sp_to_ug2\n",
    "subgroups = list(df['dest'].unique()) #getting the categories for each group (e.g. viruses, bacteria, eukaryotes for superkingdom), sorted by abundance\n",
    "sub_colors=color_lst[counter: counter + len(subgroups)] #getting list of colors from color_lst\n",
    "color_sub_dict = dict(zip(subgroups, sub_colors)) #getting dictionary of colors and values\n",
    "color_map.update(color_sub_dict)\n",
    "\n",
    "\n",
    "#getting legend\n",
    "fontsize=12\n",
    "msize=1.6\n",
    "fs=1\n",
    "ncol=1\n",
    "h1 = [matplotlib.lines.Line2D([],[], marker=\"s\", color=c, linestyle=\"none\") for c in sub_colors] #legend handels\n",
    "subgroups_modified=[x.split('_')[0] for x in subgroups] #labels (taking out the last appended characters (e.g. _hmp))\n",
    "\n",
    "#plotting the legened figures\n",
    "fig, ax= plt.subplots(figsize=[fs,fs])\n",
    "plt.axis('off')\n",
    "plt.legend(handles=h1, \n",
    "   labels=subgroups_modified,\n",
    "   loc='lower left', prop={'size':fontsize}, ncol=ncol, numpoints=1, \n",
    "   frameon=False, markerscale=msize, labelcolor='dimgrey')\n",
    "plt.savefig(figs + 'uhgg_captions.svg', bbox_inches='tight')\n"
   ]
  },
  {
   "cell_type": "markdown",
   "id": "87420639",
   "metadata": {},
   "source": [
    "#### UHGG to EMP mapping"
   ]
  },
  {
   "cell_type": "code",
   "execution_count": null,
   "id": "f98f06c3",
   "metadata": {},
   "outputs": [],
   "source": [
    "source='Country'\n",
    "target='habitat2'\n",
    "value='total_hit_count_per_species'\n",
    "extra=col\n",
    "g1=[source, target, extra, value]\n",
    "g2= [source, target, 'value']\n",
    "\n",
    "sp_to_emp = second_half[g1].drop_duplicates()\n",
    "sp_to_emp2 = sp_to_emp.merge(denominator)\n",
    "sp_to_emp2['value'] = sp_to_emp2['total_hit_count_per_species']/(sp_to_emp2['hmp_den']*sp_to_emp2['nej_den']*sp_to_emp2['ug_den']*sp_to_emp2['emp_den'])\n",
    "sp_to_emp2['value'] = sp_to_emp2['total_hit_count_per_species']/(sp_to_emp2['ug_den']*sp_to_emp2['emp_den'])\n",
    "\n",
    "sp_to_emp2 = sp_to_emp2[g2].rename(columns={source:'source', target:'dest'})\n",
    "\n",
    "counter = 0 #setting this up so that the same colors aren't picked from the color_lst for each category\n",
    "df = sp_to_emp2\n",
    "subgroups = list(df['dest'].unique()) #getting the categories for each group (e.g. viruses, bacteria, eukaryotes for superkingdom), sorted by abundance\n",
    "sub_colors=color_lst[counter: counter + len(subgroups)] #getting list of colors from color_lst\n",
    "color_sub_dict = dict(zip(subgroups, sub_colors)) #getting dictionary of colors and values\n",
    "color_map.update(color_sub_dict)\n",
    "\n",
    "\n",
    "#getting legend\n",
    "fontsize=12\n",
    "msize=1.6\n",
    "fs=1\n",
    "ncol=1\n",
    "h1 = [matplotlib.lines.Line2D([],[], marker=\"s\", color=c, linestyle=\"none\") for c in sub_colors] #legend handels\n",
    "subgroups_modified=[x.split('_')[0] for x in subgroups] #labels (taking out the last appended characters (e.g. _hmp))\n",
    "\n",
    "#plotting the legened figures\n",
    "fig, ax= plt.subplots(figsize=[fs,fs])\n",
    "plt.axis('off')\n",
    "plt.legend(handles=h1, \n",
    "   labels=subgroups_modified,\n",
    "   loc='lower left', prop={'size':fontsize}, ncol=ncol, numpoints=1, \n",
    "   frameon=False, markerscale=msize, labelcolor='dimgrey')\n",
    "plt.savefig(figs + 'emp_captions.svg', bbox_inches='tight')"
   ]
  },
  {
   "cell_type": "markdown",
   "id": "c4e70058",
   "metadata": {},
   "source": [
    "## Final plot"
   ]
  },
  {
   "cell_type": "code",
   "execution_count": null,
   "id": "80c03893",
   "metadata": {},
   "outputs": [],
   "source": [
    "second_half_sankey = pd.concat([tis_to_sp2, sp_to_hmp2,hmp_to_tum2,sp_to_ug2, sp_to_emp2])\n",
    "second_half_sankey.head(2)\n"
   ]
  },
  {
   "cell_type": "code",
   "execution_count": null,
   "id": "dab12409",
   "metadata": {
    "scrolled": false
   },
   "outputs": [],
   "source": [
    "input_df= dset_\n",
    "group1='phylum' \n",
    "group2='order' \n",
    "group3='tissue' \n",
    "\n",
    "width=800\n",
    "height=600\n",
    "colname='cell'\n",
    "label_text_font_size='0pt'\n",
    "\n",
    "\n",
    "df=input_df.groupby([group1,group2]).count()[colname].reset_index()\n",
    "df[group2]=df[group2].apply(lambda x: x + '_' + group2[:3])\n",
    "df[group1]=df[group1].apply(lambda x: x + '_' + group1[:3])\n",
    "df.rename(columns={colname:'value', group1:'source', group2:'dest'}, inplace=True)\n",
    "\n",
    "df2=input_df.groupby([group2,group3]).count()[colname].reset_index()\n",
    "df2[group2]=df2[group2].apply(lambda x: x+ '_' + group2[:3])\n",
    "df2[group3]=df2[group3].apply(lambda x: x+  '_' + group3[:3])\n",
    "df2.rename(columns={colname:'value',group2:'source', group3:'dest'}, inplace=True)\n",
    "\n",
    "\n",
    "#getting the colormap\n",
    "color_map_first_half=get_colormap(input_df, [group1,group2,group3]) #note the get_colormap and get_legend functions sort based on abundance\n",
    "color_map.update(color_map_first_half)\n",
    "\n",
    "first_half_sankey = pd.concat([df, df2]) #first half of sankey mapping\n",
    "\n",
    "final_sankey=pd.concat([first_half_sankey, second_half_sankey]) #second half is from code blocks above\n",
    "\n",
    "\n",
    "sankey1 = hv.Sankey(final_sankey, kdims=[\"source\", \"dest\"], vdims=[\"value\"])\n",
    "cmap_list = process_cmap(\"glasbey_hv\")\n",
    "\n",
    "sankey1.opts(cmap=color_map, label_position='outer',\n",
    "                                 edge_color='dest', edge_line_width=0, node_line_width=.1,\n",
    "                                 node_alpha=.7, node_width=30, node_sort=True,\n",
    "                    width=width, height=height, bgcolor=\"white\",padding=0,label_text_font_size='0pt')\n",
    "\n",
    "\n",
    "\n"
   ]
  },
  {
   "cell_type": "markdown",
   "id": "d8dcc038",
   "metadata": {},
   "source": [
    "getting the rest of the legends (first part of sankey). The get_legend function that I've written already saves the three plots as svgs in the figs folder. "
   ]
  },
  {
   "cell_type": "code",
   "execution_count": null,
   "id": "ed1a9b0a",
   "metadata": {},
   "outputs": [],
   "source": [
    "input_df= dset_\n",
    "group1='phylum' \n",
    "group2='order' \n",
    "group3='tissue' \n",
    "get_legend(input_df, [group1,group2,group3], fontsize=12, tsize=12, msize=1.6, fs=3, ncol=2) #this will already save the plots in the figs directory\n"
   ]
  },
  {
   "cell_type": "markdown",
   "id": "a21b1ee2",
   "metadata": {},
   "source": [
    "#### saving the plot as an html "
   ]
  },
  {
   "cell_type": "code",
   "execution_count": null,
   "id": "5a4d2b04",
   "metadata": {},
   "outputs": [],
   "source": [
    "renderer = hv.renderer('bokeh')\n",
    "renderer.save(sankey1, figs + 'f7_sankey')\n",
    "\n"
   ]
  },
  {
   "cell_type": "markdown",
   "id": "9d60dbd4",
   "metadata": {},
   "source": [
    "#### sankey table\n",
    "creating a table that summarizes the flow paths that may be hard to follow in the sankey plot above.\n"
   ]
  },
  {
   "cell_type": "code",
   "execution_count": null,
   "id": "9eec2881",
   "metadata": {},
   "outputs": [],
   "source": [
    "final_sankey.head(3)\n",
    "\n"
   ]
  },
  {
   "cell_type": "code",
   "execution_count": null,
   "id": "6eb90fb1",
   "metadata": {},
   "outputs": [],
   "source": [
    "final_sankey.to_csv(tables + 'f7_sankey_underlying_table.csv', index=False)\n",
    "\n"
   ]
  },
  {
   "cell_type": "markdown",
   "id": "4bb70145",
   "metadata": {},
   "source": [
    "## Pathogens\n",
    "### Exploring possible pathogens from the PATRIC database\n",
    "Pathogenic species downloaded from this paper: https://www.nature.com/articles/nature11234#MOESM103 SI table 2. derived from PATRIC database. \"Structure, function and diversity of the healthy human microbiome\" by HMP consortium"
   ]
  },
  {
   "cell_type": "code",
   "execution_count": null,
   "id": "a8d97378",
   "metadata": {},
   "outputs": [],
   "source": [
    "pathos = pd.read_csv(ext + '/PATRIC_pathogens_2011-09-12404C-tables2_pathogens.csv', delimiter='\\t')\n",
    "pathos= pathos.iloc[:,:-1]\n",
    "pathos.columns=['species', 'site', 'mean abd', 'stdev', 'median', 'min', 'max']\n"
   ]
  },
  {
   "cell_type": "markdown",
   "id": "e6b63c3b",
   "metadata": {},
   "source": [
    "#### adding pathogen information to hits dataframe"
   ]
  },
  {
   "cell_type": "code",
   "execution_count": null,
   "id": "a16fbe03",
   "metadata": {},
   "outputs": [],
   "source": [
    "col='genus'\n",
    "dset= f7[f7[col].isna()==False]\n",
    "\n",
    "dset['is_pathogen'] = dset['species'].isin(pathos['species'].unique())\n",
    "dset.loc[dset['is_pathogen']==False, 'is_pathogen']='no'\n",
    "dset.loc[dset['is_pathogen']==True, 'is_pathogen']='yes'\n"
   ]
  },
  {
   "cell_type": "markdown",
   "id": "bc64a32d",
   "metadata": {},
   "source": [
    "these species  were found to be potentially pathogenic in the TSM F7 "
   ]
  },
  {
   "cell_type": "code",
   "execution_count": null,
   "id": "ca835b4a",
   "metadata": {},
   "outputs": [],
   "source": [
    "dset[dset['is_pathogen']=='yes']['species'].value_counts()"
   ]
  },
  {
   "cell_type": "markdown",
   "id": "0457803c",
   "metadata": {},
   "source": [
    "Some of these species were found in the HMP, Nejman, and UHGG databases"
   ]
  },
  {
   "cell_type": "code",
   "execution_count": null,
   "id": "e47ffba1",
   "metadata": {},
   "outputs": [],
   "source": [
    "pats = list(set(dset[dset['is_pathogen']=='yes']['species']))\n",
    "\n",
    "cat3_with_tax[cat3_with_tax['species'].isin(pats)].species.unique()\n",
    "\n"
   ]
  },
  {
   "cell_type": "code",
   "execution_count": null,
   "id": "9ce7601d",
   "metadata": {},
   "outputs": [],
   "source": [
    "ug[ug['species'].isin(pats)].species.unique()\n",
    "\n"
   ]
  },
  {
   "cell_type": "code",
   "execution_count": null,
   "id": "fe946a31",
   "metadata": {},
   "outputs": [],
   "source": [
    "tumor[tumor['species'].isin(pats)].species.unique()\n"
   ]
  },
  {
   "cell_type": "markdown",
   "id": "d40ce7c7",
   "metadata": {},
   "source": [
    "## Antibiotic resistance\n",
    "### Antibiotic resistance status from PATRIC"
   ]
  },
  {
   "cell_type": "markdown",
   "id": "dc435125",
   "metadata": {},
   "source": [
    "downloaded from https://www.patricbrc.org/view/Taxonomy/2#view_tab=amr on Dec 22, 2021"
   ]
  },
  {
   "cell_type": "code",
   "execution_count": null,
   "id": "74b7ce84",
   "metadata": {
    "scrolled": true
   },
   "outputs": [],
   "source": [
    "ars = pd.read_csv(ext + 'PATRIC_genome_amr.csv')\n",
    "ars.rename(columns={'Antibiotic':'antibiotic', 'Resistant Phenotype':'resistance'},inplace=True)\n",
    "ars['species'] = ars['Genome Name'].apply(lambda x: ' '.join(x.split(' ')[0:2]))#getting species information, not strain\n",
    "sub = ars[['Genome Name','species', 'antibiotic', 'resistance']]\n",
    "sub = sub[sub['resistance'].isin(['Intermediate', 'Not defined', 'r', np.nan])==False] #getting columns of interest #excluding ambiguious resistance categories and susceptible\n",
    "\n",
    "df=sub.drop_duplicates()\n",
    "df['antibiotic']=df['antibiotic'].str.replace('-', '_' )\n",
    "df['antibiotic']=df['antibiotic'].str.replace('/', '_' )\n",
    "\n",
    "df_sub=df[(df['species'].str.contains('tuber|boydii|flexneri|baumannii', case=False)==False)] #more sparse plots are excluded\n",
    "df2 = df_sub.groupby(['species','antibiotic','resistance'], as_index=False).count()\n",
    "df2['log10_num_strains'] = np.log10(df2['Genome Name']+1)\n",
    "\n",
    "#time to plot\n",
    "g = sns.catplot(x=\"antibiotic\", y=\"log10_num_strains\", hue=\"resistance\",col=\"species\",\n",
    "            kind=\"bar\", col_wrap=1, data=df2, palette=['teal','salmon'], size=2, aspect=6)\n",
    "g.set_xticklabels(rotation=90) \n",
    "\n"
   ]
  },
  {
   "cell_type": "markdown",
   "id": "4afe872f",
   "metadata": {},
   "source": [
    " SI table containing the strain information and antibiotic resistance profile"
   ]
  },
  {
   "cell_type": "code",
   "execution_count": null,
   "id": "af7b1de1",
   "metadata": {},
   "outputs": [],
   "source": [
    "sub.drop_duplicates().to_csv(tables + 'antibiotic_resistance_profiles_with_strain_information.csv')\n",
    "\n"
   ]
  },
  {
   "cell_type": "code",
   "execution_count": null,
   "id": "314d720e",
   "metadata": {},
   "outputs": [],
   "source": [
    "#how many bacterial strains are included in this dataset?\n",
    "sub.drop_duplicates()['Genome Name'].nunique()\n",
    "\n"
   ]
  },
  {
   "cell_type": "markdown",
   "id": "cfafa0a6",
   "metadata": {},
   "source": [
    "adding Antimicrobial resistance information. It turns out that for none of the F7 species we have any antibiotic resistance information from the PATRIC database. "
   ]
  },
  {
   "cell_type": "code",
   "execution_count": null,
   "id": "6eeb3f31",
   "metadata": {},
   "outputs": [],
   "source": [
    "dset['amr_known'] = dset['species'].isin(list(sub['species'].unique()))\n",
    "dset.loc[dset['amr_known']==False, 'amr_known']='no'\n",
    "dset.loc[dset['amr_known']==True, 'amr_known']='yes'\n",
    "dset[dset['amr_known']=='yes']['species'].value_counts()\n",
    "\n"
   ]
  },
  {
   "cell_type": "markdown",
   "id": "1b66b1cd",
   "metadata": {},
   "source": [
    "# Sankey (shared taxa)\n",
    "### Plotting a Sankey for the taxa shared between several datasets\n",
    "note this is constructed in a similar way to the full sankey plot. The only difference is that we are only selecting certain taxa that are at the intersection of various datasets. Then subsetting the original dset_ dataframe, the denominator dataframe and all others to include only those taxa. In other words, the second_half dataframe is not created again, just subsampled. So some of these variables from this section are being carried over from the main Sankey plot, some may be renamed to include \"_multi\" to make the distinction a bit more clear\n"
   ]
  },
  {
   "cell_type": "code",
   "execution_count": null,
   "id": "e39cfe71",
   "metadata": {},
   "outputs": [],
   "source": [
    "tri_sp = list(set(ts_sp_set) &  set(nej_sp_set) & set(hmp_sp_set) & (ug_set) & (emp_set))\n",
    "\n",
    "second_half_multi=second_half[second_half[col].isin(tri_sp)]\n",
    "\n",
    "denominator_multi = denominator[denominator[col].isin(tri_sp)]\n",
    "\n"
   ]
  },
  {
   "cell_type": "markdown",
   "id": "1b64497a",
   "metadata": {},
   "source": [
    "### Connections\n",
    "#### For connections I just need the hit counts of species within the main dataframe (they will serve as my \"value\")"
   ]
  },
  {
   "cell_type": "code",
   "execution_count": null,
   "id": "064df8f2",
   "metadata": {},
   "outputs": [],
   "source": [
    "sp_tis_hit_count = dset_.groupby(['tissue', col],as_index=False).count().iloc[:,0:3].rename(columns={'R_g':'hits_per_species_per_tissue'})\n",
    "sp_tis_hit_count_multi = sp_tis_hit_count[sp_tis_hit_count[col].isin(tri_sp)]\n",
    "\n"
   ]
  },
  {
   "cell_type": "code",
   "execution_count": null,
   "id": "f08de077",
   "metadata": {},
   "outputs": [],
   "source": [
    "tot_hit_count_per_species = dset_[col].value_counts().to_frame().reset_index().rename(\n",
    "    columns={'index':col, col:'total_hit_count_per_species'})\n",
    "\n",
    "tot_hit_count_per_species_multi = tot_hit_count_per_species[tot_hit_count_per_species[col].isin(tri_sp)]\n",
    "\n"
   ]
  },
  {
   "cell_type": "code",
   "execution_count": null,
   "id": "cda3524f",
   "metadata": {},
   "outputs": [],
   "source": [
    "source='tissue'\n",
    "target=col\n",
    "value='hits_per_species_per_tissue'\n",
    "\n",
    "extra=col\n",
    "g1=[source, target, extra, value]\n",
    "g2= [source, target, 'value']\n",
    "\n",
    "tis_to_sp = second_half_multi[[source, target,value]].drop_duplicates()\n",
    "tis_to_sp['value'] = tis_to_sp[value]\n",
    "tis_to_sp2 = tis_to_sp[g2].rename(columns={source:'source', target:'dest'})\n",
    "\n"
   ]
  },
  {
   "cell_type": "markdown",
   "id": "dfcab02f",
   "metadata": {},
   "source": [
    "#### genus to hmp_site mapping & legend"
   ]
  },
  {
   "cell_type": "code",
   "execution_count": null,
   "id": "604624fb",
   "metadata": {},
   "outputs": [],
   "source": [
    "source=col\n",
    "target='hmp_site'\n",
    "value='total_hit_count_per_species'\n",
    "extra=col\n",
    "g1=[source, target, extra, value]\n",
    "g2= [source, target, 'value']\n",
    "\n",
    "sp_to_hmp = second_half_multi[[source, target,value]].drop_duplicates()\n",
    "sp_to_hmp2 = sp_to_hmp.merge(denominator_multi)\n",
    "sp_to_hmp2['value'] = sp_to_hmp2['total_hit_count_per_species']/(sp_to_hmp2['hmp_den']) #denominator\n",
    "sp_to_hmp2 = sp_to_hmp2[g2].rename(columns={source:'source', target:'dest'})\n",
    "\n",
    "\n",
    "#not going to create a color map for species because there are too many species, but will get colors for hmp_site\n",
    "color_map={}\n",
    "counter = 0 #setting this up so that the same colors aren't picked from the color_lst for each category\n",
    "df = sp_to_hmp2\n",
    "subgroups = list(df['dest'].unique()) #getting the categories for each group (e.g. viruses, bacteria, eukaryotes for superkingdom), sorted by abundance\n",
    "sub_colors=color_lst[counter: counter + len(subgroups)] #getting list of colors from color_lst\n",
    "color_sub_dict = dict(zip(subgroups, sub_colors)) #getting dictionary of colors and values\n",
    "color_map.update(color_sub_dict)\n",
    "\n",
    "\n",
    "#getting legend\n",
    "fontsize=12\n",
    "msize=1.6\n",
    "fs=1\n",
    "ncol=1\n",
    "h1 = [matplotlib.lines.Line2D([],[], marker=\"s\", color=c, linestyle=\"none\") for c in sub_colors] #legend handels\n",
    "subgroups_modified=[x.strip(x[-4:]) for x in subgroups] #labels (taking out the last appended characters (e.g. _hmp))\n",
    "subgroups_modified=[x.split('_tract')[0] for x in subgroups_modified] #labels (taking out the last appended characters (e.g. _hmp))\n",
    "\n",
    "#plotting the legened figures\n",
    "fig, ax= plt.subplots(figsize=[fs,fs])\n",
    "plt.axis('off')\n",
    "plt.legend(handles=h1, \n",
    "   labels=subgroups_modified,\n",
    "   loc='lower left', prop={'size':fontsize}, ncol=ncol, numpoints=1, \n",
    "   frameon=False, markerscale=msize, labelcolor='dimgrey')\n",
    "\n",
    "# plt.savefig(figs + 'hmp_captions.svg', bbox_inches='tight')\n",
    "\n"
   ]
  },
  {
   "cell_type": "markdown",
   "id": "27f8d00d",
   "metadata": {},
   "source": [
    "#### hmp_site to tumor_type mapping & legend"
   ]
  },
  {
   "cell_type": "code",
   "execution_count": null,
   "id": "f6b3aee4",
   "metadata": {},
   "outputs": [],
   "source": [
    "source='hmp_site'\n",
    "target='tumor_type'\n",
    "value='total_hit_count_per_species'\n",
    "extra=col\n",
    "g1=[source, target, extra, value]\n",
    "g2= [source, target, 'value']\n",
    "\n",
    "hmp_to_tum = second_half_multi[g1].drop_duplicates()\n",
    "hmp_to_tum2 = hmp_to_tum.merge(denominator_multi)\n",
    "hmp_to_tum2['value'] = hmp_to_tum2['total_hit_count_per_species']/(hmp_to_tum2['hmp_den']*hmp_to_tum2['nej_den'])\n",
    "hmp_to_tum2 = hmp_to_tum2[g2].rename(columns={source:'source', target:'dest'})\n",
    "\n",
    "\n",
    "#getting colormap\n",
    "counter=1\n",
    "df = hmp_to_tum2\n",
    "subgroups = list(df['dest'].unique()) #getting the categories for each group (e.g. viruses, bacteria, eukaryotes for superkingdom), sorted by abundance\n",
    "sub_colors=color_lst[counter: counter + len(subgroups)] #getting list of colors from color_lst\n",
    "color_sub_dict = dict(zip(subgroups, sub_colors)) #getting dictionary of colors and values\n",
    "color_map.update(color_sub_dict)\n",
    "\n",
    "#getting legend\n",
    "fontsize=12\n",
    "msize=1.6\n",
    "fs=3\n",
    "ncol=1\n",
    "h1 = [matplotlib.lines.Line2D([],[], marker=\"s\", color=c, linestyle=\"none\") for c in sub_colors] #legend handels\n",
    "subgroups_modified=[x.strip(x[-4:]) for x in subgroups] #labels (taking out the last appended characters (e.g. _hmp))\n",
    "subgroups_modified=[x.strip('_T') for x in subgroups_modified]\n",
    "\n",
    "#plotting the legened figures\n",
    "fig, ax= plt.subplots(figsize=[fs,fs])\n",
    "plt.axis('off')\n",
    "plt.legend(handles=h1, \n",
    "   labels=subgroups_modified,\n",
    "   loc='lower left', prop={'size':fontsize}, ncol=ncol, numpoints=1, \n",
    "   frameon=False, markerscale=msize, labelcolor='dimgrey')\n",
    "# plt.savefig(figs + 'tumor_captions.svg', bbox_inches='tight')\n"
   ]
  },
  {
   "cell_type": "markdown",
   "id": "5c22fe1d",
   "metadata": {},
   "source": [
    "#### Tumor_type to UHGG mapping & legend"
   ]
  },
  {
   "cell_type": "code",
   "execution_count": null,
   "id": "dbe8620d",
   "metadata": {},
   "outputs": [],
   "source": [
    "source='tumor_type'\n",
    "target='Country'\n",
    "value='total_hit_count_per_species'\n",
    "extra=col\n",
    "g1=[source, target, extra, value]\n",
    "g2= [source, target, 'value']\n",
    "\n",
    "sp_to_ug = second_half_multi[g1].drop_duplicates()\n",
    "sp_to_ug2 = sp_to_ug.merge(denominator_multi)\n",
    "sp_to_ug2['value'] = sp_to_ug2['total_hit_count_per_species']/(sp_to_ug2['hmp_den']*sp_to_ug2['nej_den']*sp_to_ug2['ug_den'])\n",
    "sp_to_ug2['value'] = sp_to_ug2['total_hit_count_per_species']/(sp_to_ug2['nej_den']*sp_to_ug2['ug_den'])\n",
    "\n",
    "sp_to_ug2 = sp_to_ug2[g2].rename(columns={source:'source', target:'dest'})\n",
    "\n",
    "counter = 0 #setting this up so that the same colors aren't picked from the color_lst for each category\n",
    "df = sp_to_ug2\n",
    "subgroups = list(df['dest'].unique()) #getting the categories for each group (e.g. viruses, bacteria, eukaryotes for superkingdom), sorted by abundance\n",
    "sub_colors=color_lst[counter: counter + len(subgroups)] #getting list of colors from color_lst\n",
    "color_sub_dict = dict(zip(subgroups, sub_colors)) #getting dictionary of colors and values\n",
    "color_map.update(color_sub_dict)\n",
    "\n",
    "\n",
    "#getting legend\n",
    "fontsize=12\n",
    "msize=1.6\n",
    "fs=1\n",
    "ncol=1\n",
    "h1 = [matplotlib.lines.Line2D([],[], marker=\"s\", color=c, linestyle=\"none\") for c in sub_colors] #legend handels\n",
    "subgroups_modified=[x.split('_')[0] for x in subgroups] #labels (taking out the last appended characters (e.g. _hmp))\n",
    "\n",
    "#plotting the legened figures\n",
    "fig, ax= plt.subplots(figsize=[fs,fs])\n",
    "plt.axis('off')\n",
    "plt.legend(handles=h1, \n",
    "   labels=subgroups_modified,\n",
    "   loc='lower left', prop={'size':fontsize}, ncol=ncol, numpoints=1, \n",
    "   frameon=False, markerscale=msize, labelcolor='dimgrey')\n",
    "plt.savefig(figs + 'uhgg_captions.svg', bbox_inches='tight')\n"
   ]
  },
  {
   "cell_type": "markdown",
   "id": "1d061fcd",
   "metadata": {},
   "source": [
    "#### UHGG to EMP mapping"
   ]
  },
  {
   "cell_type": "code",
   "execution_count": null,
   "id": "641a1943",
   "metadata": {},
   "outputs": [],
   "source": [
    "source='Country'\n",
    "target='habitat2'\n",
    "value='total_hit_count_per_species'\n",
    "extra=col\n",
    "g1=[source, target, extra, value]\n",
    "g2= [source, target, 'value']\n",
    "\n",
    "sp_to_emp = second_half_multi[g1].drop_duplicates()\n",
    "sp_to_emp2 = sp_to_emp.merge(denominator_multi)\n",
    "sp_to_emp2['value'] = sp_to_emp2['total_hit_count_per_species']/(sp_to_emp2['hmp_den']*sp_to_emp2['nej_den']*sp_to_emp2['ug_den']*sp_to_emp2['emp_den'])\n",
    "sp_to_emp2['value'] = sp_to_emp2['total_hit_count_per_species']/(sp_to_emp2['ug_den']*sp_to_emp2['emp_den'])\n",
    "\n",
    "sp_to_emp2 = sp_to_emp2[g2].rename(columns={source:'source', target:'dest'})\n",
    "\n",
    "counter = 0 #setting this up so that the same colors aren't picked from the color_lst for each category\n",
    "df = sp_to_emp2\n",
    "subgroups = list(df['dest'].unique()) #getting the categories for each group (e.g. viruses, bacteria, eukaryotes for superkingdom), sorted by abundance\n",
    "sub_colors=color_lst[counter: counter + len(subgroups)] #getting list of colors from color_lst\n",
    "color_sub_dict = dict(zip(subgroups, sub_colors)) #getting dictionary of colors and values\n",
    "color_map.update(color_sub_dict)\n",
    "\n",
    "\n",
    "#getting legend\n",
    "fontsize=12\n",
    "msize=1.6\n",
    "fs=1\n",
    "ncol=1\n",
    "h1 = [matplotlib.lines.Line2D([],[], marker=\"s\", color=c, linestyle=\"none\") for c in sub_colors] #legend handels\n",
    "subgroups_modified=[x.split('_')[0] for x in subgroups] #labels (taking out the last appended characters (e.g. _hmp))\n",
    "\n",
    "#plotting the legened figures\n",
    "fig, ax= plt.subplots(figsize=[fs,fs])\n",
    "plt.axis('off')\n",
    "plt.legend(handles=h1, \n",
    "   labels=subgroups_modified,\n",
    "   loc='lower left', prop={'size':fontsize}, ncol=ncol, numpoints=1, \n",
    "   frameon=False, markerscale=msize, labelcolor='dimgrey')\n",
    "# plt.savefig(figs + 'emp_captions.svg', bbox_inches='tight')"
   ]
  },
  {
   "cell_type": "markdown",
   "id": "74096515",
   "metadata": {},
   "source": [
    "## Final plot"
   ]
  },
  {
   "cell_type": "code",
   "execution_count": null,
   "id": "08964c35",
   "metadata": {},
   "outputs": [],
   "source": [
    "second_half_multi_sankey = pd.concat([tis_to_sp2, sp_to_hmp2,hmp_to_tum2,sp_to_ug2, sp_to_emp2])\n",
    "second_half_multi_sankey.head(2)\n"
   ]
  },
  {
   "cell_type": "code",
   "execution_count": null,
   "id": "19cd3110",
   "metadata": {
    "scrolled": false
   },
   "outputs": [],
   "source": [
    "input_df= dset_[dset_[col].isin(tri_sp)]\n",
    "group1='phylum' \n",
    "group2='order' \n",
    "group3='tissue' \n",
    "\n",
    "width=600\n",
    "height=400\n",
    "colname='cell'\n",
    "label_text_font_size='0pt'\n",
    "\n",
    "\n",
    "df=input_df.groupby([group1,group2]).count()[colname].reset_index()\n",
    "df[group2]=df[group2].apply(lambda x: x + '_' + group2[:3])\n",
    "df[group1]=df[group1].apply(lambda x: x + '_' + group1[:3])\n",
    "df.rename(columns={colname:'value', group1:'source', group2:'dest'}, inplace=True)\n",
    "\n",
    "df2=input_df.groupby([group2,group3]).count()[colname].reset_index()\n",
    "df2[group2]=df2[group2].apply(lambda x: x+ '_' + group2[:3])\n",
    "df2[group3]=df2[group3].apply(lambda x: x+  '_' + group3[:3])\n",
    "df2.rename(columns={colname:'value',group2:'source', group3:'dest'}, inplace=True)\n",
    "\n",
    "\n",
    "#getting the colormap\n",
    "color_map_first_half=get_colormap(input_df, [group1,group2,group3]) #note the get_colormap and get_legend functions sort based on abundance\n",
    "color_map.update(color_map_first_half)\n",
    "\n",
    "first_half_multi_sankey = pd.concat([df, df2]) #first half of sankey mapping\n",
    "\n",
    "final_sankey_multi=pd.concat([first_half_multi_sankey, second_half_multi_sankey]) #second half is from code blocks above\n",
    "\n",
    "\n",
    "sankey1 = hv.Sankey(final_sankey_multi, kdims=[\"source\", \"dest\"], vdims=[\"value\"])\n",
    "cmap_list = process_cmap(\"glasbey_hv\")\n",
    "\n",
    "sankey1.opts(cmap=color_map, label_position='outer',\n",
    "                                 edge_color='dest', edge_line_width=0, node_line_width=.1,\n",
    "                                 node_alpha=.7, node_width=30, node_sort=True,\n",
    "                    width=width, height=height, bgcolor=\"white\",padding=0,label_text_font_size='0pt')\n",
    "\n",
    "\n",
    "\n"
   ]
  },
  {
   "cell_type": "code",
   "execution_count": null,
   "id": "ecfe67c0",
   "metadata": {},
   "outputs": [],
   "source": [
    "renderer = hv.renderer('bokeh')\n",
    "renderer.save(sankey1, figs + 'f7_sankey_subset_shared_taxa')\n"
   ]
  },
  {
   "cell_type": "code",
   "execution_count": null,
   "id": "4cd88e75",
   "metadata": {},
   "outputs": [],
   "source": [
    "final_sankey_multi.head(3)"
   ]
  },
  {
   "cell_type": "markdown",
   "id": "b10efaef",
   "metadata": {},
   "source": [
    "saving the sankey table in this format because its more readable than nodes and edges"
   ]
  },
  {
   "cell_type": "code",
   "execution_count": null,
   "id": "0e4b6fa0",
   "metadata": {},
   "outputs": [],
   "source": [
    "second_half_multi[['tumor_type','genus','hmp_site','tissue','Country','habitat2']].head(3)"
   ]
  },
  {
   "cell_type": "code",
   "execution_count": null,
   "id": "43a03db0",
   "metadata": {},
   "outputs": [],
   "source": [
    "second_half_multi[['tumor_type','genus','hmp_site','tissue','Country','habitat2']].to_csv(tables + 'f7_sankey_subset_shared_taxa_underlying_table.csv', index=False)\n"
   ]
  }
 ],
 "metadata": {
  "kernelspec": {
   "display_name": "mainEnv2",
   "language": "python",
   "name": "mainenv2"
  },
  "language_info": {
   "codemirror_mode": {
    "name": "ipython",
    "version": 3
   },
   "file_extension": ".py",
   "mimetype": "text/x-python",
   "name": "python",
   "nbconvert_exporter": "python",
   "pygments_lexer": "ipython3",
   "version": "3.6.10"
  },
  "toc": {
   "base_numbering": 1,
   "nav_menu": {
    "height": "446px",
    "width": "683px"
   },
   "number_sections": true,
   "sideBar": true,
   "skip_h1_title": false,
   "title_cell": "Table of Contents",
   "title_sidebar": "Contents",
   "toc_cell": false,
   "toc_position": {
    "height": "calc(100% - 180px)",
    "left": "10px",
    "top": "150px",
    "width": "306px"
   },
   "toc_section_display": true,
   "toc_window_display": true
  }
 },
 "nbformat": 4,
 "nbformat_minor": 5
}
