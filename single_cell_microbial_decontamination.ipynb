{
 "cells": [
  {
   "cell_type": "markdown",
   "metadata": {},
   "source": [
    "### Introduction:\n",
    "\n",
    "In this notebook, I'm analyzing the results of cell ranger that is run on TSP1-15 fastq files. Every file contains a raw matrix and filtered matrix. According to cell ranger, if using cellranger 6.0.1, the subtraction of filtered matrix from the raw will give away the droplets that cellranger identifies as \"empty\".\n",
    "\n",
    "To identify putative contaminating species, I first defined empty versus cell-containing droplets based on whether the droplet contains more than n genes. Then, based on the relative frequencies of a given species across empty and cell-containing droplets, I identify putative contaminating species. The logic is based on the idea that contamination should occur in an equi-prevelant manner across those two classes of droplets. If there are species that are particularly enriched in the cell-containing droplets (i.e. >=100x more prevelant), then I consider them to be real signal and associated with that cell.\n",
    "\n",
    "I run this process on a per-sample basis, and so what may be found as a contaminant in one sample may not be a contaminant in another, simply because you could lose real signal in this way.\n",
    "\n",
    "- **c_dts**:  number of cell containing droplets, c, per donor, d, and tissue, t, that contain a given species, s\n",
    "- **e_dts**:  number of empty droplets, e, per donor and tissue that contain a given species\n",
    "- **C_dt**: total number of cell containing droplets per donor and tissue \n",
    "- **E_dt**:  total number of empty droplets per donor and tissue \n",
    "- **R_dts** = (c_dts/C_dt) / (e_dts/E_dt) \n",
    "- I select species that are 100x more prevelant in cell-containing droplets, R_dts ≥ 100\n",
    "\n",
    "In addition to this decontamination step, I will implement several others. I will also do an analysis with pre-filtered results to see what fraction of sequences have remained at the end of all QC and decontamination steps. \n"
   ]
  },
  {
   "cell_type": "markdown",
   "metadata": {},
   "source": [
    "### Loading libraries"
   ]
  },
  {
   "cell_type": "code",
   "execution_count": null,
   "metadata": {},
   "outputs": [],
   "source": [
    "%matplotlib inline\n",
    "import matplotlib\n",
    "import matplotlib.pyplot as plt\n",
    "from matplotlib_venn import venn3\n",
    "from matplotlib_venn import venn2\n",
    "\n",
    "import os\n",
    "import glob\n",
    "import re\n",
    "import itertools\n",
    "from collections import Counter\n",
    "\n",
    "import numpy as np\n",
    "import pandas as pd\n",
    "from pandas import ExcelWriter\n",
    "from pandas import ExcelFile\n",
    "import seaborn as sns\n",
    "cmap = sns.cm.rocket_r\n",
    "sns.set_style(\"white\")\n",
    "\n",
    "import anndata\n",
    "print('anndata version:', anndata.__version__)\n",
    "from anndata import read_h5ad\n",
    "from anndata import AnnData\n",
    "\n",
    "import scanpy as sc\n",
    "sc.settings.verbosity = 3  # verbosity: errors (0), warnings (1), info (2), hints (3)\n",
    "sc.settings.set_figure_params(dpi=80)  # low dpi (dots per inch) yields small inline figures\n",
    "sc.logging.print_version_and_date()\n"
   ]
  },
  {
   "cell_type": "markdown",
   "metadata": {},
   "source": [
    "### Loading directories"
   ]
  },
  {
   "cell_type": "code",
   "execution_count": 3,
   "metadata": {},
   "outputs": [],
   "source": [
    "#tsp1and2\n",
    "mainDir = '/oak/stanford/groups/quake/gita/raw/tab1_20200407/thirdAnalysis/10x/'\n",
    "mainDir2 ='/oak/stanford/groups/quake/gita/raw/tab2_20200508/tab2microbial/thirdAnalysis/cranger/round2/'\n",
    "mainDir3 = '/oak/stanford/groups/quake/gita/raw/tab2_20200508/'\n",
    "mainDir4= '/oak/stanford/groups/quake/gita/raw/tab1_20200407/thirdAnalysis/10x/cranger/'\n",
    "mainDir8 = '/oak/stanford/groups/quake/gita/raw/tab1_20200407/controlAnalysis/'\n",
    "mainDir9 = '/oak/stanford/groups/quake/gita/raw/organ_20191025/controlAnalysis/'\n",
    "\n",
    "#tsp3-16 data\n",
    "cranger_dir='/oak/stanford/groups/quake/gita/raw/tab3-14_20210420/all/cranger3/'  \n",
    "mainDir10 = '/oak/stanford/groups/quake/gita/raw/tab3-14_20210420/all/'\n"
   ]
  },
  {
   "cell_type": "markdown",
   "metadata": {},
   "source": [
    "### Single-cell decontamination for donors TSP3-15"
   ]
  },
  {
   "cell_type": "markdown",
   "metadata": {},
   "source": [
    "Through the SIMBA pipeline, I have raw fastqs that I have run UMI tools on and subsequently BLAST. Separately, I have run cell ranger count command to get the raw feature barcode matrix starting from the same raw fastq files.\n"
   ]
  },
  {
   "cell_type": "code",
   "execution_count": 4,
   "metadata": {
    "collapsed": true
   },
   "outputs": [
    {
     "name": "stderr",
     "output_type": "stream",
     "text": [
      "/home/users/gitam/.local/lib/python3.6/site-packages/IPython/core/interactiveshell.py:3072: DtypeWarning: Columns (0,1,2,5,6,8,9,11,12,16,18,44,47,48) have mixed types.Specify dtype option on import or set low_memory=False.\n",
      "  interactivity=interactivity, compiler=compiler, result=result)\n"
     ]
    }
   ],
   "source": [
    "#blast_df\n",
    "all_hits_meta=pd.read_csv(mainDir10 + 'alldons_blast_with_cell_annotations_qc_filtered.csv')\n",
    "\n",
    "#cleaning up the blast df,some of the samples from TSP15 (because of '-' ) were named incorrectly, so I'm correcting their file names\n",
    "all_hits_meta['sample'] = all_hits_meta['sample'].replace('TSP15_Eye_Neuroretina', 'TSP15_Eye_Neuroretina-etc_10X_3_1_S17')\n",
    "all_hits_meta['sample'] = all_hits_meta['sample'].replace('TSP15_Eye_Sclera', 'TSP15_Eye_Sclera-etc_10X_2_1_S16')\n",
    "\n",
    "#this column will match the file names processed by cell ranger (based off of raw folder names, rather than TS object)\n",
    "all_hits_meta['sample_match_cranger'] = all_hits_meta['sample'].apply(lambda x: x.split('_L00')[0])\n",
    "all_hits_meta.drop(columns=['cell_bc_x', 'cell_bc_y'], inplace=True)\n",
    "\n",
    "#removing uninformative columns\n",
    "all_hits_meta = all_hits_meta.drop(columns=['Annotation', 'seqrun','Manually Annotated'])"
   ]
  },
  {
   "cell_type": "markdown",
   "metadata": {},
   "source": [
    "I have put together a column called cell_bc_all which has a cell barcode for hits that appear in annotated and un-annotated cells\n",
    "10X_barcode contains the TS object barcodes and cell_bc contains blast dataframe 10x barcodes, but this new column will contain both"
   ]
  },
  {
   "cell_type": "code",
   "execution_count": 269,
   "metadata": {},
   "outputs": [],
   "source": [
    "all_hits_meta['cell_bc_all'] = all_hits_meta['cell_bc'].fillna(all_hits_meta['10X_barcode']) \n"
   ]
  },
  {
   "cell_type": "code",
   "execution_count": 178,
   "metadata": {
    "collapsed": true
   },
   "outputs": [
    {
     "name": "stdout",
     "output_type": "stream",
     "text": [
      "TSP3_Eye4_062620_S4\n",
      "reading /oak/stanford/groups/quake/gita/raw/tab3-14_20210420/all/cranger3/TSP3_Eye4_062620_S4/outs/raw_feature_bc_matrix.h5\n"
     ]
    },
    {
     "name": "stderr",
     "output_type": "stream",
     "text": [
      "Variable names are not unique. To make them unique, call `.var_names_make_unique`.\n"
     ]
    },
    {
     "name": "stdout",
     "output_type": "stream",
     "text": [
      " (0:00:02)\n"
     ]
    },
    {
     "name": "stderr",
     "output_type": "stream",
     "text": [
      "Variable names are not unique. To make them unique, call `.var_names_make_unique`.\n"
     ]
    },
    {
     "name": "stdout",
     "output_type": "stream",
     "text": [
      "TSP14_Blood_NA_10X_1_1_5Prime_S1\n",
      "reading /oak/stanford/groups/quake/gita/raw/tab3-14_20210420/all/cranger3/TSP14_Blood_NA_10X_1_1_5Prime_S1/outs/raw_feature_bc_matrix.h5\n"
     ]
    },
    {
     "name": "stderr",
     "output_type": "stream",
     "text": [
      "Variable names are not unique. To make them unique, call `.var_names_make_unique`.\n"
     ]
    },
    {
     "name": "stdout",
     "output_type": "stream",
     "text": [
      " (0:00:02)\n"
     ]
    },
    {
     "name": "stderr",
     "output_type": "stream",
     "text": [
      "Variable names are not unique. To make them unique, call `.var_names_make_unique`.\n"
     ]
    },
    {
     "name": "stdout",
     "output_type": "stream",
     "text": [
      "TSP14_Spleen_NA_10X_1_1_5Prime_S5\n",
      "reading /oak/stanford/groups/quake/gita/raw/tab3-14_20210420/all/cranger3/TSP14_Spleen_NA_10X_1_1_5Prime_S5/outs/raw_feature_bc_matrix.h5\n"
     ]
    },
    {
     "name": "stderr",
     "output_type": "stream",
     "text": [
      "Variable names are not unique. To make them unique, call `.var_names_make_unique`.\n"
     ]
    },
    {
     "name": "stdout",
     "output_type": "stream",
     "text": [
      " (0:00:01)\n"
     ]
    },
    {
     "name": "stderr",
     "output_type": "stream",
     "text": [
      "Variable names are not unique. To make them unique, call `.var_names_make_unique`.\n"
     ]
    },
    {
     "name": "stdout",
     "output_type": "stream",
     "text": [
      "TSP14_Blood_NA_10X_1_2_S5\n",
      "reading /oak/stanford/groups/quake/gita/raw/tab3-14_20210420/all/cranger3/TSP14_Blood_NA_10X_1_2_S5/outs/raw_feature_bc_matrix.h5\n"
     ]
    },
    {
     "name": "stderr",
     "output_type": "stream",
     "text": [
      "Variable names are not unique. To make them unique, call `.var_names_make_unique`.\n"
     ]
    },
    {
     "name": "stdout",
     "output_type": "stream",
     "text": [
      " (0:00:02)\n"
     ]
    },
    {
     "name": "stderr",
     "output_type": "stream",
     "text": [
      "Variable names are not unique. To make them unique, call `.var_names_make_unique`.\n"
     ]
    },
    {
     "name": "stdout",
     "output_type": "stream",
     "text": [
      "TSP3_Eye_062620_S1\n",
      "reading /oak/stanford/groups/quake/gita/raw/tab3-14_20210420/all/cranger3/TSP3_Eye_062620_S1/outs/raw_feature_bc_matrix.h5\n"
     ]
    },
    {
     "name": "stderr",
     "output_type": "stream",
     "text": [
      "Variable names are not unique. To make them unique, call `.var_names_make_unique`.\n"
     ]
    },
    {
     "name": "stdout",
     "output_type": "stream",
     "text": [
      " (0:00:01)\n"
     ]
    },
    {
     "name": "stderr",
     "output_type": "stream",
     "text": [
      "Variable names are not unique. To make them unique, call `.var_names_make_unique`.\n"
     ]
    },
    {
     "name": "stdout",
     "output_type": "stream",
     "text": [
      "TSP6_Liver_NA_10X_1_1_S8\n",
      "reading /oak/stanford/groups/quake/gita/raw/tab3-14_20210420/all/cranger3/TSP6_Liver_NA_10X_1_1_S8/outs/raw_feature_bc_matrix.h5\n"
     ]
    },
    {
     "name": "stderr",
     "output_type": "stream",
     "text": [
      "Variable names are not unique. To make them unique, call `.var_names_make_unique`.\n"
     ]
    },
    {
     "name": "stdout",
     "output_type": "stream",
     "text": [
      " (0:00:04)\n"
     ]
    },
    {
     "name": "stderr",
     "output_type": "stream",
     "text": [
      "Variable names are not unique. To make them unique, call `.var_names_make_unique`.\n"
     ]
    },
    {
     "name": "stdout",
     "output_type": "stream",
     "text": [
      "TSP6_Liver_NA_10X_1_2_S9\n",
      "reading /oak/stanford/groups/quake/gita/raw/tab3-14_20210420/all/cranger3/TSP6_Liver_NA_10X_1_2_S9/outs/raw_feature_bc_matrix.h5\n"
     ]
    },
    {
     "name": "stderr",
     "output_type": "stream",
     "text": [
      "Variable names are not unique. To make them unique, call `.var_names_make_unique`.\n"
     ]
    },
    {
     "name": "stdout",
     "output_type": "stream",
     "text": [
      " (0:00:04)\n"
     ]
    },
    {
     "name": "stderr",
     "output_type": "stream",
     "text": [
      "Variable names are not unique. To make them unique, call `.var_names_make_unique`.\n"
     ]
    },
    {
     "name": "stdout",
     "output_type": "stream",
     "text": [
      "TSP6_Trachea_NA_10X_1_1_S10\n",
      "reading /oak/stanford/groups/quake/gita/raw/tab3-14_20210420/all/cranger3/TSP6_Trachea_NA_10X_1_1_S10/outs/raw_feature_bc_matrix.h5\n"
     ]
    },
    {
     "name": "stderr",
     "output_type": "stream",
     "text": [
      "Variable names are not unique. To make them unique, call `.var_names_make_unique`.\n"
     ]
    },
    {
     "name": "stdout",
     "output_type": "stream",
     "text": [
      " (0:00:03)\n"
     ]
    },
    {
     "name": "stderr",
     "output_type": "stream",
     "text": [
      "Variable names are not unique. To make them unique, call `.var_names_make_unique`.\n"
     ]
    },
    {
     "name": "stdout",
     "output_type": "stream",
     "text": [
      "TSP6_Trachea_NA_10X_2_1_S12\n",
      "reading /oak/stanford/groups/quake/gita/raw/tab3-14_20210420/all/cranger3/TSP6_Trachea_NA_10X_2_1_S12/outs/raw_feature_bc_matrix.h5\n"
     ]
    },
    {
     "name": "stderr",
     "output_type": "stream",
     "text": [
      "Variable names are not unique. To make them unique, call `.var_names_make_unique`.\n"
     ]
    },
    {
     "name": "stdout",
     "output_type": "stream",
     "text": [
      " (0:00:04)\n"
     ]
    },
    {
     "name": "stderr",
     "output_type": "stream",
     "text": [
      "Variable names are not unique. To make them unique, call `.var_names_make_unique`.\n"
     ]
    },
    {
     "name": "stdout",
     "output_type": "stream",
     "text": [
      "TSP7_Blood_NA_10X_1_1_S6\n",
      "reading /oak/stanford/groups/quake/gita/raw/tab3-14_20210420/all/cranger3/TSP7_Blood_NA_10X_1_1_S6/outs/raw_feature_bc_matrix.h5\n"
     ]
    },
    {
     "name": "stderr",
     "output_type": "stream",
     "text": [
      "Variable names are not unique. To make them unique, call `.var_names_make_unique`.\n"
     ]
    },
    {
     "name": "stdout",
     "output_type": "stream",
     "text": [
      " (0:00:06)\n"
     ]
    },
    {
     "name": "stderr",
     "output_type": "stream",
     "text": [
      "Variable names are not unique. To make them unique, call `.var_names_make_unique`.\n"
     ]
    },
    {
     "name": "stdout",
     "output_type": "stream",
     "text": [
      "TSP7_LymphNodes_Inguinal_10X_1_1_S2\n",
      "reading /oak/stanford/groups/quake/gita/raw/tab3-14_20210420/all/cranger3/TSP7_LymphNodes_Inguinal_10X_1_1_S2/outs/raw_feature_bc_matrix.h5\n"
     ]
    },
    {
     "name": "stderr",
     "output_type": "stream",
     "text": [
      "Variable names are not unique. To make them unique, call `.var_names_make_unique`.\n"
     ]
    },
    {
     "name": "stdout",
     "output_type": "stream",
     "text": [
      " (0:00:04)\n"
     ]
    },
    {
     "name": "stderr",
     "output_type": "stream",
     "text": [
      "Variable names are not unique. To make them unique, call `.var_names_make_unique`.\n"
     ]
    },
    {
     "name": "stdout",
     "output_type": "stream",
     "text": [
      "TSP7_LymphNodes_Supradiaphagmatic_10X_1_1_S3\n",
      "reading /oak/stanford/groups/quake/gita/raw/tab3-14_20210420/all/cranger3/TSP7_LymphNodes_Supradiaphagmatic_10X_1_1_S3/outs/raw_feature_bc_matrix.h5\n"
     ]
    },
    {
     "name": "stderr",
     "output_type": "stream",
     "text": [
      "Variable names are not unique. To make them unique, call `.var_names_make_unique`.\n"
     ]
    },
    {
     "name": "stdout",
     "output_type": "stream",
     "text": [
      " (0:00:03)\n"
     ]
    },
    {
     "name": "stderr",
     "output_type": "stream",
     "text": [
      "Variable names are not unique. To make them unique, call `.var_names_make_unique`.\n"
     ]
    },
    {
     "name": "stdout",
     "output_type": "stream",
     "text": [
      "TSP7_SalivaryGland_Parotid_10X_1_1_S14\n",
      "reading /oak/stanford/groups/quake/gita/raw/tab3-14_20210420/all/cranger3/TSP7_SalivaryGland_Parotid_10X_1_1_S14/outs/raw_feature_bc_matrix.h5\n"
     ]
    },
    {
     "name": "stderr",
     "output_type": "stream",
     "text": [
      "Variable names are not unique. To make them unique, call `.var_names_make_unique`.\n"
     ]
    },
    {
     "name": "stdout",
     "output_type": "stream",
     "text": [
      " (0:00:06)\n"
     ]
    },
    {
     "name": "stderr",
     "output_type": "stream",
     "text": [
      "Variable names are not unique. To make them unique, call `.var_names_make_unique`.\n"
     ]
    },
    {
     "name": "stdout",
     "output_type": "stream",
     "text": [
      "TSP7_SalivaryGland_Parotid_10X_1_2_S15\n",
      "reading /oak/stanford/groups/quake/gita/raw/tab3-14_20210420/all/cranger3/TSP7_SalivaryGland_Parotid_10X_1_2_S15/outs/raw_feature_bc_matrix.h5\n"
     ]
    },
    {
     "name": "stderr",
     "output_type": "stream",
     "text": [
      "Variable names are not unique. To make them unique, call `.var_names_make_unique`.\n"
     ]
    },
    {
     "name": "stdout",
     "output_type": "stream",
     "text": [
      " (0:00:06)\n"
     ]
    },
    {
     "name": "stderr",
     "output_type": "stream",
     "text": [
      "Variable names are not unique. To make them unique, call `.var_names_make_unique`.\n"
     ]
    },
    {
     "name": "stdout",
     "output_type": "stream",
     "text": [
      "TSP7_Spleen_NA_10X_1_1_S4\n",
      "reading /oak/stanford/groups/quake/gita/raw/tab3-14_20210420/all/cranger3/TSP7_Spleen_NA_10X_1_1_S4/outs/raw_feature_bc_matrix.h5\n"
     ]
    },
    {
     "name": "stderr",
     "output_type": "stream",
     "text": [
      "Variable names are not unique. To make them unique, call `.var_names_make_unique`.\n"
     ]
    },
    {
     "name": "stdout",
     "output_type": "stream",
     "text": [
      " (0:00:04)\n"
     ]
    },
    {
     "name": "stderr",
     "output_type": "stream",
     "text": [
      "Variable names are not unique. To make them unique, call `.var_names_make_unique`.\n"
     ]
    },
    {
     "name": "stdout",
     "output_type": "stream",
     "text": [
      "TSP7_Spleen_NA_10X_2_1_S5\n",
      "reading /oak/stanford/groups/quake/gita/raw/tab3-14_20210420/all/cranger3/TSP7_Spleen_NA_10X_2_1_S5/outs/raw_feature_bc_matrix.h5\n"
     ]
    },
    {
     "name": "stderr",
     "output_type": "stream",
     "text": [
      "Variable names are not unique. To make them unique, call `.var_names_make_unique`.\n"
     ]
    },
    {
     "name": "stdout",
     "output_type": "stream",
     "text": [
      " (0:00:02)\n"
     ]
    },
    {
     "name": "stderr",
     "output_type": "stream",
     "text": [
      "Variable names are not unique. To make them unique, call `.var_names_make_unique`.\n"
     ]
    },
    {
     "name": "stdout",
     "output_type": "stream",
     "text": [
      "TSP7_Tongue_Anterior_10X_1_2_S1\n",
      "reading /oak/stanford/groups/quake/gita/raw/tab3-14_20210420/all/cranger3/TSP7_Tongue_Anterior_10X_1_2_S1/outs/raw_feature_bc_matrix.h5\n"
     ]
    },
    {
     "name": "stderr",
     "output_type": "stream",
     "text": [
      "Variable names are not unique. To make them unique, call `.var_names_make_unique`.\n"
     ]
    },
    {
     "name": "stdout",
     "output_type": "stream",
     "text": [
      " (0:00:03)\n"
     ]
    },
    {
     "name": "stderr",
     "output_type": "stream",
     "text": [
      "Variable names are not unique. To make them unique, call `.var_names_make_unique`.\n"
     ]
    },
    {
     "name": "stdout",
     "output_type": "stream",
     "text": [
      "TSP4_Mammary1_062920_S7\n",
      "reading /oak/stanford/groups/quake/gita/raw/tab3-14_20210420/all/cranger3/TSP4_Mammary1_062920_S7/outs/raw_feature_bc_matrix.h5\n"
     ]
    },
    {
     "name": "stderr",
     "output_type": "stream",
     "text": [
      "Variable names are not unique. To make them unique, call `.var_names_make_unique`.\n"
     ]
    },
    {
     "name": "stdout",
     "output_type": "stream",
     "text": [
      " (0:00:04)\n"
     ]
    },
    {
     "name": "stderr",
     "output_type": "stream",
     "text": [
      "Variable names are not unique. To make them unique, call `.var_names_make_unique`.\n"
     ]
    },
    {
     "name": "stdout",
     "output_type": "stream",
     "text": [
      "TSP4_Mammary2_062920_S8\n",
      "reading /oak/stanford/groups/quake/gita/raw/tab3-14_20210420/all/cranger3/TSP4_Mammary2_062920_S8/outs/raw_feature_bc_matrix.h5\n"
     ]
    },
    {
     "name": "stderr",
     "output_type": "stream",
     "text": [
      "Variable names are not unique. To make them unique, call `.var_names_make_unique`.\n"
     ]
    },
    {
     "name": "stdout",
     "output_type": "stream",
     "text": [
      " (0:00:05)\n"
     ]
    },
    {
     "name": "stderr",
     "output_type": "stream",
     "text": [
      "Variable names are not unique. To make them unique, call `.var_names_make_unique`.\n"
     ]
    },
    {
     "name": "stdout",
     "output_type": "stream",
     "text": [
      "TSP4_Myometrium_062920_S10\n",
      "reading /oak/stanford/groups/quake/gita/raw/tab3-14_20210420/all/cranger3/TSP4_Myometrium_062920_S10/outs/raw_feature_bc_matrix.h5\n"
     ]
    },
    {
     "name": "stderr",
     "output_type": "stream",
     "text": [
      "Variable names are not unique. To make them unique, call `.var_names_make_unique`.\n"
     ]
    },
    {
     "name": "stdout",
     "output_type": "stream",
     "text": [
      " (0:00:04)\n"
     ]
    },
    {
     "name": "stderr",
     "output_type": "stream",
     "text": [
      "Variable names are not unique. To make them unique, call `.var_names_make_unique`.\n"
     ]
    },
    {
     "name": "stdout",
     "output_type": "stream",
     "text": [
      "TSP5_Eye2_062920_S6\n",
      "reading /oak/stanford/groups/quake/gita/raw/tab3-14_20210420/all/cranger3/TSP5_Eye2_062920_S6/outs/raw_feature_bc_matrix.h5\n"
     ]
    },
    {
     "name": "stderr",
     "output_type": "stream",
     "text": [
      "Variable names are not unique. To make them unique, call `.var_names_make_unique`.\n"
     ]
    },
    {
     "name": "stdout",
     "output_type": "stream",
     "text": [
      " (0:00:02)\n"
     ]
    },
    {
     "name": "stderr",
     "output_type": "stream",
     "text": [
      "Variable names are not unique. To make them unique, call `.var_names_make_unique`.\n"
     ]
    },
    {
     "name": "stdout",
     "output_type": "stream",
     "text": [
      "TSP8_Blood_NA_10X_1_1_S1\n",
      "reading /oak/stanford/groups/quake/gita/raw/tab3-14_20210420/all/cranger3/TSP8_Blood_NA_10X_1_1_S1/outs/raw_feature_bc_matrix.h5\n"
     ]
    },
    {
     "name": "stderr",
     "output_type": "stream",
     "text": [
      "Variable names are not unique. To make them unique, call `.var_names_make_unique`.\n"
     ]
    },
    {
     "name": "stdout",
     "output_type": "stream",
     "text": [
      " (0:00:02)\n"
     ]
    },
    {
     "name": "stderr",
     "output_type": "stream",
     "text": [
      "Variable names are not unique. To make them unique, call `.var_names_make_unique`.\n"
     ]
    },
    {
     "name": "stdout",
     "output_type": "stream",
     "text": [
      "TSP3_Eye3_062620_S3\n",
      "reading /oak/stanford/groups/quake/gita/raw/tab3-14_20210420/all/cranger3/TSP3_Eye3_062620_S3/outs/raw_feature_bc_matrix.h5\n"
     ]
    },
    {
     "name": "stderr",
     "output_type": "stream",
     "text": [
      "Variable names are not unique. To make them unique, call `.var_names_make_unique`.\n"
     ]
    },
    {
     "name": "stdout",
     "output_type": "stream",
     "text": [
      " (0:00:05)\n"
     ]
    },
    {
     "name": "stderr",
     "output_type": "stream",
     "text": [
      "Variable names are not unique. To make them unique, call `.var_names_make_unique`.\n"
     ]
    },
    {
     "name": "stdout",
     "output_type": "stream",
     "text": [
      "TSP5_Eye1_062920_S5\n",
      "reading /oak/stanford/groups/quake/gita/raw/tab3-14_20210420/all/cranger3/TSP5_Eye1_062920_S5/outs/raw_feature_bc_matrix.h5\n"
     ]
    },
    {
     "name": "stderr",
     "output_type": "stream",
     "text": [
      "Variable names are not unique. To make them unique, call `.var_names_make_unique`.\n"
     ]
    },
    {
     "name": "stdout",
     "output_type": "stream",
     "text": [
      " (0:00:03)\n"
     ]
    },
    {
     "name": "stderr",
     "output_type": "stream",
     "text": [
      "Variable names are not unique. To make them unique, call `.var_names_make_unique`.\n"
     ]
    },
    {
     "name": "stdout",
     "output_type": "stream",
     "text": [
      "TSP10_Blood_NA_10X_1_1_Enriched_S4\n",
      "reading /oak/stanford/groups/quake/gita/raw/tab3-14_20210420/all/cranger3/TSP10_Blood_NA_10X_1_1_Enriched_S4/outs/raw_feature_bc_matrix.h5\n"
     ]
    },
    {
     "name": "stderr",
     "output_type": "stream",
     "text": [
      "Variable names are not unique. To make them unique, call `.var_names_make_unique`.\n"
     ]
    },
    {
     "name": "stdout",
     "output_type": "stream",
     "text": [
      " (0:00:02)\n"
     ]
    },
    {
     "name": "stderr",
     "output_type": "stream",
     "text": [
      "Variable names are not unique. To make them unique, call `.var_names_make_unique`.\n"
     ]
    },
    {
     "name": "stdout",
     "output_type": "stream",
     "text": [
      "TSP10_Blood_NA_10X_1_1_Whole_S3\n",
      "reading /oak/stanford/groups/quake/gita/raw/tab3-14_20210420/all/cranger3/TSP10_Blood_NA_10X_1_1_Whole_S3/outs/raw_feature_bc_matrix.h5\n"
     ]
    },
    {
     "name": "stderr",
     "output_type": "stream",
     "text": [
      "Variable names are not unique. To make them unique, call `.var_names_make_unique`.\n"
     ]
    },
    {
     "name": "stdout",
     "output_type": "stream",
     "text": [
      " (0:00:01)\n"
     ]
    },
    {
     "name": "stderr",
     "output_type": "stream",
     "text": [
      "Variable names are not unique. To make them unique, call `.var_names_make_unique`.\n"
     ]
    },
    {
     "name": "stdout",
     "output_type": "stream",
     "text": [
      "TSP10_FAT_MAT_10X_1_1_S8\n",
      "reading /oak/stanford/groups/quake/gita/raw/tab3-14_20210420/all/cranger3/TSP10_FAT_MAT_10X_1_1_S8/outs/raw_feature_bc_matrix.h5\n"
     ]
    },
    {
     "name": "stderr",
     "output_type": "stream",
     "text": [
      "Variable names are not unique. To make them unique, call `.var_names_make_unique`.\n"
     ]
    },
    {
     "name": "stdout",
     "output_type": "stream",
     "text": [
      " (0:00:06)\n"
     ]
    },
    {
     "name": "stderr",
     "output_type": "stream",
     "text": [
      "Variable names are not unique. To make them unique, call `.var_names_make_unique`.\n"
     ]
    },
    {
     "name": "stdout",
     "output_type": "stream",
     "text": [
      "TSP10_FAT_SCAT_10X_1_1_S9\n",
      "reading /oak/stanford/groups/quake/gita/raw/tab3-14_20210420/all/cranger3/TSP10_FAT_SCAT_10X_1_1_S9/outs/raw_feature_bc_matrix.h5\n"
     ]
    },
    {
     "name": "stderr",
     "output_type": "stream",
     "text": [
      "Variable names are not unique. To make them unique, call `.var_names_make_unique`.\n"
     ]
    },
    {
     "name": "stdout",
     "output_type": "stream",
     "text": [
      " (0:00:04)\n"
     ]
    },
    {
     "name": "stderr",
     "output_type": "stream",
     "text": [
      "Variable names are not unique. To make them unique, call `.var_names_make_unique`.\n"
     ]
    },
    {
     "name": "stdout",
     "output_type": "stream",
     "text": [
      "TSP10_Skin_NA_10X_1_1_S5\n",
      "reading /oak/stanford/groups/quake/gita/raw/tab3-14_20210420/all/cranger3/TSP10_Skin_NA_10X_1_1_S5/outs/raw_feature_bc_matrix.h5\n"
     ]
    },
    {
     "name": "stderr",
     "output_type": "stream",
     "text": [
      "Variable names are not unique. To make them unique, call `.var_names_make_unique`.\n"
     ]
    },
    {
     "name": "stdout",
     "output_type": "stream",
     "text": [
      " (0:00:02)\n"
     ]
    },
    {
     "name": "stderr",
     "output_type": "stream",
     "text": [
      "Variable names are not unique. To make them unique, call `.var_names_make_unique`.\n"
     ]
    },
    {
     "name": "stdout",
     "output_type": "stream",
     "text": [
      "TSP10_Skin_NA_10X_1_2_S6\n",
      "reading /oak/stanford/groups/quake/gita/raw/tab3-14_20210420/all/cranger3/TSP10_Skin_NA_10X_1_2_S6/outs/raw_feature_bc_matrix.h5\n"
     ]
    },
    {
     "name": "stderr",
     "output_type": "stream",
     "text": [
      "Variable names are not unique. To make them unique, call `.var_names_make_unique`.\n"
     ]
    },
    {
     "name": "stdout",
     "output_type": "stream",
     "text": [
      " (0:00:02)\n"
     ]
    },
    {
     "name": "stderr",
     "output_type": "stream",
     "text": [
      "Variable names are not unique. To make them unique, call `.var_names_make_unique`.\n"
     ]
    },
    {
     "name": "stdout",
     "output_type": "stream",
     "text": [
      "TSP11_BoneMarrow_NA_10X_1_1_LinDepleted_S10\n",
      "reading /oak/stanford/groups/quake/gita/raw/tab3-14_20210420/all/cranger3/TSP11_BoneMarrow_NA_10X_1_1_LinDepleted_S10/outs/raw_feature_bc_matrix.h5\n"
     ]
    },
    {
     "name": "stderr",
     "output_type": "stream",
     "text": [
      "Variable names are not unique. To make them unique, call `.var_names_make_unique`.\n"
     ]
    },
    {
     "name": "stdout",
     "output_type": "stream",
     "text": [
      " (0:00:01)\n"
     ]
    },
    {
     "name": "stderr",
     "output_type": "stream",
     "text": [
      "Variable names are not unique. To make them unique, call `.var_names_make_unique`.\n"
     ]
    },
    {
     "name": "stdout",
     "output_type": "stream",
     "text": [
      "TSP11_BoneMarrow_NA_10X_1_1_LinEnriched_S11\n",
      "reading /oak/stanford/groups/quake/gita/raw/tab3-14_20210420/all/cranger3/TSP11_BoneMarrow_NA_10X_1_1_LinEnriched_S11/outs/raw_feature_bc_matrix.h5\n"
     ]
    },
    {
     "name": "stderr",
     "output_type": "stream",
     "text": [
      "Variable names are not unique. To make them unique, call `.var_names_make_unique`.\n"
     ]
    },
    {
     "name": "stdout",
     "output_type": "stream",
     "text": [
      " (0:00:02)\n"
     ]
    },
    {
     "name": "stderr",
     "output_type": "stream",
     "text": [
      "Variable names are not unique. To make them unique, call `.var_names_make_unique`.\n"
     ]
    },
    {
     "name": "stdout",
     "output_type": "stream",
     "text": [
      "TSP12_Heart_Atria_10X_1_1_S13\n",
      "reading /oak/stanford/groups/quake/gita/raw/tab3-14_20210420/all/cranger3/TSP12_Heart_Atria_10X_1_1_S13/outs/raw_feature_bc_matrix.h5\n"
     ]
    },
    {
     "name": "stderr",
     "output_type": "stream",
     "text": [
      "Variable names are not unique. To make them unique, call `.var_names_make_unique`.\n"
     ]
    },
    {
     "name": "stdout",
     "output_type": "stream",
     "text": [
      " (0:00:06)\n"
     ]
    },
    {
     "name": "stderr",
     "output_type": "stream",
     "text": [
      "Variable names are not unique. To make them unique, call `.var_names_make_unique`.\n"
     ]
    },
    {
     "name": "stdout",
     "output_type": "stream",
     "text": [
      "TSP12_Heart_Ventricle_10X_1_1_S12\n",
      "reading /oak/stanford/groups/quake/gita/raw/tab3-14_20210420/all/cranger3/TSP12_Heart_Ventricle_10X_1_1_S12/outs/raw_feature_bc_matrix.h5\n"
     ]
    },
    {
     "name": "stderr",
     "output_type": "stream",
     "text": [
      "Variable names are not unique. To make them unique, call `.var_names_make_unique`.\n"
     ]
    },
    {
     "name": "stdout",
     "output_type": "stream",
     "text": [
      " (0:00:04)\n"
     ]
    },
    {
     "name": "stderr",
     "output_type": "stream",
     "text": [
      "Variable names are not unique. To make them unique, call `.var_names_make_unique`.\n"
     ]
    },
    {
     "name": "stdout",
     "output_type": "stream",
     "text": [
      "TSP9_Pancreas_exocrine_10X_1_1_CellCountLive_S2\n",
      "reading /oak/stanford/groups/quake/gita/raw/tab3-14_20210420/all/cranger3/TSP9_Pancreas_exocrine_10X_1_1_CellCountLive_S2/outs/raw_feature_bc_matrix.h5\n"
     ]
    },
    {
     "name": "stderr",
     "output_type": "stream",
     "text": [
      "Variable names are not unique. To make them unique, call `.var_names_make_unique`.\n"
     ]
    },
    {
     "name": "stdout",
     "output_type": "stream",
     "text": [
      " (0:00:05)\n"
     ]
    },
    {
     "name": "stderr",
     "output_type": "stream",
     "text": [
      "Variable names are not unique. To make them unique, call `.var_names_make_unique`.\n"
     ]
    },
    {
     "name": "stdout",
     "output_type": "stream",
     "text": [
      "TSP9_Pancreas_exocrine_10X_1_1_CellCountTotal_S1\n",
      "reading /oak/stanford/groups/quake/gita/raw/tab3-14_20210420/all/cranger3/TSP9_Pancreas_exocrine_10X_1_1_CellCountTotal_S1/outs/raw_feature_bc_matrix.h5\n"
     ]
    },
    {
     "name": "stderr",
     "output_type": "stream",
     "text": [
      "Variable names are not unique. To make them unique, call `.var_names_make_unique`.\n"
     ]
    },
    {
     "name": "stdout",
     "output_type": "stream",
     "text": [
      " (0:00:02)\n"
     ]
    },
    {
     "name": "stderr",
     "output_type": "stream",
     "text": [
      "Variable names are not unique. To make them unique, call `.var_names_make_unique`.\n"
     ]
    },
    {
     "name": "stdout",
     "output_type": "stream",
     "text": [
      "TSP14_Blood_NA_10X_2_1_5Prime_S2\n",
      "reading /oak/stanford/groups/quake/gita/raw/tab3-14_20210420/all/cranger3/TSP14_Blood_NA_10X_2_1_5Prime_S2/outs/raw_feature_bc_matrix.h5\n"
     ]
    },
    {
     "name": "stderr",
     "output_type": "stream",
     "text": [
      "Variable names are not unique. To make them unique, call `.var_names_make_unique`.\n"
     ]
    },
    {
     "name": "stdout",
     "output_type": "stream",
     "text": [
      " (0:00:01)\n"
     ]
    },
    {
     "name": "stderr",
     "output_type": "stream",
     "text": [
      "Variable names are not unique. To make them unique, call `.var_names_make_unique`.\n"
     ]
    },
    {
     "name": "stdout",
     "output_type": "stream",
     "text": [
      "TSP14_BoneMarrow_NA_10X_1_1_5Prime_S9\n",
      "reading /oak/stanford/groups/quake/gita/raw/tab3-14_20210420/all/cranger3/TSP14_BoneMarrow_NA_10X_1_1_5Prime_S9/outs/raw_feature_bc_matrix.h5\n"
     ]
    },
    {
     "name": "stderr",
     "output_type": "stream",
     "text": [
      "Variable names are not unique. To make them unique, call `.var_names_make_unique`.\n"
     ]
    },
    {
     "name": "stdout",
     "output_type": "stream",
     "text": [
      " (0:00:01)\n"
     ]
    },
    {
     "name": "stderr",
     "output_type": "stream",
     "text": [
      "Variable names are not unique. To make them unique, call `.var_names_make_unique`.\n"
     ]
    },
    {
     "name": "stdout",
     "output_type": "stream",
     "text": [
      "TSP14_BoneMarrow_NA_10X_2_1_5Prime_S10\n",
      "reading /oak/stanford/groups/quake/gita/raw/tab3-14_20210420/all/cranger3/TSP14_BoneMarrow_NA_10X_2_1_5Prime_S10/outs/raw_feature_bc_matrix.h5\n"
     ]
    },
    {
     "name": "stderr",
     "output_type": "stream",
     "text": [
      "Variable names are not unique. To make them unique, call `.var_names_make_unique`.\n"
     ]
    },
    {
     "name": "stdout",
     "output_type": "stream",
     "text": [
      " (0:00:01)\n"
     ]
    },
    {
     "name": "stderr",
     "output_type": "stream",
     "text": [
      "Variable names are not unique. To make them unique, call `.var_names_make_unique`.\n"
     ]
    },
    {
     "name": "stdout",
     "output_type": "stream",
     "text": [
      "TSP14_Liver_NA_10X_1_1_S11\n",
      "reading /oak/stanford/groups/quake/gita/raw/tab3-14_20210420/all/cranger3/TSP14_Liver_NA_10X_1_1_S11/outs/raw_feature_bc_matrix.h5\n"
     ]
    },
    {
     "name": "stderr",
     "output_type": "stream",
     "text": [
      "Variable names are not unique. To make them unique, call `.var_names_make_unique`.\n"
     ]
    },
    {
     "name": "stdout",
     "output_type": "stream",
     "text": [
      " (0:00:04)\n"
     ]
    },
    {
     "name": "stderr",
     "output_type": "stream",
     "text": [
      "Variable names are not unique. To make them unique, call `.var_names_make_unique`.\n"
     ]
    },
    {
     "name": "stdout",
     "output_type": "stream",
     "text": [
      "TSP14_Liver_NA_10X_2_1_S12\n",
      "reading /oak/stanford/groups/quake/gita/raw/tab3-14_20210420/all/cranger3/TSP14_Liver_NA_10X_2_1_S12/outs/raw_feature_bc_matrix.h5\n"
     ]
    },
    {
     "name": "stderr",
     "output_type": "stream",
     "text": [
      "Variable names are not unique. To make them unique, call `.var_names_make_unique`.\n"
     ]
    },
    {
     "name": "stdout",
     "output_type": "stream",
     "text": [
      " (0:00:04)\n"
     ]
    },
    {
     "name": "stderr",
     "output_type": "stream",
     "text": [
      "Variable names are not unique. To make them unique, call `.var_names_make_unique`.\n"
     ]
    },
    {
     "name": "stdout",
     "output_type": "stream",
     "text": [
      "TSP14_LymphNode_NA_10X_1_1_5Prime_S3\n",
      "reading /oak/stanford/groups/quake/gita/raw/tab3-14_20210420/all/cranger3/TSP14_LymphNode_NA_10X_1_1_5Prime_S3/outs/raw_feature_bc_matrix.h5\n"
     ]
    },
    {
     "name": "stderr",
     "output_type": "stream",
     "text": [
      "Variable names are not unique. To make them unique, call `.var_names_make_unique`.\n"
     ]
    },
    {
     "name": "stdout",
     "output_type": "stream",
     "text": [
      " (0:00:04)\n"
     ]
    },
    {
     "name": "stderr",
     "output_type": "stream",
     "text": [
      "Variable names are not unique. To make them unique, call `.var_names_make_unique`.\n"
     ]
    },
    {
     "name": "stdout",
     "output_type": "stream",
     "text": [
      "TSP14_LymphNode_NA_10X_2_1_5Prime_S4\n",
      "reading /oak/stanford/groups/quake/gita/raw/tab3-14_20210420/all/cranger3/TSP14_LymphNode_NA_10X_2_1_5Prime_S4/outs/raw_feature_bc_matrix.h5\n"
     ]
    },
    {
     "name": "stderr",
     "output_type": "stream",
     "text": [
      "Variable names are not unique. To make them unique, call `.var_names_make_unique`.\n"
     ]
    },
    {
     "name": "stdout",
     "output_type": "stream",
     "text": [
      " (0:00:03)\n"
     ]
    },
    {
     "name": "stderr",
     "output_type": "stream",
     "text": [
      "Variable names are not unique. To make them unique, call `.var_names_make_unique`.\n"
     ]
    },
    {
     "name": "stdout",
     "output_type": "stream",
     "text": [
      "TSP14_SalivaryGland_Parotid_10X_1_1_S14\n",
      "reading /oak/stanford/groups/quake/gita/raw/tab3-14_20210420/all/cranger3/TSP14_SalivaryGland_Parotid_10X_1_1_S14/outs/raw_feature_bc_matrix.h5\n"
     ]
    },
    {
     "name": "stderr",
     "output_type": "stream",
     "text": [
      "Variable names are not unique. To make them unique, call `.var_names_make_unique`.\n"
     ]
    },
    {
     "name": "stdout",
     "output_type": "stream",
     "text": [
      " (0:00:07)\n"
     ]
    },
    {
     "name": "stderr",
     "output_type": "stream",
     "text": [
      "Variable names are not unique. To make them unique, call `.var_names_make_unique`.\n"
     ]
    },
    {
     "name": "stdout",
     "output_type": "stream",
     "text": [
      "TSP14_SalivaryGland_Submandibular_10X_1_1_S13\n",
      "reading /oak/stanford/groups/quake/gita/raw/tab3-14_20210420/all/cranger3/TSP14_SalivaryGland_Submandibular_10X_1_1_S13/outs/raw_feature_bc_matrix.h5\n"
     ]
    },
    {
     "name": "stderr",
     "output_type": "stream",
     "text": [
      "Variable names are not unique. To make them unique, call `.var_names_make_unique`.\n"
     ]
    },
    {
     "name": "stdout",
     "output_type": "stream",
     "text": [
      " (0:00:07)\n"
     ]
    },
    {
     "name": "stderr",
     "output_type": "stream",
     "text": [
      "Variable names are not unique. To make them unique, call `.var_names_make_unique`.\n"
     ]
    },
    {
     "name": "stdout",
     "output_type": "stream",
     "text": [
      "TSP14_Spleen_NA_10X_2_1_5Prime_S6\n",
      "reading /oak/stanford/groups/quake/gita/raw/tab3-14_20210420/all/cranger3/TSP14_Spleen_NA_10X_2_1_5Prime_S6/outs/raw_feature_bc_matrix.h5\n"
     ]
    },
    {
     "name": "stderr",
     "output_type": "stream",
     "text": [
      "Variable names are not unique. To make them unique, call `.var_names_make_unique`.\n"
     ]
    },
    {
     "name": "stdout",
     "output_type": "stream",
     "text": [
      " (0:00:02)\n"
     ]
    },
    {
     "name": "stderr",
     "output_type": "stream",
     "text": [
      "Variable names are not unique. To make them unique, call `.var_names_make_unique`.\n"
     ]
    },
    {
     "name": "stdout",
     "output_type": "stream",
     "text": [
      "TSP14_Thymus_NA_10X_1_1_5Prime_S7\n",
      "reading /oak/stanford/groups/quake/gita/raw/tab3-14_20210420/all/cranger3/TSP14_Thymus_NA_10X_1_1_5Prime_S7/outs/raw_feature_bc_matrix.h5\n"
     ]
    },
    {
     "name": "stderr",
     "output_type": "stream",
     "text": [
      "Variable names are not unique. To make them unique, call `.var_names_make_unique`.\n"
     ]
    },
    {
     "name": "stdout",
     "output_type": "stream",
     "text": [
      " (0:00:01)\n"
     ]
    },
    {
     "name": "stderr",
     "output_type": "stream",
     "text": [
      "Variable names are not unique. To make them unique, call `.var_names_make_unique`.\n"
     ]
    },
    {
     "name": "stdout",
     "output_type": "stream",
     "text": [
      "TSP14_Thymus_NA_10X_2_1_5Prime_S8\n",
      "reading /oak/stanford/groups/quake/gita/raw/tab3-14_20210420/all/cranger3/TSP14_Thymus_NA_10X_2_1_5Prime_S8/outs/raw_feature_bc_matrix.h5\n"
     ]
    },
    {
     "name": "stderr",
     "output_type": "stream",
     "text": [
      "Variable names are not unique. To make them unique, call `.var_names_make_unique`.\n"
     ]
    },
    {
     "name": "stdout",
     "output_type": "stream",
     "text": [
      " (0:00:02)\n"
     ]
    },
    {
     "name": "stderr",
     "output_type": "stream",
     "text": [
      "Variable names are not unique. To make them unique, call `.var_names_make_unique`.\n"
     ]
    },
    {
     "name": "stdout",
     "output_type": "stream",
     "text": [
      "TSP14_LI_Distal_10X_1_1_S10\n",
      "reading /oak/stanford/groups/quake/gita/raw/tab3-14_20210420/all/cranger3/TSP14_LI_Distal_10X_1_1_S10/outs/raw_feature_bc_matrix.h5\n"
     ]
    },
    {
     "name": "stderr",
     "output_type": "stream",
     "text": [
      "Variable names are not unique. To make them unique, call `.var_names_make_unique`.\n"
     ]
    },
    {
     "name": "stdout",
     "output_type": "stream",
     "text": [
      " (0:00:03)\n"
     ]
    },
    {
     "name": "stderr",
     "output_type": "stream",
     "text": [
      "Variable names are not unique. To make them unique, call `.var_names_make_unique`.\n"
     ]
    },
    {
     "name": "stdout",
     "output_type": "stream",
     "text": [
      "TSP14_Skin_Abdomen_10X_1_1_S17\n",
      "reading /oak/stanford/groups/quake/gita/raw/tab3-14_20210420/all/cranger3/TSP14_Skin_Abdomen_10X_1_1_S17/outs/raw_feature_bc_matrix.h5\n"
     ]
    },
    {
     "name": "stderr",
     "output_type": "stream",
     "text": [
      "Variable names are not unique. To make them unique, call `.var_names_make_unique`.\n"
     ]
    },
    {
     "name": "stdout",
     "output_type": "stream",
     "text": [
      " (0:00:01)\n"
     ]
    },
    {
     "name": "stderr",
     "output_type": "stream",
     "text": [
      "Variable names are not unique. To make them unique, call `.var_names_make_unique`.\n"
     ]
    },
    {
     "name": "stdout",
     "output_type": "stream",
     "text": [
      "TSP14_Skin_Chest_10X_1_1_S18\n",
      "reading /oak/stanford/groups/quake/gita/raw/tab3-14_20210420/all/cranger3/TSP14_Skin_Chest_10X_1_1_S18/outs/raw_feature_bc_matrix.h5\n"
     ]
    },
    {
     "name": "stderr",
     "output_type": "stream",
     "text": [
      "Variable names are not unique. To make them unique, call `.var_names_make_unique`.\n"
     ]
    },
    {
     "name": "stdout",
     "output_type": "stream",
     "text": [
      " (0:00:01)\n"
     ]
    },
    {
     "name": "stderr",
     "output_type": "stream",
     "text": [
      "Variable names are not unique. To make them unique, call `.var_names_make_unique`.\n"
     ]
    },
    {
     "name": "stdout",
     "output_type": "stream",
     "text": [
      "TSP14_Muscle_Abdomen_10X_1_1_S4\n",
      "reading /oak/stanford/groups/quake/gita/raw/tab3-14_20210420/all/cranger3/TSP14_Muscle_Abdomen_10X_1_1_S4/outs/raw_feature_bc_matrix.h5\n"
     ]
    },
    {
     "name": "stderr",
     "output_type": "stream",
     "text": [
      "Variable names are not unique. To make them unique, call `.var_names_make_unique`.\n"
     ]
    },
    {
     "name": "stdout",
     "output_type": "stream",
     "text": [
      " (0:00:03)\n"
     ]
    },
    {
     "name": "stderr",
     "output_type": "stream",
     "text": [
      "Variable names are not unique. To make them unique, call `.var_names_make_unique`.\n"
     ]
    },
    {
     "name": "stdout",
     "output_type": "stream",
     "text": [
      "TSP14_Muscle_Diaphragm_10X_1_1_S2\n",
      "reading /oak/stanford/groups/quake/gita/raw/tab3-14_20210420/all/cranger3/TSP14_Muscle_Diaphragm_10X_1_1_S2/outs/raw_feature_bc_matrix.h5\n"
     ]
    },
    {
     "name": "stderr",
     "output_type": "stream",
     "text": [
      "Variable names are not unique. To make them unique, call `.var_names_make_unique`.\n"
     ]
    },
    {
     "name": "stdout",
     "output_type": "stream",
     "text": [
      " (0:00:02)\n"
     ]
    },
    {
     "name": "stderr",
     "output_type": "stream",
     "text": [
      "Variable names are not unique. To make them unique, call `.var_names_make_unique`.\n"
     ]
    },
    {
     "name": "stdout",
     "output_type": "stream",
     "text": [
      "TSP14_Spleen_NA_10X_1_1_S10\n",
      "reading /oak/stanford/groups/quake/gita/raw/tab3-14_20210420/all/cranger3/TSP14_Spleen_NA_10X_1_1_S10/outs/raw_feature_bc_matrix.h5\n"
     ]
    },
    {
     "name": "stderr",
     "output_type": "stream",
     "text": [
      "Variable names are not unique. To make them unique, call `.var_names_make_unique`.\n"
     ]
    },
    {
     "name": "stdout",
     "output_type": "stream",
     "text": [
      " (0:00:03)\n"
     ]
    },
    {
     "name": "stderr",
     "output_type": "stream",
     "text": [
      "Variable names are not unique. To make them unique, call `.var_names_make_unique`.\n"
     ]
    },
    {
     "name": "stdout",
     "output_type": "stream",
     "text": [
      "TSP6_Trachea_NA_10X_1_2_S11\n",
      "reading /oak/stanford/groups/quake/gita/raw/tab3-14_20210420/all/cranger3/TSP6_Trachea_NA_10X_1_2_S11/outs/raw_feature_bc_matrix.h5\n"
     ]
    },
    {
     "name": "stderr",
     "output_type": "stream",
     "text": [
      "Variable names are not unique. To make them unique, call `.var_names_make_unique`.\n"
     ]
    },
    {
     "name": "stdout",
     "output_type": "stream",
     "text": [
      " (0:00:03)\n"
     ]
    },
    {
     "name": "stderr",
     "output_type": "stream",
     "text": [
      "Variable names are not unique. To make them unique, call `.var_names_make_unique`.\n"
     ]
    },
    {
     "name": "stdout",
     "output_type": "stream",
     "text": [
      "TSP3_Eye2_062620_S2\n",
      "reading /oak/stanford/groups/quake/gita/raw/tab3-14_20210420/all/cranger3/TSP3_Eye2_062620_S2/outs/raw_feature_bc_matrix.h5\n"
     ]
    },
    {
     "name": "stderr",
     "output_type": "stream",
     "text": [
      "Variable names are not unique. To make them unique, call `.var_names_make_unique`.\n"
     ]
    },
    {
     "name": "stdout",
     "output_type": "stream",
     "text": [
      " (0:00:01)\n"
     ]
    },
    {
     "name": "stderr",
     "output_type": "stream",
     "text": [
      "Variable names are not unique. To make them unique, call `.var_names_make_unique`.\n"
     ]
    },
    {
     "name": "stdout",
     "output_type": "stream",
     "text": [
      "TSP7_Blood_NA_10X_2_1_S7\n",
      "reading /oak/stanford/groups/quake/gita/raw/tab3-14_20210420/all/cranger3/TSP7_Blood_NA_10X_2_1_S7/outs/raw_feature_bc_matrix.h5\n"
     ]
    },
    {
     "name": "stderr",
     "output_type": "stream",
     "text": [
      "Variable names are not unique. To make them unique, call `.var_names_make_unique`.\n"
     ]
    },
    {
     "name": "stdout",
     "output_type": "stream",
     "text": [
      " (0:00:05)\n"
     ]
    },
    {
     "name": "stderr",
     "output_type": "stream",
     "text": [
      "Variable names are not unique. To make them unique, call `.var_names_make_unique`.\n"
     ]
    },
    {
     "name": "stdout",
     "output_type": "stream",
     "text": [
      "TSP14_Muscle_Diaphragm_10X_1_2_S3\n",
      "reading /oak/stanford/groups/quake/gita/raw/tab3-14_20210420/all/cranger3/TSP14_Muscle_Diaphragm_10X_1_2_S3/outs/raw_feature_bc_matrix.h5\n"
     ]
    },
    {
     "name": "stderr",
     "output_type": "stream",
     "text": [
      "Variable names are not unique. To make them unique, call `.var_names_make_unique`.\n"
     ]
    },
    {
     "name": "stdout",
     "output_type": "stream",
     "text": [
      " (0:00:01)\n"
     ]
    },
    {
     "name": "stderr",
     "output_type": "stream",
     "text": [
      "Variable names are not unique. To make them unique, call `.var_names_make_unique`.\n"
     ]
    },
    {
     "name": "stdout",
     "output_type": "stream",
     "text": [
      "TSP7_Tongue_Posterior_10X_1_1_S13\n",
      "reading /oak/stanford/groups/quake/gita/raw/tab3-14_20210420/all/cranger3/TSP7_Tongue_Posterior_10X_1_1_S13/outs/raw_feature_bc_matrix.h5\n"
     ]
    },
    {
     "name": "stderr",
     "output_type": "stream",
     "text": [
      "Variable names are not unique. To make them unique, call `.var_names_make_unique`.\n"
     ]
    },
    {
     "name": "stdout",
     "output_type": "stream",
     "text": [
      " (0:00:08)\n"
     ]
    },
    {
     "name": "stderr",
     "output_type": "stream",
     "text": [
      "Variable names are not unique. To make them unique, call `.var_names_make_unique`.\n"
     ]
    },
    {
     "name": "stdout",
     "output_type": "stream",
     "text": [
      "TSP14_Bladder_NA_10X_1_2_S12\n",
      "reading /oak/stanford/groups/quake/gita/raw/tab3-14_20210420/all/cranger3/TSP14_Bladder_NA_10X_1_2_S12/outs/raw_feature_bc_matrix.h5\n"
     ]
    },
    {
     "name": "stderr",
     "output_type": "stream",
     "text": [
      "Variable names are not unique. To make them unique, call `.var_names_make_unique`.\n"
     ]
    },
    {
     "name": "stdout",
     "output_type": "stream",
     "text": [
      " (0:00:02)\n"
     ]
    },
    {
     "name": "stderr",
     "output_type": "stream",
     "text": [
      "Variable names are not unique. To make them unique, call `.var_names_make_unique`.\n"
     ]
    },
    {
     "name": "stdout",
     "output_type": "stream",
     "text": [
      "TSP14_Tongue_Posterior_10X_1_1_S13\n",
      "reading /oak/stanford/groups/quake/gita/raw/tab3-14_20210420/all/cranger3/TSP14_Tongue_Posterior_10X_1_1_S13/outs/raw_feature_bc_matrix.h5\n"
     ]
    },
    {
     "name": "stderr",
     "output_type": "stream",
     "text": [
      "Variable names are not unique. To make them unique, call `.var_names_make_unique`.\n"
     ]
    },
    {
     "name": "stdout",
     "output_type": "stream",
     "text": [
      " (0:00:05)\n"
     ]
    },
    {
     "name": "stderr",
     "output_type": "stream",
     "text": [
      "Variable names are not unique. To make them unique, call `.var_names_make_unique`.\n"
     ]
    },
    {
     "name": "stdout",
     "output_type": "stream",
     "text": [
      "TSP15_Eye_Sclera-etc_10X_2_1_S16\n",
      "reading /oak/stanford/groups/quake/gita/raw/tab3-14_20210420/all/cranger3/TSP15_Eye_Sclera-etc_10X_2_1_S16/outs/raw_feature_bc_matrix.h5\n"
     ]
    },
    {
     "name": "stderr",
     "output_type": "stream",
     "text": [
      "Variable names are not unique. To make them unique, call `.var_names_make_unique`.\n"
     ]
    },
    {
     "name": "stdout",
     "output_type": "stream",
     "text": [
      " (0:00:02)\n"
     ]
    },
    {
     "name": "stderr",
     "output_type": "stream",
     "text": [
      "Variable names are not unique. To make them unique, call `.var_names_make_unique`.\n"
     ]
    },
    {
     "name": "stdout",
     "output_type": "stream",
     "text": [
      "TSP15_Eye_Neuroretina-etc_10X_3_1_S17\n",
      "reading /oak/stanford/groups/quake/gita/raw/tab3-14_20210420/all/cranger3/TSP15_Eye_Neuroretina-etc_10X_3_1_S17/outs/raw_feature_bc_matrix.h5\n"
     ]
    },
    {
     "name": "stderr",
     "output_type": "stream",
     "text": [
      "Variable names are not unique. To make them unique, call `.var_names_make_unique`.\n"
     ]
    },
    {
     "name": "stdout",
     "output_type": "stream",
     "text": [
      " (0:00:02)\n"
     ]
    },
    {
     "name": "stderr",
     "output_type": "stream",
     "text": [
      "Variable names are not unique. To make them unique, call `.var_names_make_unique`.\n"
     ]
    }
   ],
   "source": [
    "n = 100 #minimum number of genes\n",
    "\n",
    "df = all_hits_meta\n",
    "all_ratios=pd.DataFrame({})\n",
    "\n",
    "#running this on a per sample basis\n",
    "for sample in df['sample_match_cranger'].unique():\n",
    "    if sample.startswith('TSP16')==False: #don't need donor 16 data because it doesn't have annotations\n",
    "\n",
    "        blast_cells=df[df['sample_match_cranger']==sample] #getting the blast dataframe for each sample\n",
    "        print(sample)\n",
    "        #reading the raw feature bc matrix \n",
    "        raw = sc.read_10x_h5(cranger_dir + sample + '/outs/raw_feature_bc_matrix.h5')\n",
    "        raw.var_names_make_unique()\n",
    "\n",
    "\n",
    "        #getting n_counts and n_genes for the raw matrix\n",
    "        raw.obs['n_counts'] = raw.X.sum(axis=1).A1\n",
    "        sc.pp.filter_cells(raw, min_genes=0)\n",
    "        raw.obs = raw.obs.reset_index().rename(columns={'index':'cell_bc_all'})\n",
    "        raw.obs['cell_bc_all'] = raw.obs['cell_bc_all'].str.strip('-1') #removing the -1 extention to match the object and dataframe formats of cell barcodes\n",
    "\n",
    "        #making classifications of empty and non-empty cells based on how many genes they contain\n",
    "        num_all_empty = raw[raw.obs['n_genes']<n].shape[0]\n",
    "        num_all_cells =  raw[raw.obs['n_genes']>=n].shape[0]\n",
    "\n",
    "        #for each species in a given sample the following procedure is run\n",
    "        ratio=[]\n",
    "        for sp in blast_cells['species'].unique():\n",
    "            #this is the blast dataframe for each species in each sample\n",
    "            blast_cells_sp = blast_cells[blast_cells['species']==sp] \n",
    "\n",
    "            #what fraction of blast_cells for a given species are showing up in empty droplets versus cells\n",
    "            total=raw.obs.merge(blast_cells_sp, on='cell_bc_all', how='inner')\n",
    "\n",
    "            #identifying whether they occured in cells versus in empty droplets\n",
    "            put_cell=total[total['n_genes_x']>=n]\n",
    "            put_empty=total[total['n_genes_x']<n]\n",
    "\n",
    "            ratio_dict = {'species':sp, 'num_cells': put_cell['cell_bc_all'].nunique(), \n",
    "                  'num_empty': put_empty['cell_bc_all'].nunique()}\n",
    "            ratio.append(ratio_dict)\n",
    "\n",
    "\n",
    "        #creating a ratio dataframe\n",
    "        ratio_df=pd.DataFrame(ratio)\n",
    "        ratio_df['sample']=[sample]*ratio_df.shape[0]\n",
    "        ratio_df['ratio']=ratio_df['num_cells']/ratio_df['num_empty'] #number of hits found in cells versus empty droplets\n",
    "        ratio_df['adj_num_cells'] = ratio_df['num_cells']/num_all_cells #number of cells divided by total number of cells \n",
    "        ratio_df['adj_num_empty'] = ratio_df['num_empty']/num_all_empty #number of empty droplets divided by total number of empty droplets\n",
    "        ratio_df['adj_ratio'] = ratio_df['adj_num_cells']/ratio_df['adj_num_empty']\n",
    "\n",
    "        #replacing infinity values (division by 0 - because those species had 0 occurance in empty droplets) by 1000 and the threshold for enrichment is 100, so 1000 will allow them to pass since they don't appear in empty droplets\n",
    "        ratio_df['ratio'].replace([np.inf, -np.inf], 1000, inplace=True)\n",
    "        ratio_df['adj_ratio'].replace([np.inf, -np.inf], 1000, inplace=True)\n",
    "\n",
    "        all_ratios = pd.concat([all_ratios, ratio_df])\n",
    "\n",
    "\n",
    "all_ratios.to_csv(mainDir10 + 'don3-15_n100_m100_cell_to_empty_species_ratios.csv', index=False)"
   ]
  },
  {
   "cell_type": "markdown",
   "metadata": {},
   "source": [
    "now I will merge the ratios dataframe with the blast dataframe which has cell annotations already. "
   ]
  },
  {
   "cell_type": "code",
   "execution_count": 270,
   "metadata": {},
   "outputs": [],
   "source": [
    "#changing column name to match all_ratios df to blast df. \n",
    "all_ratios = all_ratios.rename(columns={'sample':'sample_match_cranger'})"
   ]
  },
  {
   "cell_type": "code",
   "execution_count": 271,
   "metadata": {},
   "outputs": [
    {
     "name": "stdout",
     "output_type": "stream",
     "text": [
      "surviving fraction of hits: 0.17041960498230255\n"
     ]
    }
   ],
   "source": [
    "all_hits_meta_ratios = all_hits_meta.merge(all_ratios, on=['species', 'sample_match_cranger'], how='outer')\n",
    "print('surviving fraction of hits:', all_hits_meta_ratios[all_hits_meta_ratios['adj_ratio']>=100].shape[0]/all_hits_meta_ratios.shape[0])\n",
    "\n",
    "#making sure I can seperate out donor 1 and 2 dataset from the rest by adding an extra column\n",
    "all_hits_meta_ratios['dataset'] = ['tsp3_on'] *all_hits_meta_ratios.shape[0]\n"
   ]
  },
  {
   "cell_type": "markdown",
   "metadata": {},
   "source": [
    "Saving this dataframe for donors 3-16, which has now R_dts information which can be used to decontaminate the dataset\n",
    "note this has ratios (R_dts) but hasn't been filtered based on R_dts "
   ]
  },
  {
   "cell_type": "code",
   "execution_count": 272,
   "metadata": {},
   "outputs": [],
   "source": [
    "all_hits_meta_ratios.to_csv(mainDir + 'don3_to_don16_10x_blastn_nt_withRatios_10_14_2021.csv', index=False)"
   ]
  },
  {
   "cell_type": "markdown",
   "metadata": {},
   "source": [
    "### Single-cell decontamination for donors TSP1-2\n"
   ]
  },
  {
   "cell_type": "code",
   "execution_count": null,
   "metadata": {},
   "outputs": [],
   "source": [
    "#reading the blast dataframe\n",
    "fin_fil = pd.read_csv(mainDir + 'don1_don2_10x_blastn_nt_naPhylaNotFiltered_03_12_2021.csv')\n",
    "\n",
    "fin_fil['cell_bc'] = fin_fil['cell'].apply(lambda x: x+'-1')\n",
    "fin_fil['sample_new'] = fin_fil['sample'].apply(lambda x: x.split('_L0')[0])\n",
    "fin_fil['donor_new'] = fin_fil['sample'].apply(lambda x: x.split('_')[0])\n",
    "fin_fil['donor_new'] = fin_fil['sample'].apply(lambda x: x.split('_')[0])\n",
    "fin_fil['tissue_new'] = fin_fil['sample'].apply(lambda x: x.split('_')[1]).apply(lambda x: x.lower())"
   ]
  },
  {
   "cell_type": "markdown",
   "metadata": {},
   "source": [
    "### donor 2\n",
    "performing the same operation as the one above (for donors 3-15) for donors 2 and 1. "
   ]
  },
  {
   "cell_type": "code",
   "execution_count": 49,
   "metadata": {
    "collapsed": true
   },
   "outputs": [
    {
     "name": "stdout",
     "output_type": "stream",
     "text": [
      "reading /oak/stanford/groups/quake/gita/raw/tab2_20200508/tab2microbial/thirdAnalysis/cranger/round2/TSP2_Heart_ventricle_10X_1_1_S14/outs/raw_feature_bc_matrix.h5\n"
     ]
    },
    {
     "name": "stderr",
     "output_type": "stream",
     "text": [
      "Variable names are not unique. To make them unique, call `.var_names_make_unique`.\n"
     ]
    },
    {
     "name": "stdout",
     "output_type": "stream",
     "text": [
      " (0:00:02)\n"
     ]
    },
    {
     "name": "stderr",
     "output_type": "stream",
     "text": [
      "Variable names are not unique. To make them unique, call `.var_names_make_unique`.\n"
     ]
    },
    {
     "name": "stdout",
     "output_type": "stream",
     "text": [
      "reading /oak/stanford/groups/quake/gita/raw/tab2_20200508/tab2microbial/thirdAnalysis/cranger/round2/TSP2_Blood_NA_10X_1_3_S15/outs/raw_feature_bc_matrix.h5\n"
     ]
    },
    {
     "name": "stderr",
     "output_type": "stream",
     "text": [
      "Variable names are not unique. To make them unique, call `.var_names_make_unique`.\n"
     ]
    },
    {
     "name": "stdout",
     "output_type": "stream",
     "text": [
      " (0:00:01)\n"
     ]
    },
    {
     "name": "stderr",
     "output_type": "stream",
     "text": [
      "Variable names are not unique. To make them unique, call `.var_names_make_unique`.\n"
     ]
    },
    {
     "name": "stdout",
     "output_type": "stream",
     "text": [
      "reading /oak/stanford/groups/quake/gita/raw/tab2_20200508/tab2microbial/thirdAnalysis/cranger/round2/TSP2_Bladder_NA_10X_1_1_S5/outs/raw_feature_bc_matrix.h5\n"
     ]
    },
    {
     "name": "stderr",
     "output_type": "stream",
     "text": [
      "Variable names are not unique. To make them unique, call `.var_names_make_unique`.\n"
     ]
    },
    {
     "name": "stdout",
     "output_type": "stream",
     "text": [
      " (0:00:01)\n"
     ]
    },
    {
     "name": "stderr",
     "output_type": "stream",
     "text": [
      "Variable names are not unique. To make them unique, call `.var_names_make_unique`.\n"
     ]
    },
    {
     "name": "stdout",
     "output_type": "stream",
     "text": [
      "reading /oak/stanford/groups/quake/gita/raw/tab2_20200508/tab2microbial/thirdAnalysis/cranger/round2/TSP2_SI_distal_10X_1_1_Jejunum_S22/outs/raw_feature_bc_matrix.h5\n"
     ]
    },
    {
     "name": "stderr",
     "output_type": "stream",
     "text": [
      "Variable names are not unique. To make them unique, call `.var_names_make_unique`.\n"
     ]
    },
    {
     "name": "stdout",
     "output_type": "stream",
     "text": [
      " (0:00:02)\n"
     ]
    },
    {
     "name": "stderr",
     "output_type": "stream",
     "text": [
      "Variable names are not unique. To make them unique, call `.var_names_make_unique`.\n"
     ]
    },
    {
     "name": "stdout",
     "output_type": "stream",
     "text": [
      "reading /oak/stanford/groups/quake/gita/raw/tab2_20200508/tab2microbial/thirdAnalysis/cranger/round2/TSP2_Vasculature_Aorta_10X_1_1_S26/outs/raw_feature_bc_matrix.h5\n"
     ]
    },
    {
     "name": "stderr",
     "output_type": "stream",
     "text": [
      "Variable names are not unique. To make them unique, call `.var_names_make_unique`.\n"
     ]
    },
    {
     "name": "stdout",
     "output_type": "stream",
     "text": [
      " (0:00:02)\n"
     ]
    },
    {
     "name": "stderr",
     "output_type": "stream",
     "text": [
      "Variable names are not unique. To make them unique, call `.var_names_make_unique`.\n"
     ]
    },
    {
     "name": "stdout",
     "output_type": "stream",
     "text": [
      "reading /oak/stanford/groups/quake/gita/raw/tab2_20200508/tab2microbial/thirdAnalysis/cranger/round2/TSP2_Spleen_NA_10X_2_1_S18/outs/raw_feature_bc_matrix.h5\n"
     ]
    },
    {
     "name": "stderr",
     "output_type": "stream",
     "text": [
      "Variable names are not unique. To make them unique, call `.var_names_make_unique`.\n"
     ]
    },
    {
     "name": "stdout",
     "output_type": "stream",
     "text": [
      " (0:00:01)\n"
     ]
    },
    {
     "name": "stderr",
     "output_type": "stream",
     "text": [
      "Variable names are not unique. To make them unique, call `.var_names_make_unique`.\n"
     ]
    },
    {
     "name": "stdout",
     "output_type": "stream",
     "text": [
      "reading /oak/stanford/groups/quake/gita/raw/tab2_20200508/tab2microbial/thirdAnalysis/cranger/round2/TSP2_Thymus_NA_10X_1_2_S4/outs/raw_feature_bc_matrix.h5\n"
     ]
    },
    {
     "name": "stderr",
     "output_type": "stream",
     "text": [
      "Variable names are not unique. To make them unique, call `.var_names_make_unique`.\n"
     ]
    },
    {
     "name": "stdout",
     "output_type": "stream",
     "text": [
      " (0:00:01)\n"
     ]
    },
    {
     "name": "stderr",
     "output_type": "stream",
     "text": [
      "Variable names are not unique. To make them unique, call `.var_names_make_unique`.\n"
     ]
    },
    {
     "name": "stdout",
     "output_type": "stream",
     "text": [
      "reading /oak/stanford/groups/quake/gita/raw/tab2_20200508/tab2microbial/thirdAnalysis/cranger/round2/TSP2_Trachea_NA_10X_1_2_S23/outs/raw_feature_bc_matrix.h5\n"
     ]
    },
    {
     "name": "stderr",
     "output_type": "stream",
     "text": [
      "Variable names are not unique. To make them unique, call `.var_names_make_unique`.\n"
     ]
    },
    {
     "name": "stdout",
     "output_type": "stream",
     "text": [
      " (0:00:02)\n"
     ]
    },
    {
     "name": "stderr",
     "output_type": "stream",
     "text": [
      "Variable names are not unique. To make them unique, call `.var_names_make_unique`.\n"
     ]
    },
    {
     "name": "stdout",
     "output_type": "stream",
     "text": [
      "reading /oak/stanford/groups/quake/gita/raw/tab2_20200508/tab2microbial/thirdAnalysis/cranger/round2/TSP2_Kidney_NA_10X_1_1_S1/outs/raw_feature_bc_matrix.h5\n"
     ]
    },
    {
     "name": "stderr",
     "output_type": "stream",
     "text": [
      "Variable names are not unique. To make them unique, call `.var_names_make_unique`.\n"
     ]
    },
    {
     "name": "stdout",
     "output_type": "stream",
     "text": [
      " (0:00:02)\n"
     ]
    },
    {
     "name": "stderr",
     "output_type": "stream",
     "text": [
      "Variable names are not unique. To make them unique, call `.var_names_make_unique`.\n"
     ]
    },
    {
     "name": "stdout",
     "output_type": "stream",
     "text": [
      "reading /oak/stanford/groups/quake/gita/raw/tab2_20200508/tab2microbial/thirdAnalysis/cranger/round2/TSP2_BM_vertebralbody_10X_2_1_S28/outs/raw_feature_bc_matrix.h5\n"
     ]
    },
    {
     "name": "stderr",
     "output_type": "stream",
     "text": [
      "Variable names are not unique. To make them unique, call `.var_names_make_unique`.\n"
     ]
    },
    {
     "name": "stdout",
     "output_type": "stream",
     "text": [
      " (0:00:01)\n"
     ]
    },
    {
     "name": "stderr",
     "output_type": "stream",
     "text": [
      "Variable names are not unique. To make them unique, call `.var_names_make_unique`.\n"
     ]
    },
    {
     "name": "stdout",
     "output_type": "stream",
     "text": [
      "reading /oak/stanford/groups/quake/gita/raw/tab2_20200508/tab2microbial/thirdAnalysis/cranger/round2/TSP2_Spleen_NA_10X_1_1_S17/outs/raw_feature_bc_matrix.h5\n"
     ]
    },
    {
     "name": "stderr",
     "output_type": "stream",
     "text": [
      "Variable names are not unique. To make them unique, call `.var_names_make_unique`.\n"
     ]
    },
    {
     "name": "stdout",
     "output_type": "stream",
     "text": [
      " (0:00:01)\n"
     ]
    },
    {
     "name": "stderr",
     "output_type": "stream",
     "text": [
      "Variable names are not unique. To make them unique, call `.var_names_make_unique`.\n"
     ]
    },
    {
     "name": "stdout",
     "output_type": "stream",
     "text": [
      "reading /oak/stanford/groups/quake/gita/raw/tab2_20200508/tab2microbial/thirdAnalysis/cranger/round2/TSP2_BM_vertebralbody_10X_1_1_S29/outs/raw_feature_bc_matrix.h5\n"
     ]
    },
    {
     "name": "stderr",
     "output_type": "stream",
     "text": [
      "Variable names are not unique. To make them unique, call `.var_names_make_unique`.\n"
     ]
    },
    {
     "name": "stdout",
     "output_type": "stream",
     "text": [
      " (0:00:01)\n"
     ]
    },
    {
     "name": "stderr",
     "output_type": "stream",
     "text": [
      "Variable names are not unique. To make them unique, call `.var_names_make_unique`.\n"
     ]
    },
    {
     "name": "stdout",
     "output_type": "stream",
     "text": [
      "reading /oak/stanford/groups/quake/gita/raw/tab2_20200508/tab2microbial/thirdAnalysis/cranger/round2/TSP2_Muscle_rectusabdominus_10X_1_1_S10/outs/raw_feature_bc_matrix.h5\n"
     ]
    },
    {
     "name": "stderr",
     "output_type": "stream",
     "text": [
      "Variable names are not unique. To make them unique, call `.var_names_make_unique`.\n"
     ]
    },
    {
     "name": "stdout",
     "output_type": "stream",
     "text": [
      " (0:00:01)\n"
     ]
    },
    {
     "name": "stderr",
     "output_type": "stream",
     "text": [
      "Variable names are not unique. To make them unique, call `.var_names_make_unique`.\n"
     ]
    },
    {
     "name": "stdout",
     "output_type": "stream",
     "text": [
      "reading /oak/stanford/groups/quake/gita/raw/tab2_20200508/tab2microbial/thirdAnalysis/cranger/round2/TSP2_Blood_NA_10X_2_1_S16/outs/raw_feature_bc_matrix.h5\n"
     ]
    },
    {
     "name": "stderr",
     "output_type": "stream",
     "text": [
      "Variable names are not unique. To make them unique, call `.var_names_make_unique`.\n"
     ]
    },
    {
     "name": "stdout",
     "output_type": "stream",
     "text": [
      " (0:00:01)\n"
     ]
    },
    {
     "name": "stderr",
     "output_type": "stream",
     "text": [
      "Variable names are not unique. To make them unique, call `.var_names_make_unique`.\n"
     ]
    },
    {
     "name": "stdout",
     "output_type": "stream",
     "text": [
      "reading /oak/stanford/groups/quake/gita/raw/tab2_20200508/tab2microbial/thirdAnalysis/cranger/round2/TSP2_Bladder_NA_10X_1_2_S6/outs/raw_feature_bc_matrix.h5\n"
     ]
    },
    {
     "name": "stderr",
     "output_type": "stream",
     "text": [
      "Variable names are not unique. To make them unique, call `.var_names_make_unique`.\n"
     ]
    },
    {
     "name": "stdout",
     "output_type": "stream",
     "text": [
      " (0:00:02)\n"
     ]
    },
    {
     "name": "stderr",
     "output_type": "stream",
     "text": [
      "Variable names are not unique. To make them unique, call `.var_names_make_unique`.\n"
     ]
    },
    {
     "name": "stdout",
     "output_type": "stream",
     "text": [
      "reading /oak/stanford/groups/quake/gita/raw/tab2_20200508/tab2microbial/thirdAnalysis/cranger/round2/TSP2_LymphNode_NA_10X_2_1_S20/outs/raw_feature_bc_matrix.h5\n"
     ]
    },
    {
     "name": "stderr",
     "output_type": "stream",
     "text": [
      "Variable names are not unique. To make them unique, call `.var_names_make_unique`.\n"
     ]
    },
    {
     "name": "stdout",
     "output_type": "stream",
     "text": [
      " (0:00:01)\n"
     ]
    },
    {
     "name": "stderr",
     "output_type": "stream",
     "text": [
      "Variable names are not unique. To make them unique, call `.var_names_make_unique`.\n"
     ]
    },
    {
     "name": "stdout",
     "output_type": "stream",
     "text": [
      "reading /oak/stanford/groups/quake/gita/raw/tab2_20200508/tab2microbial/thirdAnalysis/cranger/round2/TSP2_Lung_proxmedialdistal_10X_1_1_S24/outs/raw_feature_bc_matrix.h5\n"
     ]
    },
    {
     "name": "stderr",
     "output_type": "stream",
     "text": [
      "Variable names are not unique. To make them unique, call `.var_names_make_unique`.\n"
     ]
    },
    {
     "name": "stdout",
     "output_type": "stream",
     "text": [
      " (0:00:02)\n"
     ]
    },
    {
     "name": "stderr",
     "output_type": "stream",
     "text": [
      "Variable names are not unique. To make them unique, call `.var_names_make_unique`.\n"
     ]
    },
    {
     "name": "stdout",
     "output_type": "stream",
     "text": [
      "reading /oak/stanford/groups/quake/gita/raw/tab2_20200508/tab2microbial/thirdAnalysis/cranger/round2/TSP2_Muscle_diaphragm_10X_1_2_S13/outs/raw_feature_bc_matrix.h5\n"
     ]
    },
    {
     "name": "stderr",
     "output_type": "stream",
     "text": [
      "Variable names are not unique. To make them unique, call `.var_names_make_unique`.\n"
     ]
    },
    {
     "name": "stdout",
     "output_type": "stream",
     "text": [
      " (0:00:01)\n"
     ]
    },
    {
     "name": "stderr",
     "output_type": "stream",
     "text": [
      "Variable names are not unique. To make them unique, call `.var_names_make_unique`.\n"
     ]
    },
    {
     "name": "stdout",
     "output_type": "stream",
     "text": [
      "reading /oak/stanford/groups/quake/gita/raw/tab2_20200508/tab2microbial/thirdAnalysis/cranger/round2/TSP2_Vasculature_Aorta_10X_1_2_S27/outs/raw_feature_bc_matrix.h5\n"
     ]
    },
    {
     "name": "stderr",
     "output_type": "stream",
     "text": [
      "Variable names are not unique. To make them unique, call `.var_names_make_unique`.\n"
     ]
    },
    {
     "name": "stdout",
     "output_type": "stream",
     "text": [
      " (0:00:02)\n"
     ]
    },
    {
     "name": "stderr",
     "output_type": "stream",
     "text": [
      "Variable names are not unique. To make them unique, call `.var_names_make_unique`.\n"
     ]
    },
    {
     "name": "stdout",
     "output_type": "stream",
     "text": [
      "reading /oak/stanford/groups/quake/gita/raw/tab2_20200508/tab2microbial/thirdAnalysis/cranger/round2/TSP2_Thymus_NA_10X_1_1_S3/outs/raw_feature_bc_matrix.h5\n"
     ]
    },
    {
     "name": "stderr",
     "output_type": "stream",
     "text": [
      "Variable names are not unique. To make them unique, call `.var_names_make_unique`.\n"
     ]
    },
    {
     "name": "stdout",
     "output_type": "stream",
     "text": [
      " (0:00:01)\n"
     ]
    },
    {
     "name": "stderr",
     "output_type": "stream",
     "text": [
      "Variable names are not unique. To make them unique, call `.var_names_make_unique`.\n"
     ]
    },
    {
     "name": "stdout",
     "output_type": "stream",
     "text": [
      "reading /oak/stanford/groups/quake/gita/raw/tab2_20200508/tab2microbial/thirdAnalysis/cranger/round2/TSP2_LymphNode_NA_10X_1_1_S19/outs/raw_feature_bc_matrix.h5\n"
     ]
    },
    {
     "name": "stderr",
     "output_type": "stream",
     "text": [
      "Variable names are not unique. To make them unique, call `.var_names_make_unique`.\n"
     ]
    },
    {
     "name": "stdout",
     "output_type": "stream",
     "text": [
      " (0:00:01)\n"
     ]
    },
    {
     "name": "stderr",
     "output_type": "stream",
     "text": [
      "Variable names are not unique. To make them unique, call `.var_names_make_unique`.\n"
     ]
    },
    {
     "name": "stdout",
     "output_type": "stream",
     "text": [
      "reading /oak/stanford/groups/quake/gita/raw/tab2_20200508/tab2microbial/thirdAnalysis/cranger/round2/TSP2_Muscle_diaphragm_10X_1_1_S12/outs/raw_feature_bc_matrix.h5\n"
     ]
    },
    {
     "name": "stderr",
     "output_type": "stream",
     "text": [
      "Variable names are not unique. To make them unique, call `.var_names_make_unique`.\n"
     ]
    },
    {
     "name": "stdout",
     "output_type": "stream",
     "text": [
      " (0:00:01)\n"
     ]
    },
    {
     "name": "stderr",
     "output_type": "stream",
     "text": [
      "Variable names are not unique. To make them unique, call `.var_names_make_unique`.\n"
     ]
    },
    {
     "name": "stdout",
     "output_type": "stream",
     "text": [
      "reading /oak/stanford/groups/quake/gita/raw/tab2_20200508/tab2microbial/thirdAnalysis/cranger/round2/TSP2_Muscle_rectusabdominus_10X_1_2_S11/outs/raw_feature_bc_matrix.h5\n"
     ]
    },
    {
     "name": "stderr",
     "output_type": "stream",
     "text": [
      "Variable names are not unique. To make them unique, call `.var_names_make_unique`.\n"
     ]
    },
    {
     "name": "stdout",
     "output_type": "stream",
     "text": [
      " (0:00:01)\n"
     ]
    },
    {
     "name": "stderr",
     "output_type": "stream",
     "text": [
      "Variable names are not unique. To make them unique, call `.var_names_make_unique`.\n"
     ]
    },
    {
     "name": "stdout",
     "output_type": "stream",
     "text": [
      "reading /oak/stanford/groups/quake/gita/raw/tab2_20200508/tab2microbial/thirdAnalysis/cranger/round2/TSP2_LI_proximal_10X_1_1_Ascending_S8/outs/raw_feature_bc_matrix.h5\n"
     ]
    },
    {
     "name": "stderr",
     "output_type": "stream",
     "text": [
      "Variable names are not unique. To make them unique, call `.var_names_make_unique`.\n"
     ]
    },
    {
     "name": "stdout",
     "output_type": "stream",
     "text": [
      " (0:00:01)\n"
     ]
    },
    {
     "name": "stderr",
     "output_type": "stream",
     "text": [
      "Variable names are not unique. To make them unique, call `.var_names_make_unique`.\n"
     ]
    },
    {
     "name": "stdout",
     "output_type": "stream",
     "text": [
      "reading /oak/stanford/groups/quake/gita/raw/tab2_20200508/tab2microbial/thirdAnalysis/cranger/round2/TSP2_SI_proximal_10X_1_1_Duodenum_S21/outs/raw_feature_bc_matrix.h5\n"
     ]
    },
    {
     "name": "stderr",
     "output_type": "stream",
     "text": [
      "Variable names are not unique. To make them unique, call `.var_names_make_unique`.\n"
     ]
    },
    {
     "name": "stdout",
     "output_type": "stream",
     "text": [
      " (0:00:01)\n"
     ]
    },
    {
     "name": "stderr",
     "output_type": "stream",
     "text": [
      "Variable names are not unique. To make them unique, call `.var_names_make_unique`.\n"
     ]
    },
    {
     "name": "stdout",
     "output_type": "stream",
     "text": [
      "reading /oak/stanford/groups/quake/gita/raw/tab2_20200508/tab2microbial/thirdAnalysis/cranger/round2/TSP2_Lung_proxmedialdistal_10X_1_2_S25/outs/raw_feature_bc_matrix.h5\n"
     ]
    },
    {
     "name": "stderr",
     "output_type": "stream",
     "text": [
      "Variable names are not unique. To make them unique, call `.var_names_make_unique`.\n"
     ]
    },
    {
     "name": "stdout",
     "output_type": "stream",
     "text": [
      " (0:00:02)\n"
     ]
    },
    {
     "name": "stderr",
     "output_type": "stream",
     "text": [
      "Variable names are not unique. To make them unique, call `.var_names_make_unique`.\n"
     ]
    },
    {
     "name": "stdout",
     "output_type": "stream",
     "text": [
      "reading /oak/stanford/groups/quake/gita/raw/tab2_20200508/tab2microbial/thirdAnalysis/cranger/round2/TSP2_Kidney_NA_10X_1_2_S2/outs/raw_feature_bc_matrix.h5\n"
     ]
    },
    {
     "name": "stderr",
     "output_type": "stream",
     "text": [
      "Variable names are not unique. To make them unique, call `.var_names_make_unique`.\n"
     ]
    },
    {
     "name": "stdout",
     "output_type": "stream",
     "text": [
      " (0:00:02)\n"
     ]
    },
    {
     "name": "stderr",
     "output_type": "stream",
     "text": [
      "Variable names are not unique. To make them unique, call `.var_names_make_unique`.\n"
     ]
    },
    {
     "name": "stdout",
     "output_type": "stream",
     "text": [
      "reading /oak/stanford/groups/quake/gita/raw/tab2_20200508/tab2microbial/thirdAnalysis/cranger/round2/TSP2_Thymus_NA_10X_1_4_5prime_S33/outs/raw_feature_bc_matrix.h5\n"
     ]
    },
    {
     "name": "stderr",
     "output_type": "stream",
     "text": [
      "Variable names are not unique. To make them unique, call `.var_names_make_unique`.\n"
     ]
    },
    {
     "name": "stdout",
     "output_type": "stream",
     "text": [
      " (0:00:00)\n"
     ]
    },
    {
     "name": "stderr",
     "output_type": "stream",
     "text": [
      "Variable names are not unique. To make them unique, call `.var_names_make_unique`.\n"
     ]
    },
    {
     "name": "stdout",
     "output_type": "stream",
     "text": [
      "reading /oak/stanford/groups/quake/gita/raw/tab2_20200508/tab2microbial/thirdAnalysis/cranger/round2/TSP2_BM_vertebralbody_10X_1_2_5prime_S35/outs/raw_feature_bc_matrix.h5\n"
     ]
    },
    {
     "name": "stderr",
     "output_type": "stream",
     "text": [
      "Variable names are not unique. To make them unique, call `.var_names_make_unique`.\n"
     ]
    },
    {
     "name": "stdout",
     "output_type": "stream",
     "text": [
      " (0:00:00)\n"
     ]
    },
    {
     "name": "stderr",
     "output_type": "stream",
     "text": [
      "Variable names are not unique. To make them unique, call `.var_names_make_unique`.\n"
     ]
    },
    {
     "name": "stdout",
     "output_type": "stream",
     "text": [
      "reading /oak/stanford/groups/quake/gita/raw/tab2_20200508/tab2microbial/thirdAnalysis/cranger/round2/TSP2_Trachea_NA_10X_1_1_S7/outs/raw_feature_bc_matrix.h5\n"
     ]
    },
    {
     "name": "stderr",
     "output_type": "stream",
     "text": [
      "Variable names are not unique. To make them unique, call `.var_names_make_unique`.\n"
     ]
    },
    {
     "name": "stdout",
     "output_type": "stream",
     "text": [
      " (0:00:01)\n"
     ]
    },
    {
     "name": "stderr",
     "output_type": "stream",
     "text": [
      "Variable names are not unique. To make them unique, call `.var_names_make_unique`.\n"
     ]
    },
    {
     "name": "stdout",
     "output_type": "stream",
     "text": [
      "reading /oak/stanford/groups/quake/gita/raw/tab2_20200508/tab2microbial/thirdAnalysis/cranger/round2/TSP2_LI_distal_10X_1_1_Sigmoid_S9/outs/raw_feature_bc_matrix.h5\n"
     ]
    },
    {
     "name": "stderr",
     "output_type": "stream",
     "text": [
      "Variable names are not unique. To make them unique, call `.var_names_make_unique`.\n"
     ]
    },
    {
     "name": "stdout",
     "output_type": "stream",
     "text": [
      " (0:00:01)\n"
     ]
    },
    {
     "name": "stderr",
     "output_type": "stream",
     "text": [
      "Variable names are not unique. To make them unique, call `.var_names_make_unique`.\n"
     ]
    },
    {
     "name": "stdout",
     "output_type": "stream",
     "text": [
      "reading /oak/stanford/groups/quake/gita/raw/tab2_20200508/tab2microbial/thirdAnalysis/cranger/round2/TSP2_Blood_NA_10X_1_5_5prime_S31/outs/raw_feature_bc_matrix.h5\n"
     ]
    },
    {
     "name": "stderr",
     "output_type": "stream",
     "text": [
      "Variable names are not unique. To make them unique, call `.var_names_make_unique`.\n"
     ]
    },
    {
     "name": "stdout",
     "output_type": "stream",
     "text": [
      " (0:00:01)\n"
     ]
    },
    {
     "name": "stderr",
     "output_type": "stream",
     "text": [
      "Variable names are not unique. To make them unique, call `.var_names_make_unique`.\n"
     ]
    }
   ],
   "source": [
    "# getting the number of non-host hits found\n",
    "nonhost_counts=fin_fil.groupby(['cell_bc']).count().cell.to_frame('non-host_counts').reset_index()\n",
    "fin_fil_withcounts = fin_fil.merge(nonhost_counts, on='cell_bc', how='outer')\n",
    "\n",
    "fin_fil_don2=fin_fil_withcounts[fin_fil_withcounts['donor_new']=='TSP2']\n",
    "all_ratios=pd.DataFrame({})\n",
    "\n",
    "#running this on a per sample basis\n",
    "for sample in fin_fil_don2['sample_new'].unique():\n",
    "    blast_cells=fin_fil_don2[fin_fil_don2['sample_new']==sample]\n",
    "    \n",
    "    #reading the raw feature bc matrix \n",
    "    raw = sc.read_10x_h5(mainDir2 + sample + '/outs/raw_feature_bc_matrix.h5')\n",
    "    raw.var_names_make_unique()\n",
    "\n",
    "    #getting n_counts and n_genes for the raw matrix\n",
    "    raw.obs['n_counts'] = raw.X.sum(axis=1).A1\n",
    "    sc.pp.filter_cells(raw, min_genes=0)\n",
    "    raw.obs = raw.obs.reset_index().rename(columns={'index':'cell_bc'})\n",
    "\n",
    "    #making classifications of empty and non-empty cells based on how many genes they contain\n",
    "    n = 100\n",
    "    num_all_empty = raw[raw.obs['n_genes']<n].shape[0]\n",
    "    num_all_cells =  raw[raw.obs['n_genes']>=n].shape[0]\n",
    "    \n",
    "    #for each species in a given sample the following procedure is run\n",
    "    ratio=[]\n",
    "    for sp in blast_cells['species'].unique():\n",
    "        blast_cells_sp = blast_cells[blast_cells['species']==sp]\n",
    "\n",
    "        #what fraction of blast_cells for a given species are showing up in empty droplets versus cells\n",
    "        total=raw.obs.merge(blast_cells_sp, on='cell_bc', how='inner')\n",
    "\n",
    "        put_cell=total[total['n_genes_x']>=n]\n",
    "        put_empty=total[total['n_genes_x']<n]\n",
    "\n",
    "        ratio_dict = {'species':sp, 'num_cells': put_cell['cell_bc'].nunique(), \n",
    "              'num_empty': put_empty['cell_bc'].nunique()}\n",
    "        ratio.append(ratio_dict)\n",
    "\n",
    "\n",
    "    ratio_df=pd.DataFrame(ratio)\n",
    "    ratio_df['sample']=[sample]*ratio_df.shape[0]\n",
    "    ratio_df['ratio']=ratio_df['num_cells']/ratio_df['num_empty']\n",
    "    ratio_df['adj_num_cells'] = ratio_df['num_cells']/num_all_cells\n",
    "    ratio_df['adj_num_empty'] = ratio_df['num_empty']/num_all_empty\n",
    "    ratio_df['adj_ratio'] = ratio_df['adj_num_cells']/ratio_df['adj_num_empty']\n",
    "    #replacing infinity values (division by 0 - because those species had 0 occurance in empty droplets) by 1000. \n",
    "    ratio_df['ratio'].replace([np.inf, -np.inf], 1000, inplace=True)\n",
    "    ratio_df['adj_ratio'].replace([np.inf, -np.inf], 1000, inplace=True)\n",
    "\n",
    "    \n",
    "    all_ratios = pd.concat([all_ratios, ratio_df])\n",
    "    \n",
    "#saving the results\n",
    "all_ratios.to_csv(mainDir + 'don2_n100_cell_to_empty_species_ratios.csv')"
   ]
  },
  {
   "cell_type": "markdown",
   "metadata": {},
   "source": [
    "### donor 1"
   ]
  },
  {
   "cell_type": "code",
   "execution_count": 52,
   "metadata": {
    "collapsed": true
   },
   "outputs": [
    {
     "name": "stdout",
     "output_type": "stream",
     "text": [
      "reading /oak/stanford/groups/quake/gita/raw/tab1_20200407/thirdAnalysis/10x/cranger/TSP1_bladder_1_S7/outs/raw_feature_bc_matrix.h5\n"
     ]
    },
    {
     "name": "stderr",
     "output_type": "stream",
     "text": [
      "Variable names are not unique. To make them unique, call `.var_names_make_unique`.\n"
     ]
    },
    {
     "name": "stdout",
     "output_type": "stream",
     "text": [
      " (0:00:02)\n"
     ]
    },
    {
     "name": "stderr",
     "output_type": "stream",
     "text": [
      "Variable names are not unique. To make them unique, call `.var_names_make_unique`.\n"
     ]
    },
    {
     "name": "stdout",
     "output_type": "stream",
     "text": [
      "reading /oak/stanford/groups/quake/gita/raw/tab1_20200407/thirdAnalysis/10x/cranger/TSP1_exopancreas2_1_S4/outs/raw_feature_bc_matrix.h5\n"
     ]
    },
    {
     "name": "stderr",
     "output_type": "stream",
     "text": [
      "Variable names are not unique. To make them unique, call `.var_names_make_unique`.\n"
     ]
    },
    {
     "name": "stdout",
     "output_type": "stream",
     "text": [
      " (0:00:01)\n"
     ]
    },
    {
     "name": "stderr",
     "output_type": "stream",
     "text": [
      "Variable names are not unique. To make them unique, call `.var_names_make_unique`.\n"
     ]
    },
    {
     "name": "stdout",
     "output_type": "stream",
     "text": [
      "reading /oak/stanford/groups/quake/gita/raw/tab1_20200407/thirdAnalysis/10x/cranger/TSP1_endopancreas_1_S1/outs/raw_feature_bc_matrix.h5\n"
     ]
    },
    {
     "name": "stderr",
     "output_type": "stream",
     "text": [
      "Variable names are not unique. To make them unique, call `.var_names_make_unique`.\n"
     ]
    },
    {
     "name": "stdout",
     "output_type": "stream",
     "text": [
      " (0:00:00)\n"
     ]
    },
    {
     "name": "stderr",
     "output_type": "stream",
     "text": [
      "Variable names are not unique. To make them unique, call `.var_names_make_unique`.\n"
     ]
    },
    {
     "name": "stdout",
     "output_type": "stream",
     "text": [
      "reading /oak/stanford/groups/quake/gita/raw/tab1_20200407/thirdAnalysis/10x/cranger/TSP1_bladder_2_S8/outs/raw_feature_bc_matrix.h5\n"
     ]
    },
    {
     "name": "stderr",
     "output_type": "stream",
     "text": [
      "Variable names are not unique. To make them unique, call `.var_names_make_unique`.\n"
     ]
    },
    {
     "name": "stdout",
     "output_type": "stream",
     "text": [
      " (0:00:02)\n"
     ]
    },
    {
     "name": "stderr",
     "output_type": "stream",
     "text": [
      "Variable names are not unique. To make them unique, call `.var_names_make_unique`.\n"
     ]
    },
    {
     "name": "stdout",
     "output_type": "stream",
     "text": [
      "reading /oak/stanford/groups/quake/gita/raw/tab1_20200407/thirdAnalysis/10x/cranger/TSP1_exopancreas1_3_S21/outs/raw_feature_bc_matrix.h5\n"
     ]
    },
    {
     "name": "stderr",
     "output_type": "stream",
     "text": [
      "Variable names are not unique. To make them unique, call `.var_names_make_unique`.\n"
     ]
    },
    {
     "name": "stdout",
     "output_type": "stream",
     "text": [
      " (0:00:00)\n"
     ]
    },
    {
     "name": "stderr",
     "output_type": "stream",
     "text": [
      "Variable names are not unique. To make them unique, call `.var_names_make_unique`.\n"
     ]
    },
    {
     "name": "stdout",
     "output_type": "stream",
     "text": [
      "reading /oak/stanford/groups/quake/gita/raw/tab1_20200407/thirdAnalysis/10x/cranger/TSP1_bladder_3_S9/outs/raw_feature_bc_matrix.h5\n"
     ]
    },
    {
     "name": "stderr",
     "output_type": "stream",
     "text": [
      "Variable names are not unique. To make them unique, call `.var_names_make_unique`.\n"
     ]
    },
    {
     "name": "stdout",
     "output_type": "stream",
     "text": [
      " (0:00:02)\n"
     ]
    },
    {
     "name": "stderr",
     "output_type": "stream",
     "text": [
      "Variable names are not unique. To make them unique, call `.var_names_make_unique`.\n"
     ]
    },
    {
     "name": "stdout",
     "output_type": "stream",
     "text": [
      "reading /oak/stanford/groups/quake/gita/raw/tab1_20200407/thirdAnalysis/10x/cranger/TSP1_blood_3_S18/outs/raw_feature_bc_matrix.h5\n"
     ]
    },
    {
     "name": "stderr",
     "output_type": "stream",
     "text": [
      "Variable names are not unique. To make them unique, call `.var_names_make_unique`.\n"
     ]
    },
    {
     "name": "stdout",
     "output_type": "stream",
     "text": [
      " (0:00:01)\n"
     ]
    },
    {
     "name": "stderr",
     "output_type": "stream",
     "text": [
      "Variable names are not unique. To make them unique, call `.var_names_make_unique`.\n"
     ]
    },
    {
     "name": "stdout",
     "output_type": "stream",
     "text": [
      "reading /oak/stanford/groups/quake/gita/raw/tab1_20200407/thirdAnalysis/10x/cranger/TSP1_exopancreas1_1_S19/outs/raw_feature_bc_matrix.h5\n"
     ]
    },
    {
     "name": "stderr",
     "output_type": "stream",
     "text": [
      "Variable names are not unique. To make them unique, call `.var_names_make_unique`.\n"
     ]
    },
    {
     "name": "stdout",
     "output_type": "stream",
     "text": [
      " (0:00:00)\n"
     ]
    },
    {
     "name": "stderr",
     "output_type": "stream",
     "text": [
      "Variable names are not unique. To make them unique, call `.var_names_make_unique`.\n"
     ]
    },
    {
     "name": "stdout",
     "output_type": "stream",
     "text": [
      "reading /oak/stanford/groups/quake/gita/raw/tab1_20200407/thirdAnalysis/10x/cranger/TSP1_endopancreas_3_S3/outs/raw_feature_bc_matrix.h5\n"
     ]
    },
    {
     "name": "stderr",
     "output_type": "stream",
     "text": [
      "Variable names are not unique. To make them unique, call `.var_names_make_unique`.\n"
     ]
    },
    {
     "name": "stdout",
     "output_type": "stream",
     "text": [
      " (0:00:02)\n"
     ]
    },
    {
     "name": "stderr",
     "output_type": "stream",
     "text": [
      "Variable names are not unique. To make them unique, call `.var_names_make_unique`.\n"
     ]
    },
    {
     "name": "stdout",
     "output_type": "stream",
     "text": [
      "reading /oak/stanford/groups/quake/gita/raw/tab1_20200407/thirdAnalysis/10x/cranger/TSP1_exopancreas2_2_S5/outs/raw_feature_bc_matrix.h5\n"
     ]
    },
    {
     "name": "stderr",
     "output_type": "stream",
     "text": [
      "Variable names are not unique. To make them unique, call `.var_names_make_unique`.\n"
     ]
    },
    {
     "name": "stdout",
     "output_type": "stream",
     "text": [
      " (0:00:01)\n"
     ]
    },
    {
     "name": "stderr",
     "output_type": "stream",
     "text": [
      "Variable names are not unique. To make them unique, call `.var_names_make_unique`.\n"
     ]
    },
    {
     "name": "stdout",
     "output_type": "stream",
     "text": [
      "reading /oak/stanford/groups/quake/gita/raw/tab1_20200407/thirdAnalysis/10x/cranger/TSP1_lung_3_S12/outs/raw_feature_bc_matrix.h5\n"
     ]
    },
    {
     "name": "stderr",
     "output_type": "stream",
     "text": [
      "Variable names are not unique. To make them unique, call `.var_names_make_unique`.\n"
     ]
    },
    {
     "name": "stdout",
     "output_type": "stream",
     "text": [
      " (0:00:03)\n"
     ]
    },
    {
     "name": "stderr",
     "output_type": "stream",
     "text": [
      "Variable names are not unique. To make them unique, call `.var_names_make_unique`.\n"
     ]
    },
    {
     "name": "stdout",
     "output_type": "stream",
     "text": [
      "reading /oak/stanford/groups/quake/gita/raw/tab1_20200407/thirdAnalysis/10x/cranger/TSP1_exopancreas2_3_S6/outs/raw_feature_bc_matrix.h5\n"
     ]
    },
    {
     "name": "stderr",
     "output_type": "stream",
     "text": [
      "Variable names are not unique. To make them unique, call `.var_names_make_unique`.\n"
     ]
    },
    {
     "name": "stdout",
     "output_type": "stream",
     "text": [
      " (0:00:01)\n"
     ]
    },
    {
     "name": "stderr",
     "output_type": "stream",
     "text": [
      "Variable names are not unique. To make them unique, call `.var_names_make_unique`.\n"
     ]
    },
    {
     "name": "stdout",
     "output_type": "stream",
     "text": [
      "reading /oak/stanford/groups/quake/gita/raw/tab1_20200407/thirdAnalysis/10x/cranger/TSP1_muscle_3_S15/outs/raw_feature_bc_matrix.h5\n"
     ]
    },
    {
     "name": "stderr",
     "output_type": "stream",
     "text": [
      "Variable names are not unique. To make them unique, call `.var_names_make_unique`.\n"
     ]
    },
    {
     "name": "stdout",
     "output_type": "stream",
     "text": [
      " (0:00:01)\n"
     ]
    },
    {
     "name": "stderr",
     "output_type": "stream",
     "text": [
      "Variable names are not unique. To make them unique, call `.var_names_make_unique`.\n"
     ]
    },
    {
     "name": "stdout",
     "output_type": "stream",
     "text": [
      "reading /oak/stanford/groups/quake/gita/raw/tab1_20200407/thirdAnalysis/10x/cranger/TSP1_muscle_1_S13/outs/raw_feature_bc_matrix.h5\n"
     ]
    },
    {
     "name": "stderr",
     "output_type": "stream",
     "text": [
      "Variable names are not unique. To make them unique, call `.var_names_make_unique`.\n"
     ]
    },
    {
     "name": "stdout",
     "output_type": "stream",
     "text": [
      " (0:00:01)\n"
     ]
    },
    {
     "name": "stderr",
     "output_type": "stream",
     "text": [
      "Variable names are not unique. To make them unique, call `.var_names_make_unique`.\n"
     ]
    },
    {
     "name": "stdout",
     "output_type": "stream",
     "text": [
      "reading /oak/stanford/groups/quake/gita/raw/tab1_20200407/thirdAnalysis/10x/cranger/TSP1_lung_1_S10/outs/raw_feature_bc_matrix.h5\n"
     ]
    },
    {
     "name": "stderr",
     "output_type": "stream",
     "text": [
      "Variable names are not unique. To make them unique, call `.var_names_make_unique`.\n"
     ]
    },
    {
     "name": "stdout",
     "output_type": "stream",
     "text": [
      " (0:00:02)\n"
     ]
    },
    {
     "name": "stderr",
     "output_type": "stream",
     "text": [
      "Variable names are not unique. To make them unique, call `.var_names_make_unique`.\n"
     ]
    },
    {
     "name": "stdout",
     "output_type": "stream",
     "text": [
      "reading /oak/stanford/groups/quake/gita/raw/tab1_20200407/thirdAnalysis/10x/cranger/TSP1_endopancreas_2_S2/outs/raw_feature_bc_matrix.h5\n"
     ]
    },
    {
     "name": "stderr",
     "output_type": "stream",
     "text": [
      "Variable names are not unique. To make them unique, call `.var_names_make_unique`.\n"
     ]
    },
    {
     "name": "stdout",
     "output_type": "stream",
     "text": [
      " (0:00:00)\n"
     ]
    },
    {
     "name": "stderr",
     "output_type": "stream",
     "text": [
      "Variable names are not unique. To make them unique, call `.var_names_make_unique`.\n"
     ]
    },
    {
     "name": "stdout",
     "output_type": "stream",
     "text": [
      "reading /oak/stanford/groups/quake/gita/raw/tab1_20200407/thirdAnalysis/10x/cranger/TSP1_blood_2_S17/outs/raw_feature_bc_matrix.h5\n"
     ]
    },
    {
     "name": "stderr",
     "output_type": "stream",
     "text": [
      "Variable names are not unique. To make them unique, call `.var_names_make_unique`.\n"
     ]
    },
    {
     "name": "stdout",
     "output_type": "stream",
     "text": [
      " (0:00:01)\n"
     ]
    },
    {
     "name": "stderr",
     "output_type": "stream",
     "text": [
      "Variable names are not unique. To make them unique, call `.var_names_make_unique`.\n"
     ]
    },
    {
     "name": "stdout",
     "output_type": "stream",
     "text": [
      "reading /oak/stanford/groups/quake/gita/raw/tab1_20200407/thirdAnalysis/10x/cranger/TSP1_lung_2_S11/outs/raw_feature_bc_matrix.h5\n"
     ]
    },
    {
     "name": "stderr",
     "output_type": "stream",
     "text": [
      "Variable names are not unique. To make them unique, call `.var_names_make_unique`.\n"
     ]
    },
    {
     "name": "stdout",
     "output_type": "stream",
     "text": [
      " (0:00:02)\n"
     ]
    },
    {
     "name": "stderr",
     "output_type": "stream",
     "text": [
      "Variable names are not unique. To make them unique, call `.var_names_make_unique`.\n"
     ]
    },
    {
     "name": "stdout",
     "output_type": "stream",
     "text": [
      "reading /oak/stanford/groups/quake/gita/raw/tab1_20200407/thirdAnalysis/10x/cranger/TSP1_blood_1_S16/outs/raw_feature_bc_matrix.h5\n"
     ]
    },
    {
     "name": "stderr",
     "output_type": "stream",
     "text": [
      "Variable names are not unique. To make them unique, call `.var_names_make_unique`.\n"
     ]
    },
    {
     "name": "stdout",
     "output_type": "stream",
     "text": [
      " (0:00:01)\n"
     ]
    },
    {
     "name": "stderr",
     "output_type": "stream",
     "text": [
      "Variable names are not unique. To make them unique, call `.var_names_make_unique`.\n"
     ]
    },
    {
     "name": "stdout",
     "output_type": "stream",
     "text": [
      "reading /oak/stanford/groups/quake/gita/raw/tab1_20200407/thirdAnalysis/10x/cranger/TSP1_muscle_2_S14/outs/raw_feature_bc_matrix.h5\n"
     ]
    },
    {
     "name": "stderr",
     "output_type": "stream",
     "text": [
      "Variable names are not unique. To make them unique, call `.var_names_make_unique`.\n"
     ]
    },
    {
     "name": "stdout",
     "output_type": "stream",
     "text": [
      " (0:00:01)\n"
     ]
    },
    {
     "name": "stderr",
     "output_type": "stream",
     "text": [
      "Variable names are not unique. To make them unique, call `.var_names_make_unique`.\n"
     ]
    },
    {
     "name": "stdout",
     "output_type": "stream",
     "text": [
      "reading /oak/stanford/groups/quake/gita/raw/tab1_20200407/thirdAnalysis/10x/cranger/TSP1_exopancreas1_2_S20/outs/raw_feature_bc_matrix.h5\n"
     ]
    },
    {
     "name": "stderr",
     "output_type": "stream",
     "text": [
      "Variable names are not unique. To make them unique, call `.var_names_make_unique`.\n"
     ]
    },
    {
     "name": "stdout",
     "output_type": "stream",
     "text": [
      " (0:00:00)\n"
     ]
    },
    {
     "name": "stderr",
     "output_type": "stream",
     "text": [
      "Variable names are not unique. To make them unique, call `.var_names_make_unique`.\n"
     ]
    }
   ],
   "source": [
    "nonhost_counts=fin_fil.groupby(['cell_bc']).count().cell.to_frame('non-host_counts').reset_index()\n",
    "fin_fil_withcounts = fin_fil.merge(nonhost_counts, on='cell_bc', how='outer')\n",
    "\n",
    "fin_fil_don1=fin_fil_withcounts[fin_fil_withcounts['donor_new']=='TSP1']\n",
    "all_ratios_don1=pd.DataFrame({})\n",
    "\n",
    "for sample in fin_fil_don1['sample_new'].unique():\n",
    "    blast_cells=fin_fil_don1[fin_fil_don1['sample_new']==sample]\n",
    "    raw = sc.read_10x_h5(mainDir4 + sample + '/outs/raw_feature_bc_matrix.h5')\n",
    "    raw.var_names_make_unique()\n",
    "\n",
    "    #getting n_counts and n_genes for the raw matrix\n",
    "    raw.obs['n_counts'] = raw.X.sum(axis=1).A1\n",
    "    sc.pp.filter_cells(raw, min_genes=0)\n",
    "    raw.obs = raw.obs.reset_index().rename(columns={'index':'cell_bc'})\n",
    "\n",
    "    #total number of empty droplets and cells \n",
    "    n = 100\n",
    "    num_all_empty = raw[raw.obs['n_genes']<n].shape[0]\n",
    "    num_all_cells =  raw[raw.obs['n_genes']>=n].shape[0]\n",
    "\n",
    "    ratio=[]\n",
    "    for sp in blast_cells['species'].unique():\n",
    "        blast_cells_sp = blast_cells[blast_cells['species']==sp]\n",
    "\n",
    "        #what fraction of blast_cells for a given species are showing up in empty droplets versus cells\n",
    "\n",
    "        total=raw.obs.merge(blast_cells_sp, on='cell_bc', how='inner')\n",
    "\n",
    "        put_cell=total[total['n_genes_x']>=n]\n",
    "        put_empty=total[total['n_genes_x']<n]\n",
    "\n",
    "        ratio_dict = {'species':sp, 'num_cells': put_cell['cell_bc'].nunique(), \n",
    "              'num_empty': put_empty['cell_bc'].nunique()}\n",
    "        ratio.append(ratio_dict)\n",
    "\n",
    "\n",
    "    ratio_df=pd.DataFrame(ratio)\n",
    "    ratio_df['sample']=[sample]*ratio_df.shape[0]\n",
    "    ratio_df['ratio']=ratio_df['num_cells']/ratio_df['num_empty']\n",
    "    ratio_df['adj_num_cells'] = ratio_df['num_cells']/num_all_cells\n",
    "    ratio_df['adj_num_empty'] = ratio_df['num_empty']/num_all_empty\n",
    "    ratio_df['adj_ratio'] = ratio_df['adj_num_cells']/ratio_df['adj_num_empty']\n",
    "    ratio_df['ratio'].replace([np.inf, -np.inf], 1000, inplace=True)\n",
    "    ratio_df['adj_ratio'].replace([np.inf, -np.inf], 1000, inplace=True)\n",
    "\n",
    "    \n",
    "    all_ratios_don1 = pd.concat([all_ratios_don1, ratio_df])\n",
    "\n",
    "#saving the results\n",
    "all_ratios_don1.to_csv(mainDir + 'don1_n100_cell_to_empty_species_ratios.csv')"
   ]
  },
  {
   "cell_type": "code",
   "execution_count": 273,
   "metadata": {},
   "outputs": [
    {
     "name": "stdout",
     "output_type": "stream",
     "text": [
      "fraction of surviving hits:  0.08208417499371044\n"
     ]
    }
   ],
   "source": [
    "#n=100 (min number of genes)\n",
    "all_ratios_don1_n100 = pd.read_csv(mainDir + 'don1_n100_cell_to_empty_species_ratios.csv')\n",
    "all_ratios_don2_n100 = pd.read_csv(mainDir + 'don2_n100_cell_to_empty_species_ratios.csv')\n",
    "all_ratios_don1_n100['donor_info']=['TSP1']*all_ratios_don1_n100.shape[0]\n",
    "all_ratios_don2_n100['donor_info']=['TSP2']*all_ratios_don2_n100.shape[0]\n",
    "all_ratios_don12_n100=pd.concat([all_ratios_don2_n100, all_ratios_don1_n100])\n",
    "all_ratios_don12_n100.rename(columns={'sample':'sample_new'}, inplace=True)\n",
    "\n",
    "fin_fil_ratios_n100 = all_ratios_don12_n100.merge(fin_fil, on=['species', 'sample_new'], how='outer')\n",
    "#will need to filter out species with low adjusted ratio >100\n",
    "m=100\n",
    "\n",
    "print('fraction of surviving hits: ',fin_fil_ratios_n100[fin_fil_ratios_n100['adj_ratio']>=m].shape[0]/fin_fil_ratios_n100.shape[0])\n"
   ]
  },
  {
   "cell_type": "markdown",
   "metadata": {},
   "source": [
    "~92% of the original hits will be filtered by this decontamination pipeline (this excludes the species with unknown ratios)"
   ]
  },
  {
   "cell_type": "code",
   "execution_count": 275,
   "metadata": {},
   "outputs": [],
   "source": [
    "fin_fil_ratios_n100.drop(columns={'Unnamed: 0_x', 'Unnamed: 0_y', 'Unnamed: 0.1',\n",
    "                         'donor', 'don', 'donor_new', 'tissue', 'blast', 'db', 'source'}, inplace=True)\n",
    "\n",
    "\n",
    "fin_fil_ratios_n100.rename(columns={'donor_info': 'donor', 'tissue_new': 'tissue', \n",
    "                                    'sample_new':'sample_match_cranger', 'cell':'cell_bc_all'}, inplace=True)\n",
    "\n",
    "fin_fil_ratios_n100['cell_bc_umi'] = fin_fil_ratios_n100['cell_bc_all'] + '_' + fin_fil_ratios_n100['umi'] \n",
    "fin_fil_ratios_n100['cell_type_tissue'] = fin_fil_ratios_n100['celltype2'] + '_' + fin_fil_ratios_n100['tissue'] \n",
    "fin_fil_ratios_n100['tissue_cell_type'] = fin_fil_ratios_n100['tissue'] + '_' + fin_fil_ratios_n100['celltype2'] \n",
    "\n",
    "#making sure I can seperate out donor 1 and 2 dataset from the rest by adding an extra column\n",
    "fin_fil_ratios_n100['dataset'] = ['tsp1_2'] *fin_fil_ratios_n100.shape[0]\n",
    "\n",
    "\n",
    "#saving the dataframe for donors 1 and 2\n",
    "#note this has ratios (R_dts) but hasn't been filtered based on R_dts\n",
    "fin_fil_ratios_n100.to_csv(mainDir + 'don1_don2_10x_blastn_nt_withRatios_10_14_2021.csv', index=False)\n",
    "\n",
    "all_dons_processed = all_hits_meta_ratios.merge(fin_fil_ratios_n100, how='outer')\n",
    "all_dons_processed.to_csv(mainDir + 'all_dons_10x_with_cell_annotations_qc_filtered_withRatios_10_14_2021.csv',\n",
    "                          index=False)\n"
   ]
  },
  {
   "cell_type": "markdown",
   "metadata": {},
   "source": [
    "### Next, time to implement a few more decontamination filters and QC as well as reformatting before saving results"
   ]
  },
  {
   "cell_type": "markdown",
   "metadata": {},
   "source": [
    "first reading in the saved dataframe for all donors (and re-implementing pident and length filters just in case)"
   ]
  },
  {
   "cell_type": "code",
   "execution_count": 4,
   "metadata": {},
   "outputs": [],
   "source": [
    "all_dons_processed = pd.read_csv(mainDir + 'all_dons_10x_with_cell_annotations_qc_filtered_withRatios_10_14_2021.csv')\n",
    "all_dons_processed_fil = all_dons_processed[(all_dons_processed['pident']>=90) & (all_dons_processed['length']>=90)]\n"
   ]
  },
  {
   "cell_type": "code",
   "execution_count": 24,
   "metadata": {},
   "outputs": [],
   "source": [
    "#changing the adj ratio of donor 16 to 100 to allow the samples to pass through this filter because they weren't annotated by cell type. \n",
    "#They will go through all other filters\n",
    "all_dons_processed_fil.loc[all_dons_processed_fil['donor']=='TSP16','adj_ratio']=100"
   ]
  },
  {
   "cell_type": "markdown",
   "metadata": {},
   "source": [
    "### In addition to the previous filter, I also want to exclude certain genera \n",
    "list of contaminating species commonly found in reagents, based on https://link.springer.com/article/10.1186/s12915-014-0087-z \n",
    "This is in addition to my own water control contamination lists (tissue + SS2 from 100 wells) and other suspected contaminating species\n"
   ]
  },
  {
   "cell_type": "code",
   "execution_count": 26,
   "metadata": {},
   "outputs": [
    {
     "name": "stdout",
     "output_type": "stream",
     "text": [
      "fraction of surviving hits after these filters: 0.38\n"
     ]
    }
   ],
   "source": [
    "#excluded from contamination 92 genera 'Bacillus','Streptococcus','Acidobacteria','Enterobacter','Pseudomonas','Corynebacterium' because they are part of human microbiome and I have an additional filter from previous steps to eliminate those genus if they are not cell associated. \n",
    "\n",
    "cont_genus=pd.read_csv('/oak/stanford/groups/quake/gita/raw/nb/microbe/paper/contamination_genus_species.csv', delimiter='\\t')\n",
    "\n",
    "#many of these species are likely contaminants or other technical artifacts (such as being part of food ingested) based on their low counts \n",
    "all_dons_processed_fil2 = all_dons_processed_fil[~all_dons_processed_fil['species'].str.contains('synthetic|vector|geobacillus|thermo|thermus|gonorrhoeae|brucella|vibrio|Cutibacterium|Escherichia|Pestivirus|Garlic virus|Tomato|Bosavirus|Giant panda anellovirus|Aroa virus|Acyrthosiphon pisum|Woodchuck hepatitis virus|Prunus necrotic ringspot|Brome mosaic|respirovirus',case=False,na=False)] \n",
    "\n",
    "#genera \n",
    "all_dons_processed_fil3 = all_dons_processed_fil2[~all_dons_processed_fil2['genus'].isin(cont_genus['genus'].tolist())]\n",
    "\n",
    "print('fraction of surviving hits after these filters:', np.round(all_dons_processed_fil3.shape[0]/all_dons_processed.shape[0], 2))"
   ]
  },
  {
   "cell_type": "markdown",
   "metadata": {},
   "source": [
    "### Removing putative contaminants based on adj_ratio\n",
    "removing putative contamination based on adj_ratio column (R_dts) <br>\n",
    "**20% of hits survived this sc decontamination filter & 34% of species**"
   ]
  },
  {
   "cell_type": "code",
   "execution_count": 27,
   "metadata": {},
   "outputs": [
    {
     "name": "stdout",
     "output_type": "stream",
     "text": [
      "fraction of surviving hits after this filter: 0.21\n",
      "fraction of surviving species after this filter: 0.34\n",
      "fraction of hits occuring in unknown cell barcodes which are removed: 0.03\n"
     ]
    }
   ],
   "source": [
    "all_dons_processed_filt=all_dons_processed_fil3[all_dons_processed_fil3['adj_ratio']>=100]\n",
    "\n",
    "print('fraction of surviving hits after this filter:', \n",
    "      np.round(all_dons_processed_filt.shape[0]/all_dons_processed_fil3.shape[0],2))\n",
    "\n",
    "\n",
    "print('fraction of surviving species after this filter:', \n",
    "      np.round(all_dons_processed_filt.species.nunique() / all_dons_processed_fil3.species.nunique(),2))\n",
    "\n",
    "\n",
    "nulls=all_dons_processed_fil3[all_dons_processed_fil3['adj_ratio'].isnull()]\n",
    "print('fraction of hits occuring in unknown cell barcodes which are removed:', \n",
    "      np.round(nulls.shape[0]/all_dons_processed_fil3.shape[0],2))\n",
    "\n"
   ]
  },
  {
   "cell_type": "markdown",
   "metadata": {},
   "source": [
    "### Some additional name clean up "
   ]
  },
  {
   "cell_type": "markdown",
   "metadata": {},
   "source": [
    "going to exclude archaea since we weren't exclusively looking for it. only 9 hits were mapping to archaea anyway\\\n",
    "cleaning up tissue names & converting nulls to \"unknown\" for celltype2 column<br>"
   ]
  },
  {
   "cell_type": "code",
   "execution_count": 29,
   "metadata": {},
   "outputs": [],
   "source": [
    "all_hits = all_dons_processed_filt[all_dons_processed_filt['superkingdom']!='Archaea']\n",
    "all_hits['method']=all_hits.shape[0]*['10X']\n",
    "\n",
    "all_hits['tissue'] = all_hits['tissue'].str.lower()\n",
    "all_hits['tissue'] = all_hits['tissue'].replace('exopancreas2', 'pancreas')\n",
    "all_hits['tissue'] = all_hits['tissue'].replace('exopancreas1', 'pancreas')\n",
    "all_hits['tissue'] = all_hits['tissue'].replace('endopancreas', 'pancreas')\n",
    "all_hits['tissue'] = all_hits['tissue'].replace('bm', 'bone_marrow')\n",
    "all_hits['tissue'] = all_hits['tissue'].replace('li', 'large_intestine')\n",
    "all_hits['tissue'] = all_hits['tissue'].replace('si', 'small_intestine')\n",
    "all_hits['tissue'] = all_hits['tissue'].replace('lymphnode', 'lymph_node')\n",
    "\n",
    "all_hits['celltype2'] = all_hits['celltype2'].replace(np.NaN, 'unknown')"
   ]
  },
  {
   "cell_type": "markdown",
   "metadata": {},
   "source": [
    "adding a column \"cell_ann\" to see which cells have annotations based on TS object\n"
   ]
  },
  {
   "cell_type": "code",
   "execution_count": 32,
   "metadata": {},
   "outputs": [],
   "source": [
    "all_hits['cell_ann'] = np.where(all_hits['celltype2']=='unknown', 'yes', 'no')\n"
   ]
  },
  {
   "cell_type": "markdown",
   "metadata": {},
   "source": [
    "creating a hit count table based on each donor's tissue sample to exclude samples that have low hits (fewer than 50) "
   ]
  },
  {
   "cell_type": "code",
   "execution_count": 33,
   "metadata": {},
   "outputs": [
    {
     "data": {
      "text/html": [
       "<div>\n",
       "<style scoped>\n",
       "    .dataframe tbody tr th:only-of-type {\n",
       "        vertical-align: middle;\n",
       "    }\n",
       "\n",
       "    .dataframe tbody tr th {\n",
       "        vertical-align: top;\n",
       "    }\n",
       "\n",
       "    .dataframe thead th {\n",
       "        text-align: right;\n",
       "    }\n",
       "</style>\n",
       "<table border=\"1\" class=\"dataframe\">\n",
       "  <thead>\n",
       "    <tr style=\"text-align: right;\">\n",
       "      <th></th>\n",
       "      <th>donor</th>\n",
       "      <th>tissue</th>\n",
       "      <th>tot_hit_ct_per_don_tissue</th>\n",
       "    </tr>\n",
       "  </thead>\n",
       "  <tbody>\n",
       "    <tr>\n",
       "      <th>0</th>\n",
       "      <td>TSP1</td>\n",
       "      <td>bladder</td>\n",
       "      <td>107</td>\n",
       "    </tr>\n",
       "    <tr>\n",
       "      <th>1</th>\n",
       "      <td>TSP1</td>\n",
       "      <td>blood</td>\n",
       "      <td>4</td>\n",
       "    </tr>\n",
       "    <tr>\n",
       "      <th>2</th>\n",
       "      <td>TSP1</td>\n",
       "      <td>lung</td>\n",
       "      <td>94</td>\n",
       "    </tr>\n",
       "  </tbody>\n",
       "</table>\n",
       "</div>"
      ],
      "text/plain": [
       "  donor   tissue  tot_hit_ct_per_don_tissue\n",
       "0  TSP1  bladder                        107\n",
       "1  TSP1    blood                          4\n",
       "2  TSP1     lung                         94"
      ]
     },
     "execution_count": 33,
     "metadata": {},
     "output_type": "execute_result"
    }
   ],
   "source": [
    "per_don_tis_counts=all_hits.groupby(['donor','tissue'], as_index=False).count().iloc[:,0:3].rename(columns={'method':'tot_hit_ct_per_don_tissue'})\n",
    "per_don_tis_counts.head(3)"
   ]
  },
  {
   "cell_type": "code",
   "execution_count": 37,
   "metadata": {},
   "outputs": [
    {
     "data": {
      "text/html": [
       "<div>\n",
       "<style scoped>\n",
       "    .dataframe tbody tr th:only-of-type {\n",
       "        vertical-align: middle;\n",
       "    }\n",
       "\n",
       "    .dataframe tbody tr th {\n",
       "        vertical-align: top;\n",
       "    }\n",
       "\n",
       "    .dataframe thead th {\n",
       "        text-align: right;\n",
       "    }\n",
       "</style>\n",
       "<table border=\"1\" class=\"dataframe\">\n",
       "  <thead>\n",
       "    <tr style=\"text-align: right;\">\n",
       "      <th></th>\n",
       "      <th>method</th>\n",
       "      <th>10X_barcode</th>\n",
       "      <th>n_counts</th>\n",
       "      <th>n_genes</th>\n",
       "      <th>compartment</th>\n",
       "      <th>tissue_cell_type</th>\n",
       "      <th>cell_type_tissue</th>\n",
       "      <th>celltype</th>\n",
       "      <th>free_annotation</th>\n",
       "      <th>manually_annotated</th>\n",
       "      <th>...</th>\n",
       "      <th>adj_ratio</th>\n",
       "      <th>dataset</th>\n",
       "      <th>seq</th>\n",
       "      <th>duplicates</th>\n",
       "      <th>operation</th>\n",
       "      <th>log_n_counts</th>\n",
       "      <th>log_n_genes</th>\n",
       "      <th>sp_in_celltype</th>\n",
       "      <th>cell_ann</th>\n",
       "      <th>tot_hit_ct_per_don_tissue</th>\n",
       "    </tr>\n",
       "  </thead>\n",
       "  <tbody>\n",
       "    <tr>\n",
       "      <th>0</th>\n",
       "      <td>10X</td>\n",
       "      <td>NaN</td>\n",
       "      <td>NaN</td>\n",
       "      <td>NaN</td>\n",
       "      <td>unknown</td>\n",
       "      <td>NaN</td>\n",
       "      <td>NaN</td>\n",
       "      <td>unknown</td>\n",
       "      <td>NaN</td>\n",
       "      <td>NaN</td>\n",
       "      <td>...</td>\n",
       "      <td>100.0</td>\n",
       "      <td>tsp3_on</td>\n",
       "      <td>NaN</td>\n",
       "      <td>NaN</td>\n",
       "      <td>NaN</td>\n",
       "      <td>NaN</td>\n",
       "      <td>NaN</td>\n",
       "      <td>NaN</td>\n",
       "      <td>yes</td>\n",
       "      <td>1946</td>\n",
       "    </tr>\n",
       "    <tr>\n",
       "      <th>1</th>\n",
       "      <td>10X</td>\n",
       "      <td>NaN</td>\n",
       "      <td>NaN</td>\n",
       "      <td>NaN</td>\n",
       "      <td>unknown</td>\n",
       "      <td>NaN</td>\n",
       "      <td>NaN</td>\n",
       "      <td>unknown</td>\n",
       "      <td>NaN</td>\n",
       "      <td>NaN</td>\n",
       "      <td>...</td>\n",
       "      <td>100.0</td>\n",
       "      <td>tsp3_on</td>\n",
       "      <td>NaN</td>\n",
       "      <td>NaN</td>\n",
       "      <td>NaN</td>\n",
       "      <td>NaN</td>\n",
       "      <td>NaN</td>\n",
       "      <td>NaN</td>\n",
       "      <td>yes</td>\n",
       "      <td>1946</td>\n",
       "    </tr>\n",
       "    <tr>\n",
       "      <th>2</th>\n",
       "      <td>10X</td>\n",
       "      <td>NaN</td>\n",
       "      <td>NaN</td>\n",
       "      <td>NaN</td>\n",
       "      <td>unknown</td>\n",
       "      <td>NaN</td>\n",
       "      <td>NaN</td>\n",
       "      <td>unknown</td>\n",
       "      <td>NaN</td>\n",
       "      <td>NaN</td>\n",
       "      <td>...</td>\n",
       "      <td>100.0</td>\n",
       "      <td>tsp3_on</td>\n",
       "      <td>NaN</td>\n",
       "      <td>NaN</td>\n",
       "      <td>NaN</td>\n",
       "      <td>NaN</td>\n",
       "      <td>NaN</td>\n",
       "      <td>unknown_only</td>\n",
       "      <td>yes</td>\n",
       "      <td>1946</td>\n",
       "    </tr>\n",
       "  </tbody>\n",
       "</table>\n",
       "<p>3 rows × 64 columns</p>\n",
       "</div>"
      ],
      "text/plain": [
       "  method 10X_barcode  n_counts  n_genes compartment tissue_cell_type  \\\n",
       "0    10X         NaN       NaN      NaN     unknown              NaN   \n",
       "1    10X         NaN       NaN      NaN     unknown              NaN   \n",
       "2    10X         NaN       NaN      NaN     unknown              NaN   \n",
       "\n",
       "  cell_type_tissue celltype free_annotation manually_annotated  ...  \\\n",
       "0              NaN  unknown             NaN                NaN  ...   \n",
       "1              NaN  unknown             NaN                NaN  ...   \n",
       "2              NaN  unknown             NaN                NaN  ...   \n",
       "\n",
       "   adj_ratio  dataset  seq duplicates operation log_n_counts log_n_genes  \\\n",
       "0      100.0  tsp3_on  NaN        NaN       NaN          NaN         NaN   \n",
       "1      100.0  tsp3_on  NaN        NaN       NaN          NaN         NaN   \n",
       "2      100.0  tsp3_on  NaN        NaN       NaN          NaN         NaN   \n",
       "\n",
       "  sp_in_celltype cell_ann  tot_hit_ct_per_don_tissue  \n",
       "0            NaN      yes                       1946  \n",
       "1            NaN      yes                       1946  \n",
       "2   unknown_only      yes                       1946  \n",
       "\n",
       "[3 rows x 64 columns]"
      ]
     },
     "execution_count": 37,
     "metadata": {},
     "output_type": "execute_result"
    }
   ],
   "source": [
    "#merging it with the all_hits df to then be able to exclude some don_tissue combo based on number of hits\n",
    "all_hits2 = all_hits.merge(per_don_tis_counts, on=['donor', 'tissue'])\n",
    "\n",
    "#getting rid of samples with fewer than 50 hits\n",
    "all_hits3 = all_hits2[all_hits2['tot_hit_ct_per_don_tissue']>=10]\n",
    "all_hits3.head(3)"
   ]
  },
  {
   "cell_type": "markdown",
   "metadata": {},
   "source": [
    "want to add several columns called containing combinatorial categories for donor, celltype and tissue information for later plots"
   ]
  },
  {
   "cell_type": "code",
   "execution_count": 39,
   "metadata": {},
   "outputs": [],
   "source": [
    "all_hits3['donor_tissue']=all_hits3['donor'] + '_' + all_hits3['tissue']\n",
    "all_hits3['donor_tissue_celltype']=all_hits3['donor'] + '_' + all_hits3['tissue'] + '_' + all_hits3['celltype2']\n",
    "all_hits3['donor_celltype']=all_hits3['donor'] + '_' + all_hits3['celltype2']\n",
    "\n",
    "\n",
    "all_hits3['phylum'] = all_hits3['phylum'].fillna('Unknown')\n",
    "all_hits3['phylum_species']=all_hits3['phylum'] + '_' + all_hits3['species']"
   ]
  },
  {
   "cell_type": "markdown",
   "metadata": {},
   "source": [
    "saving this version of the blast dataframe"
   ]
  },
  {
   "cell_type": "code",
   "execution_count": 40,
   "metadata": {},
   "outputs": [],
   "source": [
    "all_hits3.to_csv(mainDir + 'all_dons_10x_with_cell_annotations_qc_filtered_withRatios_decont_10_18_2021.csv',\n",
    "                          index=False)"
   ]
  },
  {
   "cell_type": "markdown",
   "metadata": {},
   "source": [
    "### Reading the saved blast dataframe for all donors to make some additions\n",
    "- adding log2_n_genes columns (log2 of number of genes)\n",
    "- adding a column that shows the count of each species across the whole dataset\n",
    "- modifying some cell type names to correct for errors\n",
    "- adding a celltype2_short column to group some similar cell types for some of the plots (i.e. grouping some of the T cells)\n",
    "- adding a column that combines tissue and celltype information for both celltype2, and celltype2_short"
   ]
  },
  {
   "cell_type": "code",
   "execution_count": 3,
   "metadata": {},
   "outputs": [],
   "source": [
    "all_hits = pd.read_csv(mainDir + 'all_dons_10x_with_cell_annotations_qc_filtered_withRatios_decont_10_18_2021.csv')\n"
   ]
  },
  {
   "cell_type": "code",
   "execution_count": 14,
   "metadata": {},
   "outputs": [],
   "source": [
    "#counting the occurance of each species and adding that info to a column\n",
    "all_hits['counts_per_species'] = all_hits.groupby('species')['species'].transform('size')\n",
    "\n",
    "#counting the occurance of each species in a donor and additing that to a column\n",
    "per_don_species_counts=all_hits.groupby(['donor','species'], as_index=False).count().iloc[:,0:3].rename(columns={'method':'count_species_per_donor'})\n",
    "all_hits = all_hits.merge(per_don_species_counts, on=['donor', 'species'])\n",
    "\n",
    "\n",
    "all_hits['log2_n_genes'] = np.log2(all_hits['n_genes']) #taking log2 of the gene count (works on annotated cells)\n",
    "all_hits['celltype2'] = all_hits['celltype2'].str.lower() #lower case cell type names\n",
    "\n",
    "#fixing a few cell type names\n",
    "all_hits['celltype2'] = all_hits['celltype2'].apply(lambda x: x.replace(', human', ''))\n",
    "all_hits['celltype2'] = all_hits['celltype2'].apply(lambda x: x.replace('mem.', 'memory'))\n",
    "all_hits['celltype2'] = all_hits['celltype2'].apply(lambda x: x.replace('cd8-positive', 'cd8+'))\n",
    "\n",
    "#creating a new column called celltype2_short that groups similar cell types\n",
    "all_hits['celltype2_short'] = all_hits['celltype2'] \n",
    "all_hits.loc[all_hits['celltype2'].str.contains('cd4+'), 'celltype2_short'] = 'cd4+ t c.'\n",
    "all_hits.loc[all_hits['celltype2'].str.contains('cd8+'), 'celltype2_short'] = 'cd8+ t c.'\n",
    "all_hits.loc[all_hits['celltype2'].str.contains('b c.'), 'celltype2_short'] = 'b c.'\n",
    "all_hits.loc[all_hits['celltype2'].str.contains('endo'), 'celltype2_short'] = 'endo. c.'\n",
    "all_hits.loc[all_hits['celltype2'].str.contains('natural killer c.'), 'celltype2_short'] = 'nk c.'\n",
    "all_hits.loc[all_hits['celltype2'].str.contains('mature nk t c.'), 'celltype2_short'] = 't c.'\n",
    "all_hits.loc[all_hits['celltype2'].str.contains('t follicu'), 'celltype2_short'] = 't c.'\n",
    "all_hits.loc[all_hits['celltype2'].str.contains('monocyte'), 'celltype2_short'] = 'monocyte'\n",
    "all_hits.loc[all_hits['celltype2'].str.contains('mesenchymal stem'), 'celltype2_short'] = 'mesenchymal stem c.'\n",
    "all_hits.loc[all_hits['celltype2'].str.contains('mesenchymal c.'), 'celltype2_short'] = 'mesenchymal c.'\n",
    "\n",
    "all_hits['tissue_celltype'] = all_hits['tissue'] + '_' + all_hits['celltype2'] #adding a column for later plots\n",
    "all_hits['tissue_celltype_short'] = all_hits['tissue'] + '_' + all_hits['celltype2_short'] #adding a column for later plots\n"
   ]
  },
  {
   "cell_type": "markdown",
   "metadata": {},
   "source": [
    "### In addition to those changes, I also want to add the count of cells in the TS dataset for normalization purposes down the line\n",
    "- will first read the obs layers of the TSP1-2 and TSP3-16 objects\n",
    "- then concatenat those two dataframes\n",
    "- perform similar changes to their columns as the BLAST dataframe (see code block above)\n",
    "- then get the counts of cells grouped by tissue_celltype_short\n",
    "- merge that information with the blast dataframe (all_hits)\n",
    "- then save both all_hits and the tsp1-16 obj obs layer that's been modified in case I need it for future"
   ]
  },
  {
   "cell_type": "code",
   "execution_count": 10,
   "metadata": {},
   "outputs": [],
   "source": [
    "#reading in the obs layers for tsp3-16 and tsp1-2\n",
    "alldons_10x_don3to16_obs_df = pd.read_csv(mainDir10 + 'alldons_10x_don3to16_obs_df.csv') #reading the TS3P-16 object obs\n",
    "#reading the TS1-2 object obs\n",
    "tsp12_10x_obs = pd.read_csv(mainDir3 +'objects/totalVelo_withCellCycleScores_mitoUnfiltered_retrieved_Dec2020_microbialprocessed_10x_March2021_v2_OBS.csv') \n",
    "#concatenating the two to get all donors obs \n",
    "alldons_10x_don1to16_obs = pd.concat([alldons_10x_don3to16_obs_df,tsp12_10x_obs])\n",
    "\n",
    "#making same modification as blast dataframe (see above code block)\n",
    "alldons_10x_don1to16_obs['celltype2'] = alldons_10x_don1to16_obs['celltype2'].str.lower() #lower case cell type names\n",
    "alldons_10x_don1to16_obs['tissue'] = alldons_10x_don1to16_obs['tissue'].str.lower() #lower case tissue names\n",
    "\n",
    "#fixing a few cell type names\n",
    "alldons_10x_don1to16_obs['celltype2'] = alldons_10x_don1to16_obs['celltype2'].apply(lambda x: x.replace(', human', ''))\n",
    "alldons_10x_don1to16_obs['celltype2'] = alldons_10x_don1to16_obs['celltype2'].apply(lambda x: x.replace('mem.', 'memory'))\n",
    "alldons_10x_don1to16_obs['celltype2'] = alldons_10x_don1to16_obs['celltype2'].apply(lambda x: x.replace('cd8-positive', 'cd8+'))\n",
    "\n",
    "#creating a new column called celltype2_short that groups similar cell types\n",
    "alldons_10x_don1to16_obs['celltype2_short'] = alldons_10x_don1to16_obs['celltype2'] \n",
    "alldons_10x_don1to16_obs.loc[alldons_10x_don1to16_obs['celltype2'].str.contains('cd4+'), 'celltype2_short'] = 'cd4+ t c.'\n",
    "alldons_10x_don1to16_obs.loc[alldons_10x_don1to16_obs['celltype2'].str.contains('cd8+'), 'celltype2_short'] = 'cd8+ t c.'\n",
    "alldons_10x_don1to16_obs.loc[alldons_10x_don1to16_obs['celltype2'].str.contains('b c.'), 'celltype2_short'] = 'b c.'\n",
    "alldons_10x_don1to16_obs.loc[alldons_10x_don1to16_obs['celltype2'].str.contains('endo'), 'celltype2_short'] = 'endo. c.'\n",
    "alldons_10x_don1to16_obs.loc[alldons_10x_don1to16_obs['celltype2'].str.contains('natural killer c.'), 'celltype2_short'] = 'nk c.'\n",
    "alldons_10x_don1to16_obs.loc[alldons_10x_don1to16_obs['celltype2'].str.contains('mature nk t c.'), 'celltype2_short'] = 't c.'\n",
    "alldons_10x_don1to16_obs.loc[alldons_10x_don1to16_obs['celltype2'].str.contains('t follicu'), 'celltype2_short'] = 't c.'\n",
    "alldons_10x_don1to16_obs.loc[alldons_10x_don1to16_obs['celltype2'].str.contains('monocyte'), 'celltype2_short'] = 'monocyte'\n",
    "alldons_10x_don1to16_obs.loc[alldons_10x_don1to16_obs['celltype2'].str.contains('mesenchymal stem'), 'celltype2_short'] = 'mesenchymal stem c.'\n",
    "alldons_10x_don1to16_obs.loc[alldons_10x_don1to16_obs['celltype2'].str.contains('mesenchymal c.'), 'celltype2_short'] = 'mesenchymal c.'\n",
    "\n",
    "alldons_10x_don1to16_obs['tissue_celltype'] = alldons_10x_don1to16_obs['tissue'] + '_' + alldons_10x_don1to16_obs['celltype2'] #adding a column for later plots\n",
    "alldons_10x_don1to16_obs['tissue_celltype_short'] = alldons_10x_don1to16_obs['tissue'] + '_' + alldons_10x_don1to16_obs['celltype2_short'] #adding a column for later plots\n",
    "\n",
    "#getting the counts of cells in the TS object grouped by tissue and celltype_short\n",
    "all_dons_cell_count_by_tis_celltype = alldons_10x_don1to16_obs.groupby(['tissue_celltype_short'], as_index=False).count().iloc[:,:2].rename(\n",
    "    columns={'tissue':'obj_cell_ct_by_tis_celltype_short'})\n",
    "\n",
    "#saving the final obs layer for all donors\n",
    "alldons_10x_don1to16_obs.to_csv(mainDir10 + 'alldons_10x_don1to16_obs_df.csv', index=False)"
   ]
  },
  {
   "cell_type": "code",
   "execution_count": 15,
   "metadata": {},
   "outputs": [],
   "source": [
    "#finally adding the cell counts to the blast dataframe for later normalization\n",
    "all_hits = all_hits.merge(all_dons_cell_count_by_tis_celltype, on ='tissue_celltype_short', how='left')\n"
   ]
  },
  {
   "cell_type": "markdown",
   "metadata": {},
   "source": [
    "### Saving the final dataframe\n",
    "all filters (taxonomic, alignment qc, decontamination) have been applied at this point. This dataframe is ready for analysis. "
   ]
  },
  {
   "cell_type": "code",
   "execution_count": null,
   "metadata": {},
   "outputs": [],
   "source": [
    "all_hits.to_csv(mainDir + 'all_dons_10x_with_cell_annotations_qc_filtered_withRatios_decont_v2_10_28_2021.csv',\n",
    "                          index=False)"
   ]
  },
  {
   "cell_type": "markdown",
   "metadata": {},
   "source": [
    "### Now just to explore what fraction of hits were filtered out as a result of all various qc and decontamination filters\n",
    "need the prefiltered datasets for all donors"
   ]
  },
  {
   "cell_type": "code",
   "execution_count": 109,
   "metadata": {},
   "outputs": [],
   "source": [
    "mainDir = '/oak/stanford/groups/quake/gita/raw/tab1_20200407/thirdAnalysis/10x/'\n",
    "mainDir2 = mainDir + 'analyze/'\n",
    "imgDir = mainDir2 + 'images/'\n",
    "\n",
    "mainDir3 = '/oak/stanford/groups/quake/gita/raw/tab2_20200508/'\n",
    "mainDir4 = '/oak/stanford/groups/quake/gita/raw/tab2_20200508/tab2microbial/thirdAnalysis/'\n",
    "mainDir5 = '/oak/stanford/groups/quake/gita/raw/organ_20200204/secondAnalysis/'\n",
    "mainDir6 = '/oak/stanford/groups/quake/gita/raw/tab1_20200407/thirdAnalysis/analyze/'\n",
    "mainDir7 = '/oak/stanford/groups/quake/gita/raw/tab1_20200407/thirdAnalysis/'\n",
    "mainDir8 = '/oak/stanford/groups/quake/gita/raw/tab1_20200407/controlAnalysis/'\n",
    "mainDir9 = '/oak/stanford/groups/quake/gita/raw/organ_20191025/controlAnalysis/'\n",
    "mainDir10 = '/oak/stanford/groups/quake/gita/raw/tab3-14_20210420/all/'\n",
    "blastxDir = mainDir + 'inputToBlastx/'\n",
    "dbDir = '/oak/stanford/groups/quake/gita/raw/database/taxonomyNCBI20200125/'\n",
    "taxDir = dbDir + 'taxonkit/'\n",
    "\n",
    "#path to muscle binaries\n",
    "muscle ='/home/groups/quake/gita/miniconda3/envs/mainEnv2/bin/muscle'\n",
    "\n",
    "tax = pd.read_csv(dbDir + 'ncbi_lineages_2021-01-26.csv')\n",
    "#want to take only the following columns from the lineage dataframe tax \n",
    "tax_short=tax[['tax_id','superkingdom', 'phylum', 'class', 'order', 'family', 'genus', 'species']]\n"
   ]
  },
  {
   "cell_type": "code",
   "execution_count": 65,
   "metadata": {},
   "outputs": [],
   "source": [
    "#donor 1 and 2\n",
    "prefil_10x_don1and2 = pd.read_csv(mainDir + 'don1_don2_10x_blastn_nt_pre_filteration_withLineage.csv')\n"
   ]
  },
  {
   "cell_type": "markdown",
   "metadata": {},
   "source": [
    "donors 3-16 have batched and unbatched files that need to be read, and concatenated (after adding lineage information)"
   ]
  },
  {
   "cell_type": "markdown",
   "metadata": {},
   "source": [
    "bacteria"
   ]
  },
  {
   "cell_type": "code",
   "execution_count": 67,
   "metadata": {},
   "outputs": [],
   "source": [
    "#column headers\n",
    "cols =['seqName', 'refName', 'pathogen', 'bitscore', 'pident', 'evalue', 'gapopen', 'qstart', 'qend', 'sstart', 'send', 'length', 'mismatch', 'tax_id']\n",
    "bact_batch =pd.DataFrame({})\n",
    "\n",
    "for file in glob.glob(mainDir10 + 'batchedFiles/bacteria/batched/micoNT_blastn/*.tab'):\n",
    "    #looking at non empty files \n",
    "    if os.path.getsize(file)>0:\n",
    "        #getting the batch number \n",
    "        batch = file.split('/')[-1].split('.tab')[0]\n",
    "        \n",
    "        df=pd.read_csv(file, delimiter='\\t')\n",
    "        df.columns=cols\n",
    "        df['sample'] = df.seqName.apply(lambda x: x.split('-')[1])\n",
    "        df['seqName'] = df.seqName.apply(lambda x: x.split('-')[0])\n",
    "        df['batch']=df.shape[0]*[batch]\n",
    "        df['filepath']=df.shape[0]*[file]\n",
    "        \n",
    "        df['tax_id']=df['tax_id'].apply(lambda x: str(x).split(';')[0])\n",
    "        df.tax_id = df.tax_id.astype('int64')\n",
    "        #adding lineage information\n",
    "        df=df.merge(tax_short, on='tax_id', how='left')\n",
    "       \n",
    "    bact_batch = pd.concat([bact_batch, df])"
   ]
  },
  {
   "cell_type": "markdown",
   "metadata": {},
   "source": [
    "viruses"
   ]
  },
  {
   "cell_type": "code",
   "execution_count": 68,
   "metadata": {},
   "outputs": [],
   "source": [
    "#pulling in data from the batched data files first (viruses) - will redo this step once all BLAST is done\n",
    "\n",
    "#column headers\n",
    "cols =['seqName', 'refName', 'pathogen', 'bitscore', 'pident', 'evalue', 'gapopen', 'qstart', 'qend', 'sstart', 'send', 'length', 'mismatch', 'tax_id']\n",
    "virus_batch =pd.DataFrame({})\n",
    "\n",
    "for file in glob.glob(mainDir10 + 'batchedFiles/viruses/batched/virusNT_blastn/*.tab'):\n",
    "    #looking at non empty files \n",
    "    if os.path.getsize(file)>0:\n",
    "        #getting the batch number \n",
    "        batch = file.split('/')[-1].split('.tab')[0]\n",
    "        \n",
    "        df=pd.read_csv(file, delimiter='\\t')\n",
    "        df.columns=cols\n",
    "        df['sample'] = df.seqName.apply(lambda x: x.split('-')[1])\n",
    "        df['seqName'] = df.seqName.apply(lambda x: x.split('-')[0])\n",
    "        df['batch']=df.shape[0]*[batch]\n",
    "        df['filepath']=df.shape[0]*[file]\n",
    "        \n",
    "        df['tax_id']=df['tax_id'].apply(lambda x: str(x).split(';')[0])\n",
    "        df.tax_id = df.tax_id.astype('int64')\n",
    "        #adding lineage information\n",
    "        df=df.merge(tax_short, on='tax_id', how='left')\n",
    "    virus_batch = pd.concat([virus_batch, df])"
   ]
  },
  {
   "cell_type": "markdown",
   "metadata": {},
   "source": [
    "fungi"
   ]
  },
  {
   "cell_type": "code",
   "execution_count": 69,
   "metadata": {},
   "outputs": [],
   "source": [
    "#pulling in data from the batched data files first (fungi) - will redo this step once all BLAST is done\n",
    "\n",
    "#column headers\n",
    "cols =['seqName', 'refName', 'pathogen', 'bitscore', 'pident', 'evalue', 'gapopen', 'qstart', 'qend', 'sstart', 'send', 'length', 'mismatch', 'tax_id']\n",
    "fungi_batch =pd.DataFrame({})\n",
    "\n",
    "for file in glob.glob(mainDir10 + 'batchedFiles/fungi/batched/fungiNT_blastn/*.tab'):\n",
    "    #looking at non empty files \n",
    "    if os.path.getsize(file)>0:\n",
    "        #getting the batch number \n",
    "        batch = file.split('/')[-1].split('.tab')[0]\n",
    "        \n",
    "        df=pd.read_csv(file, delimiter='\\t')\n",
    "        df.columns=cols\n",
    "        df['sample'] = df.seqName.apply(lambda x: x.split('-')[1])\n",
    "        df['seqName'] = df.seqName.apply(lambda x: x.split('-')[0])\n",
    "        df['batch']=df.shape[0]*[batch]\n",
    "        df['filepath']=df.shape[0]*[file]\n",
    "        \n",
    "        df['tax_id']=df['tax_id'].apply(lambda x: str(x).split(';')[0])\n",
    "        df.tax_id = df.tax_id.astype('int64')\n",
    "        #adding lineage information\n",
    "        df=df.merge(tax_short, on='tax_id', how='left')\n",
    "\n",
    "    fungi_batch = pd.concat([fungi_batch, df])"
   ]
  },
  {
   "cell_type": "markdown",
   "metadata": {},
   "source": [
    "all batched"
   ]
  },
  {
   "cell_type": "code",
   "execution_count": 70,
   "metadata": {},
   "outputs": [],
   "source": [
    "all_batched=pd.concat([bact_batch, virus_batch, fungi_batch])\n",
    "\n",
    "all_batched.to_csv(mainDir10 + 'all_batched_prefiltered_withLineage_09_09_2021.csv', index=False)\n"
   ]
  },
  {
   "cell_type": "markdown",
   "metadata": {},
   "source": [
    "all unbatched"
   ]
  },
  {
   "cell_type": "code",
   "execution_count": 73,
   "metadata": {},
   "outputs": [],
   "source": [
    "def status(x):\n",
    "    if x ==0:\n",
    "        status='empty'\n",
    "    elif x<.80:\n",
    "        status='partial'\n",
    "    elif x>=.80:\n",
    "        status='done'\n",
    "    else:\n",
    "        status='not started'\n",
    "    \n",
    "    return(status)"
   ]
  },
  {
   "cell_type": "code",
   "execution_count": 74,
   "metadata": {},
   "outputs": [
    {
     "name": "stdout",
     "output_type": "stream",
     "text": [
      "number of complete files: 193\n"
     ]
    }
   ],
   "source": [
    "# reading the status of jobs from a previous file\n",
    "maindf_all=pd.read_csv(mainDir10 + 'status_of_nt_jobs.csv')\n",
    "# here are the samples\n",
    "samples=maindf_all[maindf_all['operation']=='humanFiltered'].file.unique().tolist()\n",
    "samples_df=pd.DataFrame(samples, columns=['file'])\n",
    "\n",
    "\n",
    "# actually getting the status of each job based on fraction of blast that's complete\n",
    "maindf_vir = maindf_all[maindf_all['operation']=='virNTblastn']\n",
    "maindf_vir = maindf_vir.merge(samples_df, on='file', how='outer') \n",
    "maindf_vir['status_vir'] = maindf_vir['frac_complete'].apply(lambda x: status(x))\n",
    "\n",
    "maindf_bac = maindf_all[maindf_all['operation']=='micoNT_blastn']\n",
    "maindf_bac = maindf_bac.merge(samples_df, on='file', how='outer') \n",
    "maindf_bac['status_bact'] = maindf_bac['frac_complete_bact'].apply(lambda x: status(x))\n",
    "\n",
    "maindf_fun = maindf_all[maindf_all['operation']=='fungi_NT_blastn']\n",
    "maindf_fun = maindf_fun.merge(samples_df, on='file', how='outer') \n",
    "maindf_fun['status_fun'] = maindf_fun['frac_complete_fun'].apply(lambda x: status(x))\n",
    "\n",
    "#now just collecting all the filepaths to the files that were more than 80% done. \n",
    "maindf_vir_done = maindf_vir[maindf_vir['status_vir']=='done']\n",
    "maindf_bac_done = maindf_bac[maindf_bac['status_bact']=='done']\n",
    "maindf_fun_done = maindf_fun[maindf_fun['status_fun']=='done']\n",
    "fps1 = maindf_vir_done.filepath.tolist()\n",
    "fps2 = maindf_bac_done.filepath.tolist()\n",
    "fps3 = maindf_fun_done.filepath.tolist()\n",
    "#list of file paths to nt blast jobs from the three kingdoms that are complete\n",
    "fps=fps1 + fps2 + fps3\n",
    "print('number of complete files:', len(fps))\n"
   ]
  },
  {
   "cell_type": "code",
   "execution_count": 75,
   "metadata": {},
   "outputs": [],
   "source": [
    "#column headers\n",
    "cols =['seqName', 'refName', 'pathogen', 'bitscore', 'pident', 'evalue', 'gapopen',\n",
    "       'qstart', 'qend', 'sstart', 'send', 'length', 'mismatch', 'tax_id']\n",
    "all_unbatched =pd.DataFrame({})\n",
    "\n",
    "for file in fps:\n",
    "    #looking at non empty files \n",
    "    if os.path.getsize(file)>0:\n",
    "        #getting the batch number \n",
    "        filename = file.split('/')[-1].split('.tab')[0]\n",
    "        \n",
    "        df=pd.read_csv(file, delimiter='\\t')\n",
    "        df.columns=cols\n",
    "        df['sample'] = df.shape[0]*[filename]\n",
    "        df['batch']=df.shape[0]*['unbatched']\n",
    "        df['filepath']=df.shape[0]*[file]\n",
    "        \n",
    "        df['tax_id']=df['tax_id'].apply(lambda x: str(x).split(';')[0])\n",
    "        df.tax_id = df.tax_id.astype('int64')\n",
    "        #adding lineage information\n",
    "        df=df.merge(tax_short, on='tax_id', how='left')\n",
    "        #filtering df to contain only bacteria, viruses, archaea, fungi and blastocyst\n",
    "        \n",
    "    all_unbatched = pd.concat([all_unbatched, df])  \n",
    "    \n",
    "  "
   ]
  },
  {
   "cell_type": "code",
   "execution_count": 76,
   "metadata": {},
   "outputs": [],
   "source": [
    "all_unbatched.to_csv(mainDir10 + 'all_unbatched_prefiltered_withLineage_09_09_2021.csv', index=False)"
   ]
  },
  {
   "cell_type": "markdown",
   "metadata": {},
   "source": [
    "combining the batched and unbatched for donors 3-16"
   ]
  },
  {
   "cell_type": "code",
   "execution_count": 77,
   "metadata": {},
   "outputs": [],
   "source": [
    "donor3_16_prefil_withLineage = pd.concat([all_unbatched, all_batched])\n",
    "donor3_16_prefil_withLineage.to_csv(mainDir10 + 'all_batched_unbatched_don3_16_prefiltered_withLineage_09_09_2021.csv', index=False)"
   ]
  },
  {
   "cell_type": "markdown",
   "metadata": {},
   "source": [
    "### Reading the 10X blast dataframes for all donors with lineage information (without any filters in place)"
   ]
  },
  {
   "cell_type": "code",
   "execution_count": 42,
   "metadata": {},
   "outputs": [],
   "source": [
    "donor3_16_prefil_withLineage = pd.read_csv(mainDir10 + 'all_batched_unbatched_don3_16_prefiltered_withLineage_09_09_2021.csv')"
   ]
  },
  {
   "cell_type": "code",
   "execution_count": 43,
   "metadata": {},
   "outputs": [],
   "source": [
    "don1and2_prefil_withLineage = pd.read_csv(mainDir + 'don1_don2_10x_blastn_nt_pre_filteration_withLineage.csv')\n"
   ]
  },
  {
   "cell_type": "code",
   "execution_count": 44,
   "metadata": {},
   "outputs": [],
   "source": [
    "don1and2_prefil_withLineage['dataset']=['TSP1-2']*don1and2_prefil_withLineage.shape[0]\n",
    "donor3_16_prefil_withLineage['dataset']=['TSP3-16']*donor3_16_prefil_withLineage.shape[0]\n",
    "\n",
    "#concatentating the two dataframes\n",
    "all_dons_prefilt=pd.concat([don1and2_prefil_withLineage,donor3_16_prefil_withLineage ])\n",
    "all_dons_prefilt.drop(columns=['Unnamed: 0', 'Unnamed: 0.1'], inplace=True)"
   ]
  },
  {
   "cell_type": "markdown",
   "metadata": {},
   "source": [
    "number of hits prior to any filters for all donors"
   ]
  },
  {
   "cell_type": "code",
   "execution_count": null,
   "metadata": {},
   "outputs": [],
   "source": [
    "print('number of hits prior to any filters for all donors:', all_dons_prefilt.shape[0])"
   ]
  },
  {
   "cell_type": "code",
   "execution_count": null,
   "metadata": {},
   "outputs": [],
   "source": [
    "don1and2_prefil_withLineage.to_csv(mainDir + 'alldons_10x_blastn_nt_pre_filteration_withLineage.csv', index=False)\n"
   ]
  },
  {
   "cell_type": "markdown",
   "metadata": {},
   "source": [
    "#### what fraction of hits remain after removing sequences originating from humans"
   ]
  },
  {
   "cell_type": "code",
   "execution_count": null,
   "metadata": {},
   "outputs": [],
   "source": [
    "all_dons_fil_1=all_dons_prefilt[(all_dons_prefilt['genus'].str.contains('homo', case=False))==False] \n",
    "\n",
    "print('fraction of hits surviving after human reads are removed:', \n",
    "      np.round(all_dons_fil_1.shape[0]/all_dons_prefilt.shape[0],2))"
   ]
  },
  {
   "cell_type": "markdown",
   "metadata": {},
   "source": [
    "#### what fraction remain after selecting only for bacteria, viruses and fungi"
   ]
  },
  {
   "cell_type": "code",
   "execution_count": null,
   "metadata": {},
   "outputs": [],
   "source": [
    "all_dons_fil_2 = all_dons_fil_1[(all_dons_fil_1['superkingdom'].str.contains('Bacteria|Viruses', case=False) | \n",
    "                  all_dons_fil_1['phylum'].str.contains('mycota', case=False) |\n",
    "                  all_dons_fil_1['species'].str.contains('Blastocyst',case=False)==True)] \n",
    "\n",
    "print('fraction of hits surviving after all taxonomic filters:', \n",
    "      np.round(all_dons_fil_2.shape[0]/all_dons_prefilt.shape[0],2))"
   ]
  },
  {
   "cell_type": "markdown",
   "metadata": {},
   "source": [
    "#### what fraction of reads remain after all filters (taxonomic, alignment qc, decontamination through different steps)\n",
    "going to compare the shape of the final dataframe to the prefiltered one.\n",
    "\n",
    "**we went from 18.8M hits to about 61K hits, so only 0.3% of the original BLAST hits (all with E-values < 10^-5)**"
   ]
  },
  {
   "cell_type": "code",
   "execution_count": 46,
   "metadata": {},
   "outputs": [
    {
     "name": "stdout",
     "output_type": "stream",
     "text": [
      "fraction of hits surviving after all filters: 0.0055\n"
     ]
    }
   ],
   "source": [
    "all_hits_postfilters = pd.read_csv(mainDir + 'all_dons_10x_with_cell_annotations_qc_filtered_withRatios_decont_10_18_2021.csv')\n",
    "\n",
    "all_dons_prefilt = pd.read_csv(mainDir + 'alldons_10x_blastn_nt_pre_filteration_withLineage.csv')\n",
    "\n",
    "print('fraction of hits surviving after all filters:', \n",
    "      np.round(all_hits_postfilters.shape[0]/all_dons_prefilt.shape[0],4))"
   ]
  },
  {
   "cell_type": "markdown",
   "metadata": {},
   "source": [
    "### Lastly, how many raw reads did we begin and how many ended up mapping to human genome? \n",
    "see read_counter.sh in these dir1,2 and 3 for bash command used to get the raw counts from gunzipped fastq files"
   ]
  },
  {
   "cell_type": "code",
   "execution_count": 236,
   "metadata": {
    "scrolled": true
   },
   "outputs": [
    {
     "name": "stdout",
     "output_type": "stream",
     "text": [
      "total number of raw reads donors 3-16 10x: counts    52783456701\n",
      "dtype: int64\n",
      "total number of raw reads donor 2 10x: counts    11214581299\n",
      "dtype: int64\n",
      "total number of raw reads donor 1 10x: counts    5665162120\n",
      "dtype: int64\n",
      "total number of raw reads for all donors: counts    69663200120\n",
      "dtype: int64\n"
     ]
    }
   ],
   "source": [
    "#note these are counts of sequences, not lines (so no need to divide by 4 - since they are fastqs)\n",
    "\n",
    "dir1 = '/oak/stanford/groups/quake/gita/raw/tab3-14_20210420/'\n",
    "#for counts of reads for tabula donors 3-16 (10x)\n",
    "raw_read_count_donors3to16=pd.read_csv(dir1 + 'counter.txt')\n",
    "raw_read_count_donors3to16_sum = raw_read_count_donors3to16.sum()\n",
    "print('total number of raw reads donors 3-16 10x:', raw_read_count_donors3to16_sum)\n",
    "\n",
    "#for counts of reads for tabula donor 2 (10x)\n",
    "dir2 = '/oak/stanford/groups/quake/gita/raw/tab2_20200508/tab2microbial/raw_reads/'\n",
    "raw_read_count_donor2=pd.read_csv(dir2 + 'counter.txt')\n",
    "raw_read_count_donor2_sum = raw_read_count_donor2.sum()\n",
    "print('total number of raw reads donor 2 10x:',raw_read_count_donor2_sum)\n",
    "\n",
    "#for counts of reads for tabula donor 1 (10x)\n",
    "dir3 = '/oak/stanford/groups/quake/gita/raw/tab1_20200407/thirdAnalysis/10x/'\n",
    "raw_read_count_donor1=pd.read_csv(dir3 + 'counter.txt')\n",
    "raw_read_count_donor1_sum = raw_read_count_donor1.sum()\n",
    "print('total number of raw reads donor 1 10x:',raw_read_count_donor1_sum)\n",
    "\n",
    "total = raw_read_count_donors3to16_sum + raw_read_count_donor2_sum + raw_read_count_donor1_sum\n",
    "print('total number of raw reads for all donors:', total)"
   ]
  },
  {
   "cell_type": "markdown",
   "metadata": {},
   "source": [
    "#### looking to see how many reads remained after mapping to human genome and ERCCs using STAR\n",
    "wc -l *.fasta \n",
    "so the counts were divided by two"
   ]
  },
  {
   "cell_type": "code",
   "execution_count": 225,
   "metadata": {
    "scrolled": true
   },
   "outputs": [
    {
     "name": "stdout",
     "output_type": "stream",
     "text": [
      "number of reads after removing those that map to human genome for donor 3-16 10x: 5250281677.0\n",
      "number of reads after removing those that map to human genome for donor 2 10x: 340875190.0\n",
      "number of reads after removing those that map to human genome for donor 1 10x: 178736188.0\n",
      "total count of reads after alignment to human genome and ERCC all donors 10x 5769893055.0\n"
     ]
    }
   ],
   "source": [
    "#donors 3-16 (though it contains all donors actually- had to filter TSP1 and 2 out)\n",
    "human_fil_count_donor3to16=pd.read_csv(dir1 + 'all/count_of_humanFiltered_reads.txt')\n",
    "line_count=[]\n",
    "sample=[]\n",
    "for index,row in human_fil_count_donor3to16.iterrows():\n",
    "    line_count.append(int(human_fil_count_donor3to16.iloc[index].str.split(' ')[0][0]))\n",
    "    sample.append(human_fil_count_donor3to16.iloc[index].str.split(' ')[0][1])\n",
    "human_fil_count_donor3to16['line_count'] = line_count\n",
    "human_fil_count_donor3to16['count'] = human_fil_count_donor3to16['line_count']/2 #dividing by two because they are line counts, not sequence counts\n",
    "human_fil_count_donor3to16['sample'] = sample\n",
    "\n",
    "#excluding donors 1 and 2 (since they are included in the tsp3-16 human filtered file)\n",
    "hum_fil_don3to16 = human_fil_count_donor3to16[(human_fil_count_donor3to16['sample'].str.startswith('TSP1_')==False) &\n",
    "                            (human_fil_count_donor3to16['sample'].str.startswith('TSP2_')==False)]['count'].sum()\n",
    "print('number of reads after removing those that map to human genome for donor 3-16 10x:', hum_fil_don3to16)\n",
    "\n",
    "#donor 2 \n",
    "human_fil_count_donor2=pd.read_csv('/oak/stanford/groups/quake/gita/raw/tab2_20200508/tab2microbial/thirdAnalysis/count_of_humanFiltered_reads.txt')\n",
    "human_fil_count_donor2.tail(1)\n",
    "hum_fil_don2 = 681750380/2\n",
    "print('number of reads after removing those that map to human genome for donor 2 10x:', hum_fil_don2)\n",
    "\n",
    "#donor 1\n",
    "human_fil_count_donor1=pd.read_csv(dir3 + 'count_of_humanFiltered_reads.txt')\n",
    "human_fil_count_donor1.tail(1)\n",
    "hum_fil_don1 = 357472376/2\n",
    "print('number of reads after removing those that map to human genome for donor 1 10x:', hum_fil_don1)\n",
    "\n",
    "total_hum_fil = hum_fil_don3to16 + hum_fil_don2 + hum_fil_don1\n",
    "print('total count of reads after alignment to human genome and ERCC all donors 10x', total_hum_fil)\n",
    "\n"
   ]
  },
  {
   "cell_type": "markdown",
   "metadata": {},
   "source": [
    "**fraction of reads that did not align to human genome or ERCCs** \n",
    "8% for all donors"
   ]
  },
  {
   "cell_type": "code",
   "execution_count": 241,
   "metadata": {},
   "outputs": [
    {
     "name": "stdout",
     "output_type": "stream",
     "text": [
      "fraction non-human donors 3-16: counts    0.1\n",
      "dtype: float64\n",
      "fraction non-human donor 2: counts    0.03\n",
      "dtype: float64\n",
      "fraction non-human donor 1: counts    0.03\n",
      "dtype: float64\n",
      "fraction non-human all donors: counts    0.08\n",
      "dtype: float64\n"
     ]
    }
   ],
   "source": [
    "print('fraction non-human donors 3-16:', np.round(hum_fil_don3to16/ raw_read_count_donors3to16_sum,2))\n",
    "\n",
    "print('fraction non-human donor 2:', np.round(hum_fil_don2/raw_read_count_donor2_sum,2))\n",
    "\n",
    "print('fraction non-human donor 1:', np.round(hum_fil_don1/raw_read_count_donor1_sum,2))\n",
    "\n",
    "print('fraction non-human all donors:', np.round(total_hum_fil/total,2))\n"
   ]
  },
  {
   "cell_type": "markdown",
   "metadata": {},
   "source": [
    "## Summary\n",
    "so we went from 69,663,200,120 raw reads (all donors 10X) to 5,769,893,055 reads after removing human reads, and finally to a blast dataframe representing 18,862,647 sequences (prior to any filters), which then go filtered further down to ~30k sequences. \n",
    "\n",
    "**~70 Billion reads --> ~5.7 Billion reads (human filtered) [8% of original raw reads] --> ~19 Million reads (after BLAST) [0.03% of original raw reads] --> ~30 thousand hits (after all filters and qc of blast dataframe)"
   ]
  }
 ],
 "metadata": {
  "kernelspec": {
   "display_name": "mainEnv2",
   "language": "python",
   "name": "mainenv2"
  },
  "language_info": {
   "codemirror_mode": {
    "name": "ipython",
    "version": 3
   },
   "file_extension": ".py",
   "mimetype": "text/x-python",
   "name": "python",
   "nbconvert_exporter": "python",
   "pygments_lexer": "ipython3",
   "version": "3.6.10"
  },
  "toc": {
   "base_numbering": 1,
   "nav_menu": {
    "height": "619px",
    "width": "950px"
   },
   "number_sections": true,
   "sideBar": true,
   "skip_h1_title": false,
   "title_cell": "Table of Contents",
   "title_sidebar": "Contents",
   "toc_cell": false,
   "toc_position": {},
   "toc_section_display": true,
   "toc_window_display": false
  }
 },
 "nbformat": 4,
 "nbformat_minor": 4
}
