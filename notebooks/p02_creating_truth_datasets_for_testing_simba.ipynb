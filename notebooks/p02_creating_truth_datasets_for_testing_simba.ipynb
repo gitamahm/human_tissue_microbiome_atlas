{
 "cells": [
  {
   "cell_type": "markdown",
   "metadata": {},
   "source": [
    "In this notebook we create several truth datasets for testing the precision and recall of SIMBA from several existing publically available databases/studies. "
   ]
  },
  {
   "cell_type": "markdown",
   "metadata": {},
   "source": [
    "### Loading libraries"
   ]
  },
  {
   "cell_type": "code",
   "execution_count": 1,
   "metadata": {
    "scrolled": true
   },
   "outputs": [],
   "source": [
    "%matplotlib inline\n",
    "import matplotlib\n",
    "import matplotlib.pyplot as plt\n",
    "plt.rcParams['figure.dpi'] = 150\n",
    "plt.rcParams['savefig.dpi'] = 200\n",
    "plt.rcParams['pdf.fonttype'] = 42\n",
    "plt.rcParams['ps.fonttype'] = 42\n",
    "\n",
    "params = {'legend.fontsize': 'small',\n",
    "         'axes.labelsize': 'small',\n",
    "         'axes.titlesize':'small',\n",
    "         'xtick.labelsize':'small',\n",
    "         'ytick.labelsize':'small',\n",
    "         'figure.figsize': (3, 2)}\n",
    "plt.rcParams.update(params)\n",
    "  \n",
    "import os\n",
    "import glob\n",
    "import re\n",
    "import itertools\n",
    "import collections\n",
    "from collections import Counter\n",
    "import math\n",
    "import random\n",
    "from random import randrange\n",
    "import string\n",
    "import subprocess\n",
    "\n",
    "import numpy as np\n",
    "import pandas as pd\n",
    "from pandas import ExcelWriter\n",
    "from pandas import ExcelFile\n",
    "import seaborn as sns \n",
    "import phylopandas as ph\n",
    "\n",
    "cmap = sns.cm.rocket_r\n",
    "sns.set_style(\"white\")\n",
    "\n",
    "import anndata\n",
    "from anndata import read_h5ad\n",
    "from anndata import AnnData\n",
    "import phylopandas as ph\n",
    "import wget\n"
   ]
  },
  {
   "cell_type": "markdown",
   "metadata": {},
   "source": [
    "### Directories"
   ]
  },
  {
   "cell_type": "code",
   "execution_count": null,
   "metadata": {},
   "outputs": [],
   "source": [
    "mainDir = '/oak/stanford/groups/quake/gita/raw/nb/microbe/paper/forGitHub/post_review/'\n",
    "mainDir1= mainDir + 'human_Gastrointestinal_Bacteria_Culture_Collection/'\n",
    "mainDir2='/oak/stanford/groups/quake/gita/raw/tab3-14_20210420/benchmarking_post_reviews/bacterial_test/batch_of_ten/'\n",
    "mainDir3 = '/oak/stanford/groups/quake/gita/raw/tab3-14_20210420/benchmarking_post_reviews/bacterial_test/refseq/'\n",
    "mainDir4 = '/oak/stanford/groups/quake/gita/raw/tab3-14_20210420/benchmarking_post_reviews/fungal/'\n",
    "tosave = mainDir + 'files_to_upload_to_github'\n",
    "\n",
    "dbDir = '/oak/stanford/groups/quake/gita/raw/database/'\n"
   ]
  },
  {
   "cell_type": "markdown",
   "metadata": {},
   "source": [
    "### One batch of 500 random bacterial seqs from the human gut"
   ]
  },
  {
   "cell_type": "markdown",
   "metadata": {},
   "source": [
    "first going to read a tsv file (filereport_read_run_PRJEB23845_tsv.txt downloaded from https://www.ebi.ac.uk/ena/browser/view/PRJEB23845?show=reads) containing the ftp addresses for genomes in the human gut microbiome isolates so I can download them and randomly select regions from various genomes to build a truth dataset for testing how well SIMBA can detect microbes. \n",
    "\n",
    "The associated paper:\n",
    "https://www.nature.com/articles/s41587-018-0009-7#data-availability\n",
    "Human Gastrointestinal Bacteria Culture Collection\n"
   ]
  },
  {
   "cell_type": "code",
   "execution_count": 3,
   "metadata": {
    "scrolled": true
   },
   "outputs": [
    {
     "name": "stdout",
     "output_type": "stream",
     "text": [
      "/oak/stanford/groups/quake/gita/raw/nb/microbe/paper/forGitHub/post_review/human_Gastrointestinal_Bacteria_Culture_Collection\n"
     ]
    }
   ],
   "source": [
    "cd $mainDir1"
   ]
  },
  {
   "cell_type": "code",
   "execution_count": 4,
   "metadata": {},
   "outputs": [],
   "source": [
    "addresses = pd.read_csv(mainDir + 'filereport_read_run_PRJEB23845_tsv.txt', delimiter='\\t')"
   ]
  },
  {
   "cell_type": "markdown",
   "metadata": {},
   "source": [
    "got the ftp addresses"
   ]
  },
  {
   "cell_type": "code",
   "execution_count": 4,
   "metadata": {},
   "outputs": [],
   "source": [
    "mainDir = '/oak/stanford/groups/quake/gita/raw/nb/microbe/paper/forGitHub/post_review/'\n",
    "mainDir1= mainDir + 'human_Gastrointestinal_Bacteria_Culture_Collection/'\n",
    "mainDir2='/oak/stanford/groups/quake/gita/raw/tab3-14_20210420/benchmarking_post_reviews/bacterial_test/batch_of_ten/'\n",
    "mainDir3 = '/oak/stanford/groups/quake/gita/raw/tab3-14_20210420/benchmarking_post_reviews/bacterial_test/refseq/'\n",
    "mainDir4 = '/oak/stanford/groups/quake/gita/raw/tab3-14_20210420/benchmarking_post_reviews/fungal/'\n",
    "tosave = mainDir + 'files_to_upload_to_github'\n",
    "\n",
    "dbDir = '/oak/stanford/groups/quake/gita/raw/database/'\n"
   ]
  },
  {
   "cell_type": "code",
   "execution_count": 5,
   "metadata": {},
   "outputs": [
    {
     "data": {
      "text/html": [
       "<div>\n",
       "<style scoped>\n",
       "    .dataframe tbody tr th:only-of-type {\n",
       "        vertical-align: middle;\n",
       "    }\n",
       "\n",
       "    .dataframe tbody tr th {\n",
       "        vertical-align: top;\n",
       "    }\n",
       "\n",
       "    .dataframe thead th {\n",
       "        text-align: right;\n",
       "    }\n",
       "</style>\n",
       "<table border=\"1\" class=\"dataframe\">\n",
       "  <thead>\n",
       "    <tr style=\"text-align: right;\">\n",
       "      <th></th>\n",
       "      <th>study_accession</th>\n",
       "      <th>sample_accession</th>\n",
       "      <th>experiment_accession</th>\n",
       "      <th>run_accession</th>\n",
       "      <th>tax_id</th>\n",
       "      <th>scientific_name</th>\n",
       "      <th>fastq_ftp</th>\n",
       "      <th>submitted_ftp</th>\n",
       "      <th>sra_ftp</th>\n",
       "    </tr>\n",
       "  </thead>\n",
       "  <tbody>\n",
       "    <tr>\n",
       "      <th>0</th>\n",
       "      <td>PRJEB23845</td>\n",
       "      <td>SAMEA3539430</td>\n",
       "      <td>ERX1276161</td>\n",
       "      <td>ERR1203919</td>\n",
       "      <td>47715</td>\n",
       "      <td>Lacticaseibacillus rhamnosus</td>\n",
       "      <td>ftp.sra.ebi.ac.uk/vol1/fastq/ERR120/009/ERR120...</td>\n",
       "      <td>ftp.sra.ebi.ac.uk/vol1/run/ERR120/ERR1203919/1...</td>\n",
       "      <td>NaN</td>\n",
       "    </tr>\n",
       "    <tr>\n",
       "      <th>1</th>\n",
       "      <td>PRJEB23845</td>\n",
       "      <td>SAMEA3539431</td>\n",
       "      <td>ERX1276162</td>\n",
       "      <td>ERR1203920</td>\n",
       "      <td>562</td>\n",
       "      <td>Escherichia coli</td>\n",
       "      <td>ftp.sra.ebi.ac.uk/vol1/fastq/ERR120/000/ERR120...</td>\n",
       "      <td>ftp.sra.ebi.ac.uk/vol1/run/ERR120/ERR1203920/1...</td>\n",
       "      <td>NaN</td>\n",
       "    </tr>\n",
       "    <tr>\n",
       "      <th>2</th>\n",
       "      <td>PRJEB23845</td>\n",
       "      <td>SAMEA3539432</td>\n",
       "      <td>ERX1276163</td>\n",
       "      <td>ERR1203921</td>\n",
       "      <td>1351</td>\n",
       "      <td>Enterococcus faecalis</td>\n",
       "      <td>ftp.sra.ebi.ac.uk/vol1/fastq/ERR120/001/ERR120...</td>\n",
       "      <td>ftp.sra.ebi.ac.uk/vol1/run/ERR120/ERR1203921/1...</td>\n",
       "      <td>NaN</td>\n",
       "    </tr>\n",
       "  </tbody>\n",
       "</table>\n",
       "</div>"
      ],
      "text/plain": [
       "  study_accession sample_accession experiment_accession run_accession  tax_id  \\\n",
       "0      PRJEB23845     SAMEA3539430           ERX1276161    ERR1203919   47715   \n",
       "1      PRJEB23845     SAMEA3539431           ERX1276162    ERR1203920     562   \n",
       "2      PRJEB23845     SAMEA3539432           ERX1276163    ERR1203921    1351   \n",
       "\n",
       "                scientific_name  \\\n",
       "0  Lacticaseibacillus rhamnosus   \n",
       "1              Escherichia coli   \n",
       "2         Enterococcus faecalis   \n",
       "\n",
       "                                           fastq_ftp  \\\n",
       "0  ftp.sra.ebi.ac.uk/vol1/fastq/ERR120/009/ERR120...   \n",
       "1  ftp.sra.ebi.ac.uk/vol1/fastq/ERR120/000/ERR120...   \n",
       "2  ftp.sra.ebi.ac.uk/vol1/fastq/ERR120/001/ERR120...   \n",
       "\n",
       "                                       submitted_ftp  sra_ftp  \n",
       "0  ftp.sra.ebi.ac.uk/vol1/run/ERR120/ERR1203919/1...      NaN  \n",
       "1  ftp.sra.ebi.ac.uk/vol1/run/ERR120/ERR1203920/1...      NaN  \n",
       "2  ftp.sra.ebi.ac.uk/vol1/run/ERR120/ERR1203921/1...      NaN  "
      ]
     },
     "execution_count": 5,
     "metadata": {},
     "output_type": "execute_result"
    }
   ],
   "source": [
    "addresses.head(3)"
   ]
  },
  {
   "cell_type": "markdown",
   "metadata": {},
   "source": [
    "Initially, I got the genomes from this study from the addresses dataframe (above) but after blasting sequences from those genomes, I would get a different species listed. I assume this is because taxnonomic annotation is different across nt (latest version) and this study. So, I am taking taxids from this study and retrieving corresponding genomes from NCBI. "
   ]
  },
  {
   "cell_type": "markdown",
   "metadata": {},
   "source": [
    "first getting unique taxids from this study"
   ]
  },
  {
   "cell_type": "code",
   "execution_count": 4,
   "metadata": {},
   "outputs": [],
   "source": [
    "taxids_unique=list(addresses.tax_id.unique())"
   ]
  },
  {
   "cell_type": "markdown",
   "metadata": {},
   "source": [
    "we can use the taxids to retrieve ftp paths for downloading genomes from this assembly report downloaded from NCBI (under 16): https://www.ncbi.nlm.nih.gov/genome/doc/ftpfaq/ "
   ]
  },
  {
   "cell_type": "code",
   "execution_count": 104,
   "metadata": {},
   "outputs": [
    {
     "data": {
      "text/plain": [
       "'assembly_summary.txt'"
      ]
     },
     "execution_count": 104,
     "metadata": {},
     "output_type": "execute_result"
    }
   ],
   "source": [
    "wget.download('https://ftp.ncbi.nlm.nih.gov/genomes/refseq/bacteria/assembly_summary.txt')"
   ]
  },
  {
   "cell_type": "markdown",
   "metadata": {},
   "source": [
    "now getting the files\n",
    "first removed the comment line (first line from the file using the following command in the command line: sed -i '1d' assembly_summary.txt)"
   ]
  },
  {
   "cell_type": "code",
   "execution_count": 6,
   "metadata": {},
   "outputs": [
    {
     "name": "stderr",
     "output_type": "stream",
     "text": [
      "/home/users/gitam/.local/lib/python3.6/site-packages/IPython/core/interactiveshell.py:3072: DtypeWarning: Columns (20) have mixed types.Specify dtype option on import or set low_memory=False.\n",
      "  interactivity=interactivity, compiler=compiler, result=result)\n"
     ]
    },
    {
     "data": {
      "text/html": [
       "<div>\n",
       "<style scoped>\n",
       "    .dataframe tbody tr th:only-of-type {\n",
       "        vertical-align: middle;\n",
       "    }\n",
       "\n",
       "    .dataframe tbody tr th {\n",
       "        vertical-align: top;\n",
       "    }\n",
       "\n",
       "    .dataframe thead th {\n",
       "        text-align: right;\n",
       "    }\n",
       "</style>\n",
       "<table border=\"1\" class=\"dataframe\">\n",
       "  <thead>\n",
       "    <tr style=\"text-align: right;\">\n",
       "      <th></th>\n",
       "      <th>assembly_accession</th>\n",
       "      <th>bioproject</th>\n",
       "      <th>biosample</th>\n",
       "      <th>wgs_master</th>\n",
       "      <th>refseq_category</th>\n",
       "      <th>taxid</th>\n",
       "      <th>species_taxid</th>\n",
       "      <th>organism_name</th>\n",
       "      <th>infraspecific_name</th>\n",
       "      <th>isolate</th>\n",
       "      <th>...</th>\n",
       "      <th>genome_rep</th>\n",
       "      <th>seq_rel_date</th>\n",
       "      <th>asm_name</th>\n",
       "      <th>submitter</th>\n",
       "      <th>gbrs_paired_asm</th>\n",
       "      <th>paired_asm_comp</th>\n",
       "      <th>ftp_path</th>\n",
       "      <th>excluded_from_refseq</th>\n",
       "      <th>relation_to_type_material</th>\n",
       "      <th>asm_not_live_date</th>\n",
       "    </tr>\n",
       "  </thead>\n",
       "  <tbody>\n",
       "    <tr>\n",
       "      <th>0</th>\n",
       "      <td>GCF_900128725.1</td>\n",
       "      <td>PRJNA224116</td>\n",
       "      <td>SAMEA4556317</td>\n",
       "      <td>NaN</td>\n",
       "      <td>na</td>\n",
       "      <td>9</td>\n",
       "      <td>9</td>\n",
       "      <td>Buchnera aphidicola</td>\n",
       "      <td>strain=BCifornacula</td>\n",
       "      <td>2912</td>\n",
       "      <td>...</td>\n",
       "      <td>Full</td>\n",
       "      <td>2016/11/25</td>\n",
       "      <td>BCifornacula_v1.0</td>\n",
       "      <td>Centre de Biologie pour la Gestion des Populat...</td>\n",
       "      <td>GCA_900128725.1</td>\n",
       "      <td>identical</td>\n",
       "      <td>https://ftp.ncbi.nlm.nih.gov/genomes/all/GCF/9...</td>\n",
       "      <td>NaN</td>\n",
       "      <td>NaN</td>\n",
       "      <td>na</td>\n",
       "    </tr>\n",
       "    <tr>\n",
       "      <th>1</th>\n",
       "      <td>GCF_008244535.1</td>\n",
       "      <td>PRJNA224116</td>\n",
       "      <td>SAMN12634886</td>\n",
       "      <td>VTFL00000000.1</td>\n",
       "      <td>na</td>\n",
       "      <td>14</td>\n",
       "      <td>14</td>\n",
       "      <td>Dictyoglomus thermophilum</td>\n",
       "      <td>strain=PYS_80_B</td>\n",
       "      <td>NaN</td>\n",
       "      <td>...</td>\n",
       "      <td>Full</td>\n",
       "      <td>2019/09/02</td>\n",
       "      <td>ASM824453v1</td>\n",
       "      <td>Agharkar Research Institute</td>\n",
       "      <td>GCA_008244535.1</td>\n",
       "      <td>identical</td>\n",
       "      <td>https://ftp.ncbi.nlm.nih.gov/genomes/all/GCF/0...</td>\n",
       "      <td>NaN</td>\n",
       "      <td>NaN</td>\n",
       "      <td>na</td>\n",
       "    </tr>\n",
       "    <tr>\n",
       "      <th>2</th>\n",
       "      <td>GCF_001735525.1</td>\n",
       "      <td>PRJNA224116</td>\n",
       "      <td>SAMN05384437</td>\n",
       "      <td>MCBT00000000.1</td>\n",
       "      <td>representative genome</td>\n",
       "      <td>23</td>\n",
       "      <td>23</td>\n",
       "      <td>Shewanella colwelliana</td>\n",
       "      <td>strain=CSB03KR</td>\n",
       "      <td>NaN</td>\n",
       "      <td>...</td>\n",
       "      <td>Full</td>\n",
       "      <td>2016/09/19</td>\n",
       "      <td>ASM173552v1</td>\n",
       "      <td>Chonnam National University</td>\n",
       "      <td>GCA_001735525.1</td>\n",
       "      <td>identical</td>\n",
       "      <td>https://ftp.ncbi.nlm.nih.gov/genomes/all/GCF/0...</td>\n",
       "      <td>NaN</td>\n",
       "      <td>NaN</td>\n",
       "      <td>na</td>\n",
       "    </tr>\n",
       "  </tbody>\n",
       "</table>\n",
       "<p>3 rows × 23 columns</p>\n",
       "</div>"
      ],
      "text/plain": [
       "  assembly_accession   bioproject     biosample      wgs_master  \\\n",
       "0    GCF_900128725.1  PRJNA224116  SAMEA4556317             NaN   \n",
       "1    GCF_008244535.1  PRJNA224116  SAMN12634886  VTFL00000000.1   \n",
       "2    GCF_001735525.1  PRJNA224116  SAMN05384437  MCBT00000000.1   \n",
       "\n",
       "         refseq_category  taxid  species_taxid              organism_name  \\\n",
       "0                     na      9              9        Buchnera aphidicola   \n",
       "1                     na     14             14  Dictyoglomus thermophilum   \n",
       "2  representative genome     23             23     Shewanella colwelliana   \n",
       "\n",
       "    infraspecific_name isolate  ... genome_rep seq_rel_date  \\\n",
       "0  strain=BCifornacula    2912  ...       Full   2016/11/25   \n",
       "1      strain=PYS_80_B     NaN  ...       Full   2019/09/02   \n",
       "2       strain=CSB03KR     NaN  ...       Full   2016/09/19   \n",
       "\n",
       "            asm_name                                          submitter  \\\n",
       "0  BCifornacula_v1.0  Centre de Biologie pour la Gestion des Populat...   \n",
       "1        ASM824453v1                        Agharkar Research Institute   \n",
       "2        ASM173552v1                        Chonnam National University   \n",
       "\n",
       "   gbrs_paired_asm paired_asm_comp  \\\n",
       "0  GCA_900128725.1       identical   \n",
       "1  GCA_008244535.1       identical   \n",
       "2  GCA_001735525.1       identical   \n",
       "\n",
       "                                            ftp_path excluded_from_refseq  \\\n",
       "0  https://ftp.ncbi.nlm.nih.gov/genomes/all/GCF/9...                  NaN   \n",
       "1  https://ftp.ncbi.nlm.nih.gov/genomes/all/GCF/0...                  NaN   \n",
       "2  https://ftp.ncbi.nlm.nih.gov/genomes/all/GCF/0...                  NaN   \n",
       "\n",
       "  relation_to_type_material asm_not_live_date  \n",
       "0                       NaN                na  \n",
       "1                       NaN                na  \n",
       "2                       NaN                na  \n",
       "\n",
       "[3 rows x 23 columns]"
      ]
     },
     "execution_count": 6,
     "metadata": {},
     "output_type": "execute_result"
    }
   ],
   "source": [
    "assembly_report=pd.read_csv(mainDir1 + 'assembly_summary.txt', delimiter='\t')\n",
    "header = ['assembly_accession', 'bioproject', 'biosample', 'wgs_master',\n",
    "       'refseq_category', 'taxid', 'species_taxid', 'organism_name',\n",
    "       'infraspecific_name', 'isolate', 'version_status', 'assembly_level',\n",
    "       'release_type', 'genome_rep', 'seq_rel_date', 'asm_name', 'submitter',\n",
    "       'gbrs_paired_asm', 'paired_asm_comp', 'ftp_path',\n",
    "       'excluded_from_refseq', 'relation_to_type_material',\n",
    "       'asm_not_live_date']\n",
    "assembly_report.columns = header\n",
    "assembly_report.head(3)"
   ]
  },
  {
   "cell_type": "markdown",
   "metadata": {},
   "source": [
    "now getting the assembly report dataframe to only contain species from the gut study"
   ]
  },
  {
   "cell_type": "code",
   "execution_count": 145,
   "metadata": {},
   "outputs": [
    {
     "data": {
      "text/plain": [
       "(61782, 23)"
      ]
     },
     "execution_count": 145,
     "metadata": {},
     "output_type": "execute_result"
    }
   ],
   "source": [
    "assembly_report_fil = assembly_report[assembly_report['taxid'].isin(taxids_unique)]\n",
    "assembly_report_fil.shape\n"
   ]
  },
  {
   "cell_type": "markdown",
   "metadata": {},
   "source": [
    "taking only unique entries"
   ]
  },
  {
   "cell_type": "code",
   "execution_count": 146,
   "metadata": {},
   "outputs": [],
   "source": [
    "assembly_report_fil2 = assembly_report_fil.drop_duplicates(subset=['taxid'])\n",
    "#just renaming the dataframe for easier access\n",
    "arf = assembly_report_fil2 "
   ]
  },
  {
   "cell_type": "markdown",
   "metadata": {},
   "source": [
    "the ftp path doesn't take me to the genome. It takes me to a folder that contains the genome, so I appended the right address to be able to get the genome"
   ]
  },
  {
   "cell_type": "code",
   "execution_count": 50,
   "metadata": {},
   "outputs": [
    {
     "name": "stderr",
     "output_type": "stream",
     "text": [
      "/home/users/gitam/.local/lib/python3.6/site-packages/ipykernel_launcher.py:1: SettingWithCopyWarning: \n",
      "A value is trying to be set on a copy of a slice from a DataFrame.\n",
      "Try using .loc[row_indexer,col_indexer] = value instead\n",
      "\n",
      "See the caveats in the documentation: https://pandas.pydata.org/pandas-docs/stable/user_guide/indexing.html#returning-a-view-versus-a-copy\n",
      "  \"\"\"Entry point for launching an IPython kernel.\n",
      "/home/users/gitam/.local/lib/python3.6/site-packages/ipykernel_launcher.py:2: SettingWithCopyWarning: \n",
      "A value is trying to be set on a copy of a slice from a DataFrame.\n",
      "Try using .loc[row_indexer,col_indexer] = value instead\n",
      "\n",
      "See the caveats in the documentation: https://pandas.pydata.org/pandas-docs/stable/user_guide/indexing.html#returning-a-view-versus-a-copy\n",
      "  \n"
     ]
    }
   ],
   "source": [
    "arf['genome']= arf['ftp_path'].apply(lambda x: x.split('/')[-1] + '_genomic.fna.gz')\n",
    "arf['genome_link'] = arf['ftp_path'] + '/' + arf['genome']\n",
    "ftps = assembly_report_fil2['genome_link'].tolist()"
   ]
  },
  {
   "cell_type": "markdown",
   "metadata": {},
   "source": [
    "downloading the genomes"
   ]
  },
  {
   "cell_type": "code",
   "execution_count": 202,
   "metadata": {},
   "outputs": [],
   "source": [
    "for path in ftps:\n",
    "    wget.download(path)"
   ]
  },
  {
   "cell_type": "markdown",
   "metadata": {},
   "source": [
    "Now I want to get 10 random sequences, each 100 bases long, from 50 random bacterial genomes (selected from the gut) and collect them as part of one dataframe. Once I have the dataframe, I will use phylopandas to write a fasta file. This will become the test bacterial dataset. Will test it before adding viruses & fungi"
   ]
  },
  {
   "cell_type": "code",
   "execution_count": 372,
   "metadata": {},
   "outputs": [
    {
     "name": "stderr",
     "output_type": "stream",
     "text": [
      "/home/users/gitam/.local/lib/python3.6/site-packages/ipykernel_launcher.py:16: SettingWithCopyWarning: \n",
      "A value is trying to be set on a copy of a slice from a DataFrame.\n",
      "Try using .loc[row_indexer,col_indexer] = value instead\n",
      "\n",
      "See the caveats in the documentation: https://pandas.pydata.org/pandas-docs/stable/user_guide/indexing.html#returning-a-view-versus-a-copy\n",
      "  app.launch_new_instance()\n",
      "/home/users/gitam/.local/lib/python3.6/site-packages/ipykernel_launcher.py:17: SettingWithCopyWarning: \n",
      "A value is trying to be set on a copy of a slice from a DataFrame.\n",
      "Try using .loc[row_indexer,col_indexer] = value instead\n",
      "\n",
      "See the caveats in the documentation: https://pandas.pydata.org/pandas-docs/stable/user_guide/indexing.html#returning-a-view-versus-a-copy\n"
     ]
    },
    {
     "data": {
      "text/plain": [
       "(500, 11)"
      ]
     },
     "execution_count": 372,
     "metadata": {},
     "output_type": "execute_result"
    }
   ],
   "source": [
    "#sampling x sequences from each genome\n",
    "x=10 #number of sequences from a genome to obtain\n",
    "seq_len=100 #length of the sequence to blast\n",
    "num_genomes = 50\n",
    "\n",
    "\n",
    "random_seq_df=pd.DataFrame({})\n",
    "counter =0\n",
    "for file in glob.glob(mainDir1 + '*.fna'):  \n",
    "    df = ph.read_fasta(file)\n",
    "    if counter<num_genomes:\n",
    "        if df.shape[0]>=x: #if the genome file has at least 10 long seqs associated with it to choose random seqs from\n",
    "            counter=counter+1 #want only to sample 50 genomes\n",
    "            genome=file.split('/')[-1] + '.gz'\n",
    "            sub_df = df.iloc[:x, :]\n",
    "            sub_df['rand_seq'] = sub_df['sequence'].apply(lambda x: x[100:100+seq_len]) #start at 500bp for each contig and take 100 bases\n",
    "            sub_df['genome']=genome\n",
    "            random_seq_df=pd.concat([random_seq_df, sub_df])    \n",
    "    else:\n",
    "        break\n",
    "    \n",
    "\n",
    "#merging dataframes to get information about each random seq \n",
    "arf_sub=arf[['assembly_accession','bioproject','taxid','organism_name','infraspecific_name','ftp_path','genome']]\n",
    "random_seq_df_sub=random_seq_df[['id','rand_seq','description','genome']]\n",
    "blast_df=random_seq_df_sub.merge(arf_sub, on='genome')\n",
    "blast_df.shape #should be 500 (50 genomes, 10 random segments each)"
   ]
  },
  {
   "cell_type": "code",
   "execution_count": 382,
   "metadata": {},
   "outputs": [
    {
     "data": {
      "text/html": [
       "<div>\n",
       "<style scoped>\n",
       "    .dataframe tbody tr th:only-of-type {\n",
       "        vertical-align: middle;\n",
       "    }\n",
       "\n",
       "    .dataframe tbody tr th {\n",
       "        vertical-align: top;\n",
       "    }\n",
       "\n",
       "    .dataframe thead th {\n",
       "        text-align: right;\n",
       "    }\n",
       "</style>\n",
       "<table border=\"1\" class=\"dataframe\">\n",
       "  <thead>\n",
       "    <tr style=\"text-align: right;\">\n",
       "      <th></th>\n",
       "      <th>id</th>\n",
       "      <th>rand_seq</th>\n",
       "      <th>description</th>\n",
       "      <th>genome</th>\n",
       "      <th>assembly_accession</th>\n",
       "      <th>bioproject</th>\n",
       "      <th>taxid</th>\n",
       "      <th>organism_name</th>\n",
       "      <th>infraspecific_name</th>\n",
       "      <th>ftp_path</th>\n",
       "      <th>genome_path</th>\n",
       "    </tr>\n",
       "  </thead>\n",
       "  <tbody>\n",
       "    <tr>\n",
       "      <th>0</th>\n",
       "      <td>NZ_JAAITI010000095.1</td>\n",
       "      <td>TGACCTTGTTATCATCCTTGATTTCCAGTCCCGTGTAATCTGATTT...</td>\n",
       "      <td>NZ_JAAITI010000095.1 Blautia luti strain MSK.1...</td>\n",
       "      <td>GCF_013304735.1_ASM1330473v1_genomic.fna.gz</td>\n",
       "      <td>GCF_013304735.1</td>\n",
       "      <td>PRJNA224116</td>\n",
       "      <td>89014</td>\n",
       "      <td>Blautia luti</td>\n",
       "      <td>strain=MSK.16.34</td>\n",
       "      <td>https://ftp.ncbi.nlm.nih.gov/genomes/all/GCF/0...</td>\n",
       "      <td>GCF_013304735.1_ASM1330473v1_genomic.fna.gz</td>\n",
       "    </tr>\n",
       "    <tr>\n",
       "      <th>1</th>\n",
       "      <td>NZ_JAAITI010000096.1</td>\n",
       "      <td>AATTCAGTTATTTGAAAAATATTTTCCCAACATGAAACTTCCCGCT...</td>\n",
       "      <td>NZ_JAAITI010000096.1 Blautia luti strain MSK.1...</td>\n",
       "      <td>GCF_013304735.1_ASM1330473v1_genomic.fna.gz</td>\n",
       "      <td>GCF_013304735.1</td>\n",
       "      <td>PRJNA224116</td>\n",
       "      <td>89014</td>\n",
       "      <td>Blautia luti</td>\n",
       "      <td>strain=MSK.16.34</td>\n",
       "      <td>https://ftp.ncbi.nlm.nih.gov/genomes/all/GCF/0...</td>\n",
       "      <td>GCF_013304735.1_ASM1330473v1_genomic.fna.gz</td>\n",
       "    </tr>\n",
       "    <tr>\n",
       "      <th>2</th>\n",
       "      <td>NZ_JAAITI010000097.1</td>\n",
       "      <td>TCTCAAAGCAGTTTCAAAAGTTTGCGGATGAGGTGATTCCTTATCA...</td>\n",
       "      <td>NZ_JAAITI010000097.1 Blautia luti strain MSK.1...</td>\n",
       "      <td>GCF_013304735.1_ASM1330473v1_genomic.fna.gz</td>\n",
       "      <td>GCF_013304735.1</td>\n",
       "      <td>PRJNA224116</td>\n",
       "      <td>89014</td>\n",
       "      <td>Blautia luti</td>\n",
       "      <td>strain=MSK.16.34</td>\n",
       "      <td>https://ftp.ncbi.nlm.nih.gov/genomes/all/GCF/0...</td>\n",
       "      <td>GCF_013304735.1_ASM1330473v1_genomic.fna.gz</td>\n",
       "    </tr>\n",
       "  </tbody>\n",
       "</table>\n",
       "</div>"
      ],
      "text/plain": [
       "                     id                                           rand_seq  \\\n",
       "0  NZ_JAAITI010000095.1  TGACCTTGTTATCATCCTTGATTTCCAGTCCCGTGTAATCTGATTT...   \n",
       "1  NZ_JAAITI010000096.1  AATTCAGTTATTTGAAAAATATTTTCCCAACATGAAACTTCCCGCT...   \n",
       "2  NZ_JAAITI010000097.1  TCTCAAAGCAGTTTCAAAAGTTTGCGGATGAGGTGATTCCTTATCA...   \n",
       "\n",
       "                                         description  \\\n",
       "0  NZ_JAAITI010000095.1 Blautia luti strain MSK.1...   \n",
       "1  NZ_JAAITI010000096.1 Blautia luti strain MSK.1...   \n",
       "2  NZ_JAAITI010000097.1 Blautia luti strain MSK.1...   \n",
       "\n",
       "                                        genome assembly_accession  \\\n",
       "0  GCF_013304735.1_ASM1330473v1_genomic.fna.gz    GCF_013304735.1   \n",
       "1  GCF_013304735.1_ASM1330473v1_genomic.fna.gz    GCF_013304735.1   \n",
       "2  GCF_013304735.1_ASM1330473v1_genomic.fna.gz    GCF_013304735.1   \n",
       "\n",
       "    bioproject  taxid organism_name infraspecific_name  \\\n",
       "0  PRJNA224116  89014  Blautia luti   strain=MSK.16.34   \n",
       "1  PRJNA224116  89014  Blautia luti   strain=MSK.16.34   \n",
       "2  PRJNA224116  89014  Blautia luti   strain=MSK.16.34   \n",
       "\n",
       "                                            ftp_path  \\\n",
       "0  https://ftp.ncbi.nlm.nih.gov/genomes/all/GCF/0...   \n",
       "1  https://ftp.ncbi.nlm.nih.gov/genomes/all/GCF/0...   \n",
       "2  https://ftp.ncbi.nlm.nih.gov/genomes/all/GCF/0...   \n",
       "\n",
       "                                   genome_path  \n",
       "0  GCF_013304735.1_ASM1330473v1_genomic.fna.gz  \n",
       "1  GCF_013304735.1_ASM1330473v1_genomic.fna.gz  \n",
       "2  GCF_013304735.1_ASM1330473v1_genomic.fna.gz  "
      ]
     },
     "execution_count": 382,
     "metadata": {},
     "output_type": "execute_result"
    }
   ],
   "source": [
    "blast_df.head(3)"
   ]
  },
  {
   "cell_type": "markdown",
   "metadata": {},
   "source": [
    "saving the resulting dataframe and then saving it in fasta form as well "
   ]
  },
  {
   "cell_type": "code",
   "execution_count": 21,
   "metadata": {},
   "outputs": [],
   "source": [
    "blast_df[['taxid', 'organism_name','infraspecific_name', 'genome', 'ftp_path', 'assembly_accession'\n",
    "         ]].to_csv('/oak/stanford/groups/quake/gita/raw/tab3-14_20210420/benchmarking_post_reviews/bacterial_test/random_contigs_gut_bacterial_genomes_500_contigs.csv')"
   ]
  },
  {
   "cell_type": "markdown",
   "metadata": {},
   "source": [
    "This will write a file called \"random_contigs_gut_bacterial_genomes_500_contigs.fasta\".  \n",
    "The headers follow this format: **'taxon id'_'ncbi_contig_id'_'organism_name'**:\n",
    "\n",
    "89014_NZ_JAAITI010000096.1_Blautia luti\n"
   ]
  },
  {
   "cell_type": "code",
   "execution_count": 384,
   "metadata": {},
   "outputs": [],
   "source": [
    "# #Opening a fasta file to write random sequences to\n",
    "f= open('random_contigs_gut_bacterial_genomes_500_contigs.fasta', 'w')\n",
    "for i in list(range(0,blast_df.shape[0])):\n",
    "    header = str(blast_df['taxid'].iat[i]) + '_'+ str(blast_df['id'].iat[i]) + '_' + blast_df['organism_name'].iat[i]\n",
    "    sequence = blast_df['rand_seq'].iat[i]\n",
    "    f.write('>' + header + '\\n' + sequence + '\\n')\n",
    "f.close()\n"
   ]
  },
  {
   "cell_type": "markdown",
   "metadata": {},
   "source": [
    "### 10 batches of 500 random bacterial seqs from the human gut (total 5000 seqs)\n",
    "still from 50 random species (100 regions instead of 10). There is a possibility that 100 regions will enable higher precision/recall than 10 regions. "
   ]
  },
  {
   "cell_type": "code",
   "execution_count": 12,
   "metadata": {},
   "outputs": [],
   "source": [
    "!mkdir /oak/stanford/groups/quake/gita/raw/tab3-14_20210420/benchmarking_post_reviews/bacterial_test/batch_of_ten"
   ]
  },
  {
   "cell_type": "code",
   "execution_count": 77,
   "metadata": {},
   "outputs": [
    {
     "name": "stderr",
     "output_type": "stream",
     "text": [
      "/home/users/gitam/.local/lib/python3.6/site-packages/ipykernel_launcher.py:21: SettingWithCopyWarning: \n",
      "A value is trying to be set on a copy of a slice from a DataFrame.\n",
      "Try using .loc[row_indexer,col_indexer] = value instead\n",
      "\n",
      "See the caveats in the documentation: https://pandas.pydata.org/pandas-docs/stable/user_guide/indexing.html#returning-a-view-versus-a-copy\n",
      "/home/users/gitam/.local/lib/python3.6/site-packages/ipykernel_launcher.py:22: SettingWithCopyWarning: \n",
      "A value is trying to be set on a copy of a slice from a DataFrame.\n",
      "Try using .loc[row_indexer,col_indexer] = value instead\n",
      "\n",
      "See the caveats in the documentation: https://pandas.pydata.org/pandas-docs/stable/user_guide/indexing.html#returning-a-view-versus-a-copy\n"
     ]
    },
    {
     "data": {
      "text/plain": [
       "(6890, 10)"
      ]
     },
     "execution_count": 77,
     "metadata": {},
     "output_type": "execute_result"
    }
   ],
   "source": [
    "#sampling x sequences from each genome\n",
    "x=10 #number of sequences from a genome to obtain\n",
    "seq_len=100 #length of the sequence to blast\n",
    "num_genomes = 50\n",
    "\n",
    "\n",
    "random_seq_df=pd.DataFrame({})\n",
    "counter =0\n",
    "for file in glob.glob(mainDir1 + '*.fna'):  \n",
    "    df = ph.read_fasta(file)\n",
    "    if (counter<num_genomes): #if the genome file has at least x long seqs associated with it to choose random seqs from & #making sure the shortest contig is at least 6000 bases \n",
    "        if df.shape[0]>=x: \n",
    "            df['contig_length'] = df.sequence.apply(lambda x: len(x)) #getting the length of each contig \n",
    "            df = df.sort_values(by='contig_length', ascending=False) #sorting so that I select long contigs so that I can select multiple seqs from each contig\n",
    "            if df['contig_length'].iat[x]> 6000:\n",
    "                counter=counter+1 #want only to sample 50 genomes\n",
    "                genome=file.split('/')[-1] + '.gz'\n",
    "                sub_df = df.iloc[:x, :]            \n",
    "        \n",
    "            for i in range(100,5100, 400): #taking 10 random segments from a contig, starting at 100 base position\n",
    "                sub_df['rand_seq'] = sub_df['sequence'].apply(lambda x: x[i:i+seq_len]) \n",
    "                sub_df['genome']=genome\n",
    "                random_seq_df=pd.concat([random_seq_df, sub_df]) \n",
    "    else:\n",
    "        break\n",
    "    \n",
    "\n",
    "#merging dataframes to get information about each random seq \n",
    "arf_sub=arf[['assembly_accession','bioproject','taxid','organism_name','infraspecific_name','ftp_path','genome']]\n",
    "random_seq_df_sub=random_seq_df[['id','rand_seq','description','genome']]\n",
    "blast_df=random_seq_df_sub.merge(arf_sub, on='genome')\n",
    "blast_df.shape "
   ]
  },
  {
   "cell_type": "markdown",
   "metadata": {},
   "source": [
    "dropping any potential duplicates and sequences that have \"N\""
   ]
  },
  {
   "cell_type": "code",
   "execution_count": 95,
   "metadata": {},
   "outputs": [],
   "source": [
    "blast_df = blast_df.drop_duplicates()\n",
    "blast_df = blast_df[~blast_df['rand_seq'].str.contains('N')]"
   ]
  },
  {
   "cell_type": "markdown",
   "metadata": {},
   "source": [
    "selecting only 100 contigs per genome (currently there are about 130)"
   ]
  },
  {
   "cell_type": "code",
   "execution_count": 109,
   "metadata": {},
   "outputs": [],
   "source": [
    "blast_df_100 = pd.DataFrame({})\n",
    "for genome in blast_df.genome.unique():\n",
    "    sub = blast_df[blast_df['genome']==genome].sample(n=100) \n",
    "    blast_df_100=pd.concat([blast_df_100, sub])"
   ]
  },
  {
   "cell_type": "markdown",
   "metadata": {},
   "source": [
    "will create a unique id column (id2) otherwise segments from the same contig will have the same id in the resulting fasta file. "
   ]
  },
  {
   "cell_type": "code",
   "execution_count": 115,
   "metadata": {},
   "outputs": [],
   "source": [
    "id2=[str(x) for x in list(range(blast_df_100.shape[0]))]\n",
    "blast_df_100['id2']=id2\n",
    "blast_df_100['id2'] = blast_df_100['id'] + '_' + blast_df_100['id2']\n"
   ]
  },
  {
   "cell_type": "markdown",
   "metadata": {},
   "source": [
    "spliting the main CSV file so I can run 10 SIMBA jobs in parallel. The following will produce both csvs and fasta files (500 sequences per file)"
   ]
  },
  {
   "cell_type": "code",
   "execution_count": 29,
   "metadata": {},
   "outputs": [],
   "source": [
    "readsDir = mainDir2 + 'fasta_files/'\n"
   ]
  },
  {
   "cell_type": "code",
   "execution_count": null,
   "metadata": {},
   "outputs": [],
   "source": [
    "!mkdir $readsDir"
   ]
  },
  {
   "cell_type": "code",
   "execution_count": 146,
   "metadata": {},
   "outputs": [],
   "source": [
    "num_seq_per_batch=500 #how many seqs per fasta file\n",
    "for i in range(0,blast_df_100.shape[0],num_seq_per_batch):\n",
    "    start=i\n",
    "    end=i+ num_seq_per_batch\n",
    "    batch_df = blast_df_100.iloc[start:end]\n",
    "    batch_df.to_csv(readsDir + 'batch_' + str(i) + '.csv')\n",
    "    \n",
    "    # #Opening a fasta file to write random sequences to\n",
    "    f= open(readsDir + 'batch_' + str(i) + '.fasta', 'w')\n",
    "    for i in list(range(0,batch_df.shape[0])):\n",
    "        header = str(batch_df['taxid'].iat[i]) + '_'+ str(batch_df['id2'].iat[i]) + '_' + batch_df['organism_name'].iat[i]\n",
    "        header = header.replace(' ', '_')\n",
    "        sequence = batch_df['rand_seq'].iat[i] \n",
    "        f.write('>' + header + '\\n' + sequence + '\\n')\n",
    "    f.close()\n",
    "\n"
   ]
  },
  {
   "cell_type": "markdown",
   "metadata": {},
   "source": [
    "the above code works now, but there was an error at the level of fasta file writing wherer it was inputing the same sequence. I fixed it, and use the below block to write new files. The csvs were written correctly"
   ]
  },
  {
   "cell_type": "code",
   "execution_count": 34,
   "metadata": {},
   "outputs": [],
   "source": [
    "num_seq_per_batch=500 #how many seqs per fasta file\n",
    "for file in glob.glob('/oak/stanford/groups/quake/gita/raw/tab3-14_20210420/benchmarking_post_reviews/bacterial_test/batch_of_ten/fasta_files/*.csv'):\n",
    "    batch_df = pd.read_csv(file)\n",
    "    filename = file.split('/')[-1].split('.csv')[0]\n",
    "    #Opening a fasta file to write random sequences to\n",
    "    f= open(readsDir + filename + '.fasta', 'w')\n",
    "    for i in list(range(0,batch_df.shape[0])):\n",
    "        header = str(batch_df['taxid'].iat[i]) + '_'+ str(batch_df['id2'].iat[i]) + '_' + batch_df['organism_name'].iat[i]\n",
    "        header = header.replace(' ', '_')\n",
    "        sequence = batch_df['rand_seq'].iat[i]\n",
    "        f.write('>' + header + '\\n' + sequence + '\\n')\n",
    "    f.close()\n"
   ]
  },
  {
   "cell_type": "markdown",
   "metadata": {},
   "source": [
    "### RefSeq bacterial truth dataset (100 seqs per genome, 10 batches for a total of 5000 seqs)\n",
    "I want to see how SIMBA does in picking up bacteria in general, as opposed to bacterial species found in the gut. So here I will select 100 contigs per genome from 50 randomly selected Refseq bacterial species. "
   ]
  },
  {
   "cell_type": "markdown",
   "metadata": {},
   "source": [
    "no need to rerun this, as I already have refseq database saved as a dataframe. See databaseCreationSC_microbeDB_fungalDB_jan2021\n"
   ]
  },
  {
   "cell_type": "code",
   "execution_count": 139,
   "metadata": {},
   "outputs": [],
   "source": [
    "refseq_dir = '/oak/stanford/groups/quake/gita/raw/tab2_20200508/tab2microbial/'\n"
   ]
  },
  {
   "cell_type": "code",
   "execution_count": 140,
   "metadata": {},
   "outputs": [],
   "source": [
    "#Reading in the original fasta file, quickly converting it to dataframe\n",
    "init=pd.DataFrame()\n",
    "for file in glob.glob(dbDir + 'bactRepSeqs_Dec2020/ncbi-genomes-2020-12-16/*.fna'):\n",
    "    df1 = ph.read_fasta(file)\n",
    "    init = pd.concat([init, df1])\n",
    "\n",
    "    \n",
    "#extracting only genome names by replacing the genbank id\n",
    "init['name']=init['description'].str.replace('N\\w_\\w+\\d+.\\d+ ', '')\n",
    "\n",
    "#changing the names to contain only species information (don't want strains)\n",
    "init['sp'] =init.name.str.split('strain')\n",
    "init['sp'] = init['sp'].apply(lambda x: x[0])\n",
    "init['sp2'] = init['sp'].apply(lambda x: x.split(' ')[0:2])\n",
    "init['sp2'] = init['sp2'].apply(lambda x: ' '.join(x))\n",
    "\n",
    "init.to_csv(refseq_dir + 'refSeqBacterial_Dec2020.csv')"
   ]
  },
  {
   "cell_type": "markdown",
   "metadata": {},
   "source": [
    "reading the refseq database (from Dec 2020) and dropping duplicate species (i.e. different strains of the same species)\n"
   ]
  },
  {
   "cell_type": "code",
   "execution_count": 141,
   "metadata": {},
   "outputs": [
    {
     "name": "stdout",
     "output_type": "stream",
     "text": [
      "number of unique species in the refseq db: 2683\n",
      "total number of species in the refseq db: 4506\n",
      "number of unique species in refseq: (4499, 9)\n"
     ]
    },
    {
     "data": {
      "text/html": [
       "<div>\n",
       "<style scoped>\n",
       "    .dataframe tbody tr th:only-of-type {\n",
       "        vertical-align: middle;\n",
       "    }\n",
       "\n",
       "    .dataframe tbody tr th {\n",
       "        vertical-align: top;\n",
       "    }\n",
       "\n",
       "    .dataframe thead th {\n",
       "        text-align: right;\n",
       "    }\n",
       "</style>\n",
       "<table border=\"1\" class=\"dataframe\">\n",
       "  <thead>\n",
       "    <tr style=\"text-align: right;\">\n",
       "      <th></th>\n",
       "      <th>Unnamed: 0</th>\n",
       "      <th>id</th>\n",
       "      <th>sequence</th>\n",
       "      <th>description</th>\n",
       "      <th>label</th>\n",
       "      <th>uid</th>\n",
       "      <th>name</th>\n",
       "      <th>sp</th>\n",
       "      <th>sp2</th>\n",
       "    </tr>\n",
       "  </thead>\n",
       "  <tbody>\n",
       "    <tr>\n",
       "      <th>0</th>\n",
       "      <td>0</td>\n",
       "      <td>NZ_CP018632.1</td>\n",
       "      <td>GGATGATTTTGACTGTTTTGTTAAGTACTTTTTCATCTCTTTATAT...</td>\n",
       "      <td>NZ_CP018632.1 Granulosicoccus antarcticus IMCC...</td>\n",
       "      <td>NZ_CP018632.1</td>\n",
       "      <td>kXmjXcTUkR</td>\n",
       "      <td>Granulosicoccus antarcticus IMCC3135 chromosom...</td>\n",
       "      <td>Granulosicoccus antarcticus IMCC3135 chromosom...</td>\n",
       "      <td>Granulosicoccus antarcticus</td>\n",
       "    </tr>\n",
       "  </tbody>\n",
       "</table>\n",
       "</div>"
      ],
      "text/plain": [
       "   Unnamed: 0             id  \\\n",
       "0           0  NZ_CP018632.1   \n",
       "\n",
       "                                            sequence  \\\n",
       "0  GGATGATTTTGACTGTTTTGTTAAGTACTTTTTCATCTCTTTATAT...   \n",
       "\n",
       "                                         description          label  \\\n",
       "0  NZ_CP018632.1 Granulosicoccus antarcticus IMCC...  NZ_CP018632.1   \n",
       "\n",
       "          uid                                               name  \\\n",
       "0  kXmjXcTUkR  Granulosicoccus antarcticus IMCC3135 chromosom...   \n",
       "\n",
       "                                                  sp  \\\n",
       "0  Granulosicoccus antarcticus IMCC3135 chromosom...   \n",
       "\n",
       "                           sp2  \n",
       "0  Granulosicoccus antarcticus  "
      ]
     },
     "execution_count": 141,
     "metadata": {},
     "output_type": "execute_result"
    }
   ],
   "source": [
    "refseq =pd.read_csv(refseq_dir + 'refSeqBacterial_Dec2020.csv')\n",
    "print('number of unique species in the refseq db:', refseq['sp2'].nunique())\n",
    "print('total number of species in the refseq db:', len(refseq['sp2']))\n",
    "\n",
    "refseq_unique=refseq.drop_duplicates(subset='name', keep='first')\n",
    "print('number of unique species in refseq:', refseq_unique.shape)\n",
    "refseq_unique.head(1)\n"
   ]
  },
  {
   "cell_type": "markdown",
   "metadata": {},
   "source": [
    "first I want to randomly select 50 species. first I will select those species for which I can find taxon id by matching their names to NCBI's assembly dataframe.  "
   ]
  },
  {
   "cell_type": "code",
   "execution_count": 147,
   "metadata": {},
   "outputs": [],
   "source": [
    "orgs_with_taxid=list(set(refseq_unique['sp2']).intersection(set(assembly_report['organism_name']))) #organism with taxid in the refseq\n",
    "refseq_unique = refseq_unique[refseq_unique['sp2'].isin(orgs_with_taxid)] #filtering refseq to contain only those organisms \n",
    "refseq_unique['genome_length'] = refseq_unique['sequence'].apply(lambda x: len(x)) #getting genome length too\n",
    "refseq_unique_fil=refseq_unique[refseq_unique['genome_length']> 1e5] #making sure the genome is long enough to select 100 random regions without the regions being too close to each other\n",
    "ref50 = refseq_unique_fil.sample(n=50)[['id', 'sequence', 'name', 'sp2', 'genome_length']] #randomly selecting 50 species\n",
    "\n",
    "\n"
   ]
  },
  {
   "cell_type": "markdown",
   "metadata": {},
   "source": [
    "selecting 100 segments per genome (50 genomes)"
   ]
  },
  {
   "cell_type": "code",
   "execution_count": 148,
   "metadata": {
    "scrolled": true
   },
   "outputs": [
    {
     "data": {
      "text/plain": [
       "(5000, 6)"
      ]
     },
     "execution_count": 148,
     "metadata": {},
     "output_type": "execute_result"
    }
   ],
   "source": [
    "\n",
    "#selecting 100 segments per genome (50 genomes)\n",
    "#sampling x sequences from each genome\n",
    "x=100 #number of sequences from a genome to obtain\n",
    "seq_len=100 #length of the sequence to blast\n",
    "num_genomes = 50\n",
    "\n",
    "ref50_randseqs=pd.DataFrame({})\n",
    "randseqs =[]\n",
    "counter = 0\n",
    "for index in range(ref50.shape[0]):\n",
    "    genome_length = ref50['genome_length'].iat[index]\n",
    "    for i in list(range(seq_len,genome_length-seq_len, 1000))[:x]: #taking 100 random segments from a genome\n",
    "        ref50_randseqs=pd.concat([ref50_randseqs, pd.DataFrame(ref50.iloc[index]).T])\n",
    "        randseqs.append(ref50['sequence'].iat[index][i:i+seq_len])\n",
    "        counter=counter + 1\n",
    "    \n",
    "ref50_randseqs['rand_seq']= randseqs\n",
    "\n",
    "ref50_randseqs.shape\n",
    "\n",
    "\n",
    "\n"
   ]
  },
  {
   "cell_type": "markdown",
   "metadata": {},
   "source": [
    "ensuring there are no duplicate sequences or ones containing \"N\""
   ]
  },
  {
   "cell_type": "code",
   "execution_count": 149,
   "metadata": {},
   "outputs": [
    {
     "data": {
      "text/plain": [
       "(4999, 6)"
      ]
     },
     "execution_count": 149,
     "metadata": {},
     "output_type": "execute_result"
    }
   ],
   "source": [
    "ref50_randseqs = ref50_randseqs.drop_duplicates()\n",
    "ref50_randseqs = ref50_randseqs[~ref50_randseqs['rand_seq'].str.contains('N')]\n",
    "ref50_randseqs.shape"
   ]
  },
  {
   "cell_type": "markdown",
   "metadata": {},
   "source": [
    "adding a unique id column (id2) since random sequences from the same genome currently have the same id. "
   ]
  },
  {
   "cell_type": "code",
   "execution_count": 150,
   "metadata": {},
   "outputs": [],
   "source": [
    "id2=[str(x) for x in list(range(ref50_randseqs.shape[0]))]\n",
    "ref50_randseqs['id2']= id2\n",
    "ref50_randseqs['id2'] = ref50_randseqs['id'] + '_' + ref50_randseqs['id2']\n",
    "ref50_randseqs = ref50_randseqs.reset_index().drop(columns={'index'}) #reset index"
   ]
  },
  {
   "cell_type": "code",
   "execution_count": 151,
   "metadata": {},
   "outputs": [
    {
     "data": {
      "text/html": [
       "<div>\n",
       "<style scoped>\n",
       "    .dataframe tbody tr th:only-of-type {\n",
       "        vertical-align: middle;\n",
       "    }\n",
       "\n",
       "    .dataframe tbody tr th {\n",
       "        vertical-align: top;\n",
       "    }\n",
       "\n",
       "    .dataframe thead th {\n",
       "        text-align: right;\n",
       "    }\n",
       "</style>\n",
       "<table border=\"1\" class=\"dataframe\">\n",
       "  <thead>\n",
       "    <tr style=\"text-align: right;\">\n",
       "      <th></th>\n",
       "      <th>id</th>\n",
       "      <th>sequence</th>\n",
       "      <th>name</th>\n",
       "      <th>sp2</th>\n",
       "      <th>genome_length</th>\n",
       "      <th>rand_seq</th>\n",
       "      <th>id2</th>\n",
       "    </tr>\n",
       "  </thead>\n",
       "  <tbody>\n",
       "    <tr>\n",
       "      <th>0</th>\n",
       "      <td>NZ_CP019240.1</td>\n",
       "      <td>ATGACGCAGGGATCCCCCCACCGAACAGACCCCCCGGAAGTCCAGG...</td>\n",
       "      <td>Rhodoferax antarcticus strain DSMZ24876 chromo...</td>\n",
       "      <td>Rhodoferax antarcticus</td>\n",
       "      <td>3916274</td>\n",
       "      <td>AACAGCAGTTTCAGACCTGGATCAAGCCGTTGACAGCCCAGGTGTC...</td>\n",
       "      <td>NZ_CP019240.1_0</td>\n",
       "    </tr>\n",
       "  </tbody>\n",
       "</table>\n",
       "</div>"
      ],
      "text/plain": [
       "              id                                           sequence  \\\n",
       "0  NZ_CP019240.1  ATGACGCAGGGATCCCCCCACCGAACAGACCCCCCGGAAGTCCAGG...   \n",
       "\n",
       "                                                name                     sp2  \\\n",
       "0  Rhodoferax antarcticus strain DSMZ24876 chromo...  Rhodoferax antarcticus   \n",
       "\n",
       "  genome_length                                           rand_seq  \\\n",
       "0       3916274  AACAGCAGTTTCAGACCTGGATCAAGCCGTTGACAGCCCAGGTGTC...   \n",
       "\n",
       "               id2  \n",
       "0  NZ_CP019240.1_0  "
      ]
     },
     "execution_count": 151,
     "metadata": {},
     "output_type": "execute_result"
    }
   ],
   "source": [
    "ref50_randseqs.head(1)"
   ]
  },
  {
   "cell_type": "markdown",
   "metadata": {},
   "source": [
    "adding taxids by getting them from ncbi assembly report"
   ]
  },
  {
   "cell_type": "code",
   "execution_count": 152,
   "metadata": {},
   "outputs": [],
   "source": [
    "assembly_report_short = assembly_report[['taxid', 'organism_name','infraspecific_name', 'ftp_path']]\n",
    "assembly_report_short = assembly_report_short.rename(columns={'organism_name':'sp2'})\n",
    "a = ref50_randseqs['sp2'].unique().tolist()\n",
    "b = assembly_report_short[assembly_report_short['sp2'].isin(a)].drop_duplicates('sp2')\n",
    "ref50_randseqs_withtaxid = ref50_randseqs.merge(b, on='sp2', how='left')"
   ]
  },
  {
   "cell_type": "markdown",
   "metadata": {},
   "source": [
    "in addition to taxids I want to add taxonomic lineages "
   ]
  },
  {
   "cell_type": "code",
   "execution_count": 153,
   "metadata": {
    "scrolled": true
   },
   "outputs": [
    {
     "name": "stderr",
     "output_type": "stream",
     "text": [
      "/home/users/gitam/.local/lib/python3.6/site-packages/IPython/core/interactiveshell.py:3072: DtypeWarning: Columns (5,6,7,8,11,12,13,14,15,16,17,18,19,20,28,29,30,31,32,33,34,35,36,38,41,42,43,44,45,46,47,48,49,50,51,52,53,55,56,57,58,59,61,62,63,64,65,66,67,68,69,70) have mixed types.Specify dtype option on import or set low_memory=False.\n",
      "  interactivity=interactivity, compiler=compiler, result=result)\n"
     ]
    },
    {
     "data": {
      "text/html": [
       "<div>\n",
       "<style scoped>\n",
       "    .dataframe tbody tr th:only-of-type {\n",
       "        vertical-align: middle;\n",
       "    }\n",
       "\n",
       "    .dataframe tbody tr th {\n",
       "        vertical-align: top;\n",
       "    }\n",
       "\n",
       "    .dataframe thead th {\n",
       "        text-align: right;\n",
       "    }\n",
       "</style>\n",
       "<table border=\"1\" class=\"dataframe\">\n",
       "  <thead>\n",
       "    <tr style=\"text-align: right;\">\n",
       "      <th></th>\n",
       "      <th>id</th>\n",
       "      <th>sequence</th>\n",
       "      <th>name</th>\n",
       "      <th>sp2</th>\n",
       "      <th>genome_length</th>\n",
       "      <th>rand_seq</th>\n",
       "      <th>id2</th>\n",
       "      <th>taxid</th>\n",
       "      <th>infraspecific_name</th>\n",
       "      <th>ftp_path</th>\n",
       "      <th>superkingdom</th>\n",
       "      <th>phylum</th>\n",
       "      <th>class</th>\n",
       "      <th>order</th>\n",
       "      <th>family</th>\n",
       "      <th>genus</th>\n",
       "      <th>species</th>\n",
       "    </tr>\n",
       "  </thead>\n",
       "  <tbody>\n",
       "    <tr>\n",
       "      <th>0</th>\n",
       "      <td>NZ_CP019240.1</td>\n",
       "      <td>ATGACGCAGGGATCCCCCCACCGAACAGACCCCCCGGAAGTCCAGG...</td>\n",
       "      <td>Rhodoferax antarcticus strain DSMZ24876 chromo...</td>\n",
       "      <td>Rhodoferax antarcticus</td>\n",
       "      <td>3916274</td>\n",
       "      <td>AACAGCAGTTTCAGACCTGGATCAAGCCGTTGACAGCCCAGGTGTC...</td>\n",
       "      <td>NZ_CP019240.1_0</td>\n",
       "      <td>81479</td>\n",
       "      <td>strain=DSMZ24876</td>\n",
       "      <td>https://ftp.ncbi.nlm.nih.gov/genomes/all/GCF/0...</td>\n",
       "      <td>Bacteria</td>\n",
       "      <td>Proteobacteria</td>\n",
       "      <td>Betaproteobacteria</td>\n",
       "      <td>Burkholderiales</td>\n",
       "      <td>Comamonadaceae</td>\n",
       "      <td>Rhodoferax</td>\n",
       "      <td>Rhodoferax antarcticus</td>\n",
       "    </tr>\n",
       "  </tbody>\n",
       "</table>\n",
       "</div>"
      ],
      "text/plain": [
       "              id                                           sequence  \\\n",
       "0  NZ_CP019240.1  ATGACGCAGGGATCCCCCCACCGAACAGACCCCCCGGAAGTCCAGG...   \n",
       "\n",
       "                                                name                     sp2  \\\n",
       "0  Rhodoferax antarcticus strain DSMZ24876 chromo...  Rhodoferax antarcticus   \n",
       "\n",
       "  genome_length                                           rand_seq  \\\n",
       "0       3916274  AACAGCAGTTTCAGACCTGGATCAAGCCGTTGACAGCCCAGGTGTC...   \n",
       "\n",
       "               id2  taxid infraspecific_name  \\\n",
       "0  NZ_CP019240.1_0  81479   strain=DSMZ24876   \n",
       "\n",
       "                                            ftp_path superkingdom  \\\n",
       "0  https://ftp.ncbi.nlm.nih.gov/genomes/all/GCF/0...     Bacteria   \n",
       "\n",
       "           phylum               class            order          family  \\\n",
       "0  Proteobacteria  Betaproteobacteria  Burkholderiales  Comamonadaceae   \n",
       "\n",
       "        genus                 species  \n",
       "0  Rhodoferax  Rhodoferax antarcticus  "
      ]
     },
     "execution_count": 153,
     "metadata": {},
     "output_type": "execute_result"
    }
   ],
   "source": [
    "tax = pd.read_csv(dbDir + 'taxonomyNCBI20200125/ncbi_lineages_2021-01-26.csv')\n",
    "#want to take only the following columns from the lineage dataframe tax \n",
    "tax_short=tax[['tax_id','superkingdom', 'phylum', 'class', 'order', 'family', 'genus', 'species']]\n",
    "tax_short = tax_short.rename(columns={'tax_id':'taxid'})\n",
    "\n",
    "ref50_lineage=ref50_randseqs_withtaxid.merge(tax_short, on='taxid', how='left')\n",
    "ref50_lineage.head(1)"
   ]
  },
  {
   "cell_type": "markdown",
   "metadata": {},
   "source": [
    "now dividing this dataframe into 10 csvs and fasta files to run 10 SIMBA jobs in parallel"
   ]
  },
  {
   "cell_type": "code",
   "execution_count": 30,
   "metadata": {},
   "outputs": [],
   "source": [
    "readsDir2 = mainDir3 + 'fasta_files/'\n"
   ]
  },
  {
   "cell_type": "code",
   "execution_count": null,
   "metadata": {},
   "outputs": [],
   "source": [
    "!mkdir $readsDir2"
   ]
  },
  {
   "cell_type": "code",
   "execution_count": 154,
   "metadata": {},
   "outputs": [],
   "source": [
    "num_seq_per_batch=500 #how many seqs per fasta file\n",
    "for i in range(0,ref50_lineage.shape[0],num_seq_per_batch):\n",
    "    start=i\n",
    "    end=i+ num_seq_per_batch\n",
    "    batch_df = ref50_lineage.iloc[start:end]\n",
    "    batch_df.to_csv(readsDir2 + 'batch_' + str(i) + '.csv')\n",
    "    \n",
    "    #Opening a fasta file to write random sequences to\n",
    "    f= open(readsDir2 + 'batch_' + str(i) + '.fasta', 'w')\n",
    "    for i in list(range(0,batch_df.shape[0])):\n",
    "        header = str(batch_df['taxid'].iat[i]) + '_'+ str(batch_df['id2'].iat[i]) + '_' + batch_df['sp2'].iat[i]\n",
    "        header = header.replace(' ', '_')\n",
    "        sequence = batch_df['rand_seq'].iat[i]\n",
    "        f.write('>' + header + '\\n' + sequence + '\\n')\n",
    "    f.close()\n"
   ]
  },
  {
   "cell_type": "markdown",
   "metadata": {},
   "source": [
    "### Human only dataset \n",
    "I want to see what are the rates of false positives and negatives when we only have 2400 sequences randomly selected from the human genome (100 seqs per chromosomes 1-22 and X, Y). I have the human genome assembly from GCF_000001405.39_GRCh38.p13_genomic.fna "
   ]
  },
  {
   "cell_type": "code",
   "execution_count": 44,
   "metadata": {},
   "outputs": [],
   "source": [
    "humanGenome = dbDir + 'human_genome_and_synthetic_chromosomes_july2021/GCF_000001405.39_GRCh38.p13_genomic.fna'"
   ]
  },
  {
   "cell_type": "markdown",
   "metadata": {},
   "source": [
    "reading the human genome fasta file as a csv since it's easier to select from it when its a datafame"
   ]
  },
  {
   "cell_type": "code",
   "execution_count": 46,
   "metadata": {},
   "outputs": [],
   "source": [
    "hum=ph.read_fasta(humanGenome)"
   ]
  },
  {
   "cell_type": "code",
   "execution_count": 100,
   "metadata": {
    "scrolled": true
   },
   "outputs": [
    {
     "data": {
      "text/html": [
       "<div>\n",
       "<style scoped>\n",
       "    .dataframe tbody tr th:only-of-type {\n",
       "        vertical-align: middle;\n",
       "    }\n",
       "\n",
       "    .dataframe tbody tr th {\n",
       "        vertical-align: top;\n",
       "    }\n",
       "\n",
       "    .dataframe thead th {\n",
       "        text-align: right;\n",
       "    }\n",
       "</style>\n",
       "<table border=\"1\" class=\"dataframe\">\n",
       "  <thead>\n",
       "    <tr style=\"text-align: right;\">\n",
       "      <th></th>\n",
       "      <th>id</th>\n",
       "      <th>sequence</th>\n",
       "      <th>description</th>\n",
       "      <th>label</th>\n",
       "      <th>uid</th>\n",
       "    </tr>\n",
       "  </thead>\n",
       "  <tbody>\n",
       "    <tr>\n",
       "      <th>0</th>\n",
       "      <td>NC_000001.11</td>\n",
       "      <td>NNNNNNNNNNNNNNNNNNNNNNNNNNNNNNNNNNNNNNNNNNNNNN...</td>\n",
       "      <td>NC_000001.11 Homo sapiens chromosome 1, GRCh38...</td>\n",
       "      <td>NC_000001.11</td>\n",
       "      <td>8L3DoCtTNR</td>\n",
       "    </tr>\n",
       "    <tr>\n",
       "      <th>1</th>\n",
       "      <td>NT_187361.1</td>\n",
       "      <td>GAATTCAGCTGAGAAGAACAGGCAAGGACTTAGGAAATATTCCTTA...</td>\n",
       "      <td>NT_187361.1 Homo sapiens chromosome 1 unlocali...</td>\n",
       "      <td>NT_187361.1</td>\n",
       "      <td>1wuQFgXyk8</td>\n",
       "    </tr>\n",
       "    <tr>\n",
       "      <th>2</th>\n",
       "      <td>NT_187362.1</td>\n",
       "      <td>AGGGGTCTGCTTAGAGAGGGTCTCATTAGTGGGGTCTAGTAGTGGG...</td>\n",
       "      <td>NT_187362.1 Homo sapiens chromosome 1 unlocali...</td>\n",
       "      <td>NT_187362.1</td>\n",
       "      <td>HET4WFJWNF</td>\n",
       "    </tr>\n",
       "  </tbody>\n",
       "</table>\n",
       "</div>"
      ],
      "text/plain": [
       "             id                                           sequence  \\\n",
       "0  NC_000001.11  NNNNNNNNNNNNNNNNNNNNNNNNNNNNNNNNNNNNNNNNNNNNNN...   \n",
       "1   NT_187361.1  GAATTCAGCTGAGAAGAACAGGCAAGGACTTAGGAAATATTCCTTA...   \n",
       "2   NT_187362.1  AGGGGTCTGCTTAGAGAGGGTCTCATTAGTGGGGTCTAGTAGTGGG...   \n",
       "\n",
       "                                         description         label         uid  \n",
       "0  NC_000001.11 Homo sapiens chromosome 1, GRCh38...  NC_000001.11  8L3DoCtTNR  \n",
       "1  NT_187361.1 Homo sapiens chromosome 1 unlocali...   NT_187361.1  1wuQFgXyk8  \n",
       "2  NT_187362.1 Homo sapiens chromosome 1 unlocali...   NT_187362.1  HET4WFJWNF  "
      ]
     },
     "execution_count": 100,
     "metadata": {},
     "output_type": "execute_result"
    }
   ],
   "source": [
    "hum.head(3)"
   ]
  },
  {
   "cell_type": "code",
   "execution_count": 132,
   "metadata": {},
   "outputs": [],
   "source": [
    "seq_len=100\n",
    "x=100 #how many sequences per chromosome to take \n",
    "hum_randseqs=pd.DataFrame({})\n",
    "randseqs =[]\n",
    "chromosomes=[str(x+1) for x in list(range(22))]\n",
    "chromosomes.append('X')\n",
    "chromosomes.append('Y')\n",
    "\n",
    "for i in chromosomes: \n",
    "    sub = hum[hum['description'].str.contains('Homo sapiens chromosome ' + i) ].iloc[1,:] #taking one of the segments from each chromosome to randomly select 100 sequences from\n",
    "    sub['chromosome']= i\n",
    "    segment_length = len(sub['sequence'])\n",
    "    for j in list(range(seq_len+1000, segment_length-seq_len, 300))[:x]: #taking 100 random segments from each chromosome\n",
    "        hum_randseqs=pd.concat([hum_randseqs, pd.DataFrame(sub).T])\n",
    "        randseqs.append(sub['sequence'][j:j+seq_len])\n",
    "\n",
    "hum_randseqs['rand_seq']= randseqs\n",
    "\n",
    "id2=[str(x) for x in list(range(hum_randseqs.shape[0]))]\n",
    "hum_randseqs['id2']=id2\n",
    "hum_randseqs['id2'] = hum_randseqs['chromosome'] + '_' + hum_randseqs['id'] + '_' + hum_randseqs['id2']\n",
    "hum_randseqs = hum_randseqs.reset_index().drop(columns={'index'}) #reset index\n"
   ]
  },
  {
   "cell_type": "code",
   "execution_count": 133,
   "metadata": {},
   "outputs": [
    {
     "data": {
      "text/html": [
       "<div>\n",
       "<style scoped>\n",
       "    .dataframe tbody tr th:only-of-type {\n",
       "        vertical-align: middle;\n",
       "    }\n",
       "\n",
       "    .dataframe tbody tr th {\n",
       "        vertical-align: top;\n",
       "    }\n",
       "\n",
       "    .dataframe thead th {\n",
       "        text-align: right;\n",
       "    }\n",
       "</style>\n",
       "<table border=\"1\" class=\"dataframe\">\n",
       "  <thead>\n",
       "    <tr style=\"text-align: right;\">\n",
       "      <th></th>\n",
       "      <th>id</th>\n",
       "      <th>sequence</th>\n",
       "      <th>description</th>\n",
       "      <th>label</th>\n",
       "      <th>uid</th>\n",
       "      <th>chromosome</th>\n",
       "      <th>rand_seq</th>\n",
       "      <th>id2</th>\n",
       "    </tr>\n",
       "  </thead>\n",
       "  <tbody>\n",
       "    <tr>\n",
       "      <th>0</th>\n",
       "      <td>NT_187361.1</td>\n",
       "      <td>GAATTCAGCTGAGAAGAACAGGCAAGGACTTAGGAAATATTCCTTA...</td>\n",
       "      <td>NT_187361.1 Homo sapiens chromosome 1 unlocali...</td>\n",
       "      <td>NT_187361.1</td>\n",
       "      <td>1wuQFgXyk8</td>\n",
       "      <td>1</td>\n",
       "      <td>GTAGATGTATCTTATCTTAACTTGAGTCTTTGCTGCCCCTAATGAG...</td>\n",
       "      <td>1_NT_187361.1_0</td>\n",
       "    </tr>\n",
       "    <tr>\n",
       "      <th>1</th>\n",
       "      <td>NT_187361.1</td>\n",
       "      <td>GAATTCAGCTGAGAAGAACAGGCAAGGACTTAGGAAATATTCCTTA...</td>\n",
       "      <td>NT_187361.1 Homo sapiens chromosome 1 unlocali...</td>\n",
       "      <td>NT_187361.1</td>\n",
       "      <td>1wuQFgXyk8</td>\n",
       "      <td>1</td>\n",
       "      <td>TTCTGAGTTTATGGGTGTCtgtgaattaaaaaggaaaagtagaaat...</td>\n",
       "      <td>1_NT_187361.1_1</td>\n",
       "    </tr>\n",
       "  </tbody>\n",
       "</table>\n",
       "</div>"
      ],
      "text/plain": [
       "            id                                           sequence  \\\n",
       "0  NT_187361.1  GAATTCAGCTGAGAAGAACAGGCAAGGACTTAGGAAATATTCCTTA...   \n",
       "1  NT_187361.1  GAATTCAGCTGAGAAGAACAGGCAAGGACTTAGGAAATATTCCTTA...   \n",
       "\n",
       "                                         description        label         uid  \\\n",
       "0  NT_187361.1 Homo sapiens chromosome 1 unlocali...  NT_187361.1  1wuQFgXyk8   \n",
       "1  NT_187361.1 Homo sapiens chromosome 1 unlocali...  NT_187361.1  1wuQFgXyk8   \n",
       "\n",
       "  chromosome                                           rand_seq  \\\n",
       "0          1  GTAGATGTATCTTATCTTAACTTGAGTCTTTGCTGCCCCTAATGAG...   \n",
       "1          1  TTCTGAGTTTATGGGTGTCtgtgaattaaaaaggaaaagtagaaat...   \n",
       "\n",
       "               id2  \n",
       "0  1_NT_187361.1_0  \n",
       "1  1_NT_187361.1_1  "
      ]
     },
     "execution_count": 133,
     "metadata": {},
     "output_type": "execute_result"
    }
   ],
   "source": [
    "hum_randseqs.head(2)"
   ]
  },
  {
   "cell_type": "code",
   "execution_count": 125,
   "metadata": {
    "scrolled": true
   },
   "outputs": [
    {
     "data": {
      "text/plain": [
       "5     100\n",
       "13    100\n",
       "4     100\n",
       "1     100\n",
       "7     100\n",
       "2     100\n",
       "22    100\n",
       "10    100\n",
       "17    100\n",
       "X     100\n",
       "11    100\n",
       "Y     100\n",
       "15    100\n",
       "12    100\n",
       "8     100\n",
       "18    100\n",
       "3     100\n",
       "14    100\n",
       "21    100\n",
       "6     100\n",
       "9     100\n",
       "16    100\n",
       "20    100\n",
       "19    100\n",
       "Name: chromosome, dtype: int64"
      ]
     },
     "execution_count": 125,
     "metadata": {},
     "output_type": "execute_result"
    }
   ],
   "source": [
    "hum_randseqs.chromosome.value_counts()"
   ]
  },
  {
   "cell_type": "markdown",
   "metadata": {},
   "source": [
    "making sure there are not any sequences with \"N\""
   ]
  },
  {
   "cell_type": "code",
   "execution_count": 155,
   "metadata": {},
   "outputs": [
    {
     "data": {
      "text/plain": [
       "2400"
      ]
     },
     "execution_count": 155,
     "metadata": {},
     "output_type": "execute_result"
    }
   ],
   "source": [
    "hum_randseqs[~hum_randseqs['rand_seq'].str.contains('N')].shape[0]"
   ]
  },
  {
   "cell_type": "markdown",
   "metadata": {},
   "source": [
    "Let's add some unique IDs before saving in batches (for parallel jobs) both as csv and fasta file "
   ]
  },
  {
   "cell_type": "code",
   "execution_count": 129,
   "metadata": {},
   "outputs": [
    {
     "name": "stdout",
     "output_type": "stream",
     "text": [
      "mkdir: cannot create directory '/oak/stanford/groups/quake/gita/raw/tab3-14_20210420/benchmarking_post_reviews/human_test/fasta_files': File exists\r\n"
     ]
    }
   ],
   "source": [
    "!mkdir /oak/stanford/groups/quake/gita/raw/tab3-14_20210420/benchmarking_post_reviews/human_test/fasta_files"
   ]
  },
  {
   "cell_type": "markdown",
   "metadata": {},
   "source": [
    "also saving the data in batches (for parallel jobs) and saving it to csv & fasta"
   ]
  },
  {
   "cell_type": "code",
   "execution_count": 157,
   "metadata": {},
   "outputs": [],
   "source": [
    "humdir = '/oak/stanford/groups/quake/gita/raw/tab3-14_20210420/benchmarking_post_reviews/human_test/fasta_files/'\n",
    "num_seq_per_batch=500 #how many seqs per fasta file\n",
    "for i in range(0,hum_randseqs.shape[0], num_seq_per_batch):\n",
    "    start=i\n",
    "    end=i+ num_seq_per_batch\n",
    "    batch_df = hum_randseqs.iloc[start:end]\n",
    "    batch_df.to_csv(humdir + 'batch_' + str(i) + '.csv')\n",
    "\n",
    "    # Opening a fasta file to write batch to \n",
    "    f= open(humdir + 'batch_' + str(i) + '.fasta', 'w')\n",
    "    for j in list(range(0,batch_df.shape[0])):\n",
    "        header = batch_df['id2'].iat[j] \n",
    "        sequence = batch_df['rand_seq'].iat[j]\n",
    "        f.write('>' + header + '\\n' + sequence + '\\n')\n",
    "    f.close()\n"
   ]
  },
  {
   "cell_type": "markdown",
   "metadata": {},
   "source": [
    "### Viral (1000 total sequences, 100 genomes, 10 contigs per genome)\n",
    "Getting test viral sequences\n",
    "Since I already have a fasta file corresponding to the viral refseq database, I will subsample it. Downloaded March, 2020"
   ]
  },
  {
   "cell_type": "code",
   "execution_count": 207,
   "metadata": {},
   "outputs": [],
   "source": [
    "virus_df=ph.read_fasta('/oak/stanford/groups/quake/gita/raw/database/viral_nr_march25_2020/viral_refseq_nuc/all_refseq_viral_genomes.fasta')"
   ]
  },
  {
   "cell_type": "code",
   "execution_count": 208,
   "metadata": {},
   "outputs": [
    {
     "data": {
      "text/html": [
       "<div>\n",
       "<style scoped>\n",
       "    .dataframe tbody tr th:only-of-type {\n",
       "        vertical-align: middle;\n",
       "    }\n",
       "\n",
       "    .dataframe tbody tr th {\n",
       "        vertical-align: top;\n",
       "    }\n",
       "\n",
       "    .dataframe thead th {\n",
       "        text-align: right;\n",
       "    }\n",
       "</style>\n",
       "<table border=\"1\" class=\"dataframe\">\n",
       "  <thead>\n",
       "    <tr style=\"text-align: right;\">\n",
       "      <th></th>\n",
       "      <th>id</th>\n",
       "      <th>sequence</th>\n",
       "      <th>description</th>\n",
       "      <th>label</th>\n",
       "      <th>uid</th>\n",
       "    </tr>\n",
       "  </thead>\n",
       "  <tbody>\n",
       "    <tr>\n",
       "      <th>0</th>\n",
       "      <td>NC_001798.2</td>\n",
       "      <td>AGTCCCCGTCTTGCCGCGCGGGGGCGGGCGCGGGAAAAAAGCCGCG...</td>\n",
       "      <td>NC_001798.2 Human herpesvirus 2 strain HG52, c...</td>\n",
       "      <td>NC_001798.2</td>\n",
       "      <td>YQipx4geNu</td>\n",
       "    </tr>\n",
       "    <tr>\n",
       "      <th>1</th>\n",
       "      <td>NC_030692.1</td>\n",
       "      <td>TGTTGCGTTAACAACAAATCAATCACCACTCTTCTAACAAAATGAA...</td>\n",
       "      <td>NC_030692.1 Borna disease virus 2, complete ge...</td>\n",
       "      <td>NC_030692.1</td>\n",
       "      <td>7nZKEPSzP6</td>\n",
       "    </tr>\n",
       "  </tbody>\n",
       "</table>\n",
       "</div>"
      ],
      "text/plain": [
       "            id                                           sequence  \\\n",
       "0  NC_001798.2  AGTCCCCGTCTTGCCGCGCGGGGGCGGGCGCGGGAAAAAAGCCGCG...   \n",
       "1  NC_030692.1  TGTTGCGTTAACAACAAATCAATCACCACTCTTCTAACAAAATGAA...   \n",
       "\n",
       "                                         description        label         uid  \n",
       "0  NC_001798.2 Human herpesvirus 2 strain HG52, c...  NC_001798.2  YQipx4geNu  \n",
       "1  NC_030692.1 Borna disease virus 2, complete ge...  NC_030692.1  7nZKEPSzP6  "
      ]
     },
     "execution_count": 208,
     "metadata": {},
     "output_type": "execute_result"
    }
   ],
   "source": [
    "virus_df.head(2)"
   ]
  },
  {
   "cell_type": "code",
   "execution_count": 209,
   "metadata": {},
   "outputs": [
    {
     "data": {
      "text/plain": [
       "12182"
      ]
     },
     "execution_count": 209,
     "metadata": {},
     "output_type": "execute_result"
    }
   ],
   "source": [
    "virus_df.id.nunique()"
   ]
  },
  {
   "cell_type": "markdown",
   "metadata": {},
   "source": [
    "randomly sampling 100 viruses, and taking 10 random segments (100 bases long) from each genome."
   ]
  },
  {
   "cell_type": "code",
   "execution_count": 210,
   "metadata": {},
   "outputs": [],
   "source": [
    "virus_df['genome_length']= virus_df['sequence'].apply(lambda x: len(x))\n",
    "virus_df_100 = virus_df[virus_df['genome_length']>5000].sample(100) #making sure genomes are long enough to be selected for this exercise\n",
    "\n",
    "seq_len=100\n",
    "x=10 #how many sequences per genome to take \n",
    "vir_randseqs=pd.DataFrame({})\n",
    "randseqs =[]\n",
    "\n",
    "for i in range(virus_df_100.shape[0]): \n",
    "    sub = virus_df_100.iloc[i]\n",
    "    genome_length = sub['genome_length']\n",
    "    for j in list(range(seq_len+300, genome_length-seq_len, 300))[:x]: #taking 10 random segments from each genome\n",
    "        vir_randseqs=pd.concat([vir_randseqs, pd.DataFrame(sub).T])\n",
    "        randseqs.append(sub['sequence'][j:j+seq_len])\n",
    "\n",
    "vir_randseqs['rand_seq']= randseqs\n",
    "\n",
    "id2=[str(x) for x in list(range(vir_randseqs.shape[0]))]\n",
    "vir_randseqs['id2']=id2\n",
    "vir_randseqs['id2'] =  vir_randseqs['id'] + '_' + vir_randseqs['id2']\n",
    "vir_randseqs['description'] = vir_randseqs['description'].apply(lambda x: x.replace(' ', '_'))\n",
    "vir_randseqs = vir_randseqs.reset_index().drop(columns={'index'}) #reset index\n"
   ]
  },
  {
   "cell_type": "markdown",
   "metadata": {},
   "source": [
    "writing fasta and csv files from the dataframe to input into SIMBA for testing (10 jobs, 100 seqs each)"
   ]
  },
  {
   "cell_type": "code",
   "execution_count": 218,
   "metadata": {},
   "outputs": [],
   "source": [
    "virdir = '/oak/stanford/groups/quake/gita/raw/tab3-14_20210420/benchmarking_post_reviews/viral_test/fasta_files/'\n",
    "num_seq_per_batch=100 #how many seqs per fasta file\n",
    "for i in range(0,vir_randseqs.shape[0], num_seq_per_batch):\n",
    "    start=i\n",
    "    end=i+ num_seq_per_batch\n",
    "    batch_df = vir_randseqs.iloc[start:end]\n",
    "    batch_df.to_csv(virdir + 'batch_' + str(i) + '.csv')\n",
    "\n",
    "    # Opening a fasta file to write batch to \n",
    "    f= open(virdir + 'batch_' + str(i) + '.fasta', 'w')\n",
    "    for j in list(range(0,batch_df.shape[0])):\n",
    "        header = batch_df['id2'].iat[j] + '_' + batch_df['description'].iat[j]\n",
    "        sequence = batch_df['rand_seq'].iat[j]\n",
    "        f.write('>' + header + '\\n' + sequence + '\\n')\n",
    "    f.close()\n"
   ]
  },
  {
   "cell_type": "markdown",
   "metadata": {},
   "source": [
    "### eHOMD (expanded Human Oral Microbiome Dataset)\n",
    "Besides the bacterial refseq and the gut bacterial truth datasets, I want to create one that has bacteria from differrent parts of the body, namely several sites from the oral microbiome. First I downloaded a manifest file from HOMD, which I downloaded to OAK using the followinig command from my local computer \n",
    "rsync ~/Downloads/HOMD_taxon_table2022-09-15_1663245201.txt  sherlock://oak/stanford/groups/quake/gita/raw/nb/microbe/paper/forGitHub/post_review/homd/.\n",
    "\n",
    "I also got other info related to each species from a seperate file: HOMD_genome_table2022-09-15_1663245202.txt\n",
    "\n",
    "Both files were downloaded from: https://www.homd.org/download#genome"
   ]
  },
  {
   "cell_type": "code",
   "execution_count": 109,
   "metadata": {},
   "outputs": [
    {
     "data": {
      "text/html": [
       "<div>\n",
       "<style scoped>\n",
       "    .dataframe tbody tr th:only-of-type {\n",
       "        vertical-align: middle;\n",
       "    }\n",
       "\n",
       "    .dataframe tbody tr th {\n",
       "        vertical-align: top;\n",
       "    }\n",
       "\n",
       "    .dataframe thead th {\n",
       "        text-align: right;\n",
       "    }\n",
       "</style>\n",
       "<table border=\"1\" class=\"dataframe\">\n",
       "  <thead>\n",
       "    <tr style=\"text-align: right;\">\n",
       "      <th></th>\n",
       "      <th>hmt_id</th>\n",
       "      <th>domain</th>\n",
       "      <th>phylum</th>\n",
       "      <th>class</th>\n",
       "      <th>order</th>\n",
       "      <th>family</th>\n",
       "      <th>genus</th>\n",
       "      <th>species</th>\n",
       "      <th>status</th>\n",
       "      <th>body_site</th>\n",
       "      <th>...</th>\n",
       "      <th>ncbi_pubmed_count</th>\n",
       "      <th>ncbi_nucleotide_count</th>\n",
       "      <th>ncbi_protein_count</th>\n",
       "      <th>genome_id</th>\n",
       "      <th>general_info</th>\n",
       "      <th>cultivability</th>\n",
       "      <th>phenotypic_characteristics</th>\n",
       "      <th>prevalence</th>\n",
       "      <th>disease</th>\n",
       "      <th>references</th>\n",
       "    </tr>\n",
       "  </thead>\n",
       "  <tbody>\n",
       "    <tr>\n",
       "      <th>0</th>\n",
       "      <td>1</td>\n",
       "      <td>Bacteria</td>\n",
       "      <td>Proteobacteria</td>\n",
       "      <td>Alphaproteobacteria</td>\n",
       "      <td>Hyphomicrobiales</td>\n",
       "      <td>Bartonellaceae</td>\n",
       "      <td>Bartonella</td>\n",
       "      <td>schoenbuchensis</td>\n",
       "      <td>Named</td>\n",
       "      <td>Unassigned</td>\n",
       "      <td>...</td>\n",
       "      <td>9</td>\n",
       "      <td>93</td>\n",
       "      <td>5894</td>\n",
       "      <td>SEQF2664</td>\n",
       "      <td>NaN</td>\n",
       "      <td>NaN</td>\n",
       "      <td>NaN</td>\n",
       "      <td>NaN</td>\n",
       "      <td>NaN</td>\n",
       "      <td>NaN</td>\n",
       "    </tr>\n",
       "    <tr>\n",
       "      <th>1</th>\n",
       "      <td>2</td>\n",
       "      <td>Bacteria</td>\n",
       "      <td>Proteobacteria</td>\n",
       "      <td>Alphaproteobacteria</td>\n",
       "      <td>Caulobacterales</td>\n",
       "      <td>Caulobacteraceae</td>\n",
       "      <td>Caulobacter</td>\n",
       "      <td>sp._HMT_002</td>\n",
       "      <td>Phylotype</td>\n",
       "      <td>Unassigned</td>\n",
       "      <td>...</td>\n",
       "      <td>0</td>\n",
       "      <td>2</td>\n",
       "      <td>0</td>\n",
       "      <td>NaN</td>\n",
       "      <td>NaN</td>\n",
       "      <td>NaN</td>\n",
       "      <td>NaN</td>\n",
       "      <td>NaN</td>\n",
       "      <td>NaN</td>\n",
       "      <td>NaN</td>\n",
       "    </tr>\n",
       "    <tr>\n",
       "      <th>2</th>\n",
       "      <td>3</td>\n",
       "      <td>Bacteria</td>\n",
       "      <td>Proteobacteria</td>\n",
       "      <td>Alphaproteobacteria</td>\n",
       "      <td>Sphingomonadales</td>\n",
       "      <td>Sphingomonadaceae</td>\n",
       "      <td>Sphingomonas</td>\n",
       "      <td>glacialis</td>\n",
       "      <td>Named</td>\n",
       "      <td>Unassigned</td>\n",
       "      <td>...</td>\n",
       "      <td>0</td>\n",
       "      <td>2</td>\n",
       "      <td>0</td>\n",
       "      <td>SEQF3079</td>\n",
       "      <td>NaN</td>\n",
       "      <td>NaN</td>\n",
       "      <td>NaN</td>\n",
       "      <td>NaN</td>\n",
       "      <td>NaN</td>\n",
       "      <td>NaN</td>\n",
       "    </tr>\n",
       "    <tr>\n",
       "      <th>3</th>\n",
       "      <td>4</td>\n",
       "      <td>Bacteria</td>\n",
       "      <td>Proteobacteria</td>\n",
       "      <td>Alphaproteobacteria</td>\n",
       "      <td>Sphingomonadales</td>\n",
       "      <td>Sphingomonadaceae</td>\n",
       "      <td>Sphingomonas</td>\n",
       "      <td>sp._HMT_004</td>\n",
       "      <td>Phylotype</td>\n",
       "      <td>Unassigned</td>\n",
       "      <td>...</td>\n",
       "      <td>0</td>\n",
       "      <td>1</td>\n",
       "      <td>0</td>\n",
       "      <td>NaN</td>\n",
       "      <td>NaN</td>\n",
       "      <td>NaN</td>\n",
       "      <td>NaN</td>\n",
       "      <td>NaN</td>\n",
       "      <td>NaN</td>\n",
       "      <td>NaN</td>\n",
       "    </tr>\n",
       "    <tr>\n",
       "      <th>4</th>\n",
       "      <td>5</td>\n",
       "      <td>Bacteria</td>\n",
       "      <td>Proteobacteria</td>\n",
       "      <td>Gammaproteobacteria</td>\n",
       "      <td>Pseudomonadales</td>\n",
       "      <td>Moraxellaceae</td>\n",
       "      <td>Acinetobacter</td>\n",
       "      <td>lwoffii</td>\n",
       "      <td>Named</td>\n",
       "      <td>Unassigned</td>\n",
       "      <td>...</td>\n",
       "      <td>0</td>\n",
       "      <td>0</td>\n",
       "      <td>0</td>\n",
       "      <td>SEQF2884</td>\n",
       "      <td>NaN</td>\n",
       "      <td>NaN</td>\n",
       "      <td>NaN</td>\n",
       "      <td>NaN</td>\n",
       "      <td>NaN</td>\n",
       "      <td>NaN</td>\n",
       "    </tr>\n",
       "  </tbody>\n",
       "</table>\n",
       "<p>5 rows × 28 columns</p>\n",
       "</div>"
      ],
      "text/plain": [
       "   hmt_id    domain          phylum                class             order  \\\n",
       "0       1  Bacteria  Proteobacteria  Alphaproteobacteria  Hyphomicrobiales   \n",
       "1       2  Bacteria  Proteobacteria  Alphaproteobacteria   Caulobacterales   \n",
       "2       3  Bacteria  Proteobacteria  Alphaproteobacteria  Sphingomonadales   \n",
       "3       4  Bacteria  Proteobacteria  Alphaproteobacteria  Sphingomonadales   \n",
       "4       5  Bacteria  Proteobacteria  Gammaproteobacteria   Pseudomonadales   \n",
       "\n",
       "              family          genus          species     status   body_site  \\\n",
       "0     Bartonellaceae     Bartonella  schoenbuchensis      Named  Unassigned   \n",
       "1   Caulobacteraceae    Caulobacter      sp._HMT_002  Phylotype  Unassigned   \n",
       "2  Sphingomonadaceae   Sphingomonas        glacialis      Named  Unassigned   \n",
       "3  Sphingomonadaceae   Sphingomonas      sp._HMT_004  Phylotype  Unassigned   \n",
       "4      Moraxellaceae  Acinetobacter          lwoffii      Named  Unassigned   \n",
       "\n",
       "   ...  ncbi_pubmed_count ncbi_nucleotide_count ncbi_protein_count  genome_id  \\\n",
       "0  ...                  9                    93               5894   SEQF2664   \n",
       "1  ...                  0                     2                  0        NaN   \n",
       "2  ...                  0                     2                  0   SEQF3079   \n",
       "3  ...                  0                     1                  0        NaN   \n",
       "4  ...                  0                     0                  0   SEQF2884   \n",
       "\n",
       "   general_info  cultivability phenotypic_characteristics  prevalence  \\\n",
       "0           NaN            NaN                        NaN         NaN   \n",
       "1           NaN            NaN                        NaN         NaN   \n",
       "2           NaN            NaN                        NaN         NaN   \n",
       "3           NaN            NaN                        NaN         NaN   \n",
       "4           NaN            NaN                        NaN         NaN   \n",
       "\n",
       "   disease  references  \n",
       "0      NaN         NaN  \n",
       "1      NaN         NaN  \n",
       "2      NaN         NaN  \n",
       "3      NaN         NaN  \n",
       "4      NaN         NaN  \n",
       "\n",
       "[5 rows x 28 columns]"
      ]
     },
     "execution_count": 109,
     "metadata": {},
     "output_type": "execute_result"
    }
   ],
   "source": [
    "homd_dir = '/oak/stanford/groups/quake/gita/raw/nb/microbe/paper/forGitHub/post_review/homd/'\n",
    "homd_file = 'HOMD_taxon_table2022-09-15_1663245201.txt'\n",
    "homd=pd.read_csv(homd_dir + homd_file, delimiter='\t')\n",
    "homd.columns = [x.lower() for x in homd.columns.tolist()] #making sure the column headers are lower case for easier typing\n",
    "homd.head()"
   ]
  },
  {
   "cell_type": "code",
   "execution_count": 121,
   "metadata": {},
   "outputs": [
    {
     "data": {
      "text/plain": [
       "Index(['hmt_id', 'domain', 'phylum', 'class', 'order', 'family', 'genus',\n",
       "       'species', 'status', 'body_site', 'warning', 'type_strain', '16s_rrna',\n",
       "       'clone_count', 'clone_%', 'clone_rank', 'synonyms', 'ncbi_taxon_id',\n",
       "       'ncbi_pubmed_count', 'ncbi_nucleotide_count', 'ncbi_protein_count',\n",
       "       'genome_id', 'general_info', 'cultivability',\n",
       "       'phenotypic_characteristics', 'prevalence', 'disease', 'references'],\n",
       "      dtype='object')"
      ]
     },
     "execution_count": 121,
     "metadata": {},
     "output_type": "execute_result"
    }
   ],
   "source": [
    "homd.columns"
   ]
  },
  {
   "cell_type": "markdown",
   "metadata": {},
   "source": [
    "reading the meta file and selecting 200 genomes ..."
   ]
  },
  {
   "cell_type": "code",
   "execution_count": 153,
   "metadata": {},
   "outputs": [],
   "source": [
    "homd_sub=homd[homd['body_site']=='Oral']\n",
    "\n",
    "homd_sub2 = homd_sub.sample(n=200)\n",
    "homd_sub3 = homd_sub2.drop_duplicates(['ncbi_taxon_id'])"
   ]
  },
  {
   "cell_type": "code",
   "execution_count": 154,
   "metadata": {},
   "outputs": [
    {
     "data": {
      "text/plain": [
       "180"
      ]
     },
     "execution_count": 154,
     "metadata": {},
     "output_type": "execute_result"
    }
   ],
   "source": [
    "homd_sub3['ncbi_taxon_id'].nunique()"
   ]
  },
  {
   "cell_type": "code",
   "execution_count": 155,
   "metadata": {},
   "outputs": [],
   "source": [
    "taxa = homd_sub3['ncbi_taxon_id'].unique().tolist()"
   ]
  },
  {
   "cell_type": "markdown",
   "metadata": {},
   "source": [
    "saving homd_sub3 because it is a random selection and I don't want to have it changeding the file"
   ]
  },
  {
   "cell_type": "code",
   "execution_count": 157,
   "metadata": {},
   "outputs": [],
   "source": [
    "homd_sub3.to_csv(homd_dir + 'homd_200_genomes_randomly_selected.csv')"
   ]
  },
  {
   "cell_type": "code",
   "execution_count": 132,
   "metadata": {},
   "outputs": [
    {
     "data": {
      "text/plain": [
       "Index(['Genome-ID', 'Oral_Taxon-ID', 'Genus', 'Species', 'Status',\n",
       "       'No. Contigs', 'Sequencing Center', 'Total Length', 'Oral Pathogen',\n",
       "       'Culture Collection', 'GC %', 'NCBI Genome-ID', 'NCBI BioProject-ID',\n",
       "       'NCBI BioSample-ID', 'Isolate Origin', 'atcc_mn', 'non_atcc_mn',\n",
       "       'Genbank Acc no.', 'Genbank Assembly', '16S rRNA', '16S rRNA Comment',\n",
       "       'flag_id'],\n",
       "      dtype='object')"
      ]
     },
     "execution_count": 132,
     "metadata": {},
     "output_type": "execute_result"
    }
   ],
   "source": [
    "meta_file = homd_dir + 'HOMD_genome_table2022-09-15_1663245202.txt'\n",
    "meta = pd.read_csv(meta_file, delimiter='\t')\n",
    "meta.columns"
   ]
  },
  {
   "cell_type": "markdown",
   "metadata": {},
   "source": [
    "reading NCBI's assembly report to be able to download the genomes in the homd data based on their Genbank assmebly numbers"
   ]
  },
  {
   "cell_type": "code",
   "execution_count": 135,
   "metadata": {},
   "outputs": [
    {
     "name": "stderr",
     "output_type": "stream",
     "text": [
      "/home/users/gitam/.local/lib/python3.6/site-packages/IPython/core/interactiveshell.py:3072: DtypeWarning: Columns (20) have mixed types.Specify dtype option on import or set low_memory=False.\n",
      "  interactivity=interactivity, compiler=compiler, result=result)\n"
     ]
    },
    {
     "data": {
      "text/html": [
       "<div>\n",
       "<style scoped>\n",
       "    .dataframe tbody tr th:only-of-type {\n",
       "        vertical-align: middle;\n",
       "    }\n",
       "\n",
       "    .dataframe tbody tr th {\n",
       "        vertical-align: top;\n",
       "    }\n",
       "\n",
       "    .dataframe thead th {\n",
       "        text-align: right;\n",
       "    }\n",
       "</style>\n",
       "<table border=\"1\" class=\"dataframe\">\n",
       "  <thead>\n",
       "    <tr style=\"text-align: right;\">\n",
       "      <th></th>\n",
       "      <th>assembly_accession</th>\n",
       "      <th>bioproject</th>\n",
       "      <th>biosample</th>\n",
       "      <th>wgs_master</th>\n",
       "      <th>refseq_category</th>\n",
       "      <th>taxid</th>\n",
       "      <th>species_taxid</th>\n",
       "      <th>organism_name</th>\n",
       "      <th>infraspecific_name</th>\n",
       "      <th>isolate</th>\n",
       "      <th>...</th>\n",
       "      <th>genome_rep</th>\n",
       "      <th>seq_rel_date</th>\n",
       "      <th>asm_name</th>\n",
       "      <th>submitter</th>\n",
       "      <th>gbrs_paired_asm</th>\n",
       "      <th>paired_asm_comp</th>\n",
       "      <th>ftp_path</th>\n",
       "      <th>excluded_from_refseq</th>\n",
       "      <th>relation_to_type_material</th>\n",
       "      <th>asm_not_live_date</th>\n",
       "    </tr>\n",
       "  </thead>\n",
       "  <tbody>\n",
       "    <tr>\n",
       "      <th>0</th>\n",
       "      <td>GCF_900128725.1</td>\n",
       "      <td>PRJNA224116</td>\n",
       "      <td>SAMEA4556317</td>\n",
       "      <td>NaN</td>\n",
       "      <td>na</td>\n",
       "      <td>9</td>\n",
       "      <td>9</td>\n",
       "      <td>Buchnera aphidicola</td>\n",
       "      <td>strain=BCifornacula</td>\n",
       "      <td>2912</td>\n",
       "      <td>...</td>\n",
       "      <td>Full</td>\n",
       "      <td>2016/11/25</td>\n",
       "      <td>BCifornacula_v1.0</td>\n",
       "      <td>Centre de Biologie pour la Gestion des Populat...</td>\n",
       "      <td>GCA_900128725.1</td>\n",
       "      <td>identical</td>\n",
       "      <td>https://ftp.ncbi.nlm.nih.gov/genomes/all/GCF/9...</td>\n",
       "      <td>NaN</td>\n",
       "      <td>NaN</td>\n",
       "      <td>na</td>\n",
       "    </tr>\n",
       "    <tr>\n",
       "      <th>1</th>\n",
       "      <td>GCF_008244535.1</td>\n",
       "      <td>PRJNA224116</td>\n",
       "      <td>SAMN12634886</td>\n",
       "      <td>VTFL00000000.1</td>\n",
       "      <td>na</td>\n",
       "      <td>14</td>\n",
       "      <td>14</td>\n",
       "      <td>Dictyoglomus thermophilum</td>\n",
       "      <td>strain=PYS_80_B</td>\n",
       "      <td>NaN</td>\n",
       "      <td>...</td>\n",
       "      <td>Full</td>\n",
       "      <td>2019/09/02</td>\n",
       "      <td>ASM824453v1</td>\n",
       "      <td>Agharkar Research Institute</td>\n",
       "      <td>GCA_008244535.1</td>\n",
       "      <td>identical</td>\n",
       "      <td>https://ftp.ncbi.nlm.nih.gov/genomes/all/GCF/0...</td>\n",
       "      <td>NaN</td>\n",
       "      <td>NaN</td>\n",
       "      <td>na</td>\n",
       "    </tr>\n",
       "    <tr>\n",
       "      <th>2</th>\n",
       "      <td>GCF_001735525.1</td>\n",
       "      <td>PRJNA224116</td>\n",
       "      <td>SAMN05384437</td>\n",
       "      <td>MCBT00000000.1</td>\n",
       "      <td>representative genome</td>\n",
       "      <td>23</td>\n",
       "      <td>23</td>\n",
       "      <td>Shewanella colwelliana</td>\n",
       "      <td>strain=CSB03KR</td>\n",
       "      <td>NaN</td>\n",
       "      <td>...</td>\n",
       "      <td>Full</td>\n",
       "      <td>2016/09/19</td>\n",
       "      <td>ASM173552v1</td>\n",
       "      <td>Chonnam National University</td>\n",
       "      <td>GCA_001735525.1</td>\n",
       "      <td>identical</td>\n",
       "      <td>https://ftp.ncbi.nlm.nih.gov/genomes/all/GCF/0...</td>\n",
       "      <td>NaN</td>\n",
       "      <td>NaN</td>\n",
       "      <td>na</td>\n",
       "    </tr>\n",
       "  </tbody>\n",
       "</table>\n",
       "<p>3 rows × 23 columns</p>\n",
       "</div>"
      ],
      "text/plain": [
       "  assembly_accession   bioproject     biosample      wgs_master  \\\n",
       "0    GCF_900128725.1  PRJNA224116  SAMEA4556317             NaN   \n",
       "1    GCF_008244535.1  PRJNA224116  SAMN12634886  VTFL00000000.1   \n",
       "2    GCF_001735525.1  PRJNA224116  SAMN05384437  MCBT00000000.1   \n",
       "\n",
       "         refseq_category  taxid  species_taxid              organism_name  \\\n",
       "0                     na      9              9        Buchnera aphidicola   \n",
       "1                     na     14             14  Dictyoglomus thermophilum   \n",
       "2  representative genome     23             23     Shewanella colwelliana   \n",
       "\n",
       "    infraspecific_name isolate  ... genome_rep seq_rel_date  \\\n",
       "0  strain=BCifornacula    2912  ...       Full   2016/11/25   \n",
       "1      strain=PYS_80_B     NaN  ...       Full   2019/09/02   \n",
       "2       strain=CSB03KR     NaN  ...       Full   2016/09/19   \n",
       "\n",
       "            asm_name                                          submitter  \\\n",
       "0  BCifornacula_v1.0  Centre de Biologie pour la Gestion des Populat...   \n",
       "1        ASM824453v1                        Agharkar Research Institute   \n",
       "2        ASM173552v1                        Chonnam National University   \n",
       "\n",
       "   gbrs_paired_asm paired_asm_comp  \\\n",
       "0  GCA_900128725.1       identical   \n",
       "1  GCA_008244535.1       identical   \n",
       "2  GCA_001735525.1       identical   \n",
       "\n",
       "                                            ftp_path excluded_from_refseq  \\\n",
       "0  https://ftp.ncbi.nlm.nih.gov/genomes/all/GCF/9...                  NaN   \n",
       "1  https://ftp.ncbi.nlm.nih.gov/genomes/all/GCF/0...                  NaN   \n",
       "2  https://ftp.ncbi.nlm.nih.gov/genomes/all/GCF/0...                  NaN   \n",
       "\n",
       "  relation_to_type_material asm_not_live_date  \n",
       "0                       NaN                na  \n",
       "1                       NaN                na  \n",
       "2                       NaN                na  \n",
       "\n",
       "[3 rows x 23 columns]"
      ]
     },
     "execution_count": 135,
     "metadata": {},
     "output_type": "execute_result"
    }
   ],
   "source": [
    "assembly_report=pd.read_csv(mainDir1 + 'assembly_summary.txt', delimiter='\t')\n",
    "header = ['assembly_accession', 'bioproject', 'biosample', 'wgs_master',\n",
    "       'refseq_category', 'taxid', 'species_taxid', 'organism_name',\n",
    "       'infraspecific_name', 'isolate', 'version_status', 'assembly_level',\n",
    "       'release_type', 'genome_rep', 'seq_rel_date', 'asm_name', 'submitter',\n",
    "       'gbrs_paired_asm', 'paired_asm_comp', 'ftp_path',\n",
    "       'excluded_from_refseq', 'relation_to_type_material',\n",
    "       'asm_not_live_date']\n",
    "assembly_report.columns = header\n",
    "assembly_report.head(3)"
   ]
  },
  {
   "cell_type": "code",
   "execution_count": 158,
   "metadata": {},
   "outputs": [
    {
     "data": {
      "text/plain": [
       "(3327, 23)"
      ]
     },
     "execution_count": 158,
     "metadata": {},
     "output_type": "execute_result"
    }
   ],
   "source": [
    "assembly_report_fil = assembly_report[assembly_report['taxid'].isin(taxa)]\n",
    "assembly_report_fil.shape\n"
   ]
  },
  {
   "cell_type": "markdown",
   "metadata": {},
   "source": [
    "I only need 50 genomes, so I will drop any duplicate taxids and take the first 50"
   ]
  },
  {
   "cell_type": "code",
   "execution_count": 160,
   "metadata": {},
   "outputs": [],
   "source": [
    "arf2 =assembly_report_fil.drop_duplicates(['taxid'])[:50]"
   ]
  },
  {
   "cell_type": "markdown",
   "metadata": {},
   "source": [
    "downloading the genomes"
   ]
  },
  {
   "cell_type": "code",
   "execution_count": 164,
   "metadata": {},
   "outputs": [],
   "source": [
    "download_dir = homd_dir + 'genomes_from_homd_50'\n",
    "!cd $download_dir"
   ]
  },
  {
   "cell_type": "markdown",
   "metadata": {},
   "source": [
    "as before the ftp_path doesn't take me to the genome, so need to get the genomic path"
   ]
  },
  {
   "cell_type": "code",
   "execution_count": 176,
   "metadata": {},
   "outputs": [],
   "source": [
    "arf2['genome']= arf2['ftp_path'].apply(lambda x: x.split('/')[-1] + '_genomic.fna.gz')\n",
    "arf2['genome_link'] = arf2['ftp_path'] + '/' + arf2['genome']\n",
    "ftps = arf2['genome_link'].tolist()"
   ]
  },
  {
   "cell_type": "markdown",
   "metadata": {},
   "source": [
    "I got these files by creating a list in the terminal and running the following in the terminal"
   ]
  },
  {
   "cell_type": "code",
   "execution_count": null,
   "metadata": {},
   "outputs": [],
   "source": [
    "lst=('path1 path2 ... pathn')\n",
    "for f in $lst; do  wget $f; done"
   ]
  },
  {
   "cell_type": "markdown",
   "metadata": {},
   "source": [
    "putting together genomic fasta files that were downloaded into dataframe format for easier processing and sampling. "
   ]
  },
  {
   "cell_type": "code",
   "execution_count": 203,
   "metadata": {},
   "outputs": [],
   "source": [
    "homd_reads =pd.DataFrame({})\n",
    "for file in glob.glob(homd_dir + 'genomes_from_homd_50/*.fna'):\n",
    "    df = ph.read_fasta(file)\n",
    "    df['filename']= file.split('/')[-1].split('_genomic.fna')[0]\n",
    "    df=df[['id', 'sequence', 'description', 'filename']]\n",
    "    homd_reads = pd.concat([homd_reads, df])\n"
   ]
  },
  {
   "cell_type": "code",
   "execution_count": 233,
   "metadata": {},
   "outputs": [
    {
     "data": {
      "text/html": [
       "<div>\n",
       "<style scoped>\n",
       "    .dataframe tbody tr th:only-of-type {\n",
       "        vertical-align: middle;\n",
       "    }\n",
       "\n",
       "    .dataframe tbody tr th {\n",
       "        vertical-align: top;\n",
       "    }\n",
       "\n",
       "    .dataframe thead th {\n",
       "        text-align: right;\n",
       "    }\n",
       "</style>\n",
       "<table border=\"1\" class=\"dataframe\">\n",
       "  <thead>\n",
       "    <tr style=\"text-align: right;\">\n",
       "      <th></th>\n",
       "      <th>id</th>\n",
       "      <th>sequence</th>\n",
       "      <th>description</th>\n",
       "      <th>filename</th>\n",
       "      <th>seq_length</th>\n",
       "    </tr>\n",
       "  </thead>\n",
       "  <tbody>\n",
       "    <tr>\n",
       "      <th>0</th>\n",
       "      <td>NZ_CP028108.1</td>\n",
       "      <td>TCATTCTTTTGTTTCTCCTTCTTTTCCTTCTTTTCCTTCTTCAAGT...</td>\n",
       "      <td>NZ_CP028108.1 Fusobacterium periodonticum stra...</td>\n",
       "      <td>GCF_003019755.1_ASM301975v1</td>\n",
       "      <td>2541084</td>\n",
       "    </tr>\n",
       "  </tbody>\n",
       "</table>\n",
       "</div>"
      ],
      "text/plain": [
       "              id                                           sequence  \\\n",
       "0  NZ_CP028108.1  TCATTCTTTTGTTTCTCCTTCTTTTCCTTCTTTTCCTTCTTCAAGT...   \n",
       "\n",
       "                                         description  \\\n",
       "0  NZ_CP028108.1 Fusobacterium periodonticum stra...   \n",
       "\n",
       "                      filename  seq_length  \n",
       "0  GCF_003019755.1_ASM301975v1     2541084  "
      ]
     },
     "execution_count": 233,
     "metadata": {},
     "output_type": "execute_result"
    }
   ],
   "source": [
    "homd_reads.head(1)"
   ]
  },
  {
   "cell_type": "markdown",
   "metadata": {},
   "source": [
    "now I will do everything I did for getting gut bacterial sequences (5000 seqs) to be processed as batch of 10 fasta files for being input to SIMBA"
   ]
  },
  {
   "cell_type": "code",
   "execution_count": 235,
   "metadata": {},
   "outputs": [
    {
     "name": "stdout",
     "output_type": "stream",
     "text": [
      "5000\n",
      "4997\n"
     ]
    }
   ],
   "source": [
    "#sampling x sequences from each genome\n",
    "x=100 #number of sequences from a genome to obtain\n",
    "seq_len=100 #length of the sequence to blast\n",
    "num_genomes = 50\n",
    "\n",
    "homd_reads['genome_length'] = homd_reads['sequence'].apply(lambda x: len(x))\n",
    "ref50=homd_reads[homd_reads['genome_length']>=50000] #taking only genomic segments that are 50k long \n",
    "ref50 = ref50.groupby('filename').apply(lambda x: x.sample(1)).reset_index(drop=True) \n",
    "\n",
    "ref50_randseqs=pd.DataFrame({})\n",
    "randseqs =[]\n",
    "counter = 0\n",
    "for index in range(ref50.shape[0]):\n",
    "    genome_length = ref50['genome_length'].iat[index]\n",
    "    for i in list(range(seq_len,genome_length-seq_len, 500))[:x]: #taking 100 random segments from a genome\n",
    "        ref50_randseqs=pd.concat([ref50_randseqs, pd.DataFrame(ref50.iloc[index]).T])\n",
    "        randseqs.append(ref50['sequence'].iat[index][i:i+seq_len])\n",
    "        counter=counter + 1\n",
    "    \n",
    "ref50_randseqs['rand_seq']= randseqs\n",
    "\n",
    "print(ref50_randseqs.shape[0])\n",
    "\n",
    "# ensuring there are no duplicate sequences or ones containing \"N\"\n",
    "ref50_randseqs = ref50_randseqs.drop_duplicates()\n",
    "ref50_randseqs = ref50_randseqs[~ref50_randseqs['rand_seq'].str.contains('N')]\n",
    "print(ref50_randseqs.shape[0])\n",
    "\n",
    "# adding a unique id column (id2) since random sequences from the same genome currently have the same id. \n",
    "id2=[str(x) for x in list(range(ref50_randseqs.shape[0]))]\n",
    "ref50_randseqs['id2']= id2\n",
    "ref50_randseqs['id2'] = ref50_randseqs['id'] + '_' + ref50_randseqs['id2']\n",
    "ref50_randseqs = ref50_randseqs.reset_index().drop(columns={'index'}) #reset index\n"
   ]
  },
  {
   "cell_type": "code",
   "execution_count": 242,
   "metadata": {},
   "outputs": [
    {
     "data": {
      "text/html": [
       "<div>\n",
       "<style scoped>\n",
       "    .dataframe tbody tr th:only-of-type {\n",
       "        vertical-align: middle;\n",
       "    }\n",
       "\n",
       "    .dataframe tbody tr th {\n",
       "        vertical-align: top;\n",
       "    }\n",
       "\n",
       "    .dataframe thead th {\n",
       "        text-align: right;\n",
       "    }\n",
       "</style>\n",
       "<table border=\"1\" class=\"dataframe\">\n",
       "  <thead>\n",
       "    <tr style=\"text-align: right;\">\n",
       "      <th></th>\n",
       "      <th>id</th>\n",
       "      <th>sequence</th>\n",
       "      <th>description</th>\n",
       "      <th>filename</th>\n",
       "      <th>seq_length</th>\n",
       "      <th>genome_length</th>\n",
       "      <th>rand_seq</th>\n",
       "      <th>id2</th>\n",
       "    </tr>\n",
       "  </thead>\n",
       "  <tbody>\n",
       "    <tr>\n",
       "      <th>0</th>\n",
       "      <td>NC_014334.2</td>\n",
       "      <td>ATGCCCAATTTAGAGGAACTTTGGGCTTACCTGAATGATAAATTCC...</td>\n",
       "      <td>NC_014334.2 Lacticaseibacillus paracasei, comp...</td>\n",
       "      <td>GCF_000019245.4_ASM1924v3</td>\n",
       "      <td>2861969</td>\n",
       "      <td>2861969</td>\n",
       "      <td>TCAAATTAACCAAAGATAAACTCGAAATTGAAGTCCCAGCTTCTTT...</td>\n",
       "      <td>NC_014334.2_0</td>\n",
       "    </tr>\n",
       "  </tbody>\n",
       "</table>\n",
       "</div>"
      ],
      "text/plain": [
       "            id                                           sequence  \\\n",
       "0  NC_014334.2  ATGCCCAATTTAGAGGAACTTTGGGCTTACCTGAATGATAAATTCC...   \n",
       "\n",
       "                                         description  \\\n",
       "0  NC_014334.2 Lacticaseibacillus paracasei, comp...   \n",
       "\n",
       "                    filename seq_length genome_length  \\\n",
       "0  GCF_000019245.4_ASM1924v3    2861969       2861969   \n",
       "\n",
       "                                            rand_seq            id2  \n",
       "0  TCAAATTAACCAAAGATAAACTCGAAATTGAAGTCCCAGCTTCTTT...  NC_014334.2_0  "
      ]
     },
     "execution_count": 242,
     "metadata": {},
     "output_type": "execute_result"
    }
   ],
   "source": [
    "ref50_randseqs.head(1)"
   ]
  },
  {
   "cell_type": "code",
   "execution_count": 263,
   "metadata": {
    "scrolled": true
   },
   "outputs": [
    {
     "name": "stderr",
     "output_type": "stream",
     "text": [
      "/home/users/gitam/.local/lib/python3.6/site-packages/IPython/core/interactiveshell.py:3072: DtypeWarning: Columns (5,6,7,8,11,12,13,14,15,16,17,18,19,20,28,29,30,31,32,33,34,35,36,38,41,42,43,44,45,46,47,48,49,50,51,52,53,55,56,57,58,59,61,62,63,64,65,66,67,68,69,70) have mixed types.Specify dtype option on import or set low_memory=False.\n",
      "  interactivity=interactivity, compiler=compiler, result=result)\n"
     ]
    },
    {
     "data": {
      "text/html": [
       "<div>\n",
       "<style scoped>\n",
       "    .dataframe tbody tr th:only-of-type {\n",
       "        vertical-align: middle;\n",
       "    }\n",
       "\n",
       "    .dataframe tbody tr th {\n",
       "        vertical-align: top;\n",
       "    }\n",
       "\n",
       "    .dataframe thead th {\n",
       "        text-align: right;\n",
       "    }\n",
       "</style>\n",
       "<table border=\"1\" class=\"dataframe\">\n",
       "  <thead>\n",
       "    <tr style=\"text-align: right;\">\n",
       "      <th></th>\n",
       "      <th>taxid</th>\n",
       "      <th>organism_name</th>\n",
       "      <th>infraspecific_name</th>\n",
       "      <th>ftp_path</th>\n",
       "      <th>assembly_accession</th>\n",
       "      <th>id</th>\n",
       "      <th>sequence</th>\n",
       "      <th>description</th>\n",
       "      <th>filename</th>\n",
       "      <th>seq_length</th>\n",
       "      <th>genome_length</th>\n",
       "      <th>rand_seq</th>\n",
       "      <th>id2</th>\n",
       "      <th>superkingdom</th>\n",
       "      <th>phylum</th>\n",
       "      <th>class</th>\n",
       "      <th>order</th>\n",
       "      <th>family</th>\n",
       "      <th>genus</th>\n",
       "      <th>species</th>\n",
       "    </tr>\n",
       "  </thead>\n",
       "  <tbody>\n",
       "    <tr>\n",
       "      <th>0</th>\n",
       "      <td>158</td>\n",
       "      <td>Treponema denticola</td>\n",
       "      <td>strain=OMZ 853</td>\n",
       "      <td>https://ftp.ncbi.nlm.nih.gov/genomes/all/GCF/0...</td>\n",
       "      <td>GCF_024181405.1</td>\n",
       "      <td>NZ_CP051302.1</td>\n",
       "      <td>ATGAGTGAATGGGATTATAAAATTTTTTGGGATGAAGCTGTTAAGC...</td>\n",
       "      <td>NZ_CP051302.1 Treponema denticola strain OMZ 8...</td>\n",
       "      <td>GCF_024181405.1_ASM2418140v1</td>\n",
       "      <td>2749579</td>\n",
       "      <td>2749579</td>\n",
       "      <td>AATATGAAAAATCTACGGAAAATACCGTATATCTTAGTGTTCCGTC...</td>\n",
       "      <td>NZ_CP051302.1_4497</td>\n",
       "      <td>Bacteria</td>\n",
       "      <td>Spirochaetes</td>\n",
       "      <td>Spirochaetia</td>\n",
       "      <td>Spirochaetales</td>\n",
       "      <td>Spirochaetaceae</td>\n",
       "      <td>Treponema</td>\n",
       "      <td>Treponema denticola</td>\n",
       "    </tr>\n",
       "  </tbody>\n",
       "</table>\n",
       "</div>"
      ],
      "text/plain": [
       "   taxid        organism_name infraspecific_name  \\\n",
       "0    158  Treponema denticola     strain=OMZ 853   \n",
       "\n",
       "                                            ftp_path assembly_accession  \\\n",
       "0  https://ftp.ncbi.nlm.nih.gov/genomes/all/GCF/0...    GCF_024181405.1   \n",
       "\n",
       "              id                                           sequence  \\\n",
       "0  NZ_CP051302.1  ATGAGTGAATGGGATTATAAAATTTTTTGGGATGAAGCTGTTAAGC...   \n",
       "\n",
       "                                         description  \\\n",
       "0  NZ_CP051302.1 Treponema denticola strain OMZ 8...   \n",
       "\n",
       "                       filename seq_length genome_length  \\\n",
       "0  GCF_024181405.1_ASM2418140v1    2749579       2749579   \n",
       "\n",
       "                                            rand_seq                 id2  \\\n",
       "0  AATATGAAAAATCTACGGAAAATACCGTATATCTTAGTGTTCCGTC...  NZ_CP051302.1_4497   \n",
       "\n",
       "  superkingdom        phylum         class           order           family  \\\n",
       "0     Bacteria  Spirochaetes  Spirochaetia  Spirochaetales  Spirochaetaceae   \n",
       "\n",
       "       genus              species  \n",
       "0  Treponema  Treponema denticola  "
      ]
     },
     "execution_count": 263,
     "metadata": {},
     "output_type": "execute_result"
    }
   ],
   "source": [
    "#adding taxids by getting them from ncbi assembly report\n",
    "arf3 = arf2[['taxid', 'organism_name','infraspecific_name', 'ftp_path', 'assembly_accession']]\n",
    "ref50_randseqs['assembly_accession'] = ref50_randseqs['filename'].apply(lambda x: '_'.join(x.split('_')[0:2]))\n",
    "ref50_randseqs_withtaxid = arf3.merge(ref50_randseqs, on='assembly_accession', how='right')\n",
    "\n",
    "#in addition to taxids I want to add taxonomic lineages \n",
    "tax = pd.read_csv(dbDir + 'taxonomyNCBI20200125/ncbi_lineages_2021-01-26.csv')\n",
    "#want to take only the following columns from the lineage dataframe tax \n",
    "tax_short=tax[['tax_id','superkingdom', 'phylum', 'class', 'order', 'family', 'genus', 'species']]\n",
    "tax_short = tax_short.rename(columns={'tax_id':'taxid'})\n",
    "\n",
    "ref50_lineage=ref50_randseqs_withtaxid.merge(tax_short, on='taxid', how='left')\n",
    "ref50_lineage['sp2']=ref50_lineage['species'].apply(lambda x: \"_\".join(x.split(' ')).lower())\n",
    "ref50_lineage.head(1)\n"
   ]
  },
  {
   "cell_type": "code",
   "execution_count": 276,
   "metadata": {},
   "outputs": [],
   "source": [
    "#now diving this dataframe into 10 csvs and fasta files to run 10 SIMBA jobs in parallel\n",
    "readsDir2 = '/oak/stanford/groups/quake/gita/raw/tab3-14_20210420/benchmarking_post_reviews/bacterial_test/homd/fasta_files/'\n",
    "\n",
    "num_seq_per_batch=500 #how many seqs per fasta file\n",
    "for i in range(0,ref50_lineage.shape[0],num_seq_per_batch):\n",
    "    start=i\n",
    "    end=i+ num_seq_per_batch\n",
    "    batch_df = ref50_lineage.iloc[start:end]\n",
    "    batch_df.to_csv(readsDir2 + 'batch_' + str(i) + '.csv')\n",
    "    \n",
    "    #Opening a fasta file to write random sequences to\n",
    "    f= open(readsDir2 + 'batch_' + str(i) + '.fasta', 'w')\n",
    "    for i in list(range(0,batch_df.shape[0])):\n",
    "        header = str(batch_df['taxid'].iat[i]) + '_'+ str(batch_df['id2'].iat[i]) + '_' + batch_df['sp2'].iat[i]\n",
    "        header = header.replace(' ', '_')\n",
    "        sequence = batch_df['rand_seq'].iat[i]\n",
    "        f.write('>' + header + '\\n' + sequence + '\\n')\n",
    "    f.close()"
   ]
  },
  {
   "cell_type": "markdown",
   "metadata": {},
   "source": [
    "### Creating a fungal dataset"
   ]
  },
  {
   "cell_type": "markdown",
   "metadata": {},
   "source": [
    "first downloading the NCBI genome assembly report for eukaryotes. After downloadinig NCBI's \"dataset\" package I was able to download the genomes using a list of assembly accession numbers. Here's the command I ran in the terminal (after activating the mainEnv2 environment). There is also a python api, but it was not working for me. Might try again later. see documentation here https://www.ncbi.nlm.nih.gov/datasets/docs/v1/download-and-install/\n",
    "\n",
    "note list of accessions came from a study of fungi. https://microbiomejournal.biomedcentral.com/articles/10.1186/s40168-017-0373-4#Sec20\n"
   ]
  },
  {
   "cell_type": "raw",
   "metadata": {},
   "source": [
    "conda install -c conda-forge ncbi-datasets-cli\"<14\n",
    "\n",
    "acc=('GCA_000002945.2 GCA_000002515.1 GCA_001708105.1 GCA_011022315.1 GCA_003290485.1 GCA_000710275.1 GCA_001190045.1 GCA_001642055.1 GCA_000769745.1 GCA_016906535.1 GCA_000313485.1 GCA_002922495.1 GCA_003708225.2 GCA_015533775.1 GCA_008728235.1 GCA_000835515.1 GCA_016952355.1 GCA_001263375.1 GCA_001278385.1 GCA_001447935.2 GCA_001481775.2 GCA_022641835.1 GCA_900080155.1 GCA_001936155.1 GCA_001984395.2 GCA_022343325.1 GCA_004918485.1 GCA_900322975.1 GCA_018344385.1 GCA_003856795.1 GCA_001736105.1 GCA_900149155.1 GCA_016952305.1 GCA_902749255.1 GCA_016906865.1 GCA_001675385.1 GCA_016767815.1 GCA_009663055.1 GCA_900002835.2 GCA_004920355.1 GCA_001854445.2 GCA_019321675.1 GCA_010883545.1 GCA_008692325.1 GCA_015344875.1 GCA_943193715.1 GCA_020647795.1 GCA_010232095.1 GCA_018140865.1 GCA_023620035.1')\n",
    "\n",
    "for f in $acc;do datasets download genome accession $f --filename $f.zip;done\n"
   ]
  },
  {
   "cell_type": "markdown",
   "metadata": {},
   "source": [
    "getting the fungi assembly accessions from this document from ncbi. Will capture the genomes that it shares in common with the study linked above"
   ]
  },
  {
   "cell_type": "code",
   "execution_count": 26,
   "metadata": {},
   "outputs": [
    {
     "data": {
      "text/plain": [
       "'eukaryotes.txt'"
      ]
     },
     "execution_count": 26,
     "metadata": {},
     "output_type": "execute_result"
    }
   ],
   "source": [
    "wget.download('https://ftp.ncbi.nlm.nih.gov/genomes/GENOME_REPORTS/eukaryotes.txt')"
   ]
  },
  {
   "cell_type": "markdown",
   "metadata": {},
   "source": [
    "moving it to the fungal directory"
   ]
  },
  {
   "cell_type": "code",
   "execution_count": 28,
   "metadata": {},
   "outputs": [],
   "source": [
    "mv $mainDir/eukaryotes.txt $mainDir4"
   ]
  },
  {
   "cell_type": "code",
   "execution_count": 69,
   "metadata": {},
   "outputs": [],
   "source": [
    "euks_assembly = pd.read_csv(mainDir4 + 'eukaryotes.txt', delimiter='\\t')\n",
    "euks_assembly = euks_assembly.rename(columns={'Organism/Name':'organism','TaxID':'taxid'})"
   ]
  },
  {
   "cell_type": "code",
   "execution_count": 39,
   "metadata": {},
   "outputs": [
    {
     "data": {
      "text/html": [
       "<div>\n",
       "<style scoped>\n",
       "    .dataframe tbody tr th:only-of-type {\n",
       "        vertical-align: middle;\n",
       "    }\n",
       "\n",
       "    .dataframe tbody tr th {\n",
       "        vertical-align: top;\n",
       "    }\n",
       "\n",
       "    .dataframe thead th {\n",
       "        text-align: right;\n",
       "    }\n",
       "</style>\n",
       "<table border=\"1\" class=\"dataframe\">\n",
       "  <thead>\n",
       "    <tr style=\"text-align: right;\">\n",
       "      <th></th>\n",
       "      <th>organism</th>\n",
       "      <th>taxid</th>\n",
       "      <th>BioProject Accession</th>\n",
       "      <th>BioProject ID</th>\n",
       "      <th>Group</th>\n",
       "      <th>SubGroup</th>\n",
       "      <th>Size (Mb)</th>\n",
       "      <th>GC%</th>\n",
       "      <th>Assembly Accession</th>\n",
       "      <th>Replicons</th>\n",
       "      <th>WGS</th>\n",
       "      <th>Scaffolds</th>\n",
       "      <th>Genes</th>\n",
       "      <th>Proteins</th>\n",
       "      <th>Release Date</th>\n",
       "      <th>Modify Date</th>\n",
       "      <th>Status</th>\n",
       "      <th>Center</th>\n",
       "      <th>BioSample Accession</th>\n",
       "    </tr>\n",
       "  </thead>\n",
       "  <tbody>\n",
       "    <tr>\n",
       "      <th>0</th>\n",
       "      <td>Neopyropia yezoensis</td>\n",
       "      <td>2788</td>\n",
       "      <td>PRJNA589917</td>\n",
       "      <td>589917</td>\n",
       "      <td>Other</td>\n",
       "      <td>Other</td>\n",
       "      <td>107.591</td>\n",
       "      <td>64.8454</td>\n",
       "      <td>GCA_009829735.1</td>\n",
       "      <td>chromosome 1:CM020618.1; chromosome 2:CM020619...</td>\n",
       "      <td>WMLA01</td>\n",
       "      <td>28.0</td>\n",
       "      <td>-</td>\n",
       "      <td>-</td>\n",
       "      <td>2020/01/03</td>\n",
       "      <td>2020/01/06</td>\n",
       "      <td>Chromosome</td>\n",
       "      <td>Ocean University</td>\n",
       "      <td>SAMN13316713</td>\n",
       "    </tr>\n",
       "  </tbody>\n",
       "</table>\n",
       "</div>"
      ],
      "text/plain": [
       "               organism  taxid BioProject Accession  BioProject ID  Group  \\\n",
       "0  Neopyropia yezoensis   2788          PRJNA589917         589917  Other   \n",
       "\n",
       "  SubGroup  Size (Mb)      GC% Assembly Accession  \\\n",
       "0    Other    107.591  64.8454    GCA_009829735.1   \n",
       "\n",
       "                                           Replicons     WGS  Scaffolds Genes  \\\n",
       "0  chromosome 1:CM020618.1; chromosome 2:CM020619...  WMLA01       28.0     -   \n",
       "\n",
       "  Proteins Release Date Modify Date      Status            Center  \\\n",
       "0        -   2020/01/03  2020/01/06  Chromosome  Ocean University   \n",
       "\n",
       "  BioSample Accession  \n",
       "0        SAMN13316713  "
      ]
     },
     "execution_count": 39,
     "metadata": {},
     "output_type": "execute_result"
    }
   ],
   "source": [
    "euks_assembly.head(1)"
   ]
  },
  {
   "cell_type": "markdown",
   "metadata": {},
   "source": [
    "found a list of fungal species in the gut"
   ]
  },
  {
   "cell_type": "code",
   "execution_count": 90,
   "metadata": {},
   "outputs": [
    {
     "data": {
      "text/html": [
       "<div>\n",
       "<style scoped>\n",
       "    .dataframe tbody tr th:only-of-type {\n",
       "        vertical-align: middle;\n",
       "    }\n",
       "\n",
       "    .dataframe tbody tr th {\n",
       "        vertical-align: top;\n",
       "    }\n",
       "\n",
       "    .dataframe thead th {\n",
       "        text-align: right;\n",
       "    }\n",
       "</style>\n",
       "<table border=\"1\" class=\"dataframe\">\n",
       "  <thead>\n",
       "    <tr style=\"text-align: right;\">\n",
       "      <th></th>\n",
       "      <th>organism</th>\n",
       "      <th>taxid</th>\n",
       "      <th>BioProject Accession</th>\n",
       "      <th>BioProject ID</th>\n",
       "      <th>Group</th>\n",
       "      <th>SubGroup</th>\n",
       "      <th>Size (Mb)</th>\n",
       "      <th>GC%</th>\n",
       "      <th>Assembly Accession</th>\n",
       "      <th>Replicons</th>\n",
       "      <th>WGS</th>\n",
       "      <th>Scaffolds</th>\n",
       "      <th>Genes</th>\n",
       "      <th>Proteins</th>\n",
       "      <th>Release Date</th>\n",
       "      <th>Modify Date</th>\n",
       "      <th>Status</th>\n",
       "      <th>Center</th>\n",
       "      <th>BioSample Accession</th>\n",
       "    </tr>\n",
       "  </thead>\n",
       "  <tbody>\n",
       "    <tr>\n",
       "      <th>11</th>\n",
       "      <td>Schizosaccharomyces pombe</td>\n",
       "      <td>4896</td>\n",
       "      <td>PRJNA13836</td>\n",
       "      <td>13836</td>\n",
       "      <td>Fungi</td>\n",
       "      <td>Ascomycetes</td>\n",
       "      <td>12.5913</td>\n",
       "      <td>36.0381</td>\n",
       "      <td>GCA_000002945.2</td>\n",
       "      <td>chromosome I:NC_003424.3/CU329670.1; chromosom...</td>\n",
       "      <td>-</td>\n",
       "      <td>4.0</td>\n",
       "      <td>6974</td>\n",
       "      <td>5131</td>\n",
       "      <td>2002/02/28</td>\n",
       "      <td>2022/07/14</td>\n",
       "      <td>Chromosome</td>\n",
       "      <td>S. pombe European Sequencing Consortium (EUPOM)</td>\n",
       "      <td>SAMEA3138176</td>\n",
       "    </tr>\n",
       "  </tbody>\n",
       "</table>\n",
       "</div>"
      ],
      "text/plain": [
       "                     organism  taxid BioProject Accession  BioProject ID  \\\n",
       "11  Schizosaccharomyces pombe   4896           PRJNA13836          13836   \n",
       "\n",
       "    Group     SubGroup  Size (Mb)      GC% Assembly Accession  \\\n",
       "11  Fungi  Ascomycetes    12.5913  36.0381    GCA_000002945.2   \n",
       "\n",
       "                                            Replicons WGS  Scaffolds Genes  \\\n",
       "11  chromosome I:NC_003424.3/CU329670.1; chromosom...   -        4.0  6974   \n",
       "\n",
       "   Proteins Release Date Modify Date      Status  \\\n",
       "11     5131   2002/02/28  2022/07/14  Chromosome   \n",
       "\n",
       "                                             Center BioSample Accession  \n",
       "11  S. pombe European Sequencing Consortium (EUPOM)        SAMEA3138176  "
      ]
     },
     "execution_count": 90,
     "metadata": {},
     "output_type": "execute_result"
    }
   ],
   "source": [
    "fung=pd.read_excel(mainDir4 + '40168_2017_373_MOESM3_ESM.xlsx').sort_values(by='Reads (n=27,091,491,028)', ascending=False).iloc[1:100]\n",
    "fung_as=euks_assembly[euks_assembly['organism'].isin(fung['Name'].tolist())].drop_duplicates('organism')[:50]\n",
    "fung_as.head(1)"
   ]
  },
  {
   "cell_type": "markdown",
   "metadata": {},
   "source": [
    "as before loading the data as a dataframe for easier processing"
   ]
  },
  {
   "cell_type": "code",
   "execution_count": 93,
   "metadata": {},
   "outputs": [],
   "source": [
    "fung_reads =pd.DataFrame({})\n",
    "for file in glob.glob(mainDir4 + 'genomes/*.fna'):\n",
    "    df = ph.read_fasta(file)\n",
    "    df['filename']= file.split('/')[-1].split('_genomic.fna')[0]\n",
    "    df=df[['id', 'sequence', 'description', 'filename']]\n",
    "    fung_reads = pd.concat([fung_reads, df])\n",
    "\n",
    "fung_reads['Assembly Accession'] = fung_reads['filename'].apply(lambda x: '_'.join(x.split('_')[:-1]))"
   ]
  },
  {
   "cell_type": "markdown",
   "metadata": {},
   "source": [
    "now I will do everything I did for getting gut bacterial sequences (5000 seqs) to be processed as batch of 10 fasta files for being input to SIMBA"
   ]
  },
  {
   "cell_type": "code",
   "execution_count": 108,
   "metadata": {},
   "outputs": [
    {
     "name": "stdout",
     "output_type": "stream",
     "text": [
      "4500\n",
      "4466\n"
     ]
    }
   ],
   "source": [
    "#sampling x sequences from each genome\n",
    "x=100 #number of sequences from a genome to obtain\n",
    "seq_len=100 #length of the sequence to blast\n",
    "num_genomes = 50\n",
    "\n",
    "fung_reads['genome_length'] = fung_reads['sequence'].apply(lambda x: len(x))\n",
    "ref50=fung_reads[fung_reads['genome_length']>=50000] #taking only genomic segments that are 50k long \n",
    "ref50 = ref50.groupby('filename').apply(lambda x: x.sample(1)).reset_index(drop=True) \n",
    "\n",
    "ref50_randseqs=pd.DataFrame({})\n",
    "randseqs =[]\n",
    "counter = 0\n",
    "for index in range(ref50.shape[0]):\n",
    "    genome_length = ref50['genome_length'].iat[index]\n",
    "    for i in list(range(seq_len,genome_length-seq_len, 500))[:x]: #taking 100 random segments from a genome\n",
    "        ref50_randseqs=pd.concat([ref50_randseqs, pd.DataFrame(ref50.iloc[index]).T])\n",
    "        randseqs.append(ref50['sequence'].iat[index][i:i+seq_len])\n",
    "        counter=counter + 1\n",
    "    \n",
    "ref50_randseqs['rand_seq']= randseqs\n",
    "\n",
    "print(ref50_randseqs.shape[0])\n",
    "\n",
    "# ensuring there are no duplicate sequences or ones containing \"N\"\n",
    "ref50_randseqs = ref50_randseqs.drop_duplicates()\n",
    "ref50_randseqs = ref50_randseqs[~ref50_randseqs['rand_seq'].str.contains('N')]\n",
    "print(ref50_randseqs.shape[0])\n",
    "\n",
    "# adding a unique id column (id2) since random sequences from the same genome currently have the same id. \n",
    "id2=[str(x) for x in list(range(ref50_randseqs.shape[0]))]\n",
    "ref50_randseqs['id2']= id2\n",
    "ref50_randseqs['id2'] = ref50_randseqs['id'] + '_' + ref50_randseqs['id2']\n",
    "ref50_randseqs = ref50_randseqs.reset_index().drop(columns={'index'}) #reset index\n"
   ]
  },
  {
   "cell_type": "code",
   "execution_count": 111,
   "metadata": {
    "scrolled": true
   },
   "outputs": [
    {
     "data": {
      "text/plain": [
       "45"
      ]
     },
     "execution_count": 111,
     "metadata": {},
     "output_type": "execute_result"
    }
   ],
   "source": [
    "ref50_randseqs['Assembly Accession'].nunique()"
   ]
  },
  {
   "cell_type": "code",
   "execution_count": 118,
   "metadata": {},
   "outputs": [
    {
     "name": "stderr",
     "output_type": "stream",
     "text": [
      "/home/users/gitam/.local/lib/python3.6/site-packages/IPython/core/interactiveshell.py:3072: DtypeWarning: Columns (5,6,7,8,11,12,13,14,15,16,17,18,19,20,28,29,30,31,32,33,34,35,36,38,41,42,43,44,45,46,47,48,49,50,51,52,53,55,56,57,58,59,61,62,63,64,65,66,67,68,69,70) have mixed types.Specify dtype option on import or set low_memory=False.\n",
      "  interactivity=interactivity, compiler=compiler, result=result)\n"
     ]
    }
   ],
   "source": [
    "tax = pd.read_csv(dbDir + 'taxonomyNCBI20200125/ncbi_lineages_2021-01-26.csv')\n",
    "#want to take only the following columns from the lineage dataframe tax \n",
    "tax_short=tax[['tax_id','superkingdom', 'phylum', 'class', 'order', 'family', 'genus', 'species']]\n",
    "tax_short = tax_short.rename(columns={'tax_id':'taxid'})\n",
    "\n",
    "ref50_lineage = ref50_randseqs.merge(tax_short, on='taxid', how='left')"
   ]
  },
  {
   "cell_type": "code",
   "execution_count": 120,
   "metadata": {},
   "outputs": [
    {
     "data": {
      "text/html": [
       "<div>\n",
       "<style scoped>\n",
       "    .dataframe tbody tr th:only-of-type {\n",
       "        vertical-align: middle;\n",
       "    }\n",
       "\n",
       "    .dataframe tbody tr th {\n",
       "        vertical-align: top;\n",
       "    }\n",
       "\n",
       "    .dataframe thead th {\n",
       "        text-align: right;\n",
       "    }\n",
       "</style>\n",
       "<table border=\"1\" class=\"dataframe\">\n",
       "  <thead>\n",
       "    <tr style=\"text-align: right;\">\n",
       "      <th></th>\n",
       "      <th>id</th>\n",
       "      <th>sequence</th>\n",
       "      <th>description</th>\n",
       "      <th>filename</th>\n",
       "      <th>Assembly Accession</th>\n",
       "      <th>organism</th>\n",
       "      <th>taxid</th>\n",
       "      <th>BioProject Accession</th>\n",
       "      <th>BioProject ID</th>\n",
       "      <th>Group</th>\n",
       "      <th>...</th>\n",
       "      <th>genome_length</th>\n",
       "      <th>rand_seq</th>\n",
       "      <th>id2</th>\n",
       "      <th>superkingdom</th>\n",
       "      <th>phylum</th>\n",
       "      <th>class</th>\n",
       "      <th>order</th>\n",
       "      <th>family</th>\n",
       "      <th>genus</th>\n",
       "      <th>species</th>\n",
       "    </tr>\n",
       "  </thead>\n",
       "  <tbody>\n",
       "    <tr>\n",
       "      <th>0</th>\n",
       "      <td>CR382122.1</td>\n",
       "      <td>ccgtacaccacatacctaatcaaatccgtacaccacatacctaatc...</td>\n",
       "      <td>CR382122.1 Kluyveromyces lactis strain NRRL Y-...</td>\n",
       "      <td>GCA_000002515.1_ASM251v1</td>\n",
       "      <td>GCA_000002515.1</td>\n",
       "      <td>Kluyveromyces lactis</td>\n",
       "      <td>28985</td>\n",
       "      <td>PRJNA13835</td>\n",
       "      <td>13835</td>\n",
       "      <td>Fungi</td>\n",
       "      <td>...</td>\n",
       "      <td>1320834</td>\n",
       "      <td>ccgtacaccacatacctaatcaaatccgtacaccacatacctaatc...</td>\n",
       "      <td>CR382122.1_0</td>\n",
       "      <td>Eukaryota</td>\n",
       "      <td>Ascomycota</td>\n",
       "      <td>Saccharomycetes</td>\n",
       "      <td>Saccharomycetales</td>\n",
       "      <td>Saccharomycetaceae</td>\n",
       "      <td>Kluyveromyces</td>\n",
       "      <td>Kluyveromyces lactis</td>\n",
       "    </tr>\n",
       "  </tbody>\n",
       "</table>\n",
       "<p>1 rows × 33 columns</p>\n",
       "</div>"
      ],
      "text/plain": [
       "           id                                           sequence  \\\n",
       "0  CR382122.1  ccgtacaccacatacctaatcaaatccgtacaccacatacctaatc...   \n",
       "\n",
       "                                         description  \\\n",
       "0  CR382122.1 Kluyveromyces lactis strain NRRL Y-...   \n",
       "\n",
       "                   filename Assembly Accession              organism  taxid  \\\n",
       "0  GCA_000002515.1_ASM251v1    GCA_000002515.1  Kluyveromyces lactis  28985   \n",
       "\n",
       "  BioProject Accession BioProject ID  Group  ... genome_length  \\\n",
       "0           PRJNA13835         13835  Fungi  ...       1320834   \n",
       "\n",
       "                                            rand_seq           id2  \\\n",
       "0  ccgtacaccacatacctaatcaaatccgtacaccacatacctaatc...  CR382122.1_0   \n",
       "\n",
       "  superkingdom      phylum            class              order  \\\n",
       "0    Eukaryota  Ascomycota  Saccharomycetes  Saccharomycetales   \n",
       "\n",
       "               family          genus               species  \n",
       "0  Saccharomycetaceae  Kluyveromyces  Kluyveromyces lactis  \n",
       "\n",
       "[1 rows x 33 columns]"
      ]
     },
     "execution_count": 120,
     "metadata": {},
     "output_type": "execute_result"
    }
   ],
   "source": [
    "ref50_lineage.head(1)"
   ]
  },
  {
   "cell_type": "markdown",
   "metadata": {},
   "source": [
    "now diving this dataframe into 10 csvs and fasta files to run 10 SIMBA jobs in parallel\n"
   ]
  },
  {
   "cell_type": "code",
   "execution_count": 121,
   "metadata": {},
   "outputs": [],
   "source": [
    "num_seq_per_batch=500 #how many seqs per fasta file\n",
    "for i in range(0,ref50_lineage.shape[0],num_seq_per_batch):\n",
    "    start=i\n",
    "    end=i+ num_seq_per_batch\n",
    "    batch_df = ref50_lineage.iloc[start:end]\n",
    "    batch_df.to_csv(mainDir4 + 'fasta_files/batch_' + str(i) + '.csv')\n",
    "    \n",
    "    #Opening a fasta file to write random sequences to\n",
    "    f= open(mainDir4 + 'fasta_files/batch_' + str(i) + '.fasta', 'w')\n",
    "    for i in list(range(0,batch_df.shape[0])):\n",
    "        header = str(batch_df['taxid'].iat[i]) + '_'+ str(batch_df['id2'].iat[i]) + '_' + batch_df['species'].iat[i]\n",
    "        header = header.replace(' ', '_')\n",
    "        sequence = batch_df['rand_seq'].iat[i]\n",
    "        f.write('>' + header + '\\n' + sequence + '\\n')\n",
    "    f.close()"
   ]
  },
  {
   "cell_type": "markdown",
   "metadata": {},
   "source": [
    "### Downloading Unified Human Gastrointestinal Genome \n",
    "http://ftp.ebi.ac.uk/pub/databases/metagenomics/mgnify_genomes/human-gut/v2.0/"
   ]
  },
  {
   "cell_type": "code",
   "execution_count": 8,
   "metadata": {},
   "outputs": [
    {
     "data": {
      "text/plain": [
       "'genomes-all_metadata.tsv'"
      ]
     },
     "execution_count": 8,
     "metadata": {},
     "output_type": "execute_result"
    }
   ],
   "source": [
    "wget.download('http://ftp.ebi.ac.uk/pub/databases/metagenomics/mgnify_genomes/human-gut/v2.0/genomes-all_metadata.tsv')"
   ]
  },
  {
   "cell_type": "code",
   "execution_count": 13,
   "metadata": {},
   "outputs": [
    {
     "data": {
      "text/html": [
       "<div>\n",
       "<style scoped>\n",
       "    .dataframe tbody tr th:only-of-type {\n",
       "        vertical-align: middle;\n",
       "    }\n",
       "\n",
       "    .dataframe tbody tr th {\n",
       "        vertical-align: top;\n",
       "    }\n",
       "\n",
       "    .dataframe thead th {\n",
       "        text-align: right;\n",
       "    }\n",
       "</style>\n",
       "<table border=\"1\" class=\"dataframe\">\n",
       "  <thead>\n",
       "    <tr style=\"text-align: right;\">\n",
       "      <th></th>\n",
       "      <th>Genome</th>\n",
       "      <th>Genome_type</th>\n",
       "      <th>Length</th>\n",
       "      <th>N_contigs</th>\n",
       "      <th>N50</th>\n",
       "      <th>GC_content</th>\n",
       "      <th>Completeness</th>\n",
       "      <th>Contamination</th>\n",
       "      <th>rRNA_5S</th>\n",
       "      <th>rRNA_16S</th>\n",
       "      <th>rRNA_23S</th>\n",
       "      <th>tRNAs</th>\n",
       "      <th>Genome_accession</th>\n",
       "      <th>Species_rep</th>\n",
       "      <th>Lineage</th>\n",
       "      <th>Sample_accession</th>\n",
       "      <th>Study_accession</th>\n",
       "      <th>Country</th>\n",
       "      <th>Continent</th>\n",
       "      <th>FTP_download</th>\n",
       "    </tr>\n",
       "  </thead>\n",
       "  <tbody>\n",
       "    <tr>\n",
       "      <th>0</th>\n",
       "      <td>MGYG000000001</td>\n",
       "      <td>Isolate</td>\n",
       "      <td>3219617</td>\n",
       "      <td>137</td>\n",
       "      <td>47258</td>\n",
       "      <td>28.26</td>\n",
       "      <td>98.59</td>\n",
       "      <td>0.7</td>\n",
       "      <td>88.24</td>\n",
       "      <td>99.74</td>\n",
       "      <td>99.83</td>\n",
       "      <td>20</td>\n",
       "      <td>GUT_GENOME000001</td>\n",
       "      <td>MGYG000000001</td>\n",
       "      <td>d__Bacteria;p__Firmicutes_A;c__Clostridia;o__P...</td>\n",
       "      <td>ERS370061</td>\n",
       "      <td>ERP105624</td>\n",
       "      <td>United Kingdom</td>\n",
       "      <td>Europe</td>\n",
       "      <td>ftp://ftp.ebi.ac.uk/pub/databases/metagenomics...</td>\n",
       "    </tr>\n",
       "  </tbody>\n",
       "</table>\n",
       "</div>"
      ],
      "text/plain": [
       "          Genome Genome_type   Length  N_contigs    N50  GC_content  \\\n",
       "0  MGYG000000001     Isolate  3219617        137  47258       28.26   \n",
       "\n",
       "   Completeness  Contamination  rRNA_5S  rRNA_16S  rRNA_23S  tRNAs  \\\n",
       "0         98.59            0.7    88.24     99.74     99.83     20   \n",
       "\n",
       "   Genome_accession    Species_rep  \\\n",
       "0  GUT_GENOME000001  MGYG000000001   \n",
       "\n",
       "                                             Lineage Sample_accession  \\\n",
       "0  d__Bacteria;p__Firmicutes_A;c__Clostridia;o__P...        ERS370061   \n",
       "\n",
       "  Study_accession         Country Continent  \\\n",
       "0       ERP105624  United Kingdom    Europe   \n",
       "\n",
       "                                        FTP_download  \n",
       "0  ftp://ftp.ebi.ac.uk/pub/databases/metagenomics...  "
      ]
     },
     "execution_count": 13,
     "metadata": {},
     "output_type": "execute_result"
    }
   ],
   "source": [
    "ug=pd.read_csv('genomes-all_metadata.tsv', delimiter='\\t')\n",
    "ug.head(1)"
   ]
  },
  {
   "cell_type": "code",
   "execution_count": 49,
   "metadata": {},
   "outputs": [
    {
     "data": {
      "text/plain": [
       "<AxesSubplot:ylabel='Frequency'>"
      ]
     },
     "execution_count": 49,
     "metadata": {},
     "output_type": "execute_result"
    },
    {
     "data": {
      "image/png": "[encoded data removed]",
      "text/plain": [
       "<Figure size 450x300 with 1 Axes>"
      ]
     },
     "metadata": {},
     "output_type": "display_data"
    }
   ],
   "source": [
    "ug['Completeness'].plot(kind='hist')"
   ]
  },
  {
   "cell_type": "code",
   "execution_count": 72,
   "metadata": {},
   "outputs": [],
   "source": [
    "ug['domain'] = ug['Lineage'].apply(lambda x: x.split('d__')[1].split(';p__')[0])\n",
    "ug['phylum'] =ug['Lineage'].apply(lambda x: x.split('d__')[1].split(';p__')[1].split(';c__')[0].split('_')[0])\n",
    "ug['class'] =ug['Lineage'].apply(lambda x: x.split('d__')[1].split(';p__')[1].split(';c__')[1].split(';o__')[0])\n",
    "ug['order'] =ug['Lineage'].apply(lambda x: x.split('d__')[1].split(';p__')[1].split(';c__')[1].split(';o__')[1].split(';f__')[0])\n",
    "ug['family'] =ug['Lineage'].apply(lambda x: x.split('d__')[1].split(';p__')[1].split(';c__')[1].split(';o__')[1].split(';f__')[1].split(';g__')[0])\n",
    "ug['genus'] =ug['Lineage'].apply(lambda x: x.split('d__')[1].split(';p__')[1].split(';c__')[1].split(';o__')[1].split(';f__')[1].split(';g__')[1].split(';s__')[0].split('_')[0])\n",
    "ug['species'] =ug['Lineage'].apply(lambda x: x.split('d__')[1].split(';p__')[1].split(';c__')[1].split(';o__')[1].split(';f__')[1].split(';g__')[1].split(';s__')[1].replace('_A',''))\n"
   ]
  },
  {
   "cell_type": "code",
   "execution_count": 77,
   "metadata": {},
   "outputs": [
    {
     "data": {
      "text/plain": [
       "Bacteroides              13756\n",
       "Ruminococcus             12981\n",
       "Alistipes                10967\n",
       "Agathobacter             10651\n",
       "Phocaeicola               9033\n",
       "Prevotella                8886\n",
       "Bifidobacterium           8703\n",
       "Faecalibacterium          8598\n",
       "Escherichia               8359\n",
       "Lachnospira               7900\n",
       "Parabacteroides           6923\n",
       "Gemmiger                  6124\n",
       "Eubacterium               5112\n",
       "Blautia                   4858\n",
       "Phascolarctobacterium     4610\n",
       "Collinsella               4169\n",
       "CAG-83                    4042\n",
       "Acetatifactor             3497\n",
       "Coprococcus               3338\n",
       "Akkermansia               3311\n",
       "Fusicatenibacter          3287\n",
       "Dialister                 3185\n",
       "Anaerostipes              3148\n",
       "Roseburia                 2992\n",
       "Mediterraneibacter        2838\n",
       "Clostridium               2800\n",
       "ER4                       2761\n",
       "Barnesiella               2652\n",
       "CAG-180                   2602\n",
       "Sutterella                2574\n",
       "CAG-177                   2314\n",
       "Enterocloster             2208\n",
       "Streptococcus             2171\n",
       "UBA11524                  2035\n",
       "Ruminiclostridium         1936\n",
       "RC9                       1895\n",
       "CAG-103                   1856\n",
       "Odoribacter               1774\n",
       "Enterococcus              1728\n",
       "CAG-127                   1692\n",
       "Klebsiella                1561\n",
       "Holdemanella              1546\n",
       "CAG-110                   1521\n",
       "Faecalibacillus           1497\n",
       "CAG-217                   1461\n",
       "Parasutterella            1428\n",
       "Veillonella               1415\n",
       "Butyrivibrio              1354\n",
       "Duodenibacillus           1330\n",
       "CAG-41                    1330\n",
       "Eisenbergiella            1307\n",
       "Paraprevotella            1210\n",
       "Prevotellamassilia        1207\n",
       "Dysosmobacter             1197\n",
       "CAG-495                   1189\n",
       "TF01-11                   1170\n",
       "CAG-279                   1165\n",
       "PeH17                     1093\n",
       "CAG-302                   1058\n",
       "CAG-170                   1055\n",
       "Name: genus, dtype: int64"
      ]
     },
     "execution_count": 77,
     "metadata": {},
     "output_type": "execute_result"
    }
   ],
   "source": [
    "ug.genus.value_counts().head(60)"
   ]
  }
 ],
 "metadata": {
  "kernelspec": {
   "display_name": "mainEnv2",
   "language": "python",
   "name": "mainenv2"
  },
  "language_info": {
   "codemirror_mode": {
    "name": "ipython",
    "version": 3
   },
   "file_extension": ".py",
   "mimetype": "text/x-python",
   "name": "python",
   "nbconvert_exporter": "python",
   "pygments_lexer": "ipython3",
   "version": "3.6.10"
  },
  "toc": {
   "base_numbering": 1,
   "nav_menu": {
    "height": "532.969px",
    "width": "630.719px"
   },
   "number_sections": true,
   "sideBar": true,
   "skip_h1_title": false,
   "title_cell": "Table of Contents",
   "title_sidebar": "Contents",
   "toc_cell": false,
   "toc_position": {},
   "toc_section_display": true,
   "toc_window_display": false
  }
 },
 "nbformat": 4,
 "nbformat_minor": 4
}
