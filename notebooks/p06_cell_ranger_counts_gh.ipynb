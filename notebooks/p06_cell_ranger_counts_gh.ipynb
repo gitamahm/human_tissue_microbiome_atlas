{
 "cells": [
  {
   "cell_type": "markdown",
   "metadata": {},
   "source": [
    "In this notebook, I'm analyzing the results of cell ranger that is run on TSP1-14 fastq files. Every file contains a raw matrix and filtered matrix. According to cell ranger, if using cellranger 6.0.1, the subtraction of filtered matrix from the raw will give away the droplets that cellranger identifies as \"empty\".\n",
    "\n",
    "To identify putative contaminating species, I first defined empty versus cell-containing droplets based on whether the droplet contains more than n genes. Note donor 16 doesn't have cell annotations, so this exercise doesn't make sense for this donor. \n",
    "\n",
    "Through SIMBA, I have raw fastqs that I have run UMI tools on and subsequently BLAST (see viral7_10x.snakefile for example). Separately, I have run cell ranger count command to get the raw feature barcode matrix starting from the same raw fastq files.\n",
    "\n",
    "one issue I noticed is that Tabula Sapiens (TS) object sample names can be a bit shorter than BLAST dataframe. To fix this, we create a dictionary of keys and values that changes ts names to BLAST names since they are longer and can better match cell ranger file names. I will re-write the \"sample\" column. Another issue is that cell ranger files don't always match the BLAST or TS object sample names. To correct for this, I now have a new column called \"cr_sample\". \n",
    "\n",
    "For each \"cr\" column =='yes (sample whose name has been matched to cell ranger folders), we want to open the cell ranger files to get \"n_genes_cr\" and \"n_counts_cr\" for each cell based on the shared \"cell_bc\" column between the ts-blast dataframe and the output of a cell ranger for a given sample. Based on \"n_genes_cr\" values, we will also have a seperate dataframe where for each cr_sample we denote the number of empty droplets versus cell containing droplets. We can set the cutoff to 200 genes per cell, which is commonly used threshold in this field (e.g. scanpy tutorial).  \n",
    "\n",
    "Because donor 3-16 cell ranger files are in a different directory, I'm running those donors seperately from donor 1 and 2. Then I concatenate the resulting dataframes later into one. These are the columns in the final dataframe. Same as the input dataframe (df=pd.read_csv(mainDir10 +'all_dons_except15_blast_tsobject_postreview.csv') from previous notebook, but with 6 additional columns (those related to cell ranger). Main dataframe is alldons. \n",
    "\n",
    "- alldons.to_csv(mainDir10 + 'all_dons_cr_processed_postreview2022.csv', index=False)\n",
    "\n",
    "\n"
   ]
  },
  {
   "cell_type": "markdown",
   "metadata": {},
   "source": [
    "### Column name explanation \n",
    "for joined dataframe of ALL donors 1-16 (except 15) - see part1 notebook. \n",
    "- Blast dataframe columns (TS object is missing these columns):\n",
    "    - **seqName**: e.g. A00111:327:HL57HDSXX:4:1202:22941:23719_TAGGTCAGAGACATCA_AGAAATAACGCC\n",
    "    - **seq**: microbial sequence \n",
    "    - **refName**: the BLAST subject reference gi|1862738216|gb|CP055292.1| \n",
    "    - **pathogen**: common name of the hit \"Shigella sonnei strain SE6-1 chromosome, complete genome\"\n",
    "    - **bitscore**: see BLAST tutorial\n",
    "    - **pident**: percent identity between subject and query\n",
    "    - **evalue**: see BLAST tutorial\n",
    "    - **qstart**: query start position\n",
    "    - **qend**: query end position\n",
    "    -  **sstart**: subject start position\n",
    "    -  **send**: subject end position\n",
    "    -  **length**: length of the alignment between subject and query\n",
    "    - Taxonomy columns \n",
    "        -  **tax_id**: taxonomic id with which we can get the following taxonomic categories\n",
    "        -  **superkingdom**\n",
    "        -  **phylum**\n",
    "        -  **class**\n",
    "        -  **order**\n",
    "        -  **family**\n",
    "        -  **genus**\n",
    "        -  **species**\n",
    "    -  **umi**: AGAAATAACGCC \n",
    "    -  **cell_bc_umi**: cell barcode and umi e.g. TGTCCCATGTACTCTG_CGTTGATACCAC\n",
    "    -  **batch**: this is related to how blast was done for these donors (divided into batches with fixed number of input seqs)\n",
    "    - **filepath**: where the output of the blast resides on my local drive\n",
    "\n",
    "\n",
    "- TS object columns (blast dataframe does not produce these on its own)\n",
    "    - **n_counts**: number of reads per cell\n",
    "    - **n_genes**: number of genes per cell\n",
    "    - **log2_n_counts**: log2 of n_counts\n",
    "    - **log2_n_genes**: log2 of n_genes\n",
    "    - **compartment**: e.g. immune, epithelial\n",
    "    - **decision**: cell cycle decision\n",
    "    - **celltype2**: cell type\n",
    "    - **tissue_cell_type**: tissue and cell type\n",
    "    - **cell_type_tissue**: cell type and tissue\n",
    "\n",
    "\n",
    "- Shared columns:\n",
    "    - **cell**: cell barcode+sample  TGGGCGTGTTGCGCAC_TSP14_Blood_NA_10X_1_1_1_5Prime\n",
    "    - **cell_bc**: cell barcode with \"-1\" appended to it. (donor1and2, not for donors 3-16) e.g. CATATTCCAAAGCGGT-1\n",
    "    - **tissue**: tissue type\n",
    "    - **donor**: donor (e.g. TSP1)\n",
    "    - **sample**: sample name e.g. TSP14_Bladder_NA_10X_1_2\n",
    "    - **hit**: the column with which to seperate out the dataframe into blast (hit=='yes') and ts object (hit=='no')\n",
    "    - **hit_type**: tells us whether the hit comes from an annotated cell (hit_type=='intra'), unannotated cell ('extra') or no hit ('none')\n",
    "    - **donor_batch**: donor 1 and 2 dataframe ('1_2'), all others ('3_16')\n",
    "\n",
    "\n",
    "- Cell ranger columns (rows with cr column=='yes should have all this info):\n",
    "    - **cr**: \"yes\" if the sample was run through cell ranger pipeline, and \"no\" otherwise\n",
    "    - **cr_sample**: the name of the cell ranger file\n",
    "    - **n_counts_cr**: number of reads per droplet as determined by my cell ranger pipeline\n",
    "    - **n_genes_cr**: same as above, for number of genes per droplet\n",
    "    - **num_empty_drop_per_sample**: number of empty droplets in a sample (based on cut off of 200 genes)\n",
    "    - **num_cell_drop_per_sample**: number of cell-containing droplets in a sample (based on cut off of 200 genes)"
   ]
  },
  {
   "cell_type": "markdown",
   "metadata": {},
   "source": [
    "### Loading libraries"
   ]
  },
  {
   "cell_type": "code",
   "execution_count": 1,
   "metadata": {},
   "outputs": [
    {
     "name": "stdout",
     "output_type": "stream",
     "text": [
      "matplotlib version: 3.3.0\n",
      "numpy version 1.19.2\n",
      "pandas version: 1.0.3\n",
      "seaborn version: 0.11.1\n",
      "scipy version: 1.5.2\n",
      "anndata version: 0.7.3\n",
      "Running Scanpy 1.5.1, on 2023-02-17 10:59.\n",
      "Running scvelo 0.2.1 (python 3.6.10) on 2023-02-17 10:59.\n"
     ]
    }
   ],
   "source": [
    "%matplotlib inline\n",
    "import matplotlib\n",
    "print('matplotlib version:', matplotlib.__version__)\n",
    "import matplotlib.pyplot as plt\n",
    "from matplotlib_venn import venn3\n",
    "from matplotlib_venn import venn2\n",
    "import os\n",
    "import glob\n",
    "import re\n",
    "import itertools\n",
    "from collections import Counter\n",
    "\n",
    "import numpy as np\n",
    "print('numpy version', np.__version__)\n",
    "import pandas as pd\n",
    "print('pandas version:', pd.__version__)\n",
    "from pandas import ExcelWriter\n",
    "from pandas import ExcelFile\n",
    "import seaborn as sns\n",
    "print('seaborn version:', sns.__version__)\n",
    "\n",
    "cmap = sns.cm.rocket_r\n",
    "from Bio import SeqIO\n",
    "import scipy as sc\n",
    "import scipy.sparse\n",
    "print('scipy version:', sc.__version__)\n",
    "from scipy import spatial\n",
    "from scipy.stats import( kstest, poisson)\n",
    "sns.set_style(\"white\")\n",
    "\n",
    "import anndata\n",
    "print('anndata version:', anndata.__version__)\n",
    "from anndata import read_h5ad\n",
    "from anndata import AnnData\n",
    "import scanpy as sc\n",
    "\n",
    "sc.settings.verbosity = 3  # verbosity: errors (0), warnings (1), info (2), hints (3)\n",
    "sc.settings.set_figure_params(dpi=80)  # low dpi (dots per inch) yields small inline figures\n",
    "sc.logging.print_version_and_date()\n",
    "\n",
    "import scvelo as scv\n",
    "scv.logging.print_version()\n",
    "scv.settings.verbosity = 3  # show errors(0), warnings(1), info(2), hints(3)\n",
    "scv.settings.presenter_view = True  # set max width size for presenter view\n",
    "scv.set_figure_params('scvelo')  # for beautified visualization\n",
    "\n"
   ]
  },
  {
   "cell_type": "markdown",
   "metadata": {},
   "source": [
    "### Directories"
   ]
  },
  {
   "cell_type": "code",
   "execution_count": 2,
   "metadata": {},
   "outputs": [],
   "source": [
    "#tsp1and2\n",
    "mainDir = '/oak/stanford/groups/quake/gita/raw/tab1_20200407/thirdAnalysis/10x/'\n",
    "mainDir2 ='/oak/stanford/groups/quake/gita/raw/tab2_20200508/tab2microbial/thirdAnalysis/cranger/round2/'\n",
    "mainDir4= '/oak/stanford/groups/quake/gita/raw/tab1_20200407/thirdAnalysis/10x/cranger/'\n",
    "\n",
    "#tsp3-16 data\n",
    "cranger_dir='/oak/stanford/groups/quake/gita/raw/tab3-14_20210420/all/cranger3/'  \n",
    "mainDir10 = '/oak/stanford/groups/quake/gita/raw/tab3-14_20210420/all/'\n"
   ]
  },
  {
   "cell_type": "markdown",
   "metadata": {},
   "source": [
    "### TSP3-15"
   ]
  },
  {
   "cell_type": "code",
   "execution_count": null,
   "metadata": {},
   "outputs": [],
   "source": [
    "df=pd.read_csv(mainDir10 +'all_dons_except15_blast_tsobject_postreview.csv')"
   ]
  },
  {
   "cell_type": "markdown",
   "metadata": {},
   "source": [
    "one issue I noticed is that ts object sample names can be a bit shorter than blast dataframe. To fix this, we create a dictionary of keys and values that changes ts names to blast names since they are longer and can better match cell ranger file names. I will re-write the sample column. "
   ]
  },
  {
   "cell_type": "code",
   "execution_count": 31,
   "metadata": {},
   "outputs": [],
   "source": [
    "ls0=df['sample'].unique().tolist()\n",
    "ls1=[]\n",
    "ls2=[]\n",
    "di={}\n",
    "for x in ls0:\n",
    "    for y in ls0:\n",
    "        if (x in y) & (x!=y):\n",
    "            di[x]=y\n",
    "            \n",
    "df['sample'] = df['sample'].map(di).fillna(df['sample'])\n",
    "df['sample'] = df['sample'].str.replace('TSP14_Spleen_NA_10X_1_1_1_5Prime', 'TSP14_Spleen_NA_10X_1_1_5Prime')\n",
    "df['sample'] = df['sample'].str.replace('TSP14_Blood_NA_10X_1_1_1_5Prime', 'TSP14_Blood_NA_10X_1_1_5Prime')\n"
   ]
  },
  {
   "cell_type": "markdown",
   "metadata": {},
   "source": [
    "just double checking that we correct most mismatches (62 unique mismatches were fixed)"
   ]
  },
  {
   "cell_type": "code",
   "execution_count": 32,
   "metadata": {},
   "outputs": [
    {
     "name": "stdout",
     "output_type": "stream",
     "text": [
      "number of remaining file names that are in blast but not in ts object after correction: 6\n"
     ]
    }
   ],
   "source": [
    "n = df[ df['hit_type']=='none']\n",
    "e = df[ df['hit_type']=='extra']\n",
    "\n",
    "remaining=list(set(e['sample']) - set(n['sample']))\n",
    "\n",
    "\n",
    "print('number of remaining file names that are in blast but not in ts object after correction:', len(remaining))\n"
   ]
  },
  {
   "cell_type": "code",
   "execution_count": 33,
   "metadata": {
    "scrolled": true
   },
   "outputs": [
    {
     "name": "stdout",
     "output_type": "stream",
     "text": [
      "['TSP3_Eye_LacrimalGland_10X_1_1', 'TSP16_Eye_lacrimalgland_10X_1_1', 'TSP16_Heart_ventricle_10X_1_2_left', 'TSP2_Heart_ventricle_10X_1_1_S14', 'TSP16_Heart_atrium_10X_1_1_left', 'TSP16_Eye_external_10X_1_1']\n"
     ]
    }
   ],
   "source": [
    "print(remaining)"
   ]
  },
  {
   "cell_type": "markdown",
   "metadata": {},
   "source": [
    "what about samples that appear in ts object but not in blast? There are 30 samples. This is due to these samples not having been blasted (or the job remained incomplete). "
   ]
  },
  {
   "cell_type": "code",
   "execution_count": 34,
   "metadata": {},
   "outputs": [
    {
     "data": {
      "text/plain": [
       "30"
      ]
     },
     "execution_count": 34,
     "metadata": {},
     "output_type": "execute_result"
    }
   ],
   "source": [
    "remaining2=list(set(n['sample']) - set(e['sample']))\n",
    "len(remaining2)"
   ]
  },
  {
   "cell_type": "markdown",
   "metadata": {},
   "source": [
    "this part is just for matching cr files names to that from our dataframe"
   ]
  },
  {
   "cell_type": "markdown",
   "metadata": {},
   "source": [
    "These are sample names that are synonymous. raw read have a different cell ranger file name from what is in the TS object. So going to create a column that is specifically for this notebook called cr_sample (cr stands for cell ranger). \n"
   ]
  },
  {
   "cell_type": "code",
   "execution_count": 35,
   "metadata": {},
   "outputs": [],
   "source": [
    "df['cr_sample'] = df['sample']\n",
    "df['cr_sample']=df['cr_sample'].str.replace('TSP5_Eye_NA_10X_1_1', 'TSP5_Eye1_062920')\n",
    "df['cr_sample']=df['cr_sample'].str.replace('TSP5_Eye_NA_10X_1_2', 'TSP5_Eye2_062920')\n",
    "\n",
    "df['cr_sample']=df['cr_sample'].str.replace('TSP4_Mammary_NA_10X_1_1', 'TSP4_Mammary1_062920')\n",
    "df['cr_sample']=df['cr_sample'].str.replace('TSP4_Mammary_NA_10X_1_2', 'TSP4_Mammary2_062920')\n",
    "df['cr_sample']=df['cr_sample'].str.replace('TSP4_Uterus_Myometrium_10X_1_1', 'TSP4_Myometrium_062920')\n",
    "df['cr_sample']=df['cr_sample'].str.replace('TSP4_Uterus_Endometrium_10X_1_1', 'TSP4_Endometrium_062920_S9')\n",
    "\n",
    "df['cr_sample']=df['cr_sample'].str.replace('TSP3_Eye_LacrimalGland_10X_1_1', 'TSP3_Eye_062620_S1')\n",
    "df['cr_sample']=df['cr_sample'].str.replace('TSP3_Eye_NA_10X_1_1_NoCornea', 'TSP3_Eye3_062620_S3')\n",
    "df['cr_sample']=df['cr_sample'].str.replace('TSP3_Eye_Conjunctiva_10X_1_1', 'TSP3_Eye2_062620_S2') \n",
    "df['cr_sample']=df['cr_sample'].str.replace('TSP3_Eye_Orbital_10X_1_1', 'TSP3_Eye4_062620_S4')\n",
    "\n"
   ]
  },
  {
   "cell_type": "markdown",
   "metadata": {},
   "source": [
    "additionally some sample names are denoted by \"5Prime\" in ts-blast dataframe whereas they appear as _S[number] in cell ranger folder, so going to create a dict to map the cr_sample column with"
   ]
  },
  {
   "cell_type": "code",
   "execution_count": 36,
   "metadata": {},
   "outputs": [],
   "source": [
    "di2=dict({'TSP14_Blood_NA_10X_2_1_5Prime' : 'TSP14_Blood_NA_10X_2_1_5Prime_S2',\n",
    "'TSP14_Blood_NA_10X_1_1_5Prime' : 'TSP14_Blood_NA_10X_1_1_5Prime_S1',\n",
    "'TSP14_Blood_NA_10X_2_1_5Prime' : 'TSP14_Blood_NA_10X_2_1_5Prime_S2',\n",
    "'TSP14_BoneMarrow_NA_10X_1_1_5Prime': 'TSP14_BoneMarrow_NA_10X_1_1_5Prime_S9',\n",
    "'TSP14_BoneMarrow_NA_10X_2_1_5Prime' : 'TSP14_BoneMarrow_NA_10X_2_1_5Prime_S10',\n",
    "'TSP14_LymphNode_NA_10X_1_1_5Prime' : 'TSP14_LymphNode_NA_10X_1_1_5Prime_S3',\n",
    "'TSP14_LymphNode_NA_10X_2_1_5Prime' : 'TSP14_LymphNode_NA_10X_2_1_5Prime_S4', \n",
    "'TSP14_Spleen_NA_10X_1_1_5Prime':'TSP14_Spleen_NA_10X_1_1_5Prime_S5',\n",
    "'TSP14_Spleen_NA_10X_2_1_5Prime': 'TSP14_Spleen_NA_10X_2_1_5Prime_S6',\n",
    "'TSP14_Thymus_NA_10X_1_1_5Prime': 'TSP14_Thymus_NA_10X_1_1_5Prime_S7',\n",
    "'TSP14_Thymus_NA_10X_2_1_5Prime':'TSP14_Thymus_NA_10X_2_1_5Prime_S8'})\n",
    "    \n",
    "df['cr_sample'] = df['cr_sample'].map(di2).fillna(df['cr_sample'])"
   ]
  },
  {
   "cell_type": "markdown",
   "metadata": {},
   "source": [
    "let's see what samples we are missing "
   ]
  },
  {
   "cell_type": "code",
   "execution_count": 37,
   "metadata": {},
   "outputs": [],
   "source": [
    "#the filenames that appear in our blast+tsobject dataset \n",
    "samplenames=df['cr_sample'].unique().tolist()\n",
    "#cr is the name of cell ranger files gathered from multiple directories \n",
    "cr = ['TSP10_Blood_NA_10X_1_1_Enriched_S4','TSP10_Blood_NA_10X_1_1_Whole_S3','TSP10_FAT_MAT_10X_1_1_S8','TSP10_FAT_SCAT_10X_1_1_S9','TSP10_Skin_NA_10X_1_1_S5','TSP10_Skin_NA_10X_1_2_S6','TSP11_BoneMarrow_NA_10X_1_1_LinDepleted_S10','TSP11_BoneMarrow_NA_10X_1_1_LinEnriched_S11','TSP12_Heart_Atria_10X_1_1_S13','TSP12_Heart_Ventricle_10X_1_1_S12','TSP14_Bladder_NA_10X_1_1_S11','TSP14_Bladder_NA_10X_1_2_S12','TSP14_Blood_NA_10X_1_1_5Prime_S1','TSP14_Blood_NA_10X_1_1_S1','TSP14_Blood_NA_10X_1_2_S5','TSP14_Blood_NA_10X_2_1_5Prime_S2','TSP14_Blood_NA_10X_2_1_S16','TSP14_Blood_NA_10X_2_1_S2','TSP14_BoneMarrow_NA_10X_1_1_5Prime_S9','TSP14_BoneMarrow_NA_10X_1_1_S14','TSP14_BoneMarrow_NA_10X_2_1_5Prime_S10','TSP14_BoneMarrow_NA_10X_2_1_S15','TSP14_BoneMarrow_NA_10X_3_1_S17','TSP14_BoneMarrow_NA_10X_4_1_S18','TSP14_Fat_MAT_10X_1_1_S6','TSP14_Fat_SCAT_10X_1_1_S7','TSP14_LI_Distal_10X_1_1_S10','TSP14_LI_Proximal_10X_1_1_S9','TSP14_Liver_NA_10X_1_1_S11','TSP14_Liver_NA_10X_2_1_S12','TSP14_Lung_Distal_10X_1_1_S5','TSP14_Lung_NA_10X_2_1_S1','TSP14_Lung_Proximal_10X_1_1_S6','TSP14_LymphNode_NA_10X_1_1_5Prime_S3','TSP14_LymphNode_NA_10X_1_1_S8','TSP14_LymphNode_NA_10X_2_1_5Prime_S4','TSP14_LymphNode_NA_10X_2_1_S9','TSP14_Muscle_Abdomen_10X_1_1_S4','TSP14_Muscle_Diaphragm_10X_1_1_S2','TSP14_Muscle_Diaphragm_10X_1_2_S3','TSP14_Prostate_NA_10X_1_1_S15','TSP14_Prostate_NA_10X_1_2_S16','TSP14_SI_Distal_10X_1_1_S8','TSP14_SI_Proximal_10X_1_1_S7','TSP14_SalivaryGland_Parotid_10X_1_1_S14','TSP14_SalivaryGland_Submandibular_10X_1_1_S13','TSP14_Skin_Abdomen_10X_1_1_S17','TSP14_Skin_Chest_10X_1_1_S18','TSP14_Spleen_NA_10X_1_1_5Prime_S5','TSP14_Spleen_NA_10X_1_1_S10','TSP14_Spleen_NA_10X_2_1_5Prime_S6','TSP14_Spleen_NA_10X_2_1_S11','TSP14_Thymus_NA_10X_1_1_5Prime_S7','TSP14_Thymus_NA_10X_1_1_S3','TSP14_Thymus_NA_10X_2_1_5Prime_S8','TSP14_Thymus_NA_10X_2_1_S4','TSP14_Tongue_Anterior_10X_1_1_S14','TSP14_Tongue_Posterior_10X_1_1_S13','TSP14_Vasculature_AortaVeneCava_10X_1_1_S12','TSP14_Vasculature_CoronaryArteries_10X_1_1_S13','TSP15_Eye_Cornea-etc_10X_1_1_S15','TSP15_Eye_Neuroretina-etc_10X_3_1_S17','TSP15_Eye_Sclera-etc_10X_2_1_S16','TSP3_Eye2_062620_S2','TSP3_Eye3_062620_S3','TSP3_Eye4_062620_S4','TSP3_Eye_062620_S1','TSP4_Endometrium_062920_S9','TSP4_Mammary1_062920_S7','TSP4_Mammary2_062920_S8','TSP4_Myometrium_062920_S10','TSP5_Eye1_062920_S5','TSP5_Eye2_062920_S6','TSP6_Liver_NA_10X_1_1_S8','TSP6_Liver_NA_10X_1_2_S9','TSP6_Trachea_NA_10X_1_1_S10','TSP6_Trachea_NA_10X_1_2_S11','TSP6_Trachea_NA_10X_2_1_S12','TSP7_Blood_NA_10X_1_1_S6','TSP7_Blood_NA_10X_2_1_S7','TSP7_LymphNodes_Inguinal_10X_1_1_S2','TSP7_LymphNodes_Supradiaphagmatic_10X_1_1_S3','TSP7_SalivaryGland_Parotid_10X_1_1_S14','TSP7_SalivaryGland_Parotid_10X_1_2_S15','TSP7_Spleen_NA_10X_1_1_S4','TSP7_Spleen_NA_10X_2_1_S5','TSP7_Tongue_Anterior_10X_1_2_S1','TSP7_Tongue_Posterior_10X_1_1_S13','TSP8_Blood_NA_10X_1_1_S1','TSP9_Pancreas_exocrine_10X_1_1_CellCountLive_S2','TSP9_Pancreas_exocrine_10X_1_1_CellCountTotal_S1','TSP1_endopancreas_3_S3','TSP1_bladder_1_S7','TSP1_bladder_2_S8','TSP1_bladder_3_S9','TSP1_blood_1_S16','TSP1_blood_2_S17','TSP1_blood_3_S18','TSP1_endopancreas_1_S1','TSP1_endopancreas_2_S2','TSP1_lung_3_S12','TSP1_exopancreas1_1_S19','TSP1_exopancreas1_2_S20','TSP1_exopancreas1_3_S21','TSP1_exopancreas2_1_S4','TSP1_exopancreas2_2_S5','TSP1_exopancreas2_3_S6','TSP1_lung_1_S10','TSP1_lung_2_S11','TSP1_muscle_1_S13','TSP1_muscle_2_S14','TSP1_muscle_3_S15','TSP2_BM_vertebralbody_10X_1_1_S29','TSP2_BM_vertebralbody_10X_1_2_5prime_S35','TSP2_BM_vertebralbody_10X_2_1_S28','TSP2_BM_vertebralbody_10X_2_2_5prime_S34','TSP2_Bladder_NA_10X_1_1_S5','TSP2_Bladder_NA_10X_1_2_S6','TSP2_Blood_NA_10X_1_3_S15','TSP2_Blood_NA_10X_1_4_5prime_S30','TSP2_Blood_NA_10X_1_5_5prime_S31','TSP2_Blood_NA_10X_2_1_S16','TSP2_Heart_ventricle_10X_1_1_S14','TSP2_Kidney_NA_10X_1_1_S1','TSP2_Kidney_NA_10X_1_2_S2','TSP2_LI_distal_10X_1_1_Sigmoid_S9','TSP2_LI_proximal_10X_1_1_Ascending_S8','TSP2_Lung_proxmedialdistal_10X_1_1_S24','TSP2_Lung_proxmedialdistal_10X_1_2_S25','TSP2_LymphNode_NA_10X_1_1_S19','TSP2_LymphNode_NA_10X_2_1_S20','TSP2_Muscle_diaphragm_10X_1_1_S12','TSP2_Muscle_diaphragm_10X_1_2_S13','TSP2_Muscle_rectusabdominus_10X_1_1_S10','TSP2_Muscle_rectusabdominus_10X_1_2_S11','TSP2_SI_distal_10X_1_1_Jejunum_S22','TSP2_SI_proximal_10X_1_1_Duodenum_S21','TSP2_Spleen_NA_10X_1_1_S17','TSP2_Spleen_NA_10X_2_1_S18','TSP2_Thymus_NA_10X_1_1_S3','TSP2_Thymus_NA_10X_1_2_S4','TSP2_Thymus_NA_10X_1_3_5prime_S32','TSP2_Thymus_NA_10X_1_4_5prime_S33','TSP2_Trachea_NA_10X_1_1_S7','TSP2_Trachea_NA_10X_1_2_S23','TSP2_Vasculature_Aorta_10X_1_1_S26','TSP2_Vasculature_Aorta_10X_1_2_S27']\n",
    "#trying to see which sample names match the cell ranger file names \n",
    "flist=[]\n",
    "clist=[]\n",
    "for f in samplenames:\n",
    "    for c in cr:\n",
    "        if f in c:\n",
    "            flist.append(f)\n",
    "            clist.append(c)\n",
    "    \n",
    "            \n",
    "sn = pd.DataFrame({})\n",
    "sn['f']= flist\n",
    "sn['c']=clist"
   ]
  },
  {
   "cell_type": "markdown",
   "metadata": {},
   "source": [
    "missing cell ranger files. Cell ranger wasn't run for donor 16 because it didn't have annotated cell types. "
   ]
  },
  {
   "cell_type": "code",
   "execution_count": 38,
   "metadata": {},
   "outputs": [
    {
     "name": "stdout",
     "output_type": "stream",
     "text": [
      "number of samples: 12\n"
     ]
    },
    {
     "data": {
      "text/plain": [
       "['TSP10_Blood_NA_10X_2_1_Whole',\n",
       " 'TSP16_Eye_lacrimalgland_10X_1_1',\n",
       " 'TSP2_Blood_NA_10X_1_1_SheelaPrep',\n",
       " 'TSP16_Heart_ventricle_10X_1_2_left',\n",
       " 'TSP8_Prostate_NA_10X_1_1',\n",
       " 'TSP2_Vasculature_Aorta_10X_2_1',\n",
       " 'TSP8_Prostate_NA_10X_1_2',\n",
       " 'TSP2_Blood_NA_10X_1_2_SheelaPrep',\n",
       " 'TSP16_Heart_atrium_10X_1_1_left',\n",
       " 'TSP2_Vasculature_Aorta_10X_2_2',\n",
       " 'TSP16_Eye_external_10X_1_1',\n",
       " 'TSP14_Blood_NA_10X_3_1']"
      ]
     },
     "execution_count": 38,
     "metadata": {},
     "output_type": "execute_result"
    }
   ],
   "source": [
    "miss0=list(set(df['cr_sample']) - set(sn['f']) )\n",
    "print('number of samples:', len(miss0))\n",
    "miss0"
   ]
  },
  {
   "cell_type": "markdown",
   "metadata": {},
   "source": [
    "missing from ts-blast: cell ranger filenames that I was unable to match to a sample because the dataframe doesn't contain them (e.g. TS15 samples which were excluded previously)"
   ]
  },
  {
   "cell_type": "code",
   "execution_count": 39,
   "metadata": {},
   "outputs": [
    {
     "name": "stdout",
     "output_type": "stream",
     "text": [
      "number of samples: 14\n"
     ]
    },
    {
     "data": {
      "text/plain": [
       "['TSP14_LymphNode_NA_10X_1_1_S8',\n",
       " 'TSP14_Blood_NA_10X_2_1_S16',\n",
       " 'TSP15_Eye_Neuroretina-etc_10X_3_1_S17',\n",
       " 'TSP14_LymphNode_NA_10X_2_1_S9',\n",
       " 'TSP14_Blood_NA_10X_1_1_S1',\n",
       " 'TSP15_Eye_Sclera-etc_10X_2_1_S16',\n",
       " 'TSP14_Thymus_NA_10X_2_1_S4',\n",
       " 'TSP14_Blood_NA_10X_2_1_S2',\n",
       " 'TSP14_Thymus_NA_10X_1_1_S3',\n",
       " 'TSP14_Spleen_NA_10X_1_1_S10',\n",
       " 'TSP14_Spleen_NA_10X_2_1_S11',\n",
       " 'TSP15_Eye_Cornea-etc_10X_1_1_S15',\n",
       " 'TSP14_BoneMarrow_NA_10X_1_1_S14',\n",
       " 'TSP14_BoneMarrow_NA_10X_2_1_S15']"
      ]
     },
     "execution_count": 39,
     "metadata": {},
     "output_type": "execute_result"
    }
   ],
   "source": [
    "miss1 =list(set(cr) - set(sn['c']))\n",
    "print('number of samples:', len(miss1))\n",
    "miss1"
   ]
  },
  {
   "cell_type": "code",
   "execution_count": 40,
   "metadata": {},
   "outputs": [],
   "source": [
    "n = df[ df['hit_type']=='none']\n",
    "e = df[ df['hit_type']=='extra']"
   ]
  },
  {
   "cell_type": "markdown",
   "metadata": {},
   "source": [
    "samples that appear in ts object but not in blast. Will be excluding these from the dataframe since they appear to be files that were not blasted. "
   ]
  },
  {
   "cell_type": "code",
   "execution_count": 41,
   "metadata": {},
   "outputs": [
    {
     "name": "stdout",
     "output_type": "stream",
     "text": [
      "number of samples: 30\n"
     ]
    },
    {
     "data": {
      "text/plain": [
       "['TSP14_Lung_Distal_10X_1_1',\n",
       " 'TSP10_Blood_NA_10X_2_1_Whole',\n",
       " 'TSP2_Blood_NA_10X_1_4_5prime',\n",
       " 'TSP2_Thymus_NA_10X_1_3_5prime',\n",
       " 'TSP14_Bladder_NA_10X_1_2',\n",
       " 'TSP14_SI_Proximal_10X_1_1',\n",
       " 'TSP14_Fat_MAT_10X_1_1',\n",
       " 'TSP8_Prostate_NA_10X_1_1',\n",
       " 'TSP14_BoneMarrow_NA_10X_3_1',\n",
       " 'TSP14_LI_Proximal_10X_1_1',\n",
       " 'TSP14_BoneMarrow_NA_10X_4_1',\n",
       " 'TSP14_Tongue_Anterior_10X_1_1',\n",
       " 'TSP14_Vasculature_CoronaryArteries_10X_1_1',\n",
       " 'TSP2_Vasculature_Aorta_10X_2_1',\n",
       " 'TSP2_BM_vertebralbody_10X_2_2_5prime',\n",
       " 'TSP2_Vasculature_Aorta_10X_2_2',\n",
       " 'TSP14_SI_Distal_10X_1_1',\n",
       " 'TSP14_Fat_SCAT_10X_1_1',\n",
       " 'TSP4_Uterus_Endometrium_10X_1_1',\n",
       " 'TSP2_Blood_NA_10X_1_1_SheelaPrep',\n",
       " 'TSP8_Prostate_NA_10X_1_2',\n",
       " 'TSP14_Prostate_NA_10X_1_1',\n",
       " 'TSP14_Lung_NA_10X_2_1',\n",
       " 'TSP14_Prostate_NA_10X_1_2',\n",
       " 'TSP14_Vasculature_AortaVeneCava_10X_1_1',\n",
       " 'TSP14_Lung_Proximal_10X_1_1',\n",
       " 'TSP14_Blood_NA_10X_1_2',\n",
       " 'TSP2_Blood_NA_10X_1_2_SheelaPrep',\n",
       " 'TSP14_Muscle_Diaphragm_10X_1_2',\n",
       " 'TSP14_Blood_NA_10X_3_1']"
      ]
     },
     "execution_count": 41,
     "metadata": {},
     "output_type": "execute_result"
    }
   ],
   "source": [
    "miss2 = list(set(n['sample']) - set(e['sample'] ) )\n",
    "print('number of samples:', len(miss2))\n",
    "miss2"
   ]
  },
  {
   "cell_type": "markdown",
   "metadata": {},
   "source": [
    "So to sum up the previous blocks, these samples don't appear to have any BLAST results (most likely they were not entered into the pipeline)\n",
    "additionally samples from donor 16 because they did not have cell annotations were not included in this analysis\n",
    "samples from donor 15 should also be ignored due to some inconsistent annotation issues. \n",
    "\n",
    "There are additionally 30 samples that are showing up in ts object that don't have blast results"
   ]
  },
  {
   "cell_type": "markdown",
   "metadata": {},
   "source": [
    "#missing cell ranger files (miss0)\n",
    "-    'TSP2_Blood_NA_10X_1_1_SheelaPrep'\n",
    "-    'TSP2_Blood_NA_10X_1_2_SheelaPrep'\n",
    "-    'TSP2_Vasculature_Aorta_10X_2_1'\n",
    "-    'TSP2_Vasculature_Aorta_10X_2_2'\n",
    "-    'TSP8_Prostate_NA_10X_1_1'\n",
    "-    'TSP8_Prostate_NA_10X_1_2'\n",
    "-    'TSP10_Blood_NA_10X_2_1_Whole'\n",
    "-    'TSP14_Blood_NA_10X_3_1'\n",
    "-    'TSP16_Eye_external_10X_1_1' #Excluded TSP16 on purpose (didn't have annotations)\n",
    "-    'TSP16_Eye_lacrimalgland_10X_1_1'\n",
    "-    'TSP16_Heart_atrium_10X_1_1_left'\n",
    "-    'TSP16_Heart_ventricle_10X_1_2_left'\n",
    "\n",
    "#missing from ts-blast (miss 1)\n",
    "-    'TSP14_Blood_NA_10X_1_1_S1',\n",
    "-    'TSP14_Blood_NA_10X_2_1_S16',\n",
    "-    'TSP14_Blood_NA_10X_2_1_S2',\n",
    "-    'TSP14_BoneMarrow_NA_10X_1_1_S14',\n",
    "-    'TSP14_BoneMarrow_NA_10X_2_1_S15',\n",
    "-    'TSP14_LymphNode_NA_10X_1_1_S8',\n",
    "-    'TSP14_LymphNode_NA_10X_2_1_S9',\n",
    "-    'TSP14_Spleen_NA_10X_1_1_S10',\n",
    "-    'TSP14_Spleen_NA_10X_2_1_S11',\n",
    "-    'TSP14_Thymus_NA_10X_1_1_S3',\n",
    "-    'TSP14_Thymus_NA_10X_2_1_S4'\n",
    "-    'TSP15_Eye_Cornea-etc_10X_1_1_S15' #Excluded TSP15 on purpose (bad annotations)\n",
    "-    'TSP15_Eye_Neuroretina-etc_10X_3_1_S17'\n",
    "-    'TSP15_Eye_Sclera-etc_10X_2_1_S16'\n",
    "\n",
    "#appears in ts object but not in blast (miss 2) \n",
    "-     'TSP14_Prostate_NA_10X_1_2',\n",
    "-     'TSP4_Uterus_Endometrium_10X_1_1',\n",
    "-     'TSP2_Vasculature_Aorta_10X_2_2',\n",
    "-     'TSP14_Fat_MAT_10X_1_1',\n",
    "-     'TSP8_Prostate_NA_10X_1_1',\n",
    "-     'TSP14_BoneMarrow_NA_10X_3_1',\n",
    "-     'TSP14_SI_Proximal_10X_1_1',\n",
    "-     'TSP14_Blood_NA_10X_3_1',\n",
    "-     'TSP14_Prostate_NA_10X_1_1',\n",
    "-     'TSP14_Lung_Proximal_10X_1_1',\n",
    "-     'TSP2_Blood_NA_10X_1_4_5prime',\n",
    "-     'TSP2_Blood_NA_10X_1_2_SheelaPrep',\n",
    "-     'TSP14_SI_Distal_10X_1_1',\n",
    "-     'TSP10_Blood_NA_10X_2_1_Whole',\n",
    "-     'TSP14_LI_Proximal_10X_1_1',\n",
    "-     'TSP14_Fat_SCAT_10X_1_1',\n",
    "-     'TSP14_BoneMarrow_NA_10X_4_1',\n",
    "-     'TSP2_Vasculature_Aorta_10X_2_1',\n",
    "-     'TSP14_Blood_NA_10X_1_2',\n",
    "-     'TSP14_Vasculature_AortaVeneCava_10X_1_1',\n",
    "-     'TSP14_Tongue_Anterior_10X_1_1',\n",
    "-     'TSP14_Vasculature_CoronaryArteries_10X_1_1',\n",
    "-     'TSP14_Bladder_NA_10X_1_2',\n",
    "-     'TSP2_Blood_NA_10X_1_1_SheelaPrep',\n",
    "-     'TSP2_Thymus_NA_10X_1_3_5prime',\n",
    "-     'TSP14_Lung_NA_10X_2_1',\n",
    "-     'TSP14_Muscle_Diaphragm_10X_1_2',\n",
    "-     'TSP8_Prostate_NA_10X_1_2',\n",
    "-     'TSP14_Lung_Distal_10X_1_1',\n",
    "-     'TSP2_BM_vertebralbody_10X_2_2_5prime'\n",
    "\n"
   ]
  },
  {
   "cell_type": "markdown",
   "metadata": {},
   "source": [
    "we have to add these samples to those we found by running a comparison between dataframe and cell ranger file names: \n"
   ]
  },
  {
   "cell_type": "markdown",
   "metadata": {},
   "source": [
    "total of 44 sample names that were not blasted will be excluded. Miss0 is already a list of cell ranger files that we're missing- no need to exclude them. "
   ]
  },
  {
   "cell_type": "code",
   "execution_count": 42,
   "metadata": {},
   "outputs": [
    {
     "data": {
      "text/plain": [
       "44"
      ]
     },
     "execution_count": 42,
     "metadata": {},
     "output_type": "execute_result"
    }
   ],
   "source": [
    "miss3 = miss1 + miss2\n",
    "len(miss3)"
   ]
  },
  {
   "cell_type": "code",
   "execution_count": 43,
   "metadata": {},
   "outputs": [],
   "source": [
    "df2= df[~df['sample'].isin(miss3)]"
   ]
  },
  {
   "cell_type": "markdown",
   "metadata": {},
   "source": [
    "### Donor 3-14"
   ]
  },
  {
   "cell_type": "markdown",
   "metadata": {},
   "source": [
    "For each \"cr_sample\" (sample whose name has been matched to cell ranger folders), we want to open the cell ranger files to get \"n_genes_cr\" and \"n_counts_cr\" for each cell based on the shared \"cell_bc\" column between the ts-blast dataframe and the output of a cell ranger for a given sample. If the barcode found in ts-blast is not found by cell ranger, we can assume the sequence is coming from an outside of a droplet, which is no different than an empty droplet. Based on \"n_genes_cr\" values, we will also have a seperate dataframe where for each cr_sample we denote the number of empty droplets versus cell containing droplets. We can set the cutoff to 200 genes per cell, which is commonly used threshold in the single cell field (e.g. scanpy tutorial). Later, we can merge this dataframe with ts-blast and then calculate downstream parameters such as cell enrichment. \n",
    "\n",
    "Because donor 3-16 cell ranger files are in a different folder, I'm running those donors seperately from donor 1 and 2. Will concatenate the resulting dataframes later into one. "
   ]
  },
  {
   "cell_type": "code",
   "execution_count": null,
   "metadata": {},
   "outputs": [],
   "source": [
    "#looking at donors 3-16 for now\n",
    "df3  = df2[(df2['cr_sample'].str.startswith('TSP1_')==False) & (df2['cr_sample'].str.startswith('TSP2_')==False)]\n",
    "\n",
    "# minimum number of genes per droplet to be thought of as a cell-containing droplet\n",
    "n=200\n",
    "#ts_blast_with_counts\n",
    "ts_blast_samples_with_counts =pd.DataFrame({})\n",
    "\n",
    "# this will be the dataframe that holds information about how many empty and cell droplets there are per sample\n",
    "num_drops = pd.DataFrame({})\n",
    "samples_found =[]\n",
    "num_cells_all=[]\n",
    "num_empty_all=[]\n",
    "\n",
    "for sample in df3['cr_sample'].unique():\n",
    "    for filepath in glob.glob(cranger_dir + '/TSP*'):\n",
    "        filename = filepath.split('/')[-1] #this is cell ranger folder name\n",
    "        if filename.startswith('TSP15')==False: #excluding donor 15 and donor 16 is already not in cell ranger folder\n",
    "            \n",
    "            if sample in filename:\n",
    "                print(filename)\n",
    "                tsblast_sample=df3[(df3['cr_sample']==sample)] #getting the tsblast dataframe for each sample- just two columns\n",
    "                #reading the raw feature bc matrix \n",
    "                raw = sc.read_10x_h5(cranger_dir + filename + '/outs/raw_feature_bc_matrix.h5')\n",
    "                raw.var_names_make_unique()\n",
    "\n",
    "                #getting n_counts and n_genes for the raw matrix\n",
    "                raw.obs['n_counts_cr'] = raw.X.sum(axis=1).A1\n",
    "                sc.pp.filter_cells(raw, min_genes=0)\n",
    "                counts = raw.obs.reset_index().rename(columns={'index':'cell_bc'})\n",
    "                counts=counts.rename(columns={'n_genes':'n_genes_cr'})\n",
    "                counts['cell_bc'] = counts['cell_bc'].str.strip('-1') #removing the -1 extention to match the object and dataframe formats of cell barcodes\n",
    "\n",
    "                #now merging output of cell ranger counts with tsblast_sample dataframe based on shared barcodes \n",
    "                mer = tsblast_sample.merge(counts, on = 'cell_bc', how='left')\n",
    "                #counting number of hits with barcodes that can't be identified with cell ranger \n",
    "                unidentified_bc=mer[mer['n_counts_cr'].isnull()] \n",
    "\n",
    "                #keeping information for each sample to later merge with the main ts_blast dataframe    \n",
    "                ts_blast_samples_with_counts = pd.concat([ts_blast_samples_with_counts, mer])\n",
    "\n",
    "                #making classifications of empty and non-empty cells based on how many genes they contain\n",
    "                num_empty = counts[counts['n_genes_cr']<n].shape[0] + unidentified_bc.shape[0]\n",
    "                num_cells =  counts[counts['n_genes_cr']>=n].shape[0]\n",
    "                samples_found.append(sample)\n",
    "                num_empty_all.append(num_empty)\n",
    "                num_cells_all.append(num_cells)\n",
    "\n",
    "\n",
    "num_drops['cr_sample'] = samples_found\n",
    "num_drops['num_empty'] = num_empty_all\n",
    "num_drops['num_cells'] = num_cells_all\n"
   ]
  },
  {
   "cell_type": "markdown",
   "metadata": {},
   "source": [
    "saving the resulting dataframes for donors 3-14"
   ]
  },
  {
   "cell_type": "code",
   "execution_count": 45,
   "metadata": {},
   "outputs": [],
   "source": [
    "ts_blast_samples_with_counts.to_csv(mainDir10 + 'ts_blast_n_genes_cr_donor3-14.csv', index=False)"
   ]
  },
  {
   "cell_type": "code",
   "execution_count": 46,
   "metadata": {},
   "outputs": [],
   "source": [
    "num_drops.to_csv(mainDir10 + 'num_cells_empty_drops_per_sample_donor3-14.csv', index=False)"
   ]
  },
  {
   "cell_type": "code",
   "execution_count": 47,
   "metadata": {},
   "outputs": [
    {
     "data": {
      "text/html": [
       "<div>\n",
       "<style scoped>\n",
       "    .dataframe tbody tr th:only-of-type {\n",
       "        vertical-align: middle;\n",
       "    }\n",
       "\n",
       "    .dataframe tbody tr th {\n",
       "        vertical-align: top;\n",
       "    }\n",
       "\n",
       "    .dataframe thead th {\n",
       "        text-align: right;\n",
       "    }\n",
       "</style>\n",
       "<table border=\"1\" class=\"dataframe\">\n",
       "  <thead>\n",
       "    <tr style=\"text-align: right;\">\n",
       "      <th></th>\n",
       "      <th>tissue</th>\n",
       "      <th>donor</th>\n",
       "      <th>n_counts</th>\n",
       "      <th>n_genes</th>\n",
       "      <th>compartment</th>\n",
       "      <th>tissue_cell_type</th>\n",
       "      <th>cell_type_tissue</th>\n",
       "      <th>decision</th>\n",
       "      <th>cell</th>\n",
       "      <th>celltype2</th>\n",
       "      <th>...</th>\n",
       "      <th>hit</th>\n",
       "      <th>hit_type</th>\n",
       "      <th>log2_n_counts</th>\n",
       "      <th>log2_n_genes</th>\n",
       "      <th>sample</th>\n",
       "      <th>donor_batch</th>\n",
       "      <th>seq</th>\n",
       "      <th>cr_sample</th>\n",
       "      <th>n_counts_cr</th>\n",
       "      <th>n_genes_cr</th>\n",
       "    </tr>\n",
       "  </thead>\n",
       "  <tbody>\n",
       "    <tr>\n",
       "      <th>0</th>\n",
       "      <td>trachea</td>\n",
       "      <td>TSP6</td>\n",
       "      <td>NaN</td>\n",
       "      <td>NaN</td>\n",
       "      <td>NaN</td>\n",
       "      <td>NaN</td>\n",
       "      <td>NaN</td>\n",
       "      <td>NaN</td>\n",
       "      <td>GTTAGTGGTCTGGTTA_TSP6_Trachea_NA_10X_1_1</td>\n",
       "      <td>NaN</td>\n",
       "      <td>...</td>\n",
       "      <td>yes</td>\n",
       "      <td>extra</td>\n",
       "      <td>NaN</td>\n",
       "      <td>NaN</td>\n",
       "      <td>TSP6_Trachea_NA_10X_1_1</td>\n",
       "      <td>3_16</td>\n",
       "      <td>NaN</td>\n",
       "      <td>TSP6_Trachea_NA_10X_1_1</td>\n",
       "      <td>2.0</td>\n",
       "      <td>2.0</td>\n",
       "    </tr>\n",
       "    <tr>\n",
       "      <th>1</th>\n",
       "      <td>trachea</td>\n",
       "      <td>TSP6</td>\n",
       "      <td>NaN</td>\n",
       "      <td>NaN</td>\n",
       "      <td>NaN</td>\n",
       "      <td>NaN</td>\n",
       "      <td>NaN</td>\n",
       "      <td>NaN</td>\n",
       "      <td>GTTAGTGGTCTGGTTA_TSP6_Trachea_NA_10X_1_1</td>\n",
       "      <td>NaN</td>\n",
       "      <td>...</td>\n",
       "      <td>yes</td>\n",
       "      <td>extra</td>\n",
       "      <td>NaN</td>\n",
       "      <td>NaN</td>\n",
       "      <td>TSP6_Trachea_NA_10X_1_1</td>\n",
       "      <td>3_16</td>\n",
       "      <td>NaN</td>\n",
       "      <td>TSP6_Trachea_NA_10X_1_1</td>\n",
       "      <td>2.0</td>\n",
       "      <td>2.0</td>\n",
       "    </tr>\n",
       "  </tbody>\n",
       "</table>\n",
       "<p>2 rows × 44 columns</p>\n",
       "</div>"
      ],
      "text/plain": [
       "    tissue donor  n_counts  n_genes compartment tissue_cell_type  \\\n",
       "0  trachea  TSP6       NaN      NaN         NaN              NaN   \n",
       "1  trachea  TSP6       NaN      NaN         NaN              NaN   \n",
       "\n",
       "  cell_type_tissue decision                                      cell  \\\n",
       "0              NaN      NaN  GTTAGTGGTCTGGTTA_TSP6_Trachea_NA_10X_1_1   \n",
       "1              NaN      NaN  GTTAGTGGTCTGGTTA_TSP6_Trachea_NA_10X_1_1   \n",
       "\n",
       "  celltype2  ...  hit hit_type log2_n_counts  log2_n_genes  \\\n",
       "0       NaN  ...  yes    extra           NaN           NaN   \n",
       "1       NaN  ...  yes    extra           NaN           NaN   \n",
       "\n",
       "                    sample  donor_batch  seq                cr_sample  \\\n",
       "0  TSP6_Trachea_NA_10X_1_1         3_16  NaN  TSP6_Trachea_NA_10X_1_1   \n",
       "1  TSP6_Trachea_NA_10X_1_1         3_16  NaN  TSP6_Trachea_NA_10X_1_1   \n",
       "\n",
       "   n_counts_cr  n_genes_cr  \n",
       "0          2.0         2.0  \n",
       "1          2.0         2.0  \n",
       "\n",
       "[2 rows x 44 columns]"
      ]
     },
     "execution_count": 47,
     "metadata": {},
     "output_type": "execute_result"
    }
   ],
   "source": [
    "ts_blast_samples_with_counts.head(2)"
   ]
  },
  {
   "cell_type": "code",
   "execution_count": 219,
   "metadata": {
    "scrolled": true
   },
   "outputs": [
    {
     "data": {
      "text/html": [
       "<div>\n",
       "<style scoped>\n",
       "    .dataframe tbody tr th:only-of-type {\n",
       "        vertical-align: middle;\n",
       "    }\n",
       "\n",
       "    .dataframe tbody tr th {\n",
       "        vertical-align: top;\n",
       "    }\n",
       "\n",
       "    .dataframe thead th {\n",
       "        text-align: right;\n",
       "    }\n",
       "</style>\n",
       "<table border=\"1\" class=\"dataframe\">\n",
       "  <thead>\n",
       "    <tr style=\"text-align: right;\">\n",
       "      <th></th>\n",
       "      <th>cr_sample</th>\n",
       "      <th>num_empty</th>\n",
       "      <th>num_cells</th>\n",
       "    </tr>\n",
       "  </thead>\n",
       "  <tbody>\n",
       "    <tr>\n",
       "      <th>0</th>\n",
       "      <td>TSP6_Trachea_NA_10X_1_1</td>\n",
       "      <td>2288744</td>\n",
       "      <td>8813</td>\n",
       "    </tr>\n",
       "    <tr>\n",
       "      <th>1</th>\n",
       "      <td>TSP6_Liver_NA_10X_1_2</td>\n",
       "      <td>2993998</td>\n",
       "      <td>6055</td>\n",
       "    </tr>\n",
       "  </tbody>\n",
       "</table>\n",
       "</div>"
      ],
      "text/plain": [
       "                 cr_sample  num_empty  num_cells\n",
       "0  TSP6_Trachea_NA_10X_1_1    2288744       8813\n",
       "1    TSP6_Liver_NA_10X_1_2    2993998       6055"
      ]
     },
     "execution_count": 219,
     "metadata": {},
     "output_type": "execute_result"
    }
   ],
   "source": [
    "num_drops.head(2)"
   ]
  },
  {
   "cell_type": "markdown",
   "metadata": {},
   "source": [
    "### Donor 1 "
   ]
  },
  {
   "cell_type": "code",
   "execution_count": null,
   "metadata": {},
   "outputs": [],
   "source": [
    "df3  = df2[df2['cr_sample'].str.startswith('TSP1_')]\n",
    "\n",
    "# minimum number of genes per droplet to be thought of as a cell-containing droplet\n",
    "n=200\n",
    "#ts_blast_with_counts\n",
    "ts_blast_samples_with_counts =pd.DataFrame({})\n",
    "\n",
    "# this will be the dataframe that holds information about how many empty and cell droplets there are per sample\n",
    "num_drops = pd.DataFrame({})\n",
    "samples_found =[]\n",
    "num_cells_all=[]\n",
    "num_empty_all=[]\n",
    "\n",
    "for sample in df3['cr_sample'].unique():\n",
    "    for filepath in glob.glob(mainDir4 + '/TSP*'):\n",
    "        filename = filepath.split('/')[-1] #this is cell ranger folder name\n",
    "        if filename.startswith('TSP15')==False: #excluding donor 15 and donor 16 is already not in cell ranger folder\n",
    "            \n",
    "            if sample in filename:\n",
    "                print(filename)\n",
    "                tsblast_sample=df3[(df3['cr_sample']==sample)] #getting the tsblast dataframe for each sample- just two columns\n",
    "                #reading the raw feature bc matrix \n",
    "                raw = sc.read_10x_h5(mainDir4 + filename + '/outs/raw_feature_bc_matrix.h5')\n",
    "                raw.var_names_make_unique()\n",
    "\n",
    "                #getting n_counts and n_genes for the raw matrix\n",
    "                raw.obs['n_counts_cr'] = raw.X.sum(axis=1).A1\n",
    "                sc.pp.filter_cells(raw, min_genes=0)\n",
    "                counts = raw.obs.reset_index().rename(columns={'index':'cell_bc'})\n",
    "                counts=counts.rename(columns={'n_genes':'n_genes_cr'})\n",
    "#                 counts['cell_bc'] = counts['cell_bc'].str.strip('-1') # note, this line is unnecessary for donor 1 and 2 whose barcodes have a \"-1\" and match cell ranger barcode format\n",
    "\n",
    "                #now merging output of cell ranger counts with tsblast_sample dataframe based on shared barcodes \n",
    "                mer = tsblast_sample.merge(counts, on = 'cell_bc', how='left')\n",
    "                #counting number of hits with barcodes that can't be identified with cell ranger \n",
    "                unidentified_bc=mer[mer['n_counts_cr'].isnull()] \n",
    "\n",
    "                #keeping information for each sample to later merge with the main ts_blast dataframe    \n",
    "                ts_blast_samples_with_counts = pd.concat([ts_blast_samples_with_counts, mer])\n",
    "\n",
    "                #making classifications of empty and non-empty cells based on how many genes they contain\n",
    "                num_empty = counts[counts['n_genes_cr']<n].shape[0] + unidentified_bc.shape[0]\n",
    "                num_cells =  counts[counts['n_genes_cr']>=n].shape[0]\n",
    "                samples_found.append(sample)\n",
    "                num_empty_all.append(num_empty)\n",
    "                num_cells_all.append(num_cells)\n",
    "\n",
    "\n",
    "num_drops['cr_sample'] = samples_found\n",
    "num_drops['num_empty'] = num_empty_all\n",
    "num_drops['num_cells'] = num_cells_all\n",
    "\n",
    "\n",
    "#saving key files\n",
    "ts_blast_samples_with_counts.to_csv(mainDir10 + 'ts_blast_n_genes_cr_donor1.csv', index=False)\n",
    "num_drops.to_csv(mainDir10 + 'num_cells_empty_drops_per_sample_donor1.csv', index=False)"
   ]
  },
  {
   "cell_type": "markdown",
   "metadata": {},
   "source": [
    "### Donor 2"
   ]
  },
  {
   "cell_type": "code",
   "execution_count": null,
   "metadata": {},
   "outputs": [],
   "source": [
    "#looking at donors 3-16 for now\n",
    "df3  = df2[df2['cr_sample'].str.startswith('TSP2_')]\n",
    "\n",
    "# minimum number of genes per droplet to be thought of as a cell-containing droplet\n",
    "n=200\n",
    "#ts_blast_with_counts\n",
    "ts_blast_samples_with_counts =pd.DataFrame({})\n",
    "\n",
    "# this will be the dataframe that holds information about how many empty and cell droplets there are per sample\n",
    "num_drops = pd.DataFrame({})\n",
    "samples_found =[]\n",
    "num_cells_all=[]\n",
    "num_empty_all=[]\n",
    "\n",
    "for sample in df3['cr_sample'].unique():\n",
    "    for filepath in glob.glob(mainDir2 + '/TSP*'):\n",
    "        filename = filepath.split('/')[-1] #this is cell ranger folder name\n",
    "        if filename.startswith('TSP15')==False: #excluding donor 15 and donor 16 is already not in cell ranger folder\n",
    "            \n",
    "            if sample in filename:\n",
    "                print(filename)\n",
    "                tsblast_sample=df3[(df3['cr_sample']==sample)] #getting the tsblast dataframe for each sample- just two columns\n",
    "                #reading the raw feature bc matrix \n",
    "                raw = sc.read_10x_h5(mainDir2 + filename + '/outs/raw_feature_bc_matrix.h5')\n",
    "                raw.var_names_make_unique()\n",
    "\n",
    "                #getting n_counts and n_genes for the raw matrix\n",
    "                raw.obs['n_counts_cr'] = raw.X.sum(axis=1).A1\n",
    "                sc.pp.filter_cells(raw, min_genes=0)\n",
    "                counts = raw.obs.reset_index().rename(columns={'index':'cell_bc'})\n",
    "                counts=counts.rename(columns={'n_genes':'n_genes_cr'})\n",
    "#                 counts['cell_bc'] = counts['cell_bc'].str.strip('-1') # note, this line is unnecessary for donor 1 and 2 whose barcodes have a \"-1\" and match cell ranger barcode format\n",
    "\n",
    "                #now merging output of cell ranger counts with tsblast_sample dataframe based on shared barcodes \n",
    "                mer = tsblast_sample.merge(counts, on = 'cell_bc', how='left')\n",
    "                #counting number of hits with barcodes that can't be identified with cell ranger \n",
    "                unidentified_bc=mer[mer['n_counts_cr'].isnull()] \n",
    "\n",
    "                #keeping information for each sample to later merge with the main ts_blast dataframe    \n",
    "                ts_blast_samples_with_counts = pd.concat([ts_blast_samples_with_counts, mer])\n",
    "\n",
    "                #making classifications of empty and non-empty cells based on how many genes they contain\n",
    "                num_empty = counts[counts['n_genes_cr']<n].shape[0] + unidentified_bc.shape[0]\n",
    "                num_cells =  counts[counts['n_genes_cr']>=n].shape[0]\n",
    "                samples_found.append(sample)\n",
    "                num_empty_all.append(num_empty)\n",
    "                num_cells_all.append(num_cells)\n",
    "\n",
    "\n",
    "num_drops['cr_sample'] = samples_found\n",
    "num_drops['num_empty'] = num_empty_all\n",
    "num_drops['num_cells'] = num_cells_all\n",
    "\n",
    "\n",
    "#saving key files\n",
    "ts_blast_samples_with_counts.to_csv(mainDir10 + 'ts_blast_n_genes_cr_donor2.csv', index=False)\n",
    "num_drops.to_csv(mainDir10 + 'num_cells_empty_drops_per_sample_donor2.csv', index=False)"
   ]
  },
  {
   "cell_type": "markdown",
   "metadata": {},
   "source": [
    "saving the counts of droplets for each sample for donors 3-14"
   ]
  },
  {
   "cell_type": "code",
   "execution_count": 146,
   "metadata": {},
   "outputs": [],
   "source": [
    "don3on = pd.read_csv(mainDir10 + 'num_cells_empty_drops_per_sample_donor3-14.csv')\n",
    "don1 = pd.read_csv(mainDir10 + 'num_cells_empty_drops_per_sample_donor1.csv')\n",
    "don2 = pd.read_csv(mainDir10 + 'num_cells_empty_drops_per_sample_donor2.csv')\n",
    "\n",
    "\n",
    "drop_counts=pd.concat([don3on, don1, don2])"
   ]
  },
  {
   "cell_type": "code",
   "execution_count": 57,
   "metadata": {},
   "outputs": [],
   "source": [
    "drop_counts.to_csv(mainDir10 + 'drop_counts_dons1-14.csv', index=False)"
   ]
  },
  {
   "cell_type": "markdown",
   "metadata": {},
   "source": [
    "saving the dataframe containing donor 1-14 information with three additional columns 'n_count_cr' and 'n_genes_cr' and \n",
    "'cr_sample'"
   ]
  },
  {
   "cell_type": "code",
   "execution_count": 58,
   "metadata": {},
   "outputs": [],
   "source": [
    "d1 = pd.read_csv(mainDir10 + 'ts_blast_n_genes_cr_donor1.csv')\n",
    "d2 = pd.read_csv(mainDir10 + 'ts_blast_n_genes_cr_donor2.csv')\n",
    "d3_14 = pd.read_csv(mainDir10 + 'ts_blast_n_genes_cr_donor3-14.csv')\n",
    "\n",
    "dons=pd.concat([d1,d2,d3_14])"
   ]
  },
  {
   "cell_type": "markdown",
   "metadata": {},
   "source": [
    "before saving, the dons dataframe containing cell ranger info isn't the entire dataset. There are some samples such as those from donor 16 for which we have blast info, which i'm not going to exclude. Instead, I will mark the cell ranger containing part of the dataframe (dons) by a column \"cr\" =='yes' and any samples for which there are cell ranger count data I will mark with \"no\". I will also fillna (i.e. barcodes for a sample that weren't detected using cell ranger- might as well be empty droplets) with 0 in the cr=='yes' part of the final dataframe. The other part, na will mean that cell ranger data isn't available.  "
   ]
  },
  {
   "cell_type": "markdown",
   "metadata": {},
   "source": [
    "number of barcodes that are not identified\n"
   ]
  },
  {
   "cell_type": "code",
   "execution_count": 107,
   "metadata": {},
   "outputs": [
    {
     "data": {
      "text/plain": [
       "472654"
      ]
     },
     "execution_count": 107,
     "metadata": {},
     "output_type": "execute_result"
    }
   ],
   "source": [
    "dons[dons['n_counts_cr'].isnull()].shape[0]"
   ]
  },
  {
   "cell_type": "code",
   "execution_count": 108,
   "metadata": {},
   "outputs": [],
   "source": [
    "dons['n_genes_cr'] = dons['n_genes_cr'].fillna(0)\n",
    "dons['n_counts_cr'] = dons['n_counts_cr'].fillna(0)\n"
   ]
  },
  {
   "cell_type": "markdown",
   "metadata": {},
   "source": [
    "adding a column to later be able to seperate out the dataframe by whether it was cell ranger processed or not"
   ]
  },
  {
   "cell_type": "code",
   "execution_count": 122,
   "metadata": {},
   "outputs": [],
   "source": [
    "dons['cr']=dons.shape[0]*['yes']"
   ]
  },
  {
   "cell_type": "markdown",
   "metadata": {},
   "source": [
    "now getting the samples that appear in the original dataframe but not in dons (i.e. cell ranger processed)\n"
   ]
  },
  {
   "cell_type": "code",
   "execution_count": 111,
   "metadata": {},
   "outputs": [],
   "source": [
    "s1 = set(df[~df['sample'].isin(dons['sample'].unique().tolist())]['sample'].value_counts(dropna=False).index.tolist())"
   ]
  },
  {
   "cell_type": "markdown",
   "metadata": {},
   "source": [
    "note, the only samples that we have not already identified as missing are those from donor 16 which we already know we don't have cell ranger counts for. "
   ]
  },
  {
   "cell_type": "code",
   "execution_count": 112,
   "metadata": {},
   "outputs": [
    {
     "data": {
      "text/plain": [
       "{'TSP16_Eye_external_10X_1_1',\n",
       " 'TSP16_Eye_lacrimalgland_10X_1_1',\n",
       " 'TSP16_Heart_atrium_10X_1_1_left',\n",
       " 'TSP16_Heart_ventricle_10X_1_2_left'}"
      ]
     },
     "execution_count": 112,
     "metadata": {},
     "output_type": "execute_result"
    }
   ],
   "source": [
    "s1 - set(miss3)"
   ]
  },
  {
   "cell_type": "markdown",
   "metadata": {},
   "source": [
    "will get the part of the original df that contains only those missing (from dons) samples in s1. "
   ]
  },
  {
   "cell_type": "code",
   "execution_count": 123,
   "metadata": {},
   "outputs": [],
   "source": [
    "sub=df[df['sample'].isin(list(s1))]\n",
    "sub['cr']=sub.shape[0]*['no']"
   ]
  },
  {
   "cell_type": "code",
   "execution_count": 125,
   "metadata": {},
   "outputs": [
    {
     "data": {
      "text/plain": [
       "2406150"
      ]
     },
     "execution_count": 125,
     "metadata": {},
     "output_type": "execute_result"
    }
   ],
   "source": [
    "sub.shape[0] + dons.shape[0]"
   ]
  },
  {
   "cell_type": "code",
   "execution_count": 144,
   "metadata": {},
   "outputs": [],
   "source": [
    "alldons=pd.concat([dons, sub])"
   ]
  },
  {
   "cell_type": "code",
   "execution_count": 145,
   "metadata": {},
   "outputs": [
    {
     "data": {
      "text/plain": [
       "2406150"
      ]
     },
     "execution_count": 145,
     "metadata": {},
     "output_type": "execute_result"
    }
   ],
   "source": [
    "alldons.shape[0]"
   ]
  },
  {
   "cell_type": "markdown",
   "metadata": {},
   "source": [
    "now merging the drop_counts with alldons dataframe so that we can have the number of empty and cell containing droplets for each sample. "
   ]
  },
  {
   "cell_type": "code",
   "execution_count": 148,
   "metadata": {},
   "outputs": [],
   "source": [
    "drop_counts = drop_counts.rename(columns={'num_empty':'num_empty_drop_per_sample', 'num_cells':'num_cell_drop_per_sample'})"
   ]
  },
  {
   "cell_type": "code",
   "execution_count": 149,
   "metadata": {
    "scrolled": true
   },
   "outputs": [
    {
     "data": {
      "text/html": [
       "<div>\n",
       "<style scoped>\n",
       "    .dataframe tbody tr th:only-of-type {\n",
       "        vertical-align: middle;\n",
       "    }\n",
       "\n",
       "    .dataframe tbody tr th {\n",
       "        vertical-align: top;\n",
       "    }\n",
       "\n",
       "    .dataframe thead th {\n",
       "        text-align: right;\n",
       "    }\n",
       "</style>\n",
       "<table border=\"1\" class=\"dataframe\">\n",
       "  <thead>\n",
       "    <tr style=\"text-align: right;\">\n",
       "      <th></th>\n",
       "      <th>cr_sample</th>\n",
       "      <th>num_empty_drop_per_sample</th>\n",
       "      <th>num_cell_drop_per_sample</th>\n",
       "    </tr>\n",
       "  </thead>\n",
       "  <tbody>\n",
       "    <tr>\n",
       "      <th>0</th>\n",
       "      <td>TSP6_Trachea_NA_10X_1_1</td>\n",
       "      <td>2288744</td>\n",
       "      <td>8813</td>\n",
       "    </tr>\n",
       "    <tr>\n",
       "      <th>1</th>\n",
       "      <td>TSP6_Liver_NA_10X_1_2</td>\n",
       "      <td>2993998</td>\n",
       "      <td>6055</td>\n",
       "    </tr>\n",
       "    <tr>\n",
       "      <th>2</th>\n",
       "      <td>TSP6_Trachea_NA_10X_2_1</td>\n",
       "      <td>2174587</td>\n",
       "      <td>11347</td>\n",
       "    </tr>\n",
       "    <tr>\n",
       "      <th>3</th>\n",
       "      <td>TSP6_Trachea_NA_10X_1_2</td>\n",
       "      <td>2234097</td>\n",
       "      <td>31565</td>\n",
       "    </tr>\n",
       "    <tr>\n",
       "      <th>4</th>\n",
       "      <td>TSP6_Liver_NA_10X_1_1</td>\n",
       "      <td>2972298</td>\n",
       "      <td>17400</td>\n",
       "    </tr>\n",
       "    <tr>\n",
       "      <th>...</th>\n",
       "      <td>...</td>\n",
       "      <td>...</td>\n",
       "      <td>...</td>\n",
       "    </tr>\n",
       "    <tr>\n",
       "      <th>27</th>\n",
       "      <td>TSP2_Vasculature_Aorta_10X_1_2_S27</td>\n",
       "      <td>1309550</td>\n",
       "      <td>8062</td>\n",
       "    </tr>\n",
       "    <tr>\n",
       "      <th>28</th>\n",
       "      <td>TSP2_BM_vertebralbody_10X_1_2_5prime_S35</td>\n",
       "      <td>484376</td>\n",
       "      <td>1645</td>\n",
       "    </tr>\n",
       "    <tr>\n",
       "      <th>29</th>\n",
       "      <td>TSP2_Muscle_diaphragm_10X_1_2_S13</td>\n",
       "      <td>839038</td>\n",
       "      <td>3693</td>\n",
       "    </tr>\n",
       "    <tr>\n",
       "      <th>30</th>\n",
       "      <td>TSP2_Thymus_NA_10X_1_4_5prime_S33</td>\n",
       "      <td>603041</td>\n",
       "      <td>1352</td>\n",
       "    </tr>\n",
       "    <tr>\n",
       "      <th>31</th>\n",
       "      <td>TSP2_Blood_NA_10X_1_5_5prime_S31</td>\n",
       "      <td>615347</td>\n",
       "      <td>3483</td>\n",
       "    </tr>\n",
       "  </tbody>\n",
       "</table>\n",
       "<p>111 rows × 3 columns</p>\n",
       "</div>"
      ],
      "text/plain": [
       "                                   cr_sample  num_empty_drop_per_sample  \\\n",
       "0                    TSP6_Trachea_NA_10X_1_1                    2288744   \n",
       "1                      TSP6_Liver_NA_10X_1_2                    2993998   \n",
       "2                    TSP6_Trachea_NA_10X_2_1                    2174587   \n",
       "3                    TSP6_Trachea_NA_10X_1_2                    2234097   \n",
       "4                      TSP6_Liver_NA_10X_1_1                    2972298   \n",
       "..                                       ...                        ...   \n",
       "27        TSP2_Vasculature_Aorta_10X_1_2_S27                    1309550   \n",
       "28  TSP2_BM_vertebralbody_10X_1_2_5prime_S35                     484376   \n",
       "29         TSP2_Muscle_diaphragm_10X_1_2_S13                     839038   \n",
       "30         TSP2_Thymus_NA_10X_1_4_5prime_S33                     603041   \n",
       "31          TSP2_Blood_NA_10X_1_5_5prime_S31                     615347   \n",
       "\n",
       "    num_cell_drop_per_sample  \n",
       "0                       8813  \n",
       "1                       6055  \n",
       "2                      11347  \n",
       "3                      31565  \n",
       "4                      17400  \n",
       "..                       ...  \n",
       "27                      8062  \n",
       "28                      1645  \n",
       "29                      3693  \n",
       "30                      1352  \n",
       "31                      3483  \n",
       "\n",
       "[111 rows x 3 columns]"
      ]
     },
     "execution_count": 149,
     "metadata": {},
     "output_type": "execute_result"
    }
   ],
   "source": [
    "drop_counts"
   ]
  },
  {
   "cell_type": "code",
   "execution_count": 150,
   "metadata": {},
   "outputs": [],
   "source": [
    "alldons = alldons.merge(drop_counts, on='cr_sample', how='outer')"
   ]
  },
  {
   "cell_type": "markdown",
   "metadata": {},
   "source": [
    "### Final dataframe"
   ]
  },
  {
   "cell_type": "code",
   "execution_count": 152,
   "metadata": {},
   "outputs": [],
   "source": [
    "alldons.to_csv(mainDir10 + 'all_dons_cr_processed_postreview2022.csv', index=False)\n"
   ]
  }
 ],
 "metadata": {
  "kernelspec": {
   "display_name": "mainEnv2",
   "language": "python",
   "name": "mainenv2"
  },
  "language_info": {
   "codemirror_mode": {
    "name": "ipython",
    "version": 3
   },
   "file_extension": ".py",
   "mimetype": "text/x-python",
   "name": "python",
   "nbconvert_exporter": "python",
   "pygments_lexer": "ipython3",
   "version": "3.6.10"
  },
  "toc": {
   "base_numbering": 1,
   "nav_menu": {
    "height": "619px",
    "width": "950px"
   },
   "number_sections": true,
   "sideBar": true,
   "skip_h1_title": false,
   "title_cell": "Table of Contents",
   "title_sidebar": "Contents",
   "toc_cell": false,
   "toc_position": {
    "height": "calc(100% - 180px)",
    "left": "10px",
    "top": "150px",
    "width": "437px"
   },
   "toc_section_display": true,
   "toc_window_display": true
  }
 },
 "nbformat": 4,
 "nbformat_minor": 4
}
