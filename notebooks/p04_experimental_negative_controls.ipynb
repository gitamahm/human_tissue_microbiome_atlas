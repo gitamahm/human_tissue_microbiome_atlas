{
 "cells": [
  {
   "cell_type": "markdown",
   "id": "0c71d857",
   "metadata": {},
   "source": [
    "In this notebook, we will assemble a list of contaminats from ~200 negative control samples from instruments and reagent used during tissue transport, digestion, and sequencing. These are from 5 10X lanes devoted to deeply sequencing negative controls"
   ]
  },
  {
   "cell_type": "markdown",
   "id": "7ee49205",
   "metadata": {},
   "source": [
    "### Libraries"
   ]
  },
  {
   "cell_type": "code",
   "execution_count": 1,
   "id": "845163af",
   "metadata": {},
   "outputs": [],
   "source": [
    "%matplotlib inline\n",
    "import matplotlib\n",
    "import matplotlib.pyplot as plt\n",
    "plt.rcParams['figure.dpi'] = 150\n",
    "plt.rcParams['savefig.dpi'] = 200\n",
    "plt.rcParams['pdf.fonttype'] = 42\n",
    "plt.rcParams['ps.fonttype'] = 42\n",
    "\n",
    "params = {'legend.fontsize': 'small',\n",
    "         'axes.labelsize': 'small',\n",
    "         'axes.titlesize':'small',\n",
    "         'xtick.labelsize':'small',\n",
    "         'ytick.labelsize':'small',\n",
    "         'figure.figsize': (3, 2)}\n",
    "plt.rcParams.update(params)\n",
    "import os\n",
    "import glob\n",
    "import re\n",
    "import itertools\n",
    "import collections\n",
    "from collections import Counter\n",
    "import math\n",
    "import random\n",
    "from random import randrange\n",
    "import string\n",
    "import subprocess\n",
    "import numpy as np\n",
    "import pandas as pd\n",
    "from pandas import ExcelWriter\n",
    "from pandas import ExcelFile\n",
    "import seaborn as sns\n",
    "import phylopandas as ph\n",
    "cmap = sns.cm.rocket_r\n",
    "sns.set_style(\"white\")\n",
    "import anndata\n",
    "from anndata import read_h5ad\n",
    "from anndata import AnnData\n",
    "import phylopandas as ph\n",
    "import wget\n"
   ]
  },
  {
   "cell_type": "markdown",
   "id": "7c53f9cd",
   "metadata": {},
   "source": [
    "### Directories"
   ]
  },
  {
   "cell_type": "code",
   "execution_count": 2,
   "id": "7eaac619",
   "metadata": {},
   "outputs": [],
   "source": [
    "mainDir = '/oak/stanford/groups/quake/gita/raw/tab3-14_20210420/benchmarking_post_reviews/bacterial_test/'\n",
    "mainDir1= mainDir + 'micoNT_blastn/'\n",
    "mainDir2 = '/oak/stanford/groups/quake/gita/raw/tab3-14_20210420/benchmarking_post_reviews/'\n",
    "dbDir = '/oak/stanford/groups/quake/gita/raw/database/taxonomyNCBI20200125/'\n",
    "outputdir = '/oak/stanford/groups/quake/gita/raw/nb/microbe/paper/forGitHub/human_tissue_microbiome_atlas/post_review/tables/'"
   ]
  },
  {
   "cell_type": "markdown",
   "id": "a3cc0346",
   "metadata": {},
   "source": [
    "### NCBI taxonomy"
   ]
  },
  {
   "cell_type": "code",
   "execution_count": 3,
   "id": "cf6df78a",
   "metadata": {},
   "outputs": [
    {
     "name": "stderr",
     "output_type": "stream",
     "text": [
      "/home/users/gitam/.local/lib/python3.6/site-packages/IPython/core/interactiveshell.py:3072: DtypeWarning: Columns (5,6,7,8,11,12,13,14,15,16,17,18,19,20,28,29,30,31,32,33,34,35,36,38,41,42,43,44,45,46,47,48,49,50,51,52,53,55,56,57,58,59,61,62,63,64,65,66,67,68,69,70) have mixed types.Specify dtype option on import or set low_memory=False.\n",
      "  interactivity=interactivity, compiler=compiler, result=result)\n"
     ]
    }
   ],
   "source": [
    "tax = pd.read_csv(dbDir + 'ncbi_lineages_2021-01-26.csv')\n",
    "#want to take only the following columns from the lineage dataframe tax \n",
    "tax_short=tax[['tax_id','superkingdom', 'phylum', 'class', 'order', 'family', 'genus', 'species']]\n",
    "tax_short = tax_short.rename(columns={'tax_id':'taxid'})\n"
   ]
  },
  {
   "cell_type": "markdown",
   "id": "debe0b01",
   "metadata": {},
   "source": [
    "### Negative control data \n",
    "Will create a contamination dataframe"
   ]
  },
  {
   "cell_type": "code",
   "execution_count": 4,
   "id": "e4db0105",
   "metadata": {},
   "outputs": [],
   "source": [
    "control = '/oak/stanford/groups/quake/gita/raw/tab3-14_20210420/benchmarking_post_reviews/controls/'\n",
    "results=pd.DataFrame({})\n",
    "for file in glob.glob(control + 'virNTblastn/*_deduplicated.csv'):\n",
    "    filename = file.split('/')[-1].split('_deduplicated.csv')[0].split('scmicrobecontamination_')[1]\n",
    "    batch = filename.split('_')[0]\n",
    "    bl = pd.read_csv(file)\n",
    "    bl['filename']= [filename] *bl.shape[0]\n",
    "    bl['batch']= [batch] *bl.shape[0]\n",
    "    results=pd.concat([results, bl])\n",
    "\n",
    "results['staxids'] = results['staxids'].astype(str)\n",
    "results['staxids'] = results['staxids'].apply(lambda x: x.split(';')[0]) #sometimes two taxids are provided, taking just one\n",
    "tax_shortcopy = tax_short.copy()\n",
    "tax_shortcopy = tax_shortcopy.rename(columns={\"taxid\":\"staxids\"})\n",
    "tax_shortcopy['staxids'] = tax_shortcopy['staxids'].astype('str')\n",
    "vir=results.merge(tax_shortcopy, on='staxids', how='left')\n"
   ]
  },
  {
   "cell_type": "code",
   "execution_count": 5,
   "id": "c4287fe7",
   "metadata": {},
   "outputs": [],
   "source": [
    "results=pd.DataFrame({})\n",
    "for file in glob.glob(control + 'micoNT_blastn/*_deduplicated.csv'):\n",
    "    filename = file.split('/')[-1].split('_deduplicated.csv')[0].split('scmicrobecontamination_')[1]\n",
    "    batch = filename.split('_')[0]\n",
    "    bl = pd.read_csv(file)\n",
    "    bl['filename']= [filename] *bl.shape[0]\n",
    "    bl['batch']= [batch] *bl.shape[0]\n",
    "    results=pd.concat([results, bl])\n",
    "\n",
    "results['staxids'] = results['staxids'].astype(str)\n",
    "results['staxids'] = results['staxids'].apply(lambda x: x.split(';')[0]) #sometimes two taxids are provided, taking just one\n",
    "bac=results.merge(tax_shortcopy, on='staxids', how='left')\n"
   ]
  },
  {
   "cell_type": "code",
   "execution_count": 6,
   "id": "73c7aaea",
   "metadata": {},
   "outputs": [],
   "source": [
    "results=pd.DataFrame({})\n",
    "for file in glob.glob(control + 'fungi_NT_blastn/*_deduplicated.csv'):\n",
    "    filename = file.split('/')[-1].split('_deduplicated.csv')[0].split('scmicrobecontamination_')[1]\n",
    "    batch = filename.split('_')[0]\n",
    "    bl = pd.read_csv(file)\n",
    "    bl['filename']= [filename] *bl.shape[0]\n",
    "    bl['batch']= [batch] *bl.shape[0]\n",
    "    results=pd.concat([results, bl])\n",
    "\n",
    "results['staxids'] = results['staxids'].astype(str)\n",
    "results['staxids'] = results['staxids'].apply(lambda x: x.split(';')[0]) #sometimes two taxids are provided, taking just one\n",
    "fungi=results.merge(tax_shortcopy, on='staxids', how='left')\n"
   ]
  },
  {
   "cell_type": "code",
   "execution_count": 7,
   "id": "12fc220b",
   "metadata": {},
   "outputs": [],
   "source": [
    "contam = pd.concat([vir, bac, fungi])"
   ]
  },
  {
   "cell_type": "markdown",
   "id": "809b76c4",
   "metadata": {},
   "source": [
    "info about each batch \\\n",
    "**batch 1:** Bladder, Salivary gland, Trachea and Blood \\\n",
    "**batch 2:** Fat, Uterus, Skin, Spleen and Lymph node \\\n",
    "**batch 3:** Vasculature, Bone Marrow, Heart, Intestine and Liver \\\n",
    "**batch 4:** Kidney, Thymus, Lung, Exocrine Pancreas and Bulk reagents \\\n",
    "**batch 5:** Eye, muscle and UW "
   ]
  },
  {
   "cell_type": "markdown",
   "id": "7eb33dce",
   "metadata": {},
   "source": [
    "going to save the controls dataframe"
   ]
  },
  {
   "cell_type": "code",
   "execution_count": 9,
   "id": "e26ceaa8",
   "metadata": {},
   "outputs": [],
   "source": [
    "contam_fil=contam[(contam.length>=90) & (contam.pident>=90)] #reducing possibilty of false positives by picking high-quality alignments\n",
    "contam_fil.to_csv(outputdir + 'negative_control.csv', index=False)\n",
    "contam.to_csv(outputdir + 'negative_control_raw.csv', index=False)"
   ]
  }
 ],
 "metadata": {
  "kernelspec": {
   "display_name": "mainEnv2",
   "language": "python",
   "name": "mainenv2"
  },
  "language_info": {
   "codemirror_mode": {
    "name": "ipython",
    "version": 3
   },
   "file_extension": ".py",
   "mimetype": "text/x-python",
   "name": "python",
   "nbconvert_exporter": "python",
   "pygments_lexer": "ipython3",
   "version": "3.6.10"
  },
  "toc": {
   "base_numbering": 1,
   "nav_menu": {},
   "number_sections": true,
   "sideBar": true,
   "skip_h1_title": false,
   "title_cell": "Table of Contents",
   "title_sidebar": "Contents",
   "toc_cell": false,
   "toc_position": {},
   "toc_section_display": true,
   "toc_window_display": false
  }
 },
 "nbformat": 4,
 "nbformat_minor": 5
}
